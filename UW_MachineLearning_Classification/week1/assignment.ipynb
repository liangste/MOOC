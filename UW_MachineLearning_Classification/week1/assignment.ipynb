{
 "cells": [
  {
   "cell_type": "code",
   "execution_count": 1,
   "metadata": {
    "collapsed": true
   },
   "outputs": [],
   "source": [
    "import pandas as pd"
   ]
  },
  {
   "cell_type": "code",
   "execution_count": 2,
   "metadata": {
    "collapsed": true
   },
   "outputs": [],
   "source": [
    "dtype_dict = {'name' : str, 'review' : str, 'rating' : int}"
   ]
  },
  {
   "cell_type": "code",
   "execution_count": 3,
   "metadata": {
    "collapsed": false
   },
   "outputs": [
    {
     "data": {
      "text/plain": [
       "183531"
      ]
     },
     "execution_count": 3,
     "metadata": {},
     "output_type": "execute_result"
    }
   ],
   "source": [
    "products = pd.read_csv('amazon_baby.csv', dtype=dtype_dict)\n",
    "len(products)"
   ]
  },
  {
   "cell_type": "code",
   "execution_count": 6,
   "metadata": {
    "collapsed": true
   },
   "outputs": [],
   "source": [
    "def remove_punctuation(text):\n",
    "    import string\n",
    "    return text.translate(None, string.punctuation)"
   ]
  },
  {
   "cell_type": "code",
   "execution_count": 7,
   "metadata": {
    "collapsed": false
   },
   "outputs": [],
   "source": [
    "products = products.fillna({'review':''}) \n",
    "products['review_clean'] = products['review'].apply(remove_punctuation)"
   ]
  },
  {
   "cell_type": "code",
   "execution_count": 8,
   "metadata": {
    "collapsed": false
   },
   "outputs": [],
   "source": [
    "import math\n",
    "import numpy as np\n",
    "products = products[products['rating'] != 3]\n",
    "products = products.reset_index(drop=True)"
   ]
  },
  {
   "cell_type": "code",
   "execution_count": 9,
   "metadata": {
    "collapsed": false
   },
   "outputs": [],
   "source": [
    "products['sentiment'] = products['rating'].apply(lambda rating : +1 if rating > 3 else -1)"
   ]
  },
  {
   "cell_type": "code",
   "execution_count": 10,
   "metadata": {
    "collapsed": false
   },
   "outputs": [],
   "source": [
    "import json\n",
    "\n",
    "with open('module-2-assignment-test-idx.json') as json_file:\n",
    "    test_indices = json.load(json_file)\n",
    "\n",
    "with open('module-2-assignment-train-idx.json') as json_file:\n",
    "    train_indices = json.load(json_file)"
   ]
  },
  {
   "cell_type": "code",
   "execution_count": 11,
   "metadata": {
    "collapsed": false
   },
   "outputs": [
    {
     "data": {
      "text/plain": [
       "33336"
      ]
     },
     "execution_count": 11,
     "metadata": {},
     "output_type": "execute_result"
    }
   ],
   "source": [
    "len(test_indices)"
   ]
  },
  {
   "cell_type": "code",
   "execution_count": 12,
   "metadata": {
    "collapsed": false
   },
   "outputs": [
    {
     "data": {
      "text/plain": [
       "133416"
      ]
     },
     "execution_count": 12,
     "metadata": {},
     "output_type": "execute_result"
    }
   ],
   "source": [
    "len(train_indices)"
   ]
  },
  {
   "cell_type": "code",
   "execution_count": 13,
   "metadata": {
    "collapsed": true
   },
   "outputs": [],
   "source": [
    "test_data = products.ix[test_indices]\n",
    "train_data = products.ix[train_indices]"
   ]
  },
  {
   "cell_type": "code",
   "execution_count": 14,
   "metadata": {
    "collapsed": false
   },
   "outputs": [
    {
     "data": {
      "text/plain": [
       "33336"
      ]
     },
     "execution_count": 14,
     "metadata": {},
     "output_type": "execute_result"
    }
   ],
   "source": [
    "len(test_data)"
   ]
  },
  {
   "cell_type": "code",
   "execution_count": null,
   "metadata": {
    "collapsed": true
   },
   "outputs": [],
   "source": []
  },
  {
   "cell_type": "code",
   "execution_count": 15,
   "metadata": {
    "collapsed": false
   },
   "outputs": [
    {
     "data": {
      "text/plain": [
       "133416"
      ]
     },
     "execution_count": 15,
     "metadata": {},
     "output_type": "execute_result"
    }
   ],
   "source": [
    "len(train_data)"
   ]
  },
  {
   "cell_type": "code",
   "execution_count": 16,
   "metadata": {
    "collapsed": false
   },
   "outputs": [
    {
     "data": {
      "text/html": [
       "<div>\n",
       "<table border=\"1\" class=\"dataframe\">\n",
       "  <thead>\n",
       "    <tr style=\"text-align: right;\">\n",
       "      <th></th>\n",
       "      <th>name</th>\n",
       "      <th>review</th>\n",
       "      <th>rating</th>\n",
       "      <th>review_clean</th>\n",
       "      <th>sentiment</th>\n",
       "    </tr>\n",
       "  </thead>\n",
       "  <tbody>\n",
       "    <tr>\n",
       "      <th>0</th>\n",
       "      <td>Planetwise Wipe Pouch</td>\n",
       "      <td>it came early and was not disappointed. i love...</td>\n",
       "      <td>5</td>\n",
       "      <td>it came early and was not disappointed i love ...</td>\n",
       "      <td>1</td>\n",
       "    </tr>\n",
       "    <tr>\n",
       "      <th>1</th>\n",
       "      <td>Annas Dream Full Quilt with 2 Shams</td>\n",
       "      <td>Very soft and comfortable and warmer than it l...</td>\n",
       "      <td>5</td>\n",
       "      <td>Very soft and comfortable and warmer than it l...</td>\n",
       "      <td>1</td>\n",
       "    </tr>\n",
       "    <tr>\n",
       "      <th>2</th>\n",
       "      <td>Stop Pacifier Sucking without tears with Thumb...</td>\n",
       "      <td>This is a product well worth the purchase.  I ...</td>\n",
       "      <td>5</td>\n",
       "      <td>This is a product well worth the purchase  I h...</td>\n",
       "      <td>1</td>\n",
       "    </tr>\n",
       "    <tr>\n",
       "      <th>3</th>\n",
       "      <td>Stop Pacifier Sucking without tears with Thumb...</td>\n",
       "      <td>All of my kids have cried non-stop when I trie...</td>\n",
       "      <td>5</td>\n",
       "      <td>All of my kids have cried nonstop when I tried...</td>\n",
       "      <td>1</td>\n",
       "    </tr>\n",
       "    <tr>\n",
       "      <th>4</th>\n",
       "      <td>Stop Pacifier Sucking without tears with Thumb...</td>\n",
       "      <td>When the Binky Fairy came to our house, we did...</td>\n",
       "      <td>5</td>\n",
       "      <td>When the Binky Fairy came to our house we didn...</td>\n",
       "      <td>1</td>\n",
       "    </tr>\n",
       "    <tr>\n",
       "      <th>5</th>\n",
       "      <td>A Tale of Baby's Days with Peter Rabbit</td>\n",
       "      <td>Lovely book, it's bound tightly so you may not...</td>\n",
       "      <td>4</td>\n",
       "      <td>Lovely book its bound tightly so you may not b...</td>\n",
       "      <td>1</td>\n",
       "    </tr>\n",
       "    <tr>\n",
       "      <th>6</th>\n",
       "      <td>Baby Tracker&amp;reg; - Daily Childcare Journal, S...</td>\n",
       "      <td>Perfect for new parents. We were able to keep ...</td>\n",
       "      <td>5</td>\n",
       "      <td>Perfect for new parents We were able to keep t...</td>\n",
       "      <td>1</td>\n",
       "    </tr>\n",
       "    <tr>\n",
       "      <th>7</th>\n",
       "      <td>Baby Tracker&amp;reg; - Daily Childcare Journal, S...</td>\n",
       "      <td>A friend of mine pinned this product on Pinter...</td>\n",
       "      <td>5</td>\n",
       "      <td>A friend of mine pinned this product on Pinter...</td>\n",
       "      <td>1</td>\n",
       "    </tr>\n",
       "    <tr>\n",
       "      <th>10</th>\n",
       "      <td>Baby Tracker&amp;reg; - Daily Childcare Journal, S...</td>\n",
       "      <td>This book is perfect!  I'm a first time new mo...</td>\n",
       "      <td>5</td>\n",
       "      <td>This book is perfect  Im a first time new mom ...</td>\n",
       "      <td>1</td>\n",
       "    </tr>\n",
       "    <tr>\n",
       "      <th>11</th>\n",
       "      <td>Baby Tracker&amp;reg; - Daily Childcare Journal, S...</td>\n",
       "      <td>I originally just gave the nanny a pad of pape...</td>\n",
       "      <td>4</td>\n",
       "      <td>I originally just gave the nanny a pad of pape...</td>\n",
       "      <td>1</td>\n",
       "    </tr>\n",
       "    <tr>\n",
       "      <th>12</th>\n",
       "      <td>Nature's Lullabies First Year Sticker Calendar</td>\n",
       "      <td>Space for monthly photos, info and a lot of us...</td>\n",
       "      <td>5</td>\n",
       "      <td>Space for monthly photos info and a lot of use...</td>\n",
       "      <td>1</td>\n",
       "    </tr>\n",
       "    <tr>\n",
       "      <th>13</th>\n",
       "      <td>Nature's Lullabies First Year Sticker Calendar</td>\n",
       "      <td>I bought this calender for myself for my secon...</td>\n",
       "      <td>4</td>\n",
       "      <td>I bought this calender for myself for my secon...</td>\n",
       "      <td>1</td>\n",
       "    </tr>\n",
       "    <tr>\n",
       "      <th>15</th>\n",
       "      <td>Nature's Lullabies Second Year Sticker Calendar</td>\n",
       "      <td>This was the only calender I could find for th...</td>\n",
       "      <td>5</td>\n",
       "      <td>This was the only calender I could find for th...</td>\n",
       "      <td>1</td>\n",
       "    </tr>\n",
       "    <tr>\n",
       "      <th>16</th>\n",
       "      <td>Nature's Lullabies Second Year Sticker Calendar</td>\n",
       "      <td>I completed a calendar for my son's first year...</td>\n",
       "      <td>4</td>\n",
       "      <td>I completed a calendar for my sons first year ...</td>\n",
       "      <td>1</td>\n",
       "    </tr>\n",
       "    <tr>\n",
       "      <th>17</th>\n",
       "      <td>Nature's Lullabies Second Year Sticker Calendar</td>\n",
       "      <td>We wanted to get something to keep track of ou...</td>\n",
       "      <td>5</td>\n",
       "      <td>We wanted to get something to keep track of ou...</td>\n",
       "      <td>1</td>\n",
       "    </tr>\n",
       "    <tr>\n",
       "      <th>19</th>\n",
       "      <td>Nature's Lullabies Second Year Sticker Calendar</td>\n",
       "      <td>I only purchased a second-year calendar for my...</td>\n",
       "      <td>2</td>\n",
       "      <td>I only purchased a secondyear calendar for my ...</td>\n",
       "      <td>-1</td>\n",
       "    </tr>\n",
       "    <tr>\n",
       "      <th>20</th>\n",
       "      <td>Nature's Lullabies Second Year Sticker Calendar</td>\n",
       "      <td>I LOVE this calendar for recording events of m...</td>\n",
       "      <td>5</td>\n",
       "      <td>I LOVE this calendar for recording events of m...</td>\n",
       "      <td>1</td>\n",
       "    </tr>\n",
       "    <tr>\n",
       "      <th>21</th>\n",
       "      <td>Nature's Lullabies Second Year Sticker Calendar</td>\n",
       "      <td>Wife loves this calender. Comes with a lot of ...</td>\n",
       "      <td>5</td>\n",
       "      <td>Wife loves this calender Comes with a lot of s...</td>\n",
       "      <td>1</td>\n",
       "    </tr>\n",
       "    <tr>\n",
       "      <th>22</th>\n",
       "      <td>Nature's Lullabies Second Year Sticker Calendar</td>\n",
       "      <td>My daughter had her 1st baby over a year ago. ...</td>\n",
       "      <td>5</td>\n",
       "      <td>My daughter had her 1st baby over a year ago S...</td>\n",
       "      <td>1</td>\n",
       "    </tr>\n",
       "    <tr>\n",
       "      <th>23</th>\n",
       "      <td>Baby's First Journal - Green</td>\n",
       "      <td>Extremely useful! As a new mom, tired and inex...</td>\n",
       "      <td>5</td>\n",
       "      <td>Extremely useful As a new mom tired and inexpe...</td>\n",
       "      <td>1</td>\n",
       "    </tr>\n",
       "    <tr>\n",
       "      <th>25</th>\n",
       "      <td>Lamaze Peekaboo, I Love You</td>\n",
       "      <td>I like how the book has a hook to attach it to...</td>\n",
       "      <td>5</td>\n",
       "      <td>I like how the book has a hook to attach it to...</td>\n",
       "      <td>1</td>\n",
       "    </tr>\n",
       "    <tr>\n",
       "      <th>26</th>\n",
       "      <td>Lamaze Peekaboo, I Love You</td>\n",
       "      <td>Beautiful little book.  A great little short s...</td>\n",
       "      <td>5</td>\n",
       "      <td>Beautiful little book  A great little short st...</td>\n",
       "      <td>1</td>\n",
       "    </tr>\n",
       "    <tr>\n",
       "      <th>27</th>\n",
       "      <td>Lamaze Peekaboo, I Love You</td>\n",
       "      <td>This book is so worth the money. It says 9+ mo...</td>\n",
       "      <td>5</td>\n",
       "      <td>This book is so worth the money It says 9 mont...</td>\n",
       "      <td>1</td>\n",
       "    </tr>\n",
       "    <tr>\n",
       "      <th>28</th>\n",
       "      <td>Lamaze Peekaboo, I Love You</td>\n",
       "      <td>we just got this book for our one-year-old and...</td>\n",
       "      <td>5</td>\n",
       "      <td>we just got this book for our oneyearold and s...</td>\n",
       "      <td>1</td>\n",
       "    </tr>\n",
       "    <tr>\n",
       "      <th>29</th>\n",
       "      <td>Lamaze Peekaboo, I Love You</td>\n",
       "      <td>The book is colorful and is perfect for 6month...</td>\n",
       "      <td>4</td>\n",
       "      <td>The book is colorful and is perfect for 6month...</td>\n",
       "      <td>1</td>\n",
       "    </tr>\n",
       "    <tr>\n",
       "      <th>30</th>\n",
       "      <td>Lamaze Peekaboo, I Love You</td>\n",
       "      <td>What a great book for babies!  I'd been lookin...</td>\n",
       "      <td>5</td>\n",
       "      <td>What a great book for babies  Id been looking ...</td>\n",
       "      <td>1</td>\n",
       "    </tr>\n",
       "    <tr>\n",
       "      <th>33</th>\n",
       "      <td>SoftPlay Twinkle Twinkle Elmo A Bedtime Book</td>\n",
       "      <td></td>\n",
       "      <td>5</td>\n",
       "      <td></td>\n",
       "      <td>1</td>\n",
       "    </tr>\n",
       "    <tr>\n",
       "      <th>34</th>\n",
       "      <td>SoftPlay Twinkle Twinkle Elmo A Bedtime Book</td>\n",
       "      <td>My son likes brushing elmo's teeth. Almost too...</td>\n",
       "      <td>5</td>\n",
       "      <td>My son likes brushing elmos teeth Almost too n...</td>\n",
       "      <td>1</td>\n",
       "    </tr>\n",
       "    <tr>\n",
       "      <th>35</th>\n",
       "      <td>SoftPlay Twinkle Twinkle Elmo A Bedtime Book</td>\n",
       "      <td>This was a birthday present for my 2 year old ...</td>\n",
       "      <td>5</td>\n",
       "      <td>This was a birthday present for my 2 year old ...</td>\n",
       "      <td>1</td>\n",
       "    </tr>\n",
       "    <tr>\n",
       "      <th>37</th>\n",
       "      <td>SoftPlay Peek-A-Boo Where's Elmo A Children's ...</td>\n",
       "      <td>My baby absolutely loves Elmo and so this book...</td>\n",
       "      <td>5</td>\n",
       "      <td>My baby absolutely loves Elmo and so this book...</td>\n",
       "      <td>1</td>\n",
       "    </tr>\n",
       "    <tr>\n",
       "      <th>...</th>\n",
       "      <td>...</td>\n",
       "      <td>...</td>\n",
       "      <td>...</td>\n",
       "      <td>...</td>\n",
       "      <td>...</td>\n",
       "    </tr>\n",
       "    <tr>\n",
       "      <th>166716</th>\n",
       "      <td>Maxboost iPhone 5S/5 Case - Protective Snap-on...</td>\n",
       "      <td>I love maxboost best phone company ever, I was...</td>\n",
       "      <td>5</td>\n",
       "      <td>I love maxboost best phone company ever I was ...</td>\n",
       "      <td>1</td>\n",
       "    </tr>\n",
       "    <tr>\n",
       "      <th>166717</th>\n",
       "      <td>Maxboost iPhone 5S/5 Case - Protective Snap-on...</td>\n",
       "      <td>I got this case as a free sample and it is gre...</td>\n",
       "      <td>5</td>\n",
       "      <td>I got this case as a free sample and it is gre...</td>\n",
       "      <td>1</td>\n",
       "    </tr>\n",
       "    <tr>\n",
       "      <th>166718</th>\n",
       "      <td>Maxboost iPhone 5S/5 Case - Protective Snap-on...</td>\n",
       "      <td>Love how this case looks on my phone simple an...</td>\n",
       "      <td>5</td>\n",
       "      <td>Love how this case looks on my phone simple an...</td>\n",
       "      <td>1</td>\n",
       "    </tr>\n",
       "    <tr>\n",
       "      <th>166719</th>\n",
       "      <td>Maxboost iPhone 5S/5 Case - Protective Snap-on...</td>\n",
       "      <td>Love this case. It is very thin,looks and feel...</td>\n",
       "      <td>5</td>\n",
       "      <td>Love this case It is very thinlooks and feels ...</td>\n",
       "      <td>1</td>\n",
       "    </tr>\n",
       "    <tr>\n",
       "      <th>166720</th>\n",
       "      <td>Maxboost iPhone 5S/5 Case - Protective Snap-on...</td>\n",
       "      <td>I love the color , And is everything I expecte...</td>\n",
       "      <td>5</td>\n",
       "      <td>I love the color  And is everything I expected</td>\n",
       "      <td>1</td>\n",
       "    </tr>\n",
       "    <tr>\n",
       "      <th>166721</th>\n",
       "      <td>Maxboost iPhone 5S/5 Case - Protective Snap-on...</td>\n",
       "      <td>After receiving my free case from a giveaway, ...</td>\n",
       "      <td>5</td>\n",
       "      <td>After receiving my free case from a giveaway I...</td>\n",
       "      <td>1</td>\n",
       "    </tr>\n",
       "    <tr>\n",
       "      <th>166723</th>\n",
       "      <td>Maxboost iPhone 5S/5 Case - Protective Snap-on...</td>\n",
       "      <td>Great product, great company! Their daily give...</td>\n",
       "      <td>5</td>\n",
       "      <td>Great product great company Their daily giveaw...</td>\n",
       "      <td>1</td>\n",
       "    </tr>\n",
       "    <tr>\n",
       "      <th>166724</th>\n",
       "      <td>Maxboost iPhone 5S/5 Case - Protective Snap-on...</td>\n",
       "      <td>I received a free sample from VIPU program for...</td>\n",
       "      <td>5</td>\n",
       "      <td>I received a free sample from VIPU program for...</td>\n",
       "      <td>1</td>\n",
       "    </tr>\n",
       "    <tr>\n",
       "      <th>166725</th>\n",
       "      <td>Maxboost iPhone 5S/5 Case - Protective Snap-on...</td>\n",
       "      <td>It got here incredibly fast &amp; it is a nice dur...</td>\n",
       "      <td>5</td>\n",
       "      <td>It got here incredibly fast  it is a nice dura...</td>\n",
       "      <td>1</td>\n",
       "    </tr>\n",
       "    <tr>\n",
       "      <th>166726</th>\n",
       "      <td>Maxboost iPhone 5S/5 Case - Protective Snap-on...</td>\n",
       "      <td>I got this case in the mail today, it came on ...</td>\n",
       "      <td>2</td>\n",
       "      <td>I got this case in the mail today it came on t...</td>\n",
       "      <td>-1</td>\n",
       "    </tr>\n",
       "    <tr>\n",
       "      <th>166727</th>\n",
       "      <td>Maxboost iPhone 5S/5 Case - Protective Snap-on...</td>\n",
       "      <td>Free caseLove it... The color was great firm h...</td>\n",
       "      <td>5</td>\n",
       "      <td>Free caseLove it The color was great firm hold...</td>\n",
       "      <td>1</td>\n",
       "    </tr>\n",
       "    <tr>\n",
       "      <th>166728</th>\n",
       "      <td>Maxboost iPhone 5S/5 Case - Protective Snap-on...</td>\n",
       "      <td>I received a free sample from VIPU program for...</td>\n",
       "      <td>5</td>\n",
       "      <td>I received a free sample from VIPU program for...</td>\n",
       "      <td>1</td>\n",
       "    </tr>\n",
       "    <tr>\n",
       "      <th>166729</th>\n",
       "      <td>Maxboost iPhone 5S/5 Case - Protective Snap-on...</td>\n",
       "      <td>This case definitely isn't cheap. It feels ver...</td>\n",
       "      <td>5</td>\n",
       "      <td>This case definitely isnt cheap It feels very ...</td>\n",
       "      <td>1</td>\n",
       "    </tr>\n",
       "    <tr>\n",
       "      <th>166731</th>\n",
       "      <td>Maxboost iPhone 5S/5 Case - Protective Snap-on...</td>\n",
       "      <td>love this case. It fit perfectly and the color...</td>\n",
       "      <td>5</td>\n",
       "      <td>love this case It fit perfectly and the color ...</td>\n",
       "      <td>1</td>\n",
       "    </tr>\n",
       "    <tr>\n",
       "      <th>166732</th>\n",
       "      <td>Maxboost iPhone 5S/5 Case - Protective Snap-on...</td>\n",
       "      <td>this case is the greatest very cool and stylis...</td>\n",
       "      <td>5</td>\n",
       "      <td>this case is the greatest very cool and stylis...</td>\n",
       "      <td>1</td>\n",
       "    </tr>\n",
       "    <tr>\n",
       "      <th>166733</th>\n",
       "      <td>Maxboost iPhone 5S/5 Case - Protective Snap-on...</td>\n",
       "      <td>Great fit. Really love how red it is.</td>\n",
       "      <td>5</td>\n",
       "      <td>Great fit Really love how red it is</td>\n",
       "      <td>1</td>\n",
       "    </tr>\n",
       "    <tr>\n",
       "      <th>166734</th>\n",
       "      <td>Maxboost iPhone 5S/5 Case - Protective Snap-on...</td>\n",
       "      <td>*I received a free sample from VIPU program fo...</td>\n",
       "      <td>5</td>\n",
       "      <td>I received a free sample from VIPU program for...</td>\n",
       "      <td>1</td>\n",
       "    </tr>\n",
       "    <tr>\n",
       "      <th>166735</th>\n",
       "      <td>Maxboost iPhone 5S/5 Case - Protective Snap-on...</td>\n",
       "      <td>I was a very surprised by the quality of this ...</td>\n",
       "      <td>5</td>\n",
       "      <td>I was a very surprised by the quality of this ...</td>\n",
       "      <td>1</td>\n",
       "    </tr>\n",
       "    <tr>\n",
       "      <th>166736</th>\n",
       "      <td>Maxboost iPhone 5S/5 Case - Protective Snap-on...</td>\n",
       "      <td>I received a free sample from VIPU program for...</td>\n",
       "      <td>4</td>\n",
       "      <td>I received a free sample from VIPU program for...</td>\n",
       "      <td>1</td>\n",
       "    </tr>\n",
       "    <tr>\n",
       "      <th>166738</th>\n",
       "      <td>Baby Mucus Extractor, Nasal Aspirator From Dr....</td>\n",
       "      <td>I recieved this product free of charge and abs...</td>\n",
       "      <td>5</td>\n",
       "      <td>I recieved this product free of charge and abs...</td>\n",
       "      <td>1</td>\n",
       "    </tr>\n",
       "    <tr>\n",
       "      <th>166739</th>\n",
       "      <td>Baby Mucus Extractor, Nasal Aspirator From Dr....</td>\n",
       "      <td>The tube is soft and easy to use, and the tip ...</td>\n",
       "      <td>5</td>\n",
       "      <td>The tube is soft and easy to use and the tip i...</td>\n",
       "      <td>1</td>\n",
       "    </tr>\n",
       "    <tr>\n",
       "      <th>166740</th>\n",
       "      <td>Baby Mucus Extractor, Nasal Aspirator From Dr....</td>\n",
       "      <td>I love this so much. It works way better than ...</td>\n",
       "      <td>5</td>\n",
       "      <td>I love this so much It works way better than t...</td>\n",
       "      <td>1</td>\n",
       "    </tr>\n",
       "    <tr>\n",
       "      <th>166741</th>\n",
       "      <td>Baby Mucus Extractor, Nasal Aspirator From Dr....</td>\n",
       "      <td>The aspirator works well but needs to come wit...</td>\n",
       "      <td>4</td>\n",
       "      <td>The aspirator works well but needs to come wit...</td>\n",
       "      <td>1</td>\n",
       "    </tr>\n",
       "    <tr>\n",
       "      <th>166742</th>\n",
       "      <td>Airline Seat Belt Extender - The Best Extensio...</td>\n",
       "      <td>Up until recently I have hated flying, putting...</td>\n",
       "      <td>5</td>\n",
       "      <td>Up until recently I have hated flying putting ...</td>\n",
       "      <td>1</td>\n",
       "    </tr>\n",
       "    <tr>\n",
       "      <th>166744</th>\n",
       "      <td>Squeasy Snacker 6oz Silicone Reusable Food Pou...</td>\n",
       "      <td>I love that these can hold purees OR liquids, ...</td>\n",
       "      <td>5</td>\n",
       "      <td>I love that these can hold purees OR liquids a...</td>\n",
       "      <td>1</td>\n",
       "    </tr>\n",
       "    <tr>\n",
       "      <th>166746</th>\n",
       "      <td>Squeasy Snacker 6oz Silicone Reusable Food Pou...</td>\n",
       "      <td>This reusable squeeze bottle is the best I hav...</td>\n",
       "      <td>5</td>\n",
       "      <td>This reusable squeeze bottle is the best I hav...</td>\n",
       "      <td>1</td>\n",
       "    </tr>\n",
       "    <tr>\n",
       "      <th>166747</th>\n",
       "      <td>Baby Teething Necklace for Mom Pretty Donut Sh...</td>\n",
       "      <td>Such a great idea! very handy to have and look...</td>\n",
       "      <td>5</td>\n",
       "      <td>Such a great idea very handy to have and look ...</td>\n",
       "      <td>1</td>\n",
       "    </tr>\n",
       "    <tr>\n",
       "      <th>166748</th>\n",
       "      <td>Baby Teething Necklace for Mom Pretty Donut Sh...</td>\n",
       "      <td>This product rocks!  It is a great blend of fu...</td>\n",
       "      <td>5</td>\n",
       "      <td>This product rocks  It is a great blend of fun...</td>\n",
       "      <td>1</td>\n",
       "    </tr>\n",
       "    <tr>\n",
       "      <th>166749</th>\n",
       "      <td>Abstract 2 PK Baby / Toddler Training Cup (Pink)</td>\n",
       "      <td>This item looks great and cool for my kids.......</td>\n",
       "      <td>5</td>\n",
       "      <td>This item looks great and cool for my kidsI kn...</td>\n",
       "      <td>1</td>\n",
       "    </tr>\n",
       "    <tr>\n",
       "      <th>166750</th>\n",
       "      <td>Baby Food Freezer Tray - Bacteria Resistant, B...</td>\n",
       "      <td>I am extremely happy with this product. I have...</td>\n",
       "      <td>5</td>\n",
       "      <td>I am extremely happy with this product I have ...</td>\n",
       "      <td>1</td>\n",
       "    </tr>\n",
       "  </tbody>\n",
       "</table>\n",
       "<p>133416 rows × 5 columns</p>\n",
       "</div>"
      ],
      "text/plain": [
       "                                                     name  \\\n",
       "0                                   Planetwise Wipe Pouch   \n",
       "1                     Annas Dream Full Quilt with 2 Shams   \n",
       "2       Stop Pacifier Sucking without tears with Thumb...   \n",
       "3       Stop Pacifier Sucking without tears with Thumb...   \n",
       "4       Stop Pacifier Sucking without tears with Thumb...   \n",
       "5                 A Tale of Baby's Days with Peter Rabbit   \n",
       "6       Baby Tracker&reg; - Daily Childcare Journal, S...   \n",
       "7       Baby Tracker&reg; - Daily Childcare Journal, S...   \n",
       "10      Baby Tracker&reg; - Daily Childcare Journal, S...   \n",
       "11      Baby Tracker&reg; - Daily Childcare Journal, S...   \n",
       "12         Nature's Lullabies First Year Sticker Calendar   \n",
       "13         Nature's Lullabies First Year Sticker Calendar   \n",
       "15        Nature's Lullabies Second Year Sticker Calendar   \n",
       "16        Nature's Lullabies Second Year Sticker Calendar   \n",
       "17        Nature's Lullabies Second Year Sticker Calendar   \n",
       "19        Nature's Lullabies Second Year Sticker Calendar   \n",
       "20        Nature's Lullabies Second Year Sticker Calendar   \n",
       "21        Nature's Lullabies Second Year Sticker Calendar   \n",
       "22        Nature's Lullabies Second Year Sticker Calendar   \n",
       "23                           Baby's First Journal - Green   \n",
       "25                            Lamaze Peekaboo, I Love You   \n",
       "26                            Lamaze Peekaboo, I Love You   \n",
       "27                            Lamaze Peekaboo, I Love You   \n",
       "28                            Lamaze Peekaboo, I Love You   \n",
       "29                            Lamaze Peekaboo, I Love You   \n",
       "30                            Lamaze Peekaboo, I Love You   \n",
       "33           SoftPlay Twinkle Twinkle Elmo A Bedtime Book   \n",
       "34           SoftPlay Twinkle Twinkle Elmo A Bedtime Book   \n",
       "35           SoftPlay Twinkle Twinkle Elmo A Bedtime Book   \n",
       "37      SoftPlay Peek-A-Boo Where's Elmo A Children's ...   \n",
       "...                                                   ...   \n",
       "166716  Maxboost iPhone 5S/5 Case - Protective Snap-on...   \n",
       "166717  Maxboost iPhone 5S/5 Case - Protective Snap-on...   \n",
       "166718  Maxboost iPhone 5S/5 Case - Protective Snap-on...   \n",
       "166719  Maxboost iPhone 5S/5 Case - Protective Snap-on...   \n",
       "166720  Maxboost iPhone 5S/5 Case - Protective Snap-on...   \n",
       "166721  Maxboost iPhone 5S/5 Case - Protective Snap-on...   \n",
       "166723  Maxboost iPhone 5S/5 Case - Protective Snap-on...   \n",
       "166724  Maxboost iPhone 5S/5 Case - Protective Snap-on...   \n",
       "166725  Maxboost iPhone 5S/5 Case - Protective Snap-on...   \n",
       "166726  Maxboost iPhone 5S/5 Case - Protective Snap-on...   \n",
       "166727  Maxboost iPhone 5S/5 Case - Protective Snap-on...   \n",
       "166728  Maxboost iPhone 5S/5 Case - Protective Snap-on...   \n",
       "166729  Maxboost iPhone 5S/5 Case - Protective Snap-on...   \n",
       "166731  Maxboost iPhone 5S/5 Case - Protective Snap-on...   \n",
       "166732  Maxboost iPhone 5S/5 Case - Protective Snap-on...   \n",
       "166733  Maxboost iPhone 5S/5 Case - Protective Snap-on...   \n",
       "166734  Maxboost iPhone 5S/5 Case - Protective Snap-on...   \n",
       "166735  Maxboost iPhone 5S/5 Case - Protective Snap-on...   \n",
       "166736  Maxboost iPhone 5S/5 Case - Protective Snap-on...   \n",
       "166738  Baby Mucus Extractor, Nasal Aspirator From Dr....   \n",
       "166739  Baby Mucus Extractor, Nasal Aspirator From Dr....   \n",
       "166740  Baby Mucus Extractor, Nasal Aspirator From Dr....   \n",
       "166741  Baby Mucus Extractor, Nasal Aspirator From Dr....   \n",
       "166742  Airline Seat Belt Extender - The Best Extensio...   \n",
       "166744  Squeasy Snacker 6oz Silicone Reusable Food Pou...   \n",
       "166746  Squeasy Snacker 6oz Silicone Reusable Food Pou...   \n",
       "166747  Baby Teething Necklace for Mom Pretty Donut Sh...   \n",
       "166748  Baby Teething Necklace for Mom Pretty Donut Sh...   \n",
       "166749   Abstract 2 PK Baby / Toddler Training Cup (Pink)   \n",
       "166750  Baby Food Freezer Tray - Bacteria Resistant, B...   \n",
       "\n",
       "                                                   review  rating  \\\n",
       "0       it came early and was not disappointed. i love...       5   \n",
       "1       Very soft and comfortable and warmer than it l...       5   \n",
       "2       This is a product well worth the purchase.  I ...       5   \n",
       "3       All of my kids have cried non-stop when I trie...       5   \n",
       "4       When the Binky Fairy came to our house, we did...       5   \n",
       "5       Lovely book, it's bound tightly so you may not...       4   \n",
       "6       Perfect for new parents. We were able to keep ...       5   \n",
       "7       A friend of mine pinned this product on Pinter...       5   \n",
       "10      This book is perfect!  I'm a first time new mo...       5   \n",
       "11      I originally just gave the nanny a pad of pape...       4   \n",
       "12      Space for monthly photos, info and a lot of us...       5   \n",
       "13      I bought this calender for myself for my secon...       4   \n",
       "15      This was the only calender I could find for th...       5   \n",
       "16      I completed a calendar for my son's first year...       4   \n",
       "17      We wanted to get something to keep track of ou...       5   \n",
       "19      I only purchased a second-year calendar for my...       2   \n",
       "20      I LOVE this calendar for recording events of m...       5   \n",
       "21      Wife loves this calender. Comes with a lot of ...       5   \n",
       "22      My daughter had her 1st baby over a year ago. ...       5   \n",
       "23      Extremely useful! As a new mom, tired and inex...       5   \n",
       "25      I like how the book has a hook to attach it to...       5   \n",
       "26      Beautiful little book.  A great little short s...       5   \n",
       "27      This book is so worth the money. It says 9+ mo...       5   \n",
       "28      we just got this book for our one-year-old and...       5   \n",
       "29      The book is colorful and is perfect for 6month...       4   \n",
       "30      What a great book for babies!  I'd been lookin...       5   \n",
       "33                                                              5   \n",
       "34      My son likes brushing elmo's teeth. Almost too...       5   \n",
       "35      This was a birthday present for my 2 year old ...       5   \n",
       "37      My baby absolutely loves Elmo and so this book...       5   \n",
       "...                                                   ...     ...   \n",
       "166716  I love maxboost best phone company ever, I was...       5   \n",
       "166717  I got this case as a free sample and it is gre...       5   \n",
       "166718  Love how this case looks on my phone simple an...       5   \n",
       "166719  Love this case. It is very thin,looks and feel...       5   \n",
       "166720  I love the color , And is everything I expecte...       5   \n",
       "166721  After receiving my free case from a giveaway, ...       5   \n",
       "166723  Great product, great company! Their daily give...       5   \n",
       "166724  I received a free sample from VIPU program for...       5   \n",
       "166725  It got here incredibly fast & it is a nice dur...       5   \n",
       "166726  I got this case in the mail today, it came on ...       2   \n",
       "166727  Free caseLove it... The color was great firm h...       5   \n",
       "166728  I received a free sample from VIPU program for...       5   \n",
       "166729  This case definitely isn't cheap. It feels ver...       5   \n",
       "166731  love this case. It fit perfectly and the color...       5   \n",
       "166732  this case is the greatest very cool and stylis...       5   \n",
       "166733              Great fit. Really love how red it is.       5   \n",
       "166734  *I received a free sample from VIPU program fo...       5   \n",
       "166735  I was a very surprised by the quality of this ...       5   \n",
       "166736  I received a free sample from VIPU program for...       4   \n",
       "166738  I recieved this product free of charge and abs...       5   \n",
       "166739  The tube is soft and easy to use, and the tip ...       5   \n",
       "166740  I love this so much. It works way better than ...       5   \n",
       "166741  The aspirator works well but needs to come wit...       4   \n",
       "166742  Up until recently I have hated flying, putting...       5   \n",
       "166744  I love that these can hold purees OR liquids, ...       5   \n",
       "166746  This reusable squeeze bottle is the best I hav...       5   \n",
       "166747  Such a great idea! very handy to have and look...       5   \n",
       "166748  This product rocks!  It is a great blend of fu...       5   \n",
       "166749  This item looks great and cool for my kids.......       5   \n",
       "166750  I am extremely happy with this product. I have...       5   \n",
       "\n",
       "                                             review_clean  sentiment  \n",
       "0       it came early and was not disappointed i love ...          1  \n",
       "1       Very soft and comfortable and warmer than it l...          1  \n",
       "2       This is a product well worth the purchase  I h...          1  \n",
       "3       All of my kids have cried nonstop when I tried...          1  \n",
       "4       When the Binky Fairy came to our house we didn...          1  \n",
       "5       Lovely book its bound tightly so you may not b...          1  \n",
       "6       Perfect for new parents We were able to keep t...          1  \n",
       "7       A friend of mine pinned this product on Pinter...          1  \n",
       "10      This book is perfect  Im a first time new mom ...          1  \n",
       "11      I originally just gave the nanny a pad of pape...          1  \n",
       "12      Space for monthly photos info and a lot of use...          1  \n",
       "13      I bought this calender for myself for my secon...          1  \n",
       "15      This was the only calender I could find for th...          1  \n",
       "16      I completed a calendar for my sons first year ...          1  \n",
       "17      We wanted to get something to keep track of ou...          1  \n",
       "19      I only purchased a secondyear calendar for my ...         -1  \n",
       "20      I LOVE this calendar for recording events of m...          1  \n",
       "21      Wife loves this calender Comes with a lot of s...          1  \n",
       "22      My daughter had her 1st baby over a year ago S...          1  \n",
       "23      Extremely useful As a new mom tired and inexpe...          1  \n",
       "25      I like how the book has a hook to attach it to...          1  \n",
       "26      Beautiful little book  A great little short st...          1  \n",
       "27      This book is so worth the money It says 9 mont...          1  \n",
       "28      we just got this book for our oneyearold and s...          1  \n",
       "29      The book is colorful and is perfect for 6month...          1  \n",
       "30      What a great book for babies  Id been looking ...          1  \n",
       "33                                                                 1  \n",
       "34      My son likes brushing elmos teeth Almost too n...          1  \n",
       "35      This was a birthday present for my 2 year old ...          1  \n",
       "37      My baby absolutely loves Elmo and so this book...          1  \n",
       "...                                                   ...        ...  \n",
       "166716  I love maxboost best phone company ever I was ...          1  \n",
       "166717  I got this case as a free sample and it is gre...          1  \n",
       "166718  Love how this case looks on my phone simple an...          1  \n",
       "166719  Love this case It is very thinlooks and feels ...          1  \n",
       "166720    I love the color  And is everything I expected           1  \n",
       "166721  After receiving my free case from a giveaway I...          1  \n",
       "166723  Great product great company Their daily giveaw...          1  \n",
       "166724  I received a free sample from VIPU program for...          1  \n",
       "166725  It got here incredibly fast  it is a nice dura...          1  \n",
       "166726  I got this case in the mail today it came on t...         -1  \n",
       "166727  Free caseLove it The color was great firm hold...          1  \n",
       "166728  I received a free sample from VIPU program for...          1  \n",
       "166729  This case definitely isnt cheap It feels very ...          1  \n",
       "166731  love this case It fit perfectly and the color ...          1  \n",
       "166732  this case is the greatest very cool and stylis...          1  \n",
       "166733                Great fit Really love how red it is          1  \n",
       "166734  I received a free sample from VIPU program for...          1  \n",
       "166735  I was a very surprised by the quality of this ...          1  \n",
       "166736  I received a free sample from VIPU program for...          1  \n",
       "166738  I recieved this product free of charge and abs...          1  \n",
       "166739  The tube is soft and easy to use and the tip i...          1  \n",
       "166740  I love this so much It works way better than t...          1  \n",
       "166741  The aspirator works well but needs to come wit...          1  \n",
       "166742  Up until recently I have hated flying putting ...          1  \n",
       "166744  I love that these can hold purees OR liquids a...          1  \n",
       "166746  This reusable squeeze bottle is the best I hav...          1  \n",
       "166747  Such a great idea very handy to have and look ...          1  \n",
       "166748  This product rocks  It is a great blend of fun...          1  \n",
       "166749  This item looks great and cool for my kidsI kn...          1  \n",
       "166750  I am extremely happy with this product I have ...          1  \n",
       "\n",
       "[133416 rows x 5 columns]"
      ]
     },
     "execution_count": 16,
     "metadata": {},
     "output_type": "execute_result"
    }
   ],
   "source": [
    "train_data"
   ]
  },
  {
   "cell_type": "code",
   "execution_count": 17,
   "metadata": {
    "collapsed": true
   },
   "outputs": [],
   "source": [
    "from sklearn.feature_extraction.text import CountVectorizer\n",
    "vectorizer = CountVectorizer(token_pattern=r'\\b\\w+\\b')"
   ]
  },
  {
   "cell_type": "code",
   "execution_count": 18,
   "metadata": {
    "collapsed": false
   },
   "outputs": [],
   "source": [
    "train_matrix = vectorizer.fit_transform(train_data['review_clean'])\n",
    "test_matrix = vectorizer.transform(test_data['review_clean'])"
   ]
  },
  {
   "cell_type": "code",
   "execution_count": 19,
   "metadata": {
    "collapsed": false
   },
   "outputs": [
    {
     "data": {
      "text/plain": [
       "<133416x121712 sparse matrix of type '<type 'numpy.int64'>'\n",
       "\twith 7326618 stored elements in Compressed Sparse Row format>"
      ]
     },
     "execution_count": 19,
     "metadata": {},
     "output_type": "execute_result"
    }
   ],
   "source": [
    "train_matrix"
   ]
  },
  {
   "cell_type": "code",
   "execution_count": 20,
   "metadata": {
    "collapsed": false
   },
   "outputs": [
    {
     "name": "stdout",
     "output_type": "stream",
     "text": [
      "Number of coefficients in the sentiment model 121712.000000\n",
      "('### Number of positive coefficients is ', 85913)\n"
     ]
    }
   ],
   "source": [
    "# Train a sentiment classifier with logistic regression\n",
    "from sklearn import linear_model\n",
    "sentiment_model = linear_model.LogisticRegression(n_jobs=-1)\n",
    "sentiment_model.fit(train_matrix, train_data['sentiment'])\n",
    "\n",
    "###\n",
    "### Wrong answer here, wrong number of coefficients\n",
    "###\n",
    "print(\"Number of coefficients in the sentiment model %f\" % len(sentiment_model.coef_[0]))\n",
    "print(\"### Number of positive coefficients is \", len([x for x in sentiment_model.coef_[0] if x >= 0]))"
   ]
  },
  {
   "cell_type": "code",
   "execution_count": 210,
   "metadata": {
    "collapsed": false
   },
   "outputs": [
    {
     "data": {
      "text/html": [
       "<div>\n",
       "<table border=\"1\" class=\"dataframe\">\n",
       "  <thead>\n",
       "    <tr style=\"text-align: right;\">\n",
       "      <th></th>\n",
       "      <th>name</th>\n",
       "      <th>review</th>\n",
       "      <th>rating</th>\n",
       "      <th>review_clean</th>\n",
       "      <th>sentiment</th>\n",
       "    </tr>\n",
       "  </thead>\n",
       "  <tbody>\n",
       "    <tr>\n",
       "      <th>10</th>\n",
       "      <td>Our Baby Girl Memory Book</td>\n",
       "      <td>Absolutely love it and all of the Scripture in...</td>\n",
       "      <td>5</td>\n",
       "      <td>Absolutely love it and all of the Scripture in...</td>\n",
       "      <td>1</td>\n",
       "    </tr>\n",
       "    <tr>\n",
       "      <th>11</th>\n",
       "      <td>Wall Decor Removable Decal Sticker - Colorful ...</td>\n",
       "      <td>Would not purchase again or recommend. The dec...</td>\n",
       "      <td>2</td>\n",
       "      <td>Would not purchase again or recommend. The dec...</td>\n",
       "      <td>-1</td>\n",
       "    </tr>\n",
       "    <tr>\n",
       "      <th>12</th>\n",
       "      <td>New Style Trailing Cherry Blossom Tree Decal R...</td>\n",
       "      <td>Was so excited to get this product for my baby...</td>\n",
       "      <td>1</td>\n",
       "      <td>Was so excited to get this product for my baby...</td>\n",
       "      <td>-1</td>\n",
       "    </tr>\n",
       "  </tbody>\n",
       "</table>\n",
       "</div>"
      ],
      "text/plain": [
       "                                                 name  \\\n",
       "10                          Our Baby Girl Memory Book   \n",
       "11  Wall Decor Removable Decal Sticker - Colorful ...   \n",
       "12  New Style Trailing Cherry Blossom Tree Decal R...   \n",
       "\n",
       "                                               review  rating  \\\n",
       "10  Absolutely love it and all of the Scripture in...       5   \n",
       "11  Would not purchase again or recommend. The dec...       2   \n",
       "12  Was so excited to get this product for my baby...       1   \n",
       "\n",
       "                                         review_clean  sentiment  \n",
       "10  Absolutely love it and all of the Scripture in...          1  \n",
       "11  Would not purchase again or recommend. The dec...         -1  \n",
       "12  Was so excited to get this product for my baby...         -1  "
      ]
     },
     "execution_count": 210,
     "metadata": {},
     "output_type": "execute_result"
    }
   ],
   "source": [
    "sample_test_data = test_data[10:13]\n",
    "sample_test_data"
   ]
  },
  {
   "cell_type": "code",
   "execution_count": 211,
   "metadata": {
    "collapsed": false
   },
   "outputs": [
    {
     "data": {
      "text/plain": [
       "'Absolutely love it and all of the Scripture in it.  I purchased the Baby Boy version for my grandson when he was born and my daughter-in-law was thrilled to receive the same book again.'"
      ]
     },
     "execution_count": 211,
     "metadata": {},
     "output_type": "execute_result"
    }
   ],
   "source": [
    "sample_test_data.iloc[0]['review']"
   ]
  },
  {
   "cell_type": "code",
   "execution_count": 212,
   "metadata": {
    "collapsed": false
   },
   "outputs": [
    {
     "data": {
      "text/plain": [
       "'Would not purchase again or recommend. The decals were thick almost plastic like and were coming off the wall as I was applying them! The would NOT stick! Literally stayed stuck for about 5 minutes then started peeling off.'"
      ]
     },
     "execution_count": 212,
     "metadata": {},
     "output_type": "execute_result"
    }
   ],
   "source": [
    "sample_test_data.iloc[1]['review']"
   ]
  },
  {
   "cell_type": "code",
   "execution_count": 213,
   "metadata": {
    "collapsed": false
   },
   "outputs": [
    {
     "data": {
      "text/plain": [
       "\"Was so excited to get this product for my baby girls bedroom!  When I got it the back is NOT STICKY at all!  Every time I walked into the bedroom I was picking up pieces off of the floor!  Very very frustrating!  Ended up having to super glue it to the wall...very disappointing.  I wouldn't waste the time or money on it.\""
      ]
     },
     "execution_count": 213,
     "metadata": {},
     "output_type": "execute_result"
    }
   ],
   "source": [
    "sample_test_data.iloc[2]['review']"
   ]
  },
  {
   "cell_type": "code",
   "execution_count": 214,
   "metadata": {
    "collapsed": false
   },
   "outputs": [
    {
     "name": "stdout",
     "output_type": "stream",
     "text": [
      "[  4.95213125  -2.99953526 -10.59510239]\n"
     ]
    }
   ],
   "source": [
    "sample_test_matrix = vectorizer.transform(sample_test_data['review_clean'])\n",
    "scores = sentiment_model.decision_function(sample_test_matrix)\n",
    "print(scores)"
   ]
  },
  {
   "cell_type": "code",
   "execution_count": 215,
   "metadata": {
    "collapsed": true
   },
   "outputs": [],
   "source": [
    "def my_predict(model, test_matrix):\n",
    "    return [+1 if s >= 0 else -1 for s in model.decision_function(test_matrix)]"
   ]
  },
  {
   "cell_type": "code",
   "execution_count": 216,
   "metadata": {
    "collapsed": false
   },
   "outputs": [
    {
     "data": {
      "text/plain": [
       "[1, -1, -1]"
      ]
     },
     "execution_count": 216,
     "metadata": {},
     "output_type": "execute_result"
    }
   ],
   "source": [
    "my_predict(sentiment_model, sample_test_matrix)"
   ]
  },
  {
   "cell_type": "code",
   "execution_count": 217,
   "metadata": {
    "collapsed": false
   },
   "outputs": [
    {
     "data": {
      "text/plain": [
       "array([ 1, -1, -1])"
      ]
     },
     "execution_count": 217,
     "metadata": {},
     "output_type": "execute_result"
    }
   ],
   "source": [
    "sentiment_model.predict(sample_test_matrix)"
   ]
  },
  {
   "cell_type": "code",
   "execution_count": 218,
   "metadata": {
    "collapsed": true
   },
   "outputs": [],
   "source": [
    "from numpy import exp\n",
    "logit = lambda x: 1.0/(1+exp(-x))"
   ]
  },
  {
   "cell_type": "code",
   "execution_count": 219,
   "metadata": {
    "collapsed": true
   },
   "outputs": [],
   "source": [
    "def my_prob_predict(model, test_matrix):\n",
    "    return [logit(s) for s in model.decision_function(test_matrix)]"
   ]
  },
  {
   "cell_type": "code",
   "execution_count": 220,
   "metadata": {
    "collapsed": false
   },
   "outputs": [
    {
     "data": {
      "text/plain": [
       "[0.99298128209115466, 0.047446872840577192, 2.5037710952405042e-05]"
      ]
     },
     "execution_count": 220,
     "metadata": {},
     "output_type": "execute_result"
    }
   ],
   "source": [
    "[x for x in my_prob_predict(sentiment_model, sample_test_matrix)]"
   ]
  },
  {
   "cell_type": "code",
   "execution_count": 221,
   "metadata": {
    "collapsed": false
   },
   "outputs": [
    {
     "data": {
      "text/plain": [
       "array([[  7.01871791e-03,   9.92981282e-01],\n",
       "       [  9.52553127e-01,   4.74468728e-02],\n",
       "       [  9.99974962e-01,   2.50377110e-05]])"
      ]
     },
     "execution_count": 221,
     "metadata": {},
     "output_type": "execute_result"
    }
   ],
   "source": [
    "sentiment_model.predict_proba(sample_test_matrix)"
   ]
  },
  {
   "cell_type": "code",
   "execution_count": 222,
   "metadata": {
    "collapsed": false
   },
   "outputs": [
    {
     "data": {
      "text/plain": [
       "[0.99299999999999999, 0.047, 0.0]"
      ]
     },
     "execution_count": 222,
     "metadata": {},
     "output_type": "execute_result"
    }
   ],
   "source": [
    "[round(x, 3) for x in my_prob_predict(sentiment_model, sample_test_matrix)]"
   ]
  },
  {
   "cell_type": "code",
   "execution_count": 223,
   "metadata": {
    "collapsed": false
   },
   "outputs": [],
   "source": [
    "test_matrix = vectorizer.transform(test_data['review_clean'])"
   ]
  },
  {
   "cell_type": "code",
   "execution_count": 224,
   "metadata": {
    "collapsed": false
   },
   "outputs": [],
   "source": [
    "test_data['predictions'] = sentiment_model.decision_function(test_matrix)"
   ]
  },
  {
   "cell_type": "code",
   "execution_count": 225,
   "metadata": {
    "collapsed": false,
    "scrolled": true
   },
   "outputs": [
    {
     "data": {
      "text/html": [
       "<div>\n",
       "<table border=\"1\" class=\"dataframe\">\n",
       "  <thead>\n",
       "    <tr style=\"text-align: right;\">\n",
       "      <th></th>\n",
       "      <th>name</th>\n",
       "      <th>review</th>\n",
       "      <th>rating</th>\n",
       "      <th>review_clean</th>\n",
       "      <th>sentiment</th>\n",
       "      <th>predictions</th>\n",
       "    </tr>\n",
       "  </thead>\n",
       "  <tbody>\n",
       "    <tr>\n",
       "      <th>15732</th>\n",
       "      <td>Baby Einstein Around The World Discovery Center</td>\n",
       "      <td>I am so HAPPY I brought this item for my 7 mon...</td>\n",
       "      <td>5</td>\n",
       "      <td>I am so HAPPY I brought this item for my 7 mon...</td>\n",
       "      <td>1</td>\n",
       "      <td>49.334376</td>\n",
       "    </tr>\n",
       "    <tr>\n",
       "      <th>25554</th>\n",
       "      <td>Diono RadianRXT Convertible Car Seat, Plum</td>\n",
       "      <td>I bought this seat for my tall (38in) and thin...</td>\n",
       "      <td>5</td>\n",
       "      <td>I bought this seat for my tall (38in) and thin...</td>\n",
       "      <td>1</td>\n",
       "      <td>47.568990</td>\n",
       "    </tr>\n",
       "    <tr>\n",
       "      <th>24286</th>\n",
       "      <td>Britax 2012 B-Agile Stroller, Red</td>\n",
       "      <td>[I got this stroller for my daughter prior to ...</td>\n",
       "      <td>4</td>\n",
       "      <td>[I got this stroller for my daughter prior to ...</td>\n",
       "      <td>1</td>\n",
       "      <td>45.454652</td>\n",
       "    </tr>\n",
       "    <tr>\n",
       "      <th>9555</th>\n",
       "      <td>Evenflo X Sport Plus Convenience Stroller - Ch...</td>\n",
       "      <td>After seeing this in Parent's Magazine and rea...</td>\n",
       "      <td>5</td>\n",
       "      <td>After seeing this in Parent's Magazine and rea...</td>\n",
       "      <td>1</td>\n",
       "      <td>45.069776</td>\n",
       "    </tr>\n",
       "    <tr>\n",
       "      <th>18112</th>\n",
       "      <td>Infantino Wrap and Tie Baby Carrier, Black Blu...</td>\n",
       "      <td>I bought this carrier when my daughter was abo...</td>\n",
       "      <td>5</td>\n",
       "      <td>I bought this carrier when my daughter was abo...</td>\n",
       "      <td>1</td>\n",
       "      <td>44.744202</td>\n",
       "    </tr>\n",
       "    <tr>\n",
       "      <th>17558</th>\n",
       "      <td>Freemie Hands-Free Concealable Breast Pump Col...</td>\n",
       "      <td>I absolutely love this product.  I work as a C...</td>\n",
       "      <td>5</td>\n",
       "      <td>I absolutely love this product.  I work as a C...</td>\n",
       "      <td>1</td>\n",
       "      <td>44.122034</td>\n",
       "    </tr>\n",
       "    <tr>\n",
       "      <th>21531</th>\n",
       "      <td>Roan Rocco Classic Pram Stroller 2-in-1 with B...</td>\n",
       "      <td>Great Pram Rocco!!!!!!I bought this pram from ...</td>\n",
       "      <td>5</td>\n",
       "      <td>Great Pram Rocco!!!!!!I bought this pram from ...</td>\n",
       "      <td>1</td>\n",
       "      <td>43.600869</td>\n",
       "    </tr>\n",
       "    <tr>\n",
       "      <th>30634</th>\n",
       "      <td>Graco FastAction Fold Jogger Click Connect Str...</td>\n",
       "      <td>Graco's FastAction Jogging Stroller definitely...</td>\n",
       "      <td>5</td>\n",
       "      <td>Graco's FastAction Jogging Stroller definitely...</td>\n",
       "      <td>1</td>\n",
       "      <td>42.283704</td>\n",
       "    </tr>\n",
       "    <tr>\n",
       "      <th>24899</th>\n",
       "      <td>Graco Pack 'n Play Element Playard - Flint</td>\n",
       "      <td>My husband and I assembled this Pack n' Play l...</td>\n",
       "      <td>4</td>\n",
       "      <td>My husband and I assembled this Pack n' Play l...</td>\n",
       "      <td>1</td>\n",
       "      <td>41.413444</td>\n",
       "    </tr>\n",
       "    <tr>\n",
       "      <th>14482</th>\n",
       "      <td>Simple Wishes Hands-Free Breastpump Bra, Pink,...</td>\n",
       "      <td>I just tried this hands free breastpump bra, a...</td>\n",
       "      <td>5</td>\n",
       "      <td>I just tried this hands free breastpump bra, a...</td>\n",
       "      <td>1</td>\n",
       "      <td>40.793042</td>\n",
       "    </tr>\n",
       "    <tr>\n",
       "      <th>9125</th>\n",
       "      <td>P'Kolino Silly Soft Seating in Tias, Green</td>\n",
       "      <td>I've purchased both the P'Kolino Little Reader...</td>\n",
       "      <td>4</td>\n",
       "      <td>I've purchased both the P'Kolino Little Reader...</td>\n",
       "      <td>1</td>\n",
       "      <td>40.400854</td>\n",
       "    </tr>\n",
       "    <tr>\n",
       "      <th>26830</th>\n",
       "      <td>Baby Jogger City Mini GT Single Stroller, Shad...</td>\n",
       "      <td>Amazing, Love, Love, Love it !!! All 5 STARS a...</td>\n",
       "      <td>5</td>\n",
       "      <td>Amazing, Love, Love, Love it !!! All 5 STARS a...</td>\n",
       "      <td>1</td>\n",
       "      <td>40.078497</td>\n",
       "    </tr>\n",
       "    <tr>\n",
       "      <th>33060</th>\n",
       "      <td>Summer Infant Wide View Digital Color Video Mo...</td>\n",
       "      <td>I love this baby monitor.  I can compare this ...</td>\n",
       "      <td>5</td>\n",
       "      <td>I love this baby monitor.  I can compare this ...</td>\n",
       "      <td>1</td>\n",
       "      <td>39.248003</td>\n",
       "    </tr>\n",
       "    <tr>\n",
       "      <th>16502</th>\n",
       "      <td>Dream On Me / Mia Moda  Atmosferra Stroller, Nero</td>\n",
       "      <td>I recently bought this to replace a Chicco Cor...</td>\n",
       "      <td>4</td>\n",
       "      <td>I recently bought this to replace a Chicco Cor...</td>\n",
       "      <td>1</td>\n",
       "      <td>37.735554</td>\n",
       "    </tr>\n",
       "    <tr>\n",
       "      <th>4140</th>\n",
       "      <td>Britax Decathlon Convertible Car Seat, Tiffany</td>\n",
       "      <td>I researched a few different seats to put in o...</td>\n",
       "      <td>4</td>\n",
       "      <td>I researched a few different seats to put in o...</td>\n",
       "      <td>1</td>\n",
       "      <td>37.304793</td>\n",
       "    </tr>\n",
       "    <tr>\n",
       "      <th>11923</th>\n",
       "      <td>Evenflo 6 Pack Classic Glass Bottle, 4-Ounce</td>\n",
       "      <td>It's always fun to write a review on those pro...</td>\n",
       "      <td>5</td>\n",
       "      <td>It's always fun to write a review on those pro...</td>\n",
       "      <td>1</td>\n",
       "      <td>37.144340</td>\n",
       "    </tr>\n",
       "    <tr>\n",
       "      <th>32782</th>\n",
       "      <td>Mamas &amp;amp; Papas 2014 Urbo2 Stroller - Black</td>\n",
       "      <td>After much research I purchased an Urbo2. It's...</td>\n",
       "      <td>4</td>\n",
       "      <td>After much research I purchased an Urbo2. It's...</td>\n",
       "      <td>1</td>\n",
       "      <td>37.100355</td>\n",
       "    </tr>\n",
       "    <tr>\n",
       "      <th>30076</th>\n",
       "      <td>Ikea 36 Pcs Kalas Kids Plastic BPA Free Flatwa...</td>\n",
       "      <td>For the price this set is unbelievable- and tr...</td>\n",
       "      <td>5</td>\n",
       "      <td>For the price this set is unbelievable- and tr...</td>\n",
       "      <td>1</td>\n",
       "      <td>36.754498</td>\n",
       "    </tr>\n",
       "    <tr>\n",
       "      <th>21203</th>\n",
       "      <td>Skip Hop Bento Diaper Tote Bag, Black</td>\n",
       "      <td>Summary of below: It's a great bag that fits a...</td>\n",
       "      <td>5</td>\n",
       "      <td>Summary of below: It's a great bag that fits a...</td>\n",
       "      <td>1</td>\n",
       "      <td>36.698088</td>\n",
       "    </tr>\n",
       "    <tr>\n",
       "      <th>20743</th>\n",
       "      <td>Fisher-Price Cradle 'N Swing,  My Little Snuga...</td>\n",
       "      <td>My husband and I cannot state enough how much ...</td>\n",
       "      <td>5</td>\n",
       "      <td>My husband and I cannot state enough how much ...</td>\n",
       "      <td>1</td>\n",
       "      <td>36.558511</td>\n",
       "    </tr>\n",
       "  </tbody>\n",
       "</table>\n",
       "</div>"
      ],
      "text/plain": [
       "                                                    name  \\\n",
       "15732    Baby Einstein Around The World Discovery Center   \n",
       "25554         Diono RadianRXT Convertible Car Seat, Plum   \n",
       "24286                  Britax 2012 B-Agile Stroller, Red   \n",
       "9555   Evenflo X Sport Plus Convenience Stroller - Ch...   \n",
       "18112  Infantino Wrap and Tie Baby Carrier, Black Blu...   \n",
       "17558  Freemie Hands-Free Concealable Breast Pump Col...   \n",
       "21531  Roan Rocco Classic Pram Stroller 2-in-1 with B...   \n",
       "30634  Graco FastAction Fold Jogger Click Connect Str...   \n",
       "24899         Graco Pack 'n Play Element Playard - Flint   \n",
       "14482  Simple Wishes Hands-Free Breastpump Bra, Pink,...   \n",
       "9125          P'Kolino Silly Soft Seating in Tias, Green   \n",
       "26830  Baby Jogger City Mini GT Single Stroller, Shad...   \n",
       "33060  Summer Infant Wide View Digital Color Video Mo...   \n",
       "16502  Dream On Me / Mia Moda  Atmosferra Stroller, Nero   \n",
       "4140      Britax Decathlon Convertible Car Seat, Tiffany   \n",
       "11923       Evenflo 6 Pack Classic Glass Bottle, 4-Ounce   \n",
       "32782      Mamas &amp; Papas 2014 Urbo2 Stroller - Black   \n",
       "30076  Ikea 36 Pcs Kalas Kids Plastic BPA Free Flatwa...   \n",
       "21203              Skip Hop Bento Diaper Tote Bag, Black   \n",
       "20743  Fisher-Price Cradle 'N Swing,  My Little Snuga...   \n",
       "\n",
       "                                                  review  rating  \\\n",
       "15732  I am so HAPPY I brought this item for my 7 mon...       5   \n",
       "25554  I bought this seat for my tall (38in) and thin...       5   \n",
       "24286  [I got this stroller for my daughter prior to ...       4   \n",
       "9555   After seeing this in Parent's Magazine and rea...       5   \n",
       "18112  I bought this carrier when my daughter was abo...       5   \n",
       "17558  I absolutely love this product.  I work as a C...       5   \n",
       "21531  Great Pram Rocco!!!!!!I bought this pram from ...       5   \n",
       "30634  Graco's FastAction Jogging Stroller definitely...       5   \n",
       "24899  My husband and I assembled this Pack n' Play l...       4   \n",
       "14482  I just tried this hands free breastpump bra, a...       5   \n",
       "9125   I've purchased both the P'Kolino Little Reader...       4   \n",
       "26830  Amazing, Love, Love, Love it !!! All 5 STARS a...       5   \n",
       "33060  I love this baby monitor.  I can compare this ...       5   \n",
       "16502  I recently bought this to replace a Chicco Cor...       4   \n",
       "4140   I researched a few different seats to put in o...       4   \n",
       "11923  It's always fun to write a review on those pro...       5   \n",
       "32782  After much research I purchased an Urbo2. It's...       4   \n",
       "30076  For the price this set is unbelievable- and tr...       5   \n",
       "21203  Summary of below: It's a great bag that fits a...       5   \n",
       "20743  My husband and I cannot state enough how much ...       5   \n",
       "\n",
       "                                            review_clean  sentiment  \\\n",
       "15732  I am so HAPPY I brought this item for my 7 mon...          1   \n",
       "25554  I bought this seat for my tall (38in) and thin...          1   \n",
       "24286  [I got this stroller for my daughter prior to ...          1   \n",
       "9555   After seeing this in Parent's Magazine and rea...          1   \n",
       "18112  I bought this carrier when my daughter was abo...          1   \n",
       "17558  I absolutely love this product.  I work as a C...          1   \n",
       "21531  Great Pram Rocco!!!!!!I bought this pram from ...          1   \n",
       "30634  Graco's FastAction Jogging Stroller definitely...          1   \n",
       "24899  My husband and I assembled this Pack n' Play l...          1   \n",
       "14482  I just tried this hands free breastpump bra, a...          1   \n",
       "9125   I've purchased both the P'Kolino Little Reader...          1   \n",
       "26830  Amazing, Love, Love, Love it !!! All 5 STARS a...          1   \n",
       "33060  I love this baby monitor.  I can compare this ...          1   \n",
       "16502  I recently bought this to replace a Chicco Cor...          1   \n",
       "4140   I researched a few different seats to put in o...          1   \n",
       "11923  It's always fun to write a review on those pro...          1   \n",
       "32782  After much research I purchased an Urbo2. It's...          1   \n",
       "30076  For the price this set is unbelievable- and tr...          1   \n",
       "21203  Summary of below: It's a great bag that fits a...          1   \n",
       "20743  My husband and I cannot state enough how much ...          1   \n",
       "\n",
       "       predictions  \n",
       "15732    49.334376  \n",
       "25554    47.568990  \n",
       "24286    45.454652  \n",
       "9555     45.069776  \n",
       "18112    44.744202  \n",
       "17558    44.122034  \n",
       "21531    43.600869  \n",
       "30634    42.283704  \n",
       "24899    41.413444  \n",
       "14482    40.793042  \n",
       "9125     40.400854  \n",
       "26830    40.078497  \n",
       "33060    39.248003  \n",
       "16502    37.735554  \n",
       "4140     37.304793  \n",
       "11923    37.144340  \n",
       "32782    37.100355  \n",
       "30076    36.754498  \n",
       "21203    36.698088  \n",
       "20743    36.558511  "
      ]
     },
     "execution_count": 225,
     "metadata": {},
     "output_type": "execute_result"
    }
   ],
   "source": [
    "###\n",
    "### Wrong answer here, wrong products...\n",
    "###\n",
    "\n",
    "top_20 = test_data.sort_values(by='predictions', ascending=False).head(20)\n",
    "top_20"
   ]
  },
  {
   "cell_type": "code",
   "execution_count": 226,
   "metadata": {
    "collapsed": false,
    "scrolled": true
   },
   "outputs": [
    {
     "data": {
      "text/html": [
       "<div>\n",
       "<table border=\"1\" class=\"dataframe\">\n",
       "  <thead>\n",
       "    <tr style=\"text-align: right;\">\n",
       "      <th></th>\n",
       "      <th>name</th>\n",
       "      <th>review</th>\n",
       "      <th>rating</th>\n",
       "      <th>review_clean</th>\n",
       "      <th>sentiment</th>\n",
       "      <th>predictions</th>\n",
       "    </tr>\n",
       "  </thead>\n",
       "  <tbody>\n",
       "    <tr>\n",
       "      <th>28184</th>\n",
       "      <td>VTech Communications Safe &amp;amp; Sounds Full Co...</td>\n",
       "      <td>This is my second video monitoring system, the...</td>\n",
       "      <td>1</td>\n",
       "      <td>This is my second video monitoring system, the...</td>\n",
       "      <td>-1</td>\n",
       "      <td>-34.220086</td>\n",
       "    </tr>\n",
       "    <tr>\n",
       "      <th>21700</th>\n",
       "      <td>Levana Safe N'See Digital Video Baby Monitor w...</td>\n",
       "      <td>This is the first review I have ever written o...</td>\n",
       "      <td>1</td>\n",
       "      <td>This is the first review I have ever written o...</td>\n",
       "      <td>-1</td>\n",
       "      <td>-34.151447</td>\n",
       "    </tr>\n",
       "    <tr>\n",
       "      <th>17069</th>\n",
       "      <td>The First Years True Choice P400 Premium Digit...</td>\n",
       "      <td>Note: we never installed batteries in these un...</td>\n",
       "      <td>1</td>\n",
       "      <td>Note: we never installed batteries in these un...</td>\n",
       "      <td>-1</td>\n",
       "      <td>-32.732747</td>\n",
       "    </tr>\n",
       "    <tr>\n",
       "      <th>2931</th>\n",
       "      <td>Fisher-Price Ocean Wonders Aquarium Bouncer</td>\n",
       "      <td>We have not had ANY luck with Fisher-Price pro...</td>\n",
       "      <td>2</td>\n",
       "      <td>We have not had ANY luck with Fisher-Price pro...</td>\n",
       "      <td>-1</td>\n",
       "      <td>-32.507105</td>\n",
       "    </tr>\n",
       "    <tr>\n",
       "      <th>8818</th>\n",
       "      <td>Adiri BPA Free Natural Nurser Ultimate Bottle ...</td>\n",
       "      <td>I will try to write an objective review of the...</td>\n",
       "      <td>2</td>\n",
       "      <td>I will try to write an objective review of the...</td>\n",
       "      <td>-1</td>\n",
       "      <td>-29.839273</td>\n",
       "    </tr>\n",
       "    <tr>\n",
       "      <th>13939</th>\n",
       "      <td>Safety 1st Exchangeable Tip 3 in 1 Thermometer</td>\n",
       "      <td>I thought it sounded great to have different t...</td>\n",
       "      <td>1</td>\n",
       "      <td>I thought it sounded great to have different t...</td>\n",
       "      <td>-1</td>\n",
       "      <td>-25.594672</td>\n",
       "    </tr>\n",
       "    <tr>\n",
       "      <th>1810</th>\n",
       "      <td>Cosco Alpha Omega Elite Convertible Car Seat</td>\n",
       "      <td>I bought this car seat after both seeing  the ...</td>\n",
       "      <td>1</td>\n",
       "      <td>I bought this car seat after both seeing  the ...</td>\n",
       "      <td>-1</td>\n",
       "      <td>-24.368690</td>\n",
       "    </tr>\n",
       "    <tr>\n",
       "      <th>9655</th>\n",
       "      <td>Safety 1st High-Def Digital Monitor</td>\n",
       "      <td>We bought this baby monitor to replace a diffe...</td>\n",
       "      <td>1</td>\n",
       "      <td>We bought this baby monitor to replace a diffe...</td>\n",
       "      <td>-1</td>\n",
       "      <td>-23.697124</td>\n",
       "    </tr>\n",
       "    <tr>\n",
       "      <th>20594</th>\n",
       "      <td>Motorola Digital Video Baby Monitor with Room ...</td>\n",
       "      <td>DO NOT BUY THIS BABY MONITOR!I purchased this ...</td>\n",
       "      <td>1</td>\n",
       "      <td>DO NOT BUY THIS BABY MONITOR!I purchased this ...</td>\n",
       "      <td>-1</td>\n",
       "      <td>-22.344792</td>\n",
       "    </tr>\n",
       "    <tr>\n",
       "      <th>13751</th>\n",
       "      <td>Peg-Perego Tatamia High Chair, White Latte</td>\n",
       "      <td>I can see why there are so many good reviews o...</td>\n",
       "      <td>2</td>\n",
       "      <td>I can see why there are so many good reviews o...</td>\n",
       "      <td>-1</td>\n",
       "      <td>-22.285908</td>\n",
       "    </tr>\n",
       "    <tr>\n",
       "      <th>1942</th>\n",
       "      <td>Philips AVENT Newborn Starter Set</td>\n",
       "      <td>It's 3am in the morning and needless to say, t...</td>\n",
       "      <td>1</td>\n",
       "      <td>It's 3am in the morning and needless to say, t...</td>\n",
       "      <td>-1</td>\n",
       "      <td>-22.015305</td>\n",
       "    </tr>\n",
       "    <tr>\n",
       "      <th>14711</th>\n",
       "      <td>Cloth Diaper Sprayer--styles may vary</td>\n",
       "      <td>I bought this sprayer out of desperation durin...</td>\n",
       "      <td>1</td>\n",
       "      <td>I bought this sprayer out of desperation durin...</td>\n",
       "      <td>-1</td>\n",
       "      <td>-21.554625</td>\n",
       "    </tr>\n",
       "    <tr>\n",
       "      <th>31928</th>\n",
       "      <td>Baby Trend Inertia Infant Car Seat - Horizon</td>\n",
       "      <td>I really wanted to love this seat; however, I ...</td>\n",
       "      <td>1</td>\n",
       "      <td>I really wanted to love this seat; however, I ...</td>\n",
       "      <td>-1</td>\n",
       "      <td>-20.845365</td>\n",
       "    </tr>\n",
       "    <tr>\n",
       "      <th>15062</th>\n",
       "      <td>Thirsties Hemp Inserts 2 Pack, Small 6-18 Lbs</td>\n",
       "      <td>My Experience: Babykicks Inserts failure vs RA...</td>\n",
       "      <td>5</td>\n",
       "      <td>My Experience: Babykicks Inserts failure vs RA...</td>\n",
       "      <td>1</td>\n",
       "      <td>-20.714600</td>\n",
       "    </tr>\n",
       "    <tr>\n",
       "      <th>17222</th>\n",
       "      <td>One Step Ahead Hide-Away Extra Long Bed Rail</td>\n",
       "      <td>I bought a brand new 56\" hide-away bed safety ...</td>\n",
       "      <td>1</td>\n",
       "      <td>I bought a brand new 56\" hide-away bed safety ...</td>\n",
       "      <td>-1</td>\n",
       "      <td>-20.146327</td>\n",
       "    </tr>\n",
       "    <tr>\n",
       "      <th>205</th>\n",
       "      <td>Safety 1st Deluxe 4-in-1 Bath Station</td>\n",
       "      <td>This item is junk.  I originally chose it beca...</td>\n",
       "      <td>1</td>\n",
       "      <td>This item is junk.  I originally chose it beca...</td>\n",
       "      <td>-1</td>\n",
       "      <td>-20.009671</td>\n",
       "    </tr>\n",
       "    <tr>\n",
       "      <th>28120</th>\n",
       "      <td>VTech Communications Safe &amp;amp; Sound Digital ...</td>\n",
       "      <td>First, the distance on these are no more than ...</td>\n",
       "      <td>1</td>\n",
       "      <td>First, the distance on these are no more than ...</td>\n",
       "      <td>-1</td>\n",
       "      <td>-19.991166</td>\n",
       "    </tr>\n",
       "    <tr>\n",
       "      <th>27231</th>\n",
       "      <td>NUK Cook-n-Blend Baby Food Maker</td>\n",
       "      <td>It thought this would be great. I did a lot of...</td>\n",
       "      <td>1</td>\n",
       "      <td>It thought this would be great. I did a lot of...</td>\n",
       "      <td>-1</td>\n",
       "      <td>-19.964410</td>\n",
       "    </tr>\n",
       "    <tr>\n",
       "      <th>30373</th>\n",
       "      <td>Samsung SEW-3037W Wireless Pan Tilt Video Baby...</td>\n",
       "      <td>Reviewers. You failed me!This thing worked for...</td>\n",
       "      <td>1</td>\n",
       "      <td>Reviewers. You failed me!This thing worked for...</td>\n",
       "      <td>-1</td>\n",
       "      <td>-19.945946</td>\n",
       "    </tr>\n",
       "    <tr>\n",
       "      <th>10814</th>\n",
       "      <td>Ellaroo Mei Tai Baby Carrier - Hershey</td>\n",
       "      <td>This is basically an overpriced piece of fabri...</td>\n",
       "      <td>1</td>\n",
       "      <td>This is basically an overpriced piece of fabri...</td>\n",
       "      <td>-1</td>\n",
       "      <td>-19.869774</td>\n",
       "    </tr>\n",
       "  </tbody>\n",
       "</table>\n",
       "</div>"
      ],
      "text/plain": [
       "                                                    name  \\\n",
       "28184  VTech Communications Safe &amp; Sounds Full Co...   \n",
       "21700  Levana Safe N'See Digital Video Baby Monitor w...   \n",
       "17069  The First Years True Choice P400 Premium Digit...   \n",
       "2931         Fisher-Price Ocean Wonders Aquarium Bouncer   \n",
       "8818   Adiri BPA Free Natural Nurser Ultimate Bottle ...   \n",
       "13939     Safety 1st Exchangeable Tip 3 in 1 Thermometer   \n",
       "1810        Cosco Alpha Omega Elite Convertible Car Seat   \n",
       "9655                 Safety 1st High-Def Digital Monitor   \n",
       "20594  Motorola Digital Video Baby Monitor with Room ...   \n",
       "13751         Peg-Perego Tatamia High Chair, White Latte   \n",
       "1942                   Philips AVENT Newborn Starter Set   \n",
       "14711              Cloth Diaper Sprayer--styles may vary   \n",
       "31928       Baby Trend Inertia Infant Car Seat - Horizon   \n",
       "15062      Thirsties Hemp Inserts 2 Pack, Small 6-18 Lbs   \n",
       "17222       One Step Ahead Hide-Away Extra Long Bed Rail   \n",
       "205                Safety 1st Deluxe 4-in-1 Bath Station   \n",
       "28120  VTech Communications Safe &amp; Sound Digital ...   \n",
       "27231                   NUK Cook-n-Blend Baby Food Maker   \n",
       "30373  Samsung SEW-3037W Wireless Pan Tilt Video Baby...   \n",
       "10814             Ellaroo Mei Tai Baby Carrier - Hershey   \n",
       "\n",
       "                                                  review  rating  \\\n",
       "28184  This is my second video monitoring system, the...       1   \n",
       "21700  This is the first review I have ever written o...       1   \n",
       "17069  Note: we never installed batteries in these un...       1   \n",
       "2931   We have not had ANY luck with Fisher-Price pro...       2   \n",
       "8818   I will try to write an objective review of the...       2   \n",
       "13939  I thought it sounded great to have different t...       1   \n",
       "1810   I bought this car seat after both seeing  the ...       1   \n",
       "9655   We bought this baby monitor to replace a diffe...       1   \n",
       "20594  DO NOT BUY THIS BABY MONITOR!I purchased this ...       1   \n",
       "13751  I can see why there are so many good reviews o...       2   \n",
       "1942   It's 3am in the morning and needless to say, t...       1   \n",
       "14711  I bought this sprayer out of desperation durin...       1   \n",
       "31928  I really wanted to love this seat; however, I ...       1   \n",
       "15062  My Experience: Babykicks Inserts failure vs RA...       5   \n",
       "17222  I bought a brand new 56\" hide-away bed safety ...       1   \n",
       "205    This item is junk.  I originally chose it beca...       1   \n",
       "28120  First, the distance on these are no more than ...       1   \n",
       "27231  It thought this would be great. I did a lot of...       1   \n",
       "30373  Reviewers. You failed me!This thing worked for...       1   \n",
       "10814  This is basically an overpriced piece of fabri...       1   \n",
       "\n",
       "                                            review_clean  sentiment  \\\n",
       "28184  This is my second video monitoring system, the...         -1   \n",
       "21700  This is the first review I have ever written o...         -1   \n",
       "17069  Note: we never installed batteries in these un...         -1   \n",
       "2931   We have not had ANY luck with Fisher-Price pro...         -1   \n",
       "8818   I will try to write an objective review of the...         -1   \n",
       "13939  I thought it sounded great to have different t...         -1   \n",
       "1810   I bought this car seat after both seeing  the ...         -1   \n",
       "9655   We bought this baby monitor to replace a diffe...         -1   \n",
       "20594  DO NOT BUY THIS BABY MONITOR!I purchased this ...         -1   \n",
       "13751  I can see why there are so many good reviews o...         -1   \n",
       "1942   It's 3am in the morning and needless to say, t...         -1   \n",
       "14711  I bought this sprayer out of desperation durin...         -1   \n",
       "31928  I really wanted to love this seat; however, I ...         -1   \n",
       "15062  My Experience: Babykicks Inserts failure vs RA...          1   \n",
       "17222  I bought a brand new 56\" hide-away bed safety ...         -1   \n",
       "205    This item is junk.  I originally chose it beca...         -1   \n",
       "28120  First, the distance on these are no more than ...         -1   \n",
       "27231  It thought this would be great. I did a lot of...         -1   \n",
       "30373  Reviewers. You failed me!This thing worked for...         -1   \n",
       "10814  This is basically an overpriced piece of fabri...         -1   \n",
       "\n",
       "       predictions  \n",
       "28184   -34.220086  \n",
       "21700   -34.151447  \n",
       "17069   -32.732747  \n",
       "2931    -32.507105  \n",
       "8818    -29.839273  \n",
       "13939   -25.594672  \n",
       "1810    -24.368690  \n",
       "9655    -23.697124  \n",
       "20594   -22.344792  \n",
       "13751   -22.285908  \n",
       "1942    -22.015305  \n",
       "14711   -21.554625  \n",
       "31928   -20.845365  \n",
       "15062   -20.714600  \n",
       "17222   -20.146327  \n",
       "205     -20.009671  \n",
       "28120   -19.991166  \n",
       "27231   -19.964410  \n",
       "30373   -19.945946  \n",
       "10814   -19.869774  "
      ]
     },
     "execution_count": 226,
     "metadata": {},
     "output_type": "execute_result"
    }
   ],
   "source": [
    "bottom_20 = test_data.sort_values(by='predictions', ascending=True).head(20)\n",
    "bottom_20"
   ]
  },
  {
   "cell_type": "markdown",
   "metadata": {},
   "source": [
    "# Compute accuracy of the classifier"
   ]
  },
  {
   "cell_type": "code",
   "execution_count": 227,
   "metadata": {
    "collapsed": false
   },
   "outputs": [
    {
     "data": {
      "text/plain": [
       "0.9322354211663066"
      ]
     },
     "execution_count": 227,
     "metadata": {},
     "output_type": "execute_result"
    }
   ],
   "source": [
    "total_n = len(test_data)\n",
    "tp = len(test_data[(test_data['sentiment'] == 1) & (test_data['predictions'] > 0.)])\n",
    "tn = len(test_data[(test_data['sentiment'] == -1) & (test_data['predictions'] < 0.)])\n",
    "accuracy = (tp + tn) / total_n\n",
    "accuracy"
   ]
  },
  {
   "cell_type": "markdown",
   "metadata": {},
   "source": [
    "# Learn another classifier with fewer words"
   ]
  },
  {
   "cell_type": "code",
   "execution_count": 228,
   "metadata": {
    "collapsed": true
   },
   "outputs": [],
   "source": [
    "significant_words = ['love', 'great', 'easy', 'old', 'little', 'perfect', 'loves', \n",
    "      'well', 'able', 'car', 'broke', 'less', 'even', 'waste', 'disappointed', \n",
    "      'work', 'product', 'money', 'would', 'return']"
   ]
  },
  {
   "cell_type": "code",
   "execution_count": 229,
   "metadata": {
    "collapsed": true
   },
   "outputs": [],
   "source": [
    "vectorizer_word_subset = CountVectorizer(vocabulary=significant_words) # limit to 20 words\n",
    "train_matrix_word_subset = vectorizer_word_subset.fit_transform(train_data['review_clean'])\n",
    "test_matrix_word_subset = vectorizer_word_subset.transform(test_data['review_clean'])"
   ]
  },
  {
   "cell_type": "markdown",
   "metadata": {},
   "source": [
    "# Train a logistic regression model on a subset of data"
   ]
  },
  {
   "cell_type": "code",
   "execution_count": 230,
   "metadata": {
    "collapsed": false
   },
   "outputs": [
    {
     "data": {
      "text/plain": [
       "LogisticRegression(C=1.0, class_weight=None, dual=False, fit_intercept=True,\n",
       "          intercept_scaling=1, max_iter=100, multi_class='ovr', n_jobs=-1,\n",
       "          penalty='l2', random_state=None, solver='liblinear', tol=0.0001,\n",
       "          verbose=0, warm_start=False)"
      ]
     },
     "execution_count": 230,
     "metadata": {},
     "output_type": "execute_result"
    }
   ],
   "source": [
    "simple_model = linear_model.LogisticRegression(n_jobs=-1)\n",
    "simple_model.fit(train_matrix_word_subset, train_data['sentiment'])"
   ]
  },
  {
   "cell_type": "code",
   "execution_count": 231,
   "metadata": {
    "collapsed": false
   },
   "outputs": [
    {
     "data": {
      "text/plain": [
       "array([[ 1.35643965,  0.94351803,  1.18326806,  0.08280298,  0.51454381,\n",
       "         1.50690184,  1.677632  ,  0.53008269,  0.19308984,  0.05647776,\n",
       "        -1.64216244, -0.2016549 , -0.50967924, -2.02685175, -2.35063483,\n",
       "        -0.62362975, -0.32671385, -0.86948791, -0.36323413, -2.11081145]])"
      ]
     },
     "execution_count": 231,
     "metadata": {},
     "output_type": "execute_result"
    }
   ],
   "source": [
    "simple_model.coef_"
   ]
  },
  {
   "cell_type": "code",
   "execution_count": 232,
   "metadata": {
    "collapsed": false
   },
   "outputs": [],
   "source": [
    "# number of positive coefficients\n",
    "words_evaluated = pd.DataFrame()\n",
    "words_evaluated['word'] = significant_words\n",
    "words_evaluated['coef'] = simple_model.coef_[0]"
   ]
  },
  {
   "cell_type": "code",
   "execution_count": 233,
   "metadata": {
    "collapsed": false
   },
   "outputs": [
    {
     "name": "stdout",
     "output_type": "stream",
     "text": [
      "There are 10 evaluated positive words in the simple model\n"
     ]
    },
    {
     "data": {
      "text/html": [
       "<div>\n",
       "<table border=\"1\" class=\"dataframe\">\n",
       "  <thead>\n",
       "    <tr style=\"text-align: right;\">\n",
       "      <th></th>\n",
       "      <th>word</th>\n",
       "      <th>coef</th>\n",
       "    </tr>\n",
       "  </thead>\n",
       "  <tbody>\n",
       "    <tr>\n",
       "      <th>6</th>\n",
       "      <td>loves</td>\n",
       "      <td>1.677632</td>\n",
       "    </tr>\n",
       "    <tr>\n",
       "      <th>5</th>\n",
       "      <td>perfect</td>\n",
       "      <td>1.506902</td>\n",
       "    </tr>\n",
       "    <tr>\n",
       "      <th>0</th>\n",
       "      <td>love</td>\n",
       "      <td>1.356440</td>\n",
       "    </tr>\n",
       "    <tr>\n",
       "      <th>2</th>\n",
       "      <td>easy</td>\n",
       "      <td>1.183268</td>\n",
       "    </tr>\n",
       "    <tr>\n",
       "      <th>1</th>\n",
       "      <td>great</td>\n",
       "      <td>0.943518</td>\n",
       "    </tr>\n",
       "    <tr>\n",
       "      <th>7</th>\n",
       "      <td>well</td>\n",
       "      <td>0.530083</td>\n",
       "    </tr>\n",
       "    <tr>\n",
       "      <th>4</th>\n",
       "      <td>little</td>\n",
       "      <td>0.514544</td>\n",
       "    </tr>\n",
       "    <tr>\n",
       "      <th>8</th>\n",
       "      <td>able</td>\n",
       "      <td>0.193090</td>\n",
       "    </tr>\n",
       "    <tr>\n",
       "      <th>3</th>\n",
       "      <td>old</td>\n",
       "      <td>0.082803</td>\n",
       "    </tr>\n",
       "    <tr>\n",
       "      <th>9</th>\n",
       "      <td>car</td>\n",
       "      <td>0.056478</td>\n",
       "    </tr>\n",
       "  </tbody>\n",
       "</table>\n",
       "</div>"
      ],
      "text/plain": [
       "      word      coef\n",
       "6    loves  1.677632\n",
       "5  perfect  1.506902\n",
       "0     love  1.356440\n",
       "2     easy  1.183268\n",
       "1    great  0.943518\n",
       "7     well  0.530083\n",
       "4   little  0.514544\n",
       "8     able  0.193090\n",
       "3      old  0.082803\n",
       "9      car  0.056478"
      ]
     },
     "execution_count": 233,
     "metadata": {},
     "output_type": "execute_result"
    }
   ],
   "source": [
    "print(\"There are %d evaluated positive words in the simple model\" % len(words_evaluated[words_evaluated['coef'] >= 0]))\n",
    "words_evaluated[words_evaluated['coef'] >= 0].sort_values(by='coef', ascending=False)"
   ]
  },
  {
   "cell_type": "code",
   "execution_count": 234,
   "metadata": {
    "collapsed": false
   },
   "outputs": [],
   "source": [
    "positive_words = words_evaluated[words_evaluated['coef'] >= 0].sort_values(by='coef', ascending=False)\n",
    "\n",
    "all_words_evaluated = pd.DataFrame()\n",
    "all_words_evaluated['word'] = (vectorizer.vocabulary_.keys())\n",
    "all_words_evaluated['sentiment_coef'] = sentiment_model.coef_[0]"
   ]
  },
  {
   "cell_type": "code",
   "execution_count": 235,
   "metadata": {
    "collapsed": false
   },
   "outputs": [
    {
     "data": {
      "text/html": [
       "<div>\n",
       "<table border=\"1\" class=\"dataframe\">\n",
       "  <thead>\n",
       "    <tr style=\"text-align: right;\">\n",
       "      <th></th>\n",
       "      <th>word</th>\n",
       "      <th>sentiment_coef</th>\n",
       "    </tr>\n",
       "  </thead>\n",
       "  <tbody>\n",
       "    <tr>\n",
       "      <th>2733</th>\n",
       "      <td>able</td>\n",
       "      <td>0.355083</td>\n",
       "    </tr>\n",
       "    <tr>\n",
       "      <th>3457</th>\n",
       "      <td>loves</td>\n",
       "      <td>0.055141</td>\n",
       "    </tr>\n",
       "    <tr>\n",
       "      <th>4280</th>\n",
       "      <td>love</td>\n",
       "      <td>0.019117</td>\n",
       "    </tr>\n",
       "    <tr>\n",
       "      <th>5029</th>\n",
       "      <td>car</td>\n",
       "      <td>-0.729822</td>\n",
       "    </tr>\n",
       "    <tr>\n",
       "      <th>10471</th>\n",
       "      <td>old</td>\n",
       "      <td>0.004300</td>\n",
       "    </tr>\n",
       "    <tr>\n",
       "      <th>28894</th>\n",
       "      <td>great</td>\n",
       "      <td>0.113521</td>\n",
       "    </tr>\n",
       "    <tr>\n",
       "      <th>30424</th>\n",
       "      <td>perfect</td>\n",
       "      <td>-0.001877</td>\n",
       "    </tr>\n",
       "    <tr>\n",
       "      <th>36989</th>\n",
       "      <td>little</td>\n",
       "      <td>-0.003206</td>\n",
       "    </tr>\n",
       "    <tr>\n",
       "      <th>41222</th>\n",
       "      <td>easy</td>\n",
       "      <td>0.018804</td>\n",
       "    </tr>\n",
       "    <tr>\n",
       "      <th>47268</th>\n",
       "      <td>well</td>\n",
       "      <td>-0.519584</td>\n",
       "    </tr>\n",
       "  </tbody>\n",
       "</table>\n",
       "</div>"
      ],
      "text/plain": [
       "          word  sentiment_coef\n",
       "2733      able        0.355083\n",
       "3457     loves        0.055141\n",
       "4280      love        0.019117\n",
       "5029       car       -0.729822\n",
       "10471      old        0.004300\n",
       "28894    great        0.113521\n",
       "30424  perfect       -0.001877\n",
       "36989   little       -0.003206\n",
       "41222     easy        0.018804\n",
       "47268     well       -0.519584"
      ]
     },
     "execution_count": 235,
     "metadata": {},
     "output_type": "execute_result"
    }
   ],
   "source": [
    "###\n",
    "### Wrong answer here, positive worlds in the simple model should also be positive in sentimel_model\n",
    "###\n",
    "\n",
    "all_words_evaluated[all_words_evaluated['word'].isin(positive_words['word'])]"
   ]
  },
  {
   "cell_type": "markdown",
   "metadata": {},
   "source": [
    "# Comparing models"
   ]
  },
  {
   "cell_type": "code",
   "execution_count": 236,
   "metadata": {
    "collapsed": false
   },
   "outputs": [
    {
     "data": {
      "text/plain": [
       "0.9622009354200396"
      ]
     },
     "execution_count": 236,
     "metadata": {},
     "output_type": "execute_result"
    }
   ],
   "source": [
    "train_data['sentiment'] = train_data['rating'].apply(lambda rating : +1 if rating > 3 else -1)\n",
    "train_data['predictions'] = sentiment_model.decision_function(train_matrix)\n",
    "\n",
    "total_n = len(train_data)\n",
    "tp = len(train_data[(train_data['sentiment'] == 1) & (train_data['predictions'] > 0.)])\n",
    "tn = len(train_data[(train_data['sentiment'] == -1) & (train_data['predictions'] < 0.)])\n",
    "accuracy = (tp + tn) / total_n\n",
    "accuracy"
   ]
  },
  {
   "cell_type": "code",
   "execution_count": 237,
   "metadata": {
    "collapsed": false
   },
   "outputs": [
    {
     "data": {
      "text/plain": [
       "0.8672273190621814"
      ]
     },
     "execution_count": 237,
     "metadata": {},
     "output_type": "execute_result"
    }
   ],
   "source": [
    "train_data['sentiment'] = train_data['rating'].apply(lambda rating : +1 if rating > 3 else -1)\n",
    "train_data['predictions'] = simple_model.decision_function(train_matrix_word_subset)\n",
    "\n",
    "total_n = len(train_data)\n",
    "tp = len(train_data[(train_data['sentiment'] == 1) & (train_data['predictions'] > 0.)])\n",
    "tn = len(train_data[(train_data['sentiment'] == -1) & (train_data['predictions'] < 0.)])\n",
    "accuracy = (tp + tn) / total_n\n",
    "accuracy"
   ]
  },
  {
   "cell_type": "code",
   "execution_count": 238,
   "metadata": {
    "collapsed": false
   },
   "outputs": [
    {
     "name": "stderr",
     "output_type": "stream",
     "text": [
      "/home/liangste/anaconda3/lib/python3.5/site-packages/ipykernel/__main__.py:9: UserWarning: Boolean Series key will be reindexed to match DataFrame index.\n",
      "/home/liangste/anaconda3/lib/python3.5/site-packages/ipykernel/__main__.py:10: UserWarning: Boolean Series key will be reindexed to match DataFrame index.\n"
     ]
    },
    {
     "data": {
      "text/plain": [
       "0.7310715142788576"
      ]
     },
     "execution_count": 238,
     "metadata": {},
     "output_type": "execute_result"
    }
   ],
   "source": [
    "###\n",
    "### Wrong answer here, sentiment model should still have higher accuracy\n",
    "###\n",
    "\n",
    "test_data['sentiment'] = test_data['rating'].apply(lambda rating : +1 if rating > 3 else -1)\n",
    "test_data['predictions'] = sentiment_model.decision_function(test_matrix)\n",
    "\n",
    "total_n = len(test_data)\n",
    "tp = len(test_data[(train_data['sentiment'] == 1) & (test_data['predictions'] > 0.)])\n",
    "tn = len(test_data[(train_data['sentiment'] == -1) & (test_data['predictions'] < 0.)])\n",
    "accuracy = (tp + tn) / total_n\n",
    "accuracy"
   ]
  },
  {
   "cell_type": "code",
   "execution_count": 239,
   "metadata": {
    "collapsed": false
   },
   "outputs": [
    {
     "name": "stderr",
     "output_type": "stream",
     "text": [
      "/home/liangste/anaconda3/lib/python3.5/site-packages/ipykernel/__main__.py:5: UserWarning: Boolean Series key will be reindexed to match DataFrame index.\n",
      "/home/liangste/anaconda3/lib/python3.5/site-packages/ipykernel/__main__.py:6: UserWarning: Boolean Series key will be reindexed to match DataFrame index.\n"
     ]
    },
    {
     "data": {
      "text/plain": [
       "0.7826073914086873"
      ]
     },
     "execution_count": 239,
     "metadata": {},
     "output_type": "execute_result"
    }
   ],
   "source": [
    "test_data['sentiment'] = test_data['rating'].apply(lambda rating : +1 if rating > 3 else -1)\n",
    "test_data['predictions'] = simple_model.decision_function(test_matrix_word_subset)\n",
    "\n",
    "total_n = len(test_data)\n",
    "tp = len(test_data[(train_data['sentiment'] == 1) & (test_data['predictions'] > 0.)])\n",
    "tn = len(test_data[(train_data['sentiment'] == -1) & (test_data['predictions'] < 0.)])\n",
    "accuracy = (tp + tn) / total_n\n",
    "accuracy"
   ]
  },
  {
   "cell_type": "markdown",
   "metadata": {},
   "source": [
    "# Majority Class classifier"
   ]
  },
  {
   "cell_type": "code",
   "execution_count": 240,
   "metadata": {
    "collapsed": false
   },
   "outputs": [
    {
     "data": {
      "text/plain": [
       "DummyClassifier(constant=None, random_state=None, strategy='stratified')"
      ]
     },
     "execution_count": 240,
     "metadata": {},
     "output_type": "execute_result"
    }
   ],
   "source": [
    "from sklearn import dummy\n",
    "dummy_model = dummy.DummyClassifier()\n",
    "dummy_model.fit(train_matrix, train_data['sentiment'])"
   ]
  },
  {
   "cell_type": "code",
   "execution_count": 241,
   "metadata": {
    "collapsed": false
   },
   "outputs": [
    {
     "name": "stderr",
     "output_type": "stream",
     "text": [
      "/home/liangste/anaconda3/lib/python3.5/site-packages/ipykernel/__main__.py:9: UserWarning: Boolean Series key will be reindexed to match DataFrame index.\n",
      "/home/liangste/anaconda3/lib/python3.5/site-packages/ipykernel/__main__.py:10: UserWarning: Boolean Series key will be reindexed to match DataFrame index.\n"
     ]
    },
    {
     "data": {
      "text/plain": [
       "0.7155627549796016"
      ]
     },
     "execution_count": 241,
     "metadata": {},
     "output_type": "execute_result"
    }
   ],
   "source": [
    "###\n",
    "### Wrong answer here\n",
    "###\n",
    "\n",
    "test_data['sentiment'] = test_data['rating'].apply(lambda rating : +1 if rating > 3 else -1)\n",
    "test_data['predictions'] = dummy_model.predict(test_matrix)\n",
    "\n",
    "total_n = len(test_data)\n",
    "tp = len(test_data[(train_data['sentiment'] == 1) & (test_data['predictions'] > 0.)])\n",
    "tn = len(test_data[(train_data['sentiment'] == -1) & (test_data['predictions'] < 0.)])\n",
    "accuracy = (tp + tn) / total_n\n",
    "accuracy"
   ]
  },
  {
   "cell_type": "code",
   "execution_count": null,
   "metadata": {
    "collapsed": true
   },
   "outputs": [],
   "source": []
  }
 ],
 "metadata": {
  "anaconda-cloud": {},
  "kernelspec": {
   "display_name": "Python [default]",
   "language": "python",
   "name": "python2"
  },
  "language_info": {
   "codemirror_mode": {
    "name": "ipython",
    "version": 2
   },
   "file_extension": ".py",
   "mimetype": "text/x-python",
   "name": "python",
   "nbconvert_exporter": "python",
   "pygments_lexer": "ipython2",
   "version": "2.7.12"
  }
 },
 "nbformat": 4,
 "nbformat_minor": 1
}
