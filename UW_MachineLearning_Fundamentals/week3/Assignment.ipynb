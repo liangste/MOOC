{
 "cells": [
  {
   "cell_type": "code",
   "execution_count": 71,
   "metadata": {
    "collapsed": true
   },
   "outputs": [],
   "source": [
    "selected_words = ['awesome', 'great', 'fantastic', 'amazing', 'love', 'horrible', 'bad', 'terrible', 'awful', 'wow', 'hate']"
   ]
  },
  {
   "cell_type": "code",
   "execution_count": 110,
   "metadata": {
    "collapsed": true
   },
   "outputs": [],
   "source": [
    "import graphlab\n",
    "graphlab.canvas.set_target('ipynb')"
   ]
  },
  {
   "cell_type": "code",
   "execution_count": 73,
   "metadata": {
    "collapsed": false
   },
   "outputs": [],
   "source": [
    "products = graphlab.SFrame('amazon_baby.gl/')"
   ]
  },
  {
   "cell_type": "code",
   "execution_count": 74,
   "metadata": {
    "collapsed": true
   },
   "outputs": [],
   "source": [
    "products['word_count'] = graphlab.text_analytics.count_words(products['review'])"
   ]
  },
  {
   "cell_type": "code",
   "execution_count": 75,
   "metadata": {
    "collapsed": false
   },
   "outputs": [
    {
     "data": {
      "text/html": [
       "<div style=\"max-height:1000px;max-width:1500px;overflow:auto;\"><table frame=\"box\" rules=\"cols\">\n",
       "    <tr>\n",
       "        <th style=\"padding-left: 1em; padding-right: 1em; text-align: center\">name</th>\n",
       "        <th style=\"padding-left: 1em; padding-right: 1em; text-align: center\">review</th>\n",
       "        <th style=\"padding-left: 1em; padding-right: 1em; text-align: center\">rating</th>\n",
       "        <th style=\"padding-left: 1em; padding-right: 1em; text-align: center\">word_count</th>\n",
       "    </tr>\n",
       "    <tr>\n",
       "        <td style=\"padding-left: 1em; padding-right: 1em; text-align: center; vertical-align: top\">Planetwise Flannel Wipes</td>\n",
       "        <td style=\"padding-left: 1em; padding-right: 1em; text-align: center; vertical-align: top\">These flannel wipes are<br>OK, but in my opinion ...</td>\n",
       "        <td style=\"padding-left: 1em; padding-right: 1em; text-align: center; vertical-align: top\">3.0</td>\n",
       "        <td style=\"padding-left: 1em; padding-right: 1em; text-align: center; vertical-align: top\">{'and': 5, 'stink': 1,<br>'because': 1, 'ordered': ...</td>\n",
       "    </tr>\n",
       "    <tr>\n",
       "        <td style=\"padding-left: 1em; padding-right: 1em; text-align: center; vertical-align: top\">Planetwise Wipe Pouch</td>\n",
       "        <td style=\"padding-left: 1em; padding-right: 1em; text-align: center; vertical-align: top\">it came early and was not<br>disappointed. i love ...</td>\n",
       "        <td style=\"padding-left: 1em; padding-right: 1em; text-align: center; vertical-align: top\">5.0</td>\n",
       "        <td style=\"padding-left: 1em; padding-right: 1em; text-align: center; vertical-align: top\">{'and': 3, 'love': 1,<br>'it': 2, 'highly': 1, ...</td>\n",
       "    </tr>\n",
       "    <tr>\n",
       "        <td style=\"padding-left: 1em; padding-right: 1em; text-align: center; vertical-align: top\">Annas Dream Full Quilt<br>with 2 Shams ...</td>\n",
       "        <td style=\"padding-left: 1em; padding-right: 1em; text-align: center; vertical-align: top\">Very soft and comfortable<br>and warmer than it ...</td>\n",
       "        <td style=\"padding-left: 1em; padding-right: 1em; text-align: center; vertical-align: top\">5.0</td>\n",
       "        <td style=\"padding-left: 1em; padding-right: 1em; text-align: center; vertical-align: top\">{'and': 2, 'quilt': 1,<br>'it': 1, 'comfortable': ...</td>\n",
       "    </tr>\n",
       "    <tr>\n",
       "        <td style=\"padding-left: 1em; padding-right: 1em; text-align: center; vertical-align: top\">Stop Pacifier Sucking<br>without tears with ...</td>\n",
       "        <td style=\"padding-left: 1em; padding-right: 1em; text-align: center; vertical-align: top\">This is a product well<br>worth the purchase.  I ...</td>\n",
       "        <td style=\"padding-left: 1em; padding-right: 1em; text-align: center; vertical-align: top\">5.0</td>\n",
       "        <td style=\"padding-left: 1em; padding-right: 1em; text-align: center; vertical-align: top\">{'ingenious': 1, 'and':<br>3, 'love': 2, ...</td>\n",
       "    </tr>\n",
       "    <tr>\n",
       "        <td style=\"padding-left: 1em; padding-right: 1em; text-align: center; vertical-align: top\">Stop Pacifier Sucking<br>without tears with ...</td>\n",
       "        <td style=\"padding-left: 1em; padding-right: 1em; text-align: center; vertical-align: top\">All of my kids have cried<br>non-stop when I tried to ...</td>\n",
       "        <td style=\"padding-left: 1em; padding-right: 1em; text-align: center; vertical-align: top\">5.0</td>\n",
       "        <td style=\"padding-left: 1em; padding-right: 1em; text-align: center; vertical-align: top\">{'and': 2, 'parents!!':<br>1, 'all': 2, 'puppet.': ...</td>\n",
       "    </tr>\n",
       "    <tr>\n",
       "        <td style=\"padding-left: 1em; padding-right: 1em; text-align: center; vertical-align: top\">Stop Pacifier Sucking<br>without tears with ...</td>\n",
       "        <td style=\"padding-left: 1em; padding-right: 1em; text-align: center; vertical-align: top\">When the Binky Fairy came<br>to our house, we didn't ...</td>\n",
       "        <td style=\"padding-left: 1em; padding-right: 1em; text-align: center; vertical-align: top\">5.0</td>\n",
       "        <td style=\"padding-left: 1em; padding-right: 1em; text-align: center; vertical-align: top\">{'and': 2, 'cute': 1,<br>'help': 2, 'doll': 1, ...</td>\n",
       "    </tr>\n",
       "    <tr>\n",
       "        <td style=\"padding-left: 1em; padding-right: 1em; text-align: center; vertical-align: top\">A Tale of Baby's Days<br>with Peter Rabbit ...</td>\n",
       "        <td style=\"padding-left: 1em; padding-right: 1em; text-align: center; vertical-align: top\">Lovely book, it's bound<br>tightly so you may no ...</td>\n",
       "        <td style=\"padding-left: 1em; padding-right: 1em; text-align: center; vertical-align: top\">4.0</td>\n",
       "        <td style=\"padding-left: 1em; padding-right: 1em; text-align: center; vertical-align: top\">{'shop': 1, 'be': 1,<br>'is': 1, 'it': 1, 'as': ...</td>\n",
       "    </tr>\n",
       "    <tr>\n",
       "        <td style=\"padding-left: 1em; padding-right: 1em; text-align: center; vertical-align: top\">Baby Tracker&amp;reg; - Daily<br>Childcare Journal, ...</td>\n",
       "        <td style=\"padding-left: 1em; padding-right: 1em; text-align: center; vertical-align: top\">Perfect for new parents.<br>We were able to keep ...</td>\n",
       "        <td style=\"padding-left: 1em; padding-right: 1em; text-align: center; vertical-align: top\">5.0</td>\n",
       "        <td style=\"padding-left: 1em; padding-right: 1em; text-align: center; vertical-align: top\">{'feeding,': 1, 'and': 2,<br>'all': 1, 'right': 1, ...</td>\n",
       "    </tr>\n",
       "    <tr>\n",
       "        <td style=\"padding-left: 1em; padding-right: 1em; text-align: center; vertical-align: top\">Baby Tracker&amp;reg; - Daily<br>Childcare Journal, ...</td>\n",
       "        <td style=\"padding-left: 1em; padding-right: 1em; text-align: center; vertical-align: top\">A friend of mine pinned<br>this product on Pinte ...</td>\n",
       "        <td style=\"padding-left: 1em; padding-right: 1em; text-align: center; vertical-align: top\">5.0</td>\n",
       "        <td style=\"padding-left: 1em; padding-right: 1em; text-align: center; vertical-align: top\">{'and': 1, 'help': 1,<br>'give': 1, 'is': 1, ...</td>\n",
       "    </tr>\n",
       "    <tr>\n",
       "        <td style=\"padding-left: 1em; padding-right: 1em; text-align: center; vertical-align: top\">Baby Tracker&amp;reg; - Daily<br>Childcare Journal, ...</td>\n",
       "        <td style=\"padding-left: 1em; padding-right: 1em; text-align: center; vertical-align: top\">This has been an easy way<br>for my nanny to record ...</td>\n",
       "        <td style=\"padding-left: 1em; padding-right: 1em; text-align: center; vertical-align: top\">4.0</td>\n",
       "        <td style=\"padding-left: 1em; padding-right: 1em; text-align: center; vertical-align: top\">{'journal.': 1, 'all': 1,<br>'standarad': 1, ...</td>\n",
       "    </tr>\n",
       "</table>\n",
       "[10 rows x 4 columns]<br/>\n",
       "</div>"
      ],
      "text/plain": [
       "Columns:\n",
       "\tname\tstr\n",
       "\treview\tstr\n",
       "\trating\tfloat\n",
       "\tword_count\tdict\n",
       "\n",
       "Rows: 10\n",
       "\n",
       "Data:\n",
       "+-------------------------------+-------------------------------+--------+\n",
       "|              name             |             review            | rating |\n",
       "+-------------------------------+-------------------------------+--------+\n",
       "|    Planetwise Flannel Wipes   | These flannel wipes are OK... |  3.0   |\n",
       "|     Planetwise Wipe Pouch     | it came early and was not ... |  5.0   |\n",
       "| Annas Dream Full Quilt wit... | Very soft and comfortable ... |  5.0   |\n",
       "| Stop Pacifier Sucking with... | This is a product well wor... |  5.0   |\n",
       "| Stop Pacifier Sucking with... | All of my kids have cried ... |  5.0   |\n",
       "| Stop Pacifier Sucking with... | When the Binky Fairy came ... |  5.0   |\n",
       "| A Tale of Baby's Days with... | Lovely book, it's bound ti... |  4.0   |\n",
       "| Baby Tracker&reg; - Daily ... | Perfect for new parents. W... |  5.0   |\n",
       "| Baby Tracker&reg; - Daily ... | A friend of mine pinned th... |  5.0   |\n",
       "| Baby Tracker&reg; - Daily ... | This has been an easy way ... |  4.0   |\n",
       "+-------------------------------+-------------------------------+--------+\n",
       "+-------------------------------+\n",
       "|           word_count          |\n",
       "+-------------------------------+\n",
       "| {'and': 5, 'stink': 1, 'be... |\n",
       "| {'and': 3, 'love': 1, 'it'... |\n",
       "| {'and': 2, 'quilt': 1, 'it... |\n",
       "| {'ingenious': 1, 'and': 3,... |\n",
       "| {'and': 2, 'parents!!': 1,... |\n",
       "| {'and': 2, 'cute': 1, 'hel... |\n",
       "| {'shop': 1, 'be': 1, 'is':... |\n",
       "| {'feeding,': 1, 'and': 2, ... |\n",
       "| {'and': 1, 'help': 1, 'giv... |\n",
       "| {'journal.': 1, 'all': 1, ... |\n",
       "+-------------------------------+\n",
       "[10 rows x 4 columns]"
      ]
     },
     "execution_count": 75,
     "metadata": {},
     "output_type": "execute_result"
    }
   ],
   "source": [
    "products.head()"
   ]
  },
  {
   "cell_type": "code",
   "execution_count": 76,
   "metadata": {
    "collapsed": true
   },
   "outputs": [],
   "source": [
    "products['awesome'] = 0"
   ]
  },
  {
   "cell_type": "code",
   "execution_count": 92,
   "metadata": {
    "collapsed": false
   },
   "outputs": [
    {
     "name": "stdout",
     "output_type": "stream",
     "text": [
      "awesome 2090\n",
      "great 45206\n",
      "fantastic 932\n",
      "amazing 1363\n",
      "love 42065\n",
      "horrible 734\n",
      "bad 3724\n",
      "terrible 748\n",
      "awful 383\n",
      "wow 144\n",
      "hate 1220\n"
     ]
    },
    {
     "ename": "AttributeError",
     "evalue": "'dict' object has no attribute 'sort'",
     "output_type": "error",
     "traceback": [
      "\u001b[1;31m---------------------------------------------------------------------------\u001b[0m",
      "\u001b[1;31mAttributeError\u001b[0m                            Traceback (most recent call last)",
      "\u001b[1;32m<ipython-input-92-713cb81e499b>\u001b[0m in \u001b[0;36m<module>\u001b[1;34m()\u001b[0m\n\u001b[0;32m      4\u001b[0m     \u001b[0mwords\u001b[0m\u001b[1;33m[\u001b[0m\u001b[0mword\u001b[0m\u001b[1;33m]\u001b[0m \u001b[1;33m=\u001b[0m \u001b[0mproducts\u001b[0m\u001b[1;33m[\u001b[0m\u001b[0mword\u001b[0m\u001b[1;33m]\u001b[0m\u001b[1;33m.\u001b[0m\u001b[0msum\u001b[0m\u001b[1;33m(\u001b[0m\u001b[1;33m)\u001b[0m\u001b[1;33m\u001b[0m\u001b[0m\n\u001b[0;32m      5\u001b[0m     \u001b[1;32mprint\u001b[0m \u001b[0mword\u001b[0m\u001b[1;33m,\u001b[0m \u001b[0mproducts\u001b[0m\u001b[1;33m[\u001b[0m\u001b[0mword\u001b[0m\u001b[1;33m]\u001b[0m\u001b[1;33m.\u001b[0m\u001b[0msum\u001b[0m\u001b[1;33m(\u001b[0m\u001b[1;33m)\u001b[0m\u001b[1;33m\u001b[0m\u001b[0m\n\u001b[1;32m----> 6\u001b[1;33m \u001b[0mwords\u001b[0m\u001b[1;33m.\u001b[0m\u001b[0msort\u001b[0m\u001b[1;33m(\u001b[0m\u001b[1;33m)\u001b[0m\u001b[1;33m\u001b[0m\u001b[0m\n\u001b[0m",
      "\u001b[1;31mAttributeError\u001b[0m: 'dict' object has no attribute 'sort'"
     ]
    }
   ],
   "source": [
    "words = {}\n",
    "for word in selected_words:\n",
    "    products[word] = products['word_count'].apply(lambda x : x[word] if word in x else 0L)\n",
    "    words[word] = products[word].sum()\n",
    "    print word, products[word].sum()\n"
   ]
  },
  {
   "cell_type": "code",
   "execution_count": 95,
   "metadata": {
    "collapsed": false
   },
   "outputs": [
    {
     "data": {
      "text/plain": [
       "{'amazing': 1363,\n",
       " 'awesome': 2090,\n",
       " 'awful': 383,\n",
       " 'bad': 3724,\n",
       " 'fantastic': 932,\n",
       " 'great': 45206,\n",
       " 'hate': 1220,\n",
       " 'horrible': 734,\n",
       " 'love': 42065,\n",
       " 'terrible': 748,\n",
       " 'wow': 144}"
      ]
     },
     "execution_count": 95,
     "metadata": {},
     "output_type": "execute_result"
    }
   ],
   "source": [
    "words"
   ]
  },
  {
   "cell_type": "code",
   "execution_count": 96,
   "metadata": {
    "collapsed": true
   },
   "outputs": [],
   "source": [
    "products = products[products['rating'] != 3]\n",
    "products['sentiment'] = products['rating'] >= 4"
   ]
  },
  {
   "cell_type": "code",
   "execution_count": 97,
   "metadata": {
    "collapsed": false
   },
   "outputs": [],
   "source": [
    "train_data, test_data = products.random_split(.8, seed=0)\n"
   ]
  },
  {
   "cell_type": "code",
   "execution_count": 98,
   "metadata": {
    "collapsed": false
   },
   "outputs": [
    {
     "data": {
      "text/html": [
       "<pre>Logistic regression:</pre>"
      ],
      "text/plain": [
       "Logistic regression:"
      ]
     },
     "metadata": {},
     "output_type": "display_data"
    },
    {
     "data": {
      "text/html": [
       "<pre>--------------------------------------------------------</pre>"
      ],
      "text/plain": [
       "--------------------------------------------------------"
      ]
     },
     "metadata": {},
     "output_type": "display_data"
    },
    {
     "data": {
      "text/html": [
       "<pre>Number of examples          : 133448</pre>"
      ],
      "text/plain": [
       "Number of examples          : 133448"
      ]
     },
     "metadata": {},
     "output_type": "display_data"
    },
    {
     "data": {
      "text/html": [
       "<pre>Number of classes           : 2</pre>"
      ],
      "text/plain": [
       "Number of classes           : 2"
      ]
     },
     "metadata": {},
     "output_type": "display_data"
    },
    {
     "data": {
      "text/html": [
       "<pre>Number of feature columns   : 11</pre>"
      ],
      "text/plain": [
       "Number of feature columns   : 11"
      ]
     },
     "metadata": {},
     "output_type": "display_data"
    },
    {
     "data": {
      "text/html": [
       "<pre>Number of unpacked features : 11</pre>"
      ],
      "text/plain": [
       "Number of unpacked features : 11"
      ]
     },
     "metadata": {},
     "output_type": "display_data"
    },
    {
     "data": {
      "text/html": [
       "<pre>Number of coefficients    : 12</pre>"
      ],
      "text/plain": [
       "Number of coefficients    : 12"
      ]
     },
     "metadata": {},
     "output_type": "display_data"
    },
    {
     "data": {
      "text/html": [
       "<pre>Starting Newton Method</pre>"
      ],
      "text/plain": [
       "Starting Newton Method"
      ]
     },
     "metadata": {},
     "output_type": "display_data"
    },
    {
     "data": {
      "text/html": [
       "<pre>--------------------------------------------------------</pre>"
      ],
      "text/plain": [
       "--------------------------------------------------------"
      ]
     },
     "metadata": {},
     "output_type": "display_data"
    },
    {
     "data": {
      "text/html": [
       "<pre>+-----------+----------+--------------+-------------------+---------------------+</pre>"
      ],
      "text/plain": [
       "+-----------+----------+--------------+-------------------+---------------------+"
      ]
     },
     "metadata": {},
     "output_type": "display_data"
    },
    {
     "data": {
      "text/html": [
       "<pre>| Iteration | Passes   | Elapsed Time | Training-accuracy | Validation-accuracy |</pre>"
      ],
      "text/plain": [
       "| Iteration | Passes   | Elapsed Time | Training-accuracy | Validation-accuracy |"
      ]
     },
     "metadata": {},
     "output_type": "display_data"
    },
    {
     "data": {
      "text/html": [
       "<pre>+-----------+----------+--------------+-------------------+---------------------+</pre>"
      ],
      "text/plain": [
       "+-----------+----------+--------------+-------------------+---------------------+"
      ]
     },
     "metadata": {},
     "output_type": "display_data"
    },
    {
     "data": {
      "text/html": [
       "<pre>| 1         | 2        | 0.245540     | 0.844299          | 0.842842            |</pre>"
      ],
      "text/plain": [
       "| 1         | 2        | 0.245540     | 0.844299          | 0.842842            |"
      ]
     },
     "metadata": {},
     "output_type": "display_data"
    },
    {
     "data": {
      "text/html": [
       "<pre>| 2         | 3        | 0.390028     | 0.844186          | 0.842842            |</pre>"
      ],
      "text/plain": [
       "| 2         | 3        | 0.390028     | 0.844186          | 0.842842            |"
      ]
     },
     "metadata": {},
     "output_type": "display_data"
    },
    {
     "data": {
      "text/html": [
       "<pre>| 3         | 4        | 0.532584     | 0.844276          | 0.843142            |</pre>"
      ],
      "text/plain": [
       "| 3         | 4        | 0.532584     | 0.844276          | 0.843142            |"
      ]
     },
     "metadata": {},
     "output_type": "display_data"
    },
    {
     "data": {
      "text/html": [
       "<pre>| 4         | 5        | 0.677085     | 0.844269          | 0.843142            |</pre>"
      ],
      "text/plain": [
       "| 4         | 5        | 0.677085     | 0.844269          | 0.843142            |"
      ]
     },
     "metadata": {},
     "output_type": "display_data"
    },
    {
     "data": {
      "text/html": [
       "<pre>| 5         | 6        | 0.821788     | 0.844269          | 0.843142            |</pre>"
      ],
      "text/plain": [
       "| 5         | 6        | 0.821788     | 0.844269          | 0.843142            |"
      ]
     },
     "metadata": {},
     "output_type": "display_data"
    },
    {
     "data": {
      "text/html": [
       "<pre>| 6         | 7        | 0.959501     | 0.844269          | 0.843142            |</pre>"
      ],
      "text/plain": [
       "| 6         | 7        | 0.959501     | 0.844269          | 0.843142            |"
      ]
     },
     "metadata": {},
     "output_type": "display_data"
    },
    {
     "data": {
      "text/html": [
       "<pre>+-----------+----------+--------------+-------------------+---------------------+</pre>"
      ],
      "text/plain": [
       "+-----------+----------+--------------+-------------------+---------------------+"
      ]
     },
     "metadata": {},
     "output_type": "display_data"
    },
    {
     "data": {
      "text/html": [
       "<pre>SUCCESS: Optimal solution found.</pre>"
      ],
      "text/plain": [
       "SUCCESS: Optimal solution found."
      ]
     },
     "metadata": {},
     "output_type": "display_data"
    },
    {
     "data": {
      "text/html": [
       "<pre></pre>"
      ],
      "text/plain": []
     },
     "metadata": {},
     "output_type": "display_data"
    }
   ],
   "source": [
    "selected_words_model = graphlab.logistic_classifier.create(train_data, \n",
    "                                                           target='sentiment', \n",
    "                                                           features=selected_words,\n",
    "                                                           validation_set=test_data)"
   ]
  },
  {
   "cell_type": "code",
   "execution_count": 99,
   "metadata": {
    "collapsed": false
   },
   "outputs": [
    {
     "data": {
      "text/html": [
       "<div style=\"max-height:1000px;max-width:1500px;overflow:auto;\"><table frame=\"box\" rules=\"cols\">\n",
       "    <tr>\n",
       "        <th style=\"padding-left: 1em; padding-right: 1em; text-align: center\">name</th>\n",
       "        <th style=\"padding-left: 1em; padding-right: 1em; text-align: center\">index</th>\n",
       "        <th style=\"padding-left: 1em; padding-right: 1em; text-align: center\">class</th>\n",
       "        <th style=\"padding-left: 1em; padding-right: 1em; text-align: center\">value</th>\n",
       "        <th style=\"padding-left: 1em; padding-right: 1em; text-align: center\">stderr</th>\n",
       "    </tr>\n",
       "    <tr>\n",
       "        <td style=\"padding-left: 1em; padding-right: 1em; text-align: center; vertical-align: top\">(intercept)</td>\n",
       "        <td style=\"padding-left: 1em; padding-right: 1em; text-align: center; vertical-align: top\">None</td>\n",
       "        <td style=\"padding-left: 1em; padding-right: 1em; text-align: center; vertical-align: top\">1</td>\n",
       "        <td style=\"padding-left: 1em; padding-right: 1em; text-align: center; vertical-align: top\">1.36728315229</td>\n",
       "        <td style=\"padding-left: 1em; padding-right: 1em; text-align: center; vertical-align: top\">0.00861805467824</td>\n",
       "    </tr>\n",
       "    <tr>\n",
       "        <td style=\"padding-left: 1em; padding-right: 1em; text-align: center; vertical-align: top\">awesome</td>\n",
       "        <td style=\"padding-left: 1em; padding-right: 1em; text-align: center; vertical-align: top\">None</td>\n",
       "        <td style=\"padding-left: 1em; padding-right: 1em; text-align: center; vertical-align: top\">1</td>\n",
       "        <td style=\"padding-left: 1em; padding-right: 1em; text-align: center; vertical-align: top\">1.05800888878</td>\n",
       "        <td style=\"padding-left: 1em; padding-right: 1em; text-align: center; vertical-align: top\">0.110865296265</td>\n",
       "    </tr>\n",
       "    <tr>\n",
       "        <td style=\"padding-left: 1em; padding-right: 1em; text-align: center; vertical-align: top\">great</td>\n",
       "        <td style=\"padding-left: 1em; padding-right: 1em; text-align: center; vertical-align: top\">None</td>\n",
       "        <td style=\"padding-left: 1em; padding-right: 1em; text-align: center; vertical-align: top\">1</td>\n",
       "        <td style=\"padding-left: 1em; padding-right: 1em; text-align: center; vertical-align: top\">0.883937894898</td>\n",
       "        <td style=\"padding-left: 1em; padding-right: 1em; text-align: center; vertical-align: top\">0.0217379527921</td>\n",
       "    </tr>\n",
       "    <tr>\n",
       "        <td style=\"padding-left: 1em; padding-right: 1em; text-align: center; vertical-align: top\">fantastic</td>\n",
       "        <td style=\"padding-left: 1em; padding-right: 1em; text-align: center; vertical-align: top\">None</td>\n",
       "        <td style=\"padding-left: 1em; padding-right: 1em; text-align: center; vertical-align: top\">1</td>\n",
       "        <td style=\"padding-left: 1em; padding-right: 1em; text-align: center; vertical-align: top\">0.891303090304</td>\n",
       "        <td style=\"padding-left: 1em; padding-right: 1em; text-align: center; vertical-align: top\">0.154532343591</td>\n",
       "    </tr>\n",
       "    <tr>\n",
       "        <td style=\"padding-left: 1em; padding-right: 1em; text-align: center; vertical-align: top\">amazing</td>\n",
       "        <td style=\"padding-left: 1em; padding-right: 1em; text-align: center; vertical-align: top\">None</td>\n",
       "        <td style=\"padding-left: 1em; padding-right: 1em; text-align: center; vertical-align: top\">1</td>\n",
       "        <td style=\"padding-left: 1em; padding-right: 1em; text-align: center; vertical-align: top\">0.892802422508</td>\n",
       "        <td style=\"padding-left: 1em; padding-right: 1em; text-align: center; vertical-align: top\">0.127989503231</td>\n",
       "    </tr>\n",
       "    <tr>\n",
       "        <td style=\"padding-left: 1em; padding-right: 1em; text-align: center; vertical-align: top\">love</td>\n",
       "        <td style=\"padding-left: 1em; padding-right: 1em; text-align: center; vertical-align: top\">None</td>\n",
       "        <td style=\"padding-left: 1em; padding-right: 1em; text-align: center; vertical-align: top\">1</td>\n",
       "        <td style=\"padding-left: 1em; padding-right: 1em; text-align: center; vertical-align: top\">1.39989834302</td>\n",
       "        <td style=\"padding-left: 1em; padding-right: 1em; text-align: center; vertical-align: top\">0.0287147460124</td>\n",
       "    </tr>\n",
       "    <tr>\n",
       "        <td style=\"padding-left: 1em; padding-right: 1em; text-align: center; vertical-align: top\">horrible</td>\n",
       "        <td style=\"padding-left: 1em; padding-right: 1em; text-align: center; vertical-align: top\">None</td>\n",
       "        <td style=\"padding-left: 1em; padding-right: 1em; text-align: center; vertical-align: top\">1</td>\n",
       "        <td style=\"padding-left: 1em; padding-right: 1em; text-align: center; vertical-align: top\">-1.99651800559</td>\n",
       "        <td style=\"padding-left: 1em; padding-right: 1em; text-align: center; vertical-align: top\">0.0973584169028</td>\n",
       "    </tr>\n",
       "    <tr>\n",
       "        <td style=\"padding-left: 1em; padding-right: 1em; text-align: center; vertical-align: top\">bad</td>\n",
       "        <td style=\"padding-left: 1em; padding-right: 1em; text-align: center; vertical-align: top\">None</td>\n",
       "        <td style=\"padding-left: 1em; padding-right: 1em; text-align: center; vertical-align: top\">1</td>\n",
       "        <td style=\"padding-left: 1em; padding-right: 1em; text-align: center; vertical-align: top\">-0.985827369929</td>\n",
       "        <td style=\"padding-left: 1em; padding-right: 1em; text-align: center; vertical-align: top\">0.0433603009142</td>\n",
       "    </tr>\n",
       "    <tr>\n",
       "        <td style=\"padding-left: 1em; padding-right: 1em; text-align: center; vertical-align: top\">terrible</td>\n",
       "        <td style=\"padding-left: 1em; padding-right: 1em; text-align: center; vertical-align: top\">None</td>\n",
       "        <td style=\"padding-left: 1em; padding-right: 1em; text-align: center; vertical-align: top\">1</td>\n",
       "        <td style=\"padding-left: 1em; padding-right: 1em; text-align: center; vertical-align: top\">-2.09049998487</td>\n",
       "        <td style=\"padding-left: 1em; padding-right: 1em; text-align: center; vertical-align: top\">0.0967241912229</td>\n",
       "    </tr>\n",
       "    <tr>\n",
       "        <td style=\"padding-left: 1em; padding-right: 1em; text-align: center; vertical-align: top\">awful</td>\n",
       "        <td style=\"padding-left: 1em; padding-right: 1em; text-align: center; vertical-align: top\">None</td>\n",
       "        <td style=\"padding-left: 1em; padding-right: 1em; text-align: center; vertical-align: top\">1</td>\n",
       "        <td style=\"padding-left: 1em; padding-right: 1em; text-align: center; vertical-align: top\">-1.76469955631</td>\n",
       "        <td style=\"padding-left: 1em; padding-right: 1em; text-align: center; vertical-align: top\">0.134679803365</td>\n",
       "    </tr>\n",
       "</table>\n",
       "[12 rows x 5 columns]<br/>Note: Only the head of the SFrame is printed.<br/>You can use print_rows(num_rows=m, num_columns=n) to print more rows and columns.\n",
       "</div>"
      ],
      "text/plain": [
       "Columns:\n",
       "\tname\tstr\n",
       "\tindex\tstr\n",
       "\tclass\tint\n",
       "\tvalue\tfloat\n",
       "\tstderr\tfloat\n",
       "\n",
       "Rows: 12\n",
       "\n",
       "Data:\n",
       "+-------------+-------+-------+-----------------+------------------+\n",
       "|     name    | index | class |      value      |      stderr      |\n",
       "+-------------+-------+-------+-----------------+------------------+\n",
       "| (intercept) |  None |   1   |  1.36728315229  | 0.00861805467824 |\n",
       "|   awesome   |  None |   1   |  1.05800888878  |  0.110865296265  |\n",
       "|    great    |  None |   1   |  0.883937894898 | 0.0217379527921  |\n",
       "|  fantastic  |  None |   1   |  0.891303090304 |  0.154532343591  |\n",
       "|   amazing   |  None |   1   |  0.892802422508 |  0.127989503231  |\n",
       "|     love    |  None |   1   |  1.39989834302  | 0.0287147460124  |\n",
       "|   horrible  |  None |   1   |  -1.99651800559 | 0.0973584169028  |\n",
       "|     bad     |  None |   1   | -0.985827369929 | 0.0433603009142  |\n",
       "|   terrible  |  None |   1   |  -2.09049998487 | 0.0967241912229  |\n",
       "|    awful    |  None |   1   |  -1.76469955631 |  0.134679803365  |\n",
       "+-------------+-------+-------+-----------------+------------------+\n",
       "[12 rows x 5 columns]\n",
       "Note: Only the head of the SFrame is printed.\n",
       "You can use print_rows(num_rows=m, num_columns=n) to print more rows and columns."
      ]
     },
     "execution_count": 99,
     "metadata": {},
     "output_type": "execute_result"
    }
   ],
   "source": [
    "selected_words_model['coefficients']"
   ]
  },
  {
   "cell_type": "code",
   "execution_count": 100,
   "metadata": {
    "collapsed": false
   },
   "outputs": [
    {
     "data": {
      "text/html": [
       "<div style=\"max-height:1000px;max-width:1500px;overflow:auto;\"><table frame=\"box\" rules=\"cols\">\n",
       "    <tr>\n",
       "        <th style=\"padding-left: 1em; padding-right: 1em; text-align: center\">name</th>\n",
       "        <th style=\"padding-left: 1em; padding-right: 1em; text-align: center\">index</th>\n",
       "        <th style=\"padding-left: 1em; padding-right: 1em; text-align: center\">class</th>\n",
       "        <th style=\"padding-left: 1em; padding-right: 1em; text-align: center\">value</th>\n",
       "        <th style=\"padding-left: 1em; padding-right: 1em; text-align: center\">stderr</th>\n",
       "    </tr>\n",
       "    <tr>\n",
       "        <td style=\"padding-left: 1em; padding-right: 1em; text-align: center; vertical-align: top\">terrible</td>\n",
       "        <td style=\"padding-left: 1em; padding-right: 1em; text-align: center; vertical-align: top\">None</td>\n",
       "        <td style=\"padding-left: 1em; padding-right: 1em; text-align: center; vertical-align: top\">1</td>\n",
       "        <td style=\"padding-left: 1em; padding-right: 1em; text-align: center; vertical-align: top\">-2.09049998487</td>\n",
       "        <td style=\"padding-left: 1em; padding-right: 1em; text-align: center; vertical-align: top\">0.0967241912229</td>\n",
       "    </tr>\n",
       "    <tr>\n",
       "        <td style=\"padding-left: 1em; padding-right: 1em; text-align: center; vertical-align: top\">horrible</td>\n",
       "        <td style=\"padding-left: 1em; padding-right: 1em; text-align: center; vertical-align: top\">None</td>\n",
       "        <td style=\"padding-left: 1em; padding-right: 1em; text-align: center; vertical-align: top\">1</td>\n",
       "        <td style=\"padding-left: 1em; padding-right: 1em; text-align: center; vertical-align: top\">-1.99651800559</td>\n",
       "        <td style=\"padding-left: 1em; padding-right: 1em; text-align: center; vertical-align: top\">0.0973584169028</td>\n",
       "    </tr>\n",
       "    <tr>\n",
       "        <td style=\"padding-left: 1em; padding-right: 1em; text-align: center; vertical-align: top\">awful</td>\n",
       "        <td style=\"padding-left: 1em; padding-right: 1em; text-align: center; vertical-align: top\">None</td>\n",
       "        <td style=\"padding-left: 1em; padding-right: 1em; text-align: center; vertical-align: top\">1</td>\n",
       "        <td style=\"padding-left: 1em; padding-right: 1em; text-align: center; vertical-align: top\">-1.76469955631</td>\n",
       "        <td style=\"padding-left: 1em; padding-right: 1em; text-align: center; vertical-align: top\">0.134679803365</td>\n",
       "    </tr>\n",
       "    <tr>\n",
       "        <td style=\"padding-left: 1em; padding-right: 1em; text-align: center; vertical-align: top\">hate</td>\n",
       "        <td style=\"padding-left: 1em; padding-right: 1em; text-align: center; vertical-align: top\">None</td>\n",
       "        <td style=\"padding-left: 1em; padding-right: 1em; text-align: center; vertical-align: top\">1</td>\n",
       "        <td style=\"padding-left: 1em; padding-right: 1em; text-align: center; vertical-align: top\">-1.40916406276</td>\n",
       "        <td style=\"padding-left: 1em; padding-right: 1em; text-align: center; vertical-align: top\">0.0771983993506</td>\n",
       "    </tr>\n",
       "    <tr>\n",
       "        <td style=\"padding-left: 1em; padding-right: 1em; text-align: center; vertical-align: top\">bad</td>\n",
       "        <td style=\"padding-left: 1em; padding-right: 1em; text-align: center; vertical-align: top\">None</td>\n",
       "        <td style=\"padding-left: 1em; padding-right: 1em; text-align: center; vertical-align: top\">1</td>\n",
       "        <td style=\"padding-left: 1em; padding-right: 1em; text-align: center; vertical-align: top\">-0.985827369929</td>\n",
       "        <td style=\"padding-left: 1em; padding-right: 1em; text-align: center; vertical-align: top\">0.0433603009142</td>\n",
       "    </tr>\n",
       "    <tr>\n",
       "        <td style=\"padding-left: 1em; padding-right: 1em; text-align: center; vertical-align: top\">wow</td>\n",
       "        <td style=\"padding-left: 1em; padding-right: 1em; text-align: center; vertical-align: top\">None</td>\n",
       "        <td style=\"padding-left: 1em; padding-right: 1em; text-align: center; vertical-align: top\">1</td>\n",
       "        <td style=\"padding-left: 1em; padding-right: 1em; text-align: center; vertical-align: top\">-0.0541450123333</td>\n",
       "        <td style=\"padding-left: 1em; padding-right: 1em; text-align: center; vertical-align: top\">0.275616449416</td>\n",
       "    </tr>\n",
       "    <tr>\n",
       "        <td style=\"padding-left: 1em; padding-right: 1em; text-align: center; vertical-align: top\">great</td>\n",
       "        <td style=\"padding-left: 1em; padding-right: 1em; text-align: center; vertical-align: top\">None</td>\n",
       "        <td style=\"padding-left: 1em; padding-right: 1em; text-align: center; vertical-align: top\">1</td>\n",
       "        <td style=\"padding-left: 1em; padding-right: 1em; text-align: center; vertical-align: top\">0.883937894898</td>\n",
       "        <td style=\"padding-left: 1em; padding-right: 1em; text-align: center; vertical-align: top\">0.0217379527921</td>\n",
       "    </tr>\n",
       "    <tr>\n",
       "        <td style=\"padding-left: 1em; padding-right: 1em; text-align: center; vertical-align: top\">fantastic</td>\n",
       "        <td style=\"padding-left: 1em; padding-right: 1em; text-align: center; vertical-align: top\">None</td>\n",
       "        <td style=\"padding-left: 1em; padding-right: 1em; text-align: center; vertical-align: top\">1</td>\n",
       "        <td style=\"padding-left: 1em; padding-right: 1em; text-align: center; vertical-align: top\">0.891303090304</td>\n",
       "        <td style=\"padding-left: 1em; padding-right: 1em; text-align: center; vertical-align: top\">0.154532343591</td>\n",
       "    </tr>\n",
       "    <tr>\n",
       "        <td style=\"padding-left: 1em; padding-right: 1em; text-align: center; vertical-align: top\">amazing</td>\n",
       "        <td style=\"padding-left: 1em; padding-right: 1em; text-align: center; vertical-align: top\">None</td>\n",
       "        <td style=\"padding-left: 1em; padding-right: 1em; text-align: center; vertical-align: top\">1</td>\n",
       "        <td style=\"padding-left: 1em; padding-right: 1em; text-align: center; vertical-align: top\">0.892802422508</td>\n",
       "        <td style=\"padding-left: 1em; padding-right: 1em; text-align: center; vertical-align: top\">0.127989503231</td>\n",
       "    </tr>\n",
       "    <tr>\n",
       "        <td style=\"padding-left: 1em; padding-right: 1em; text-align: center; vertical-align: top\">awesome</td>\n",
       "        <td style=\"padding-left: 1em; padding-right: 1em; text-align: center; vertical-align: top\">None</td>\n",
       "        <td style=\"padding-left: 1em; padding-right: 1em; text-align: center; vertical-align: top\">1</td>\n",
       "        <td style=\"padding-left: 1em; padding-right: 1em; text-align: center; vertical-align: top\">1.05800888878</td>\n",
       "        <td style=\"padding-left: 1em; padding-right: 1em; text-align: center; vertical-align: top\">0.110865296265</td>\n",
       "    </tr>\n",
       "</table>\n",
       "[12 rows x 5 columns]<br/>Note: Only the head of the SFrame is printed.<br/>You can use print_rows(num_rows=m, num_columns=n) to print more rows and columns.\n",
       "</div>"
      ],
      "text/plain": [
       "Columns:\n",
       "\tname\tstr\n",
       "\tindex\tstr\n",
       "\tclass\tint\n",
       "\tvalue\tfloat\n",
       "\tstderr\tfloat\n",
       "\n",
       "Rows: 12\n",
       "\n",
       "Data:\n",
       "+-----------+-------+-------+------------------+-----------------+\n",
       "|    name   | index | class |      value       |      stderr     |\n",
       "+-----------+-------+-------+------------------+-----------------+\n",
       "|  terrible |  None |   1   |  -2.09049998487  | 0.0967241912229 |\n",
       "|  horrible |  None |   1   |  -1.99651800559  | 0.0973584169028 |\n",
       "|   awful   |  None |   1   |  -1.76469955631  |  0.134679803365 |\n",
       "|    hate   |  None |   1   |  -1.40916406276  | 0.0771983993506 |\n",
       "|    bad    |  None |   1   | -0.985827369929  | 0.0433603009142 |\n",
       "|    wow    |  None |   1   | -0.0541450123333 |  0.275616449416 |\n",
       "|   great   |  None |   1   |  0.883937894898  | 0.0217379527921 |\n",
       "| fantastic |  None |   1   |  0.891303090304  |  0.154532343591 |\n",
       "|  amazing  |  None |   1   |  0.892802422508  |  0.127989503231 |\n",
       "|  awesome  |  None |   1   |  1.05800888878   |  0.110865296265 |\n",
       "+-----------+-------+-------+------------------+-----------------+\n",
       "[12 rows x 5 columns]\n",
       "Note: Only the head of the SFrame is printed.\n",
       "You can use print_rows(num_rows=m, num_columns=n) to print more rows and columns."
      ]
     },
     "execution_count": 100,
     "metadata": {},
     "output_type": "execute_result"
    }
   ],
   "source": [
    "selected_words_model['coefficients'].sort('value', ascending=True)"
   ]
  },
  {
   "cell_type": "code",
   "execution_count": 107,
   "metadata": {
    "collapsed": false
   },
   "outputs": [
    {
     "data": {
      "text/html": [
       "<div style=\"max-height:1000px;max-width:1500px;overflow:auto;\"><table frame=\"box\" rules=\"cols\">\n",
       "    <tr>\n",
       "        <th style=\"padding-left: 1em; padding-right: 1em; text-align: center\">name</th>\n",
       "        <th style=\"padding-left: 1em; padding-right: 1em; text-align: center\">index</th>\n",
       "        <th style=\"padding-left: 1em; padding-right: 1em; text-align: center\">class</th>\n",
       "        <th style=\"padding-left: 1em; padding-right: 1em; text-align: center\">value</th>\n",
       "        <th style=\"padding-left: 1em; padding-right: 1em; text-align: center\">stderr</th>\n",
       "    </tr>\n",
       "    <tr>\n",
       "        <td style=\"padding-left: 1em; padding-right: 1em; text-align: center; vertical-align: top\">love</td>\n",
       "        <td style=\"padding-left: 1em; padding-right: 1em; text-align: center; vertical-align: top\">None</td>\n",
       "        <td style=\"padding-left: 1em; padding-right: 1em; text-align: center; vertical-align: top\">1</td>\n",
       "        <td style=\"padding-left: 1em; padding-right: 1em; text-align: center; vertical-align: top\">1.39989834302</td>\n",
       "        <td style=\"padding-left: 1em; padding-right: 1em; text-align: center; vertical-align: top\">0.0287147460124</td>\n",
       "    </tr>\n",
       "    <tr>\n",
       "        <td style=\"padding-left: 1em; padding-right: 1em; text-align: center; vertical-align: top\">(intercept)</td>\n",
       "        <td style=\"padding-left: 1em; padding-right: 1em; text-align: center; vertical-align: top\">None</td>\n",
       "        <td style=\"padding-left: 1em; padding-right: 1em; text-align: center; vertical-align: top\">1</td>\n",
       "        <td style=\"padding-left: 1em; padding-right: 1em; text-align: center; vertical-align: top\">1.36728315229</td>\n",
       "        <td style=\"padding-left: 1em; padding-right: 1em; text-align: center; vertical-align: top\">0.00861805467824</td>\n",
       "    </tr>\n",
       "    <tr>\n",
       "        <td style=\"padding-left: 1em; padding-right: 1em; text-align: center; vertical-align: top\">awesome</td>\n",
       "        <td style=\"padding-left: 1em; padding-right: 1em; text-align: center; vertical-align: top\">None</td>\n",
       "        <td style=\"padding-left: 1em; padding-right: 1em; text-align: center; vertical-align: top\">1</td>\n",
       "        <td style=\"padding-left: 1em; padding-right: 1em; text-align: center; vertical-align: top\">1.05800888878</td>\n",
       "        <td style=\"padding-left: 1em; padding-right: 1em; text-align: center; vertical-align: top\">0.110865296265</td>\n",
       "    </tr>\n",
       "    <tr>\n",
       "        <td style=\"padding-left: 1em; padding-right: 1em; text-align: center; vertical-align: top\">amazing</td>\n",
       "        <td style=\"padding-left: 1em; padding-right: 1em; text-align: center; vertical-align: top\">None</td>\n",
       "        <td style=\"padding-left: 1em; padding-right: 1em; text-align: center; vertical-align: top\">1</td>\n",
       "        <td style=\"padding-left: 1em; padding-right: 1em; text-align: center; vertical-align: top\">0.892802422508</td>\n",
       "        <td style=\"padding-left: 1em; padding-right: 1em; text-align: center; vertical-align: top\">0.127989503231</td>\n",
       "    </tr>\n",
       "    <tr>\n",
       "        <td style=\"padding-left: 1em; padding-right: 1em; text-align: center; vertical-align: top\">fantastic</td>\n",
       "        <td style=\"padding-left: 1em; padding-right: 1em; text-align: center; vertical-align: top\">None</td>\n",
       "        <td style=\"padding-left: 1em; padding-right: 1em; text-align: center; vertical-align: top\">1</td>\n",
       "        <td style=\"padding-left: 1em; padding-right: 1em; text-align: center; vertical-align: top\">0.891303090304</td>\n",
       "        <td style=\"padding-left: 1em; padding-right: 1em; text-align: center; vertical-align: top\">0.154532343591</td>\n",
       "    </tr>\n",
       "    <tr>\n",
       "        <td style=\"padding-left: 1em; padding-right: 1em; text-align: center; vertical-align: top\">great</td>\n",
       "        <td style=\"padding-left: 1em; padding-right: 1em; text-align: center; vertical-align: top\">None</td>\n",
       "        <td style=\"padding-left: 1em; padding-right: 1em; text-align: center; vertical-align: top\">1</td>\n",
       "        <td style=\"padding-left: 1em; padding-right: 1em; text-align: center; vertical-align: top\">0.883937894898</td>\n",
       "        <td style=\"padding-left: 1em; padding-right: 1em; text-align: center; vertical-align: top\">0.0217379527921</td>\n",
       "    </tr>\n",
       "    <tr>\n",
       "        <td style=\"padding-left: 1em; padding-right: 1em; text-align: center; vertical-align: top\">wow</td>\n",
       "        <td style=\"padding-left: 1em; padding-right: 1em; text-align: center; vertical-align: top\">None</td>\n",
       "        <td style=\"padding-left: 1em; padding-right: 1em; text-align: center; vertical-align: top\">1</td>\n",
       "        <td style=\"padding-left: 1em; padding-right: 1em; text-align: center; vertical-align: top\">-0.0541450123333</td>\n",
       "        <td style=\"padding-left: 1em; padding-right: 1em; text-align: center; vertical-align: top\">0.275616449416</td>\n",
       "    </tr>\n",
       "    <tr>\n",
       "        <td style=\"padding-left: 1em; padding-right: 1em; text-align: center; vertical-align: top\">bad</td>\n",
       "        <td style=\"padding-left: 1em; padding-right: 1em; text-align: center; vertical-align: top\">None</td>\n",
       "        <td style=\"padding-left: 1em; padding-right: 1em; text-align: center; vertical-align: top\">1</td>\n",
       "        <td style=\"padding-left: 1em; padding-right: 1em; text-align: center; vertical-align: top\">-0.985827369929</td>\n",
       "        <td style=\"padding-left: 1em; padding-right: 1em; text-align: center; vertical-align: top\">0.0433603009142</td>\n",
       "    </tr>\n",
       "    <tr>\n",
       "        <td style=\"padding-left: 1em; padding-right: 1em; text-align: center; vertical-align: top\">hate</td>\n",
       "        <td style=\"padding-left: 1em; padding-right: 1em; text-align: center; vertical-align: top\">None</td>\n",
       "        <td style=\"padding-left: 1em; padding-right: 1em; text-align: center; vertical-align: top\">1</td>\n",
       "        <td style=\"padding-left: 1em; padding-right: 1em; text-align: center; vertical-align: top\">-1.40916406276</td>\n",
       "        <td style=\"padding-left: 1em; padding-right: 1em; text-align: center; vertical-align: top\">0.0771983993506</td>\n",
       "    </tr>\n",
       "    <tr>\n",
       "        <td style=\"padding-left: 1em; padding-right: 1em; text-align: center; vertical-align: top\">awful</td>\n",
       "        <td style=\"padding-left: 1em; padding-right: 1em; text-align: center; vertical-align: top\">None</td>\n",
       "        <td style=\"padding-left: 1em; padding-right: 1em; text-align: center; vertical-align: top\">1</td>\n",
       "        <td style=\"padding-left: 1em; padding-right: 1em; text-align: center; vertical-align: top\">-1.76469955631</td>\n",
       "        <td style=\"padding-left: 1em; padding-right: 1em; text-align: center; vertical-align: top\">0.134679803365</td>\n",
       "    </tr>\n",
       "</table>\n",
       "[12 rows x 5 columns]<br/>Note: Only the head of the SFrame is printed.<br/>You can use print_rows(num_rows=m, num_columns=n) to print more rows and columns.\n",
       "</div>"
      ],
      "text/plain": [
       "Columns:\n",
       "\tname\tstr\n",
       "\tindex\tstr\n",
       "\tclass\tint\n",
       "\tvalue\tfloat\n",
       "\tstderr\tfloat\n",
       "\n",
       "Rows: 12\n",
       "\n",
       "Data:\n",
       "+-------------+-------+-------+------------------+------------------+\n",
       "|     name    | index | class |      value       |      stderr      |\n",
       "+-------------+-------+-------+------------------+------------------+\n",
       "|     love    |  None |   1   |  1.39989834302   | 0.0287147460124  |\n",
       "| (intercept) |  None |   1   |  1.36728315229   | 0.00861805467824 |\n",
       "|   awesome   |  None |   1   |  1.05800888878   |  0.110865296265  |\n",
       "|   amazing   |  None |   1   |  0.892802422508  |  0.127989503231  |\n",
       "|  fantastic  |  None |   1   |  0.891303090304  |  0.154532343591  |\n",
       "|    great    |  None |   1   |  0.883937894898  | 0.0217379527921  |\n",
       "|     wow     |  None |   1   | -0.0541450123333 |  0.275616449416  |\n",
       "|     bad     |  None |   1   | -0.985827369929  | 0.0433603009142  |\n",
       "|     hate    |  None |   1   |  -1.40916406276  | 0.0771983993506  |\n",
       "|    awful    |  None |   1   |  -1.76469955631  |  0.134679803365  |\n",
       "+-------------+-------+-------+------------------+------------------+\n",
       "[12 rows x 5 columns]\n",
       "Note: Only the head of the SFrame is printed.\n",
       "You can use print_rows(num_rows=m, num_columns=n) to print more rows and columns."
      ]
     },
     "execution_count": 107,
     "metadata": {},
     "output_type": "execute_result"
    }
   ],
   "source": [
    "selected_words_model['coefficients'].sort('value', ascending=False)"
   ]
  },
  {
   "cell_type": "code",
   "execution_count": 101,
   "metadata": {
    "collapsed": false
   },
   "outputs": [
    {
     "data": {
      "text/plain": [
       "{'accuracy': 0.8431419649291376,\n",
       " 'auc': 0.6648096413721418,\n",
       " 'confusion_matrix': Columns:\n",
       " \ttarget_label\tint\n",
       " \tpredicted_label\tint\n",
       " \tcount\tint\n",
       " \n",
       " Rows: 4\n",
       " \n",
       " Data:\n",
       " +--------------+-----------------+-------+\n",
       " | target_label | predicted_label | count |\n",
       " +--------------+-----------------+-------+\n",
       " |      0       |        0        |  234  |\n",
       " |      1       |        0        |  130  |\n",
       " |      0       |        1        |  5094 |\n",
       " |      1       |        1        | 27846 |\n",
       " +--------------+-----------------+-------+\n",
       " [4 rows x 3 columns],\n",
       " 'f1_score': 0.914242563530107,\n",
       " 'log_loss': 0.4054747110365649,\n",
       " 'precision': 0.8453551912568306,\n",
       " 'recall': 0.9953531598513011,\n",
       " 'roc_curve': Columns:\n",
       " \tthreshold\tfloat\n",
       " \tfpr\tfloat\n",
       " \ttpr\tfloat\n",
       " \tp\tint\n",
       " \tn\tint\n",
       " \n",
       " Rows: 100001\n",
       " \n",
       " Data:\n",
       " +-----------+-----+-----+-------+------+\n",
       " | threshold | fpr | tpr |   p   |  n   |\n",
       " +-----------+-----+-----+-------+------+\n",
       " |    0.0    | 1.0 | 1.0 | 27976 | 5328 |\n",
       " |   1e-05   | 1.0 | 1.0 | 27976 | 5328 |\n",
       " |   2e-05   | 1.0 | 1.0 | 27976 | 5328 |\n",
       " |   3e-05   | 1.0 | 1.0 | 27976 | 5328 |\n",
       " |   4e-05   | 1.0 | 1.0 | 27976 | 5328 |\n",
       " |   5e-05   | 1.0 | 1.0 | 27976 | 5328 |\n",
       " |   6e-05   | 1.0 | 1.0 | 27976 | 5328 |\n",
       " |   7e-05   | 1.0 | 1.0 | 27976 | 5328 |\n",
       " |   8e-05   | 1.0 | 1.0 | 27976 | 5328 |\n",
       " |   9e-05   | 1.0 | 1.0 | 27976 | 5328 |\n",
       " +-----------+-----+-----+-------+------+\n",
       " [100001 rows x 5 columns]\n",
       " Note: Only the head of the SFrame is printed.\n",
       " You can use print_rows(num_rows=m, num_columns=n) to print more rows and columns.}"
      ]
     },
     "execution_count": 101,
     "metadata": {},
     "output_type": "execute_result"
    }
   ],
   "source": [
    "selected_words_model.evaluate(test_data)"
   ]
  },
  {
   "cell_type": "code",
   "execution_count": 112,
   "metadata": {
    "collapsed": false
   },
   "outputs": [
    {
     "data": {
      "application/javascript": [
       "$(\"head\").append($(\"<link/>\").attr({\n",
       "  rel:  \"stylesheet\",\n",
       "  type: \"text/css\",\n",
       "  href: \"//cdnjs.cloudflare.com/ajax/libs/font-awesome/4.1.0/css/font-awesome.min.css\"\n",
       "}));\n",
       "$(\"head\").append($(\"<link/>\").attr({\n",
       "  rel:  \"stylesheet\",\n",
       "  type: \"text/css\",\n",
       "  href: \"//dato.com/files/canvas/1.10.1/css/canvas.css\"\n",
       "}));\n",
       "\n",
       "            (function(){\n",
       "\n",
       "                var e = null;\n",
       "                if (typeof element == 'undefined') {\n",
       "                    var scripts = document.getElementsByTagName('script');\n",
       "                    var thisScriptTag = scripts[scripts.length-1];\n",
       "                    var parentDiv = thisScriptTag.parentNode;\n",
       "                    e = document.createElement('div');\n",
       "                    parentDiv.appendChild(e);\n",
       "                } else {\n",
       "                    e = element[0];\n",
       "                }\n",
       "\n",
       "                if (typeof requirejs !== 'undefined') {\n",
       "                    // disable load timeout; ipython_app.js is large and can take a while to load.\n",
       "                    requirejs.config({waitSeconds: 0});\n",
       "                }\n",
       "\n",
       "                require(['//dato.com/files/canvas/1.10.1/js/ipython_app.js'], function(IPythonApp){\n",
       "                    var app = new IPythonApp();\n",
       "                    app.attachView('model','Evaluation', {\"comparison\": null, \"selected_variable\": {\"comparison\": null, \"name\": [\"selected_words_model\"], \"view_file\": \"model\", \"view_component\": \"Evaluation\", \"view_params\": {\"model_type\": \"regression\", \"view\": \"Evaluation\"}, \"view_components\": [\"Summary\", \"Evaluation\", \"Comparison\"], \"model_type\": \"regression\", \"attributes\": {\"section_titles\": [\"Schema\", \"Hyperparameters\", \"Training Summary\", \"Settings\", \"Highest Positive Coefficients\", \"Lowest Negative Coefficients\"], \"sections\": [[[\"Number of coefficients\", 12], [\"Number of examples\", 133448], [\"Number of classes\", 2], [\"Number of feature columns\", 11], [\"Number of unpacked features\", 11]], [[\"L1 penalty\", 0.0], [\"L2 penalty\", 0.01]], [[\"Solver\", \"newton\"], [\"Solver iterations\", 6], [\"Solver status\", \"SUCCESS: Optimal solution found.\"], [\"Training time (sec)\", 0.9948]], [[\"Log-likelihood\", 54057.6401]], [[\"love\", 1.3999], [\"(intercept)\", 1.3673], [\"awesome\", 1.058], [\"amazing\", 0.8928], [\"fantastic\", 0.8913]], [[\"terrible\", -2.0905], [\"horrible\", -1.9965], [\"awful\", -1.7647], [\"hate\", -1.4092], [\"bad\", -0.9858]]]}, \"evaluations\": [[\"test_data\", {\"f1_score\": 0.914242563530107, \"auc\": 0.6648096413721418, \"recall\": 0.9953531598513011, \"precision\": 0.8453551912568306, \"log_loss\": 0.4054747110365649, \"roc_curve\": [{\"threshold\": 0.0, \"p\": 27976, \"fpr\": 1.0, \"tpr\": 1.0, \"n\": 5328}, {\"threshold\": 0.001, \"p\": 27976, \"fpr\": 0.9998123123123123, \"tpr\": 1.0, \"n\": 5328}, {\"threshold\": 0.002, \"p\": 27976, \"fpr\": 0.9996246246246246, \"tpr\": 1.0, \"n\": 5328}, {\"threshold\": 0.003, \"p\": 27976, \"fpr\": 0.9996246246246246, \"tpr\": 1.0, \"n\": 5328}, {\"threshold\": 0.004, \"p\": 27976, \"fpr\": 0.9994369369369369, \"tpr\": 1.0, \"n\": 5328}, {\"threshold\": 0.005, \"p\": 27976, \"fpr\": 0.9994369369369369, \"tpr\": 1.0, \"n\": 5328}, {\"threshold\": 0.006, \"p\": 27976, \"fpr\": 0.9992492492492493, \"tpr\": 1.0, \"n\": 5328}, {\"threshold\": 0.007, \"p\": 27976, \"fpr\": 0.9992492492492493, \"tpr\": 1.0, \"n\": 5328}, {\"threshold\": 0.008, \"p\": 27976, \"fpr\": 0.9992492492492493, \"tpr\": 1.0, \"n\": 5328}, {\"threshold\": 0.009, \"p\": 27976, \"fpr\": 0.9992492492492493, \"tpr\": 1.0, \"n\": 5328}, {\"threshold\": 0.01, \"p\": 27976, \"fpr\": 0.9990615615615616, \"tpr\": 1.0, \"n\": 5328}, {\"threshold\": 0.011, \"p\": 27976, \"fpr\": 0.9990615615615616, \"tpr\": 1.0, \"n\": 5328}, {\"threshold\": 0.012, \"p\": 27976, \"fpr\": 0.9990615615615616, \"tpr\": 1.0, \"n\": 5328}, {\"threshold\": 0.013, \"p\": 27976, \"fpr\": 0.9990615615615616, \"tpr\": 1.0, \"n\": 5328}, {\"threshold\": 0.014, \"p\": 27976, \"fpr\": 0.9990615615615616, \"tpr\": 1.0, \"n\": 5328}, {\"threshold\": 0.015, \"p\": 27976, \"fpr\": 0.9990615615615616, \"tpr\": 1.0, \"n\": 5328}, {\"threshold\": 0.016, \"p\": 27976, \"fpr\": 0.9990615615615616, \"tpr\": 1.0, \"n\": 5328}, {\"threshold\": 0.017, \"p\": 27976, \"fpr\": 0.9990615615615616, \"tpr\": 1.0, \"n\": 5328}, {\"threshold\": 0.018, \"p\": 27976, \"fpr\": 0.9990615615615616, \"tpr\": 1.0, \"n\": 5328}, {\"threshold\": 0.019, \"p\": 27976, \"fpr\": 0.9990615615615616, \"tpr\": 1.0, \"n\": 5328}, {\"threshold\": 0.02, \"p\": 27976, \"fpr\": 0.9988738738738738, \"tpr\": 1.0, \"n\": 5328}, {\"threshold\": 0.021, \"p\": 27976, \"fpr\": 0.9988738738738738, \"tpr\": 1.0, \"n\": 5328}, {\"threshold\": 0.022, \"p\": 27976, \"fpr\": 0.9988738738738738, \"tpr\": 1.0, \"n\": 5328}, {\"threshold\": 0.023, \"p\": 27976, \"fpr\": 0.9988738738738738, \"tpr\": 1.0, \"n\": 5328}, {\"threshold\": 0.024, \"p\": 27976, \"fpr\": 0.9988738738738738, \"tpr\": 1.0, \"n\": 5328}, {\"threshold\": 0.025, \"p\": 27976, \"fpr\": 0.9988738738738738, \"tpr\": 1.0, \"n\": 5328}, {\"threshold\": 0.026, \"p\": 27976, \"fpr\": 0.9988738738738738, \"tpr\": 1.0, \"n\": 5328}, {\"threshold\": 0.027, \"p\": 27976, \"fpr\": 0.9988738738738738, \"tpr\": 1.0, \"n\": 5328}, {\"threshold\": 0.028, \"p\": 27976, \"fpr\": 0.9988738738738738, \"tpr\": 1.0, \"n\": 5328}, {\"threshold\": 0.029, \"p\": 27976, \"fpr\": 0.9988738738738738, \"tpr\": 1.0, \"n\": 5328}, {\"threshold\": 0.03, \"p\": 27976, \"fpr\": 0.9988738738738738, \"tpr\": 1.0, \"n\": 5328}, {\"threshold\": 0.031, \"p\": 27976, \"fpr\": 0.9986861861861862, \"tpr\": 1.0, \"n\": 5328}, {\"threshold\": 0.032, \"p\": 27976, \"fpr\": 0.9986861861861862, \"tpr\": 1.0, \"n\": 5328}, {\"threshold\": 0.033, \"p\": 27976, \"fpr\": 0.9986861861861862, \"tpr\": 1.0, \"n\": 5328}, {\"threshold\": 0.034, \"p\": 27976, \"fpr\": 0.9986861861861862, \"tpr\": 1.0, \"n\": 5328}, {\"threshold\": 0.035, \"p\": 27976, \"fpr\": 0.9986861861861862, \"tpr\": 1.0, \"n\": 5328}, {\"threshold\": 0.036, \"p\": 27976, \"fpr\": 0.9986861861861862, \"tpr\": 1.0, \"n\": 5328}, {\"threshold\": 0.037, \"p\": 27976, \"fpr\": 0.9986861861861862, \"tpr\": 1.0, \"n\": 5328}, {\"threshold\": 0.038, \"p\": 27976, \"fpr\": 0.9986861861861862, \"tpr\": 1.0, \"n\": 5328}, {\"threshold\": 0.039, \"p\": 27976, \"fpr\": 0.9986861861861862, \"tpr\": 1.0, \"n\": 5328}, {\"threshold\": 0.04, \"p\": 27976, \"fpr\": 0.9986861861861862, \"tpr\": 1.0, \"n\": 5328}, {\"threshold\": 0.041, \"p\": 27976, \"fpr\": 0.9986861861861862, \"tpr\": 1.0, \"n\": 5328}, {\"threshold\": 0.042, \"p\": 27976, \"fpr\": 0.9986861861861862, \"tpr\": 1.0, \"n\": 5328}, {\"threshold\": 0.043, \"p\": 27976, \"fpr\": 0.9986861861861862, \"tpr\": 1.0, \"n\": 5328}, {\"threshold\": 0.044, \"p\": 27976, \"fpr\": 0.9986861861861862, \"tpr\": 1.0, \"n\": 5328}, {\"threshold\": 0.045, \"p\": 27976, \"fpr\": 0.9986861861861862, \"tpr\": 1.0, \"n\": 5328}, {\"threshold\": 0.046, \"p\": 27976, \"fpr\": 0.9986861861861862, \"tpr\": 1.0, \"n\": 5328}, {\"threshold\": 0.047, \"p\": 27976, \"fpr\": 0.9986861861861862, \"tpr\": 1.0, \"n\": 5328}, {\"threshold\": 0.048, \"p\": 27976, \"fpr\": 0.9986861861861862, \"tpr\": 1.0, \"n\": 5328}, {\"threshold\": 0.049, \"p\": 27976, \"fpr\": 0.9986861861861862, \"tpr\": 1.0, \"n\": 5328}, {\"threshold\": 0.05, \"p\": 27976, \"fpr\": 0.9986861861861862, \"tpr\": 1.0, \"n\": 5328}, {\"threshold\": 0.051, \"p\": 27976, \"fpr\": 0.9986861861861862, \"tpr\": 1.0, \"n\": 5328}, {\"threshold\": 0.052, \"p\": 27976, \"fpr\": 0.9986861861861862, \"tpr\": 1.0, \"n\": 5328}, {\"threshold\": 0.053, \"p\": 27976, \"fpr\": 0.9986861861861862, \"tpr\": 1.0, \"n\": 5328}, {\"threshold\": 0.054, \"p\": 27976, \"fpr\": 0.9986861861861862, \"tpr\": 1.0, \"n\": 5328}, {\"threshold\": 0.055, \"p\": 27976, \"fpr\": 0.9986861861861862, \"tpr\": 1.0, \"n\": 5328}, {\"threshold\": 0.056, \"p\": 27976, \"fpr\": 0.9986861861861862, \"tpr\": 1.0, \"n\": 5328}, {\"threshold\": 0.057, \"p\": 27976, \"fpr\": 0.9984984984984985, \"tpr\": 0.9999642550757792, \"n\": 5328}, {\"threshold\": 0.058, \"p\": 27976, \"fpr\": 0.9984984984984985, \"tpr\": 0.9999642550757792, \"n\": 5328}, {\"threshold\": 0.059, \"p\": 27976, \"fpr\": 0.9984984984984985, \"tpr\": 0.9999642550757792, \"n\": 5328}, {\"threshold\": 0.06, \"p\": 27976, \"fpr\": 0.9984984984984985, \"tpr\": 0.9999642550757792, \"n\": 5328}, {\"threshold\": 0.061, \"p\": 27976, \"fpr\": 0.9984984984984985, \"tpr\": 0.9999642550757792, \"n\": 5328}, {\"threshold\": 0.062, \"p\": 27976, \"fpr\": 0.9979354354354354, \"tpr\": 0.9999642550757792, \"n\": 5328}, {\"threshold\": 0.063, \"p\": 27976, \"fpr\": 0.9979354354354354, \"tpr\": 0.9999642550757792, \"n\": 5328}, {\"threshold\": 0.064, \"p\": 27976, \"fpr\": 0.9977477477477478, \"tpr\": 0.9999642550757792, \"n\": 5328}, {\"threshold\": 0.065, \"p\": 27976, \"fpr\": 0.9977477477477478, \"tpr\": 0.9999642550757792, \"n\": 5328}, {\"threshold\": 0.066, \"p\": 27976, \"fpr\": 0.9977477477477478, \"tpr\": 0.9999642550757792, \"n\": 5328}, {\"threshold\": 0.067, \"p\": 27976, \"fpr\": 0.9977477477477478, \"tpr\": 0.9999642550757792, \"n\": 5328}, {\"threshold\": 0.068, \"p\": 27976, \"fpr\": 0.9973723723723724, \"tpr\": 0.9999642550757792, \"n\": 5328}, {\"threshold\": 0.069, \"p\": 27976, \"fpr\": 0.9973723723723724, \"tpr\": 0.9999642550757792, \"n\": 5328}, {\"threshold\": 0.07, \"p\": 27976, \"fpr\": 0.9973723723723724, \"tpr\": 0.9999285101515585, \"n\": 5328}, {\"threshold\": 0.071, \"p\": 27976, \"fpr\": 0.9973723723723724, \"tpr\": 0.9999285101515585, \"n\": 5328}, {\"threshold\": 0.072, \"p\": 27976, \"fpr\": 0.9973723723723724, \"tpr\": 0.9999285101515585, \"n\": 5328}, {\"threshold\": 0.073, \"p\": 27976, \"fpr\": 0.9973723723723724, \"tpr\": 0.9999285101515585, \"n\": 5328}, {\"threshold\": 0.074, \"p\": 27976, \"fpr\": 0.9973723723723724, \"tpr\": 0.9999285101515585, \"n\": 5328}, {\"threshold\": 0.075, \"p\": 27976, \"fpr\": 0.9973723723723724, \"tpr\": 0.9999285101515585, \"n\": 5328}, {\"threshold\": 0.076, \"p\": 27976, \"fpr\": 0.9973723723723724, \"tpr\": 0.9999285101515585, \"n\": 5328}, {\"threshold\": 0.077, \"p\": 27976, \"fpr\": 0.9973723723723724, \"tpr\": 0.9999285101515585, \"n\": 5328}, {\"threshold\": 0.078, \"p\": 27976, \"fpr\": 0.9973723723723724, \"tpr\": 0.9999285101515585, \"n\": 5328}, {\"threshold\": 0.079, \"p\": 27976, \"fpr\": 0.9973723723723724, \"tpr\": 0.9999285101515585, \"n\": 5328}, {\"threshold\": 0.08, \"p\": 27976, \"fpr\": 0.9973723723723724, \"tpr\": 0.9999285101515585, \"n\": 5328}, {\"threshold\": 0.081, \"p\": 27976, \"fpr\": 0.9973723723723724, \"tpr\": 0.9999285101515585, \"n\": 5328}, {\"threshold\": 0.082, \"p\": 27976, \"fpr\": 0.9973723723723724, \"tpr\": 0.9999285101515585, \"n\": 5328}, {\"threshold\": 0.083, \"p\": 27976, \"fpr\": 0.9973723723723724, \"tpr\": 0.9999285101515585, \"n\": 5328}, {\"threshold\": 0.084, \"p\": 27976, \"fpr\": 0.9971846846846847, \"tpr\": 0.9998927652273377, \"n\": 5328}, {\"threshold\": 0.085, \"p\": 27976, \"fpr\": 0.9971846846846847, \"tpr\": 0.9998927652273377, \"n\": 5328}, {\"threshold\": 0.086, \"p\": 27976, \"fpr\": 0.9971846846846847, \"tpr\": 0.9998927652273377, \"n\": 5328}, {\"threshold\": 0.087, \"p\": 27976, \"fpr\": 0.9971846846846847, \"tpr\": 0.9998927652273377, \"n\": 5328}, {\"threshold\": 0.088, \"p\": 27976, \"fpr\": 0.9971846846846847, \"tpr\": 0.9998927652273377, \"n\": 5328}, {\"threshold\": 0.089, \"p\": 27976, \"fpr\": 0.9971846846846847, \"tpr\": 0.9998927652273377, \"n\": 5328}, {\"threshold\": 0.09, \"p\": 27976, \"fpr\": 0.9971846846846847, \"tpr\": 0.9998927652273377, \"n\": 5328}, {\"threshold\": 0.091, \"p\": 27976, \"fpr\": 0.9971846846846847, \"tpr\": 0.9998927652273377, \"n\": 5328}, {\"threshold\": 0.092, \"p\": 27976, \"fpr\": 0.9971846846846847, \"tpr\": 0.9998927652273377, \"n\": 5328}, {\"threshold\": 0.093, \"p\": 27976, \"fpr\": 0.9971846846846847, \"tpr\": 0.9998927652273377, \"n\": 5328}, {\"threshold\": 0.094, \"p\": 27976, \"fpr\": 0.9971846846846847, \"tpr\": 0.9998927652273377, \"n\": 5328}, {\"threshold\": 0.095, \"p\": 27976, \"fpr\": 0.9971846846846847, \"tpr\": 0.9998927652273377, \"n\": 5328}, {\"threshold\": 0.096, \"p\": 27976, \"fpr\": 0.9971846846846847, \"tpr\": 0.9998927652273377, \"n\": 5328}, {\"threshold\": 0.097, \"p\": 27976, \"fpr\": 0.9971846846846847, \"tpr\": 0.9998927652273377, \"n\": 5328}, {\"threshold\": 0.098, \"p\": 27976, \"fpr\": 0.9971846846846847, \"tpr\": 0.9998927652273377, \"n\": 5328}, {\"threshold\": 0.099, \"p\": 27976, \"fpr\": 0.9971846846846847, \"tpr\": 0.9998927652273377, \"n\": 5328}, {\"threshold\": 0.1, \"p\": 27976, \"fpr\": 0.9971846846846847, \"tpr\": 0.9998927652273377, \"n\": 5328}, {\"threshold\": 0.101, \"p\": 27976, \"fpr\": 0.9971846846846847, \"tpr\": 0.9998927652273377, \"n\": 5328}, {\"threshold\": 0.102, \"p\": 27976, \"fpr\": 0.9971846846846847, \"tpr\": 0.9998927652273377, \"n\": 5328}, {\"threshold\": 0.103, \"p\": 27976, \"fpr\": 0.9971846846846847, \"tpr\": 0.9998927652273377, \"n\": 5328}, {\"threshold\": 0.104, \"p\": 27976, \"fpr\": 0.9971846846846847, \"tpr\": 0.9998927652273377, \"n\": 5328}, {\"threshold\": 0.105, \"p\": 27976, \"fpr\": 0.9971846846846847, \"tpr\": 0.9998927652273377, \"n\": 5328}, {\"threshold\": 0.106, \"p\": 27976, \"fpr\": 0.9971846846846847, \"tpr\": 0.9998927652273377, \"n\": 5328}, {\"threshold\": 0.107, \"p\": 27976, \"fpr\": 0.9971846846846847, \"tpr\": 0.9998927652273377, \"n\": 5328}, {\"threshold\": 0.108, \"p\": 27976, \"fpr\": 0.9971846846846847, \"tpr\": 0.9998927652273377, \"n\": 5328}, {\"threshold\": 0.109, \"p\": 27976, \"fpr\": 0.9971846846846847, \"tpr\": 0.9998927652273377, \"n\": 5328}, {\"threshold\": 0.11, \"p\": 27976, \"fpr\": 0.9971846846846847, \"tpr\": 0.9998927652273377, \"n\": 5328}, {\"threshold\": 0.111, \"p\": 27976, \"fpr\": 0.9971846846846847, \"tpr\": 0.9998927652273377, \"n\": 5328}, {\"threshold\": 0.112, \"p\": 27976, \"fpr\": 0.9971846846846847, \"tpr\": 0.9998927652273377, \"n\": 5328}, {\"threshold\": 0.113, \"p\": 27976, \"fpr\": 0.9971846846846847, \"tpr\": 0.9998927652273377, \"n\": 5328}, {\"threshold\": 0.114, \"p\": 27976, \"fpr\": 0.9971846846846847, \"tpr\": 0.9998927652273377, \"n\": 5328}, {\"threshold\": 0.115, \"p\": 27976, \"fpr\": 0.9971846846846847, \"tpr\": 0.9998927652273377, \"n\": 5328}, {\"threshold\": 0.116, \"p\": 27976, \"fpr\": 0.9971846846846847, \"tpr\": 0.9998927652273377, \"n\": 5328}, {\"threshold\": 0.117, \"p\": 27976, \"fpr\": 0.9971846846846847, \"tpr\": 0.9998927652273377, \"n\": 5328}, {\"threshold\": 0.118, \"p\": 27976, \"fpr\": 0.9971846846846847, \"tpr\": 0.9998927652273377, \"n\": 5328}, {\"threshold\": 0.119, \"p\": 27976, \"fpr\": 0.9971846846846847, \"tpr\": 0.9998927652273377, \"n\": 5328}, {\"threshold\": 0.12, \"p\": 27976, \"fpr\": 0.9971846846846847, \"tpr\": 0.9998927652273377, \"n\": 5328}, {\"threshold\": 0.121, \"p\": 27976, \"fpr\": 0.9971846846846847, \"tpr\": 0.9998927652273377, \"n\": 5328}, {\"threshold\": 0.122, \"p\": 27976, \"fpr\": 0.9971846846846847, \"tpr\": 0.9998927652273377, \"n\": 5328}, {\"threshold\": 0.123, \"p\": 27976, \"fpr\": 0.9971846846846847, \"tpr\": 0.9998927652273377, \"n\": 5328}, {\"threshold\": 0.124, \"p\": 27976, \"fpr\": 0.9971846846846847, \"tpr\": 0.9998927652273377, \"n\": 5328}, {\"threshold\": 0.125, \"p\": 27976, \"fpr\": 0.9971846846846847, \"tpr\": 0.9998927652273377, \"n\": 5328}, {\"threshold\": 0.126, \"p\": 27976, \"fpr\": 0.9971846846846847, \"tpr\": 0.9998927652273377, \"n\": 5328}, {\"threshold\": 0.127, \"p\": 27976, \"fpr\": 0.9971846846846847, \"tpr\": 0.9998927652273377, \"n\": 5328}, {\"threshold\": 0.128, \"p\": 27976, \"fpr\": 0.9971846846846847, \"tpr\": 0.9998927652273377, \"n\": 5328}, {\"threshold\": 0.129, \"p\": 27976, \"fpr\": 0.9971846846846847, \"tpr\": 0.9998927652273377, \"n\": 5328}, {\"threshold\": 0.13, \"p\": 27976, \"fpr\": 0.9971846846846847, \"tpr\": 0.9998927652273377, \"n\": 5328}, {\"threshold\": 0.131, \"p\": 27976, \"fpr\": 0.9971846846846847, \"tpr\": 0.9998927652273377, \"n\": 5328}, {\"threshold\": 0.132, \"p\": 27976, \"fpr\": 0.9971846846846847, \"tpr\": 0.9998927652273377, \"n\": 5328}, {\"threshold\": 0.133, \"p\": 27976, \"fpr\": 0.9971846846846847, \"tpr\": 0.9998927652273377, \"n\": 5328}, {\"threshold\": 0.134, \"p\": 27976, \"fpr\": 0.9971846846846847, \"tpr\": 0.9998927652273377, \"n\": 5328}, {\"threshold\": 0.135, \"p\": 27976, \"fpr\": 0.9971846846846847, \"tpr\": 0.9998927652273377, \"n\": 5328}, {\"threshold\": 0.136, \"p\": 27976, \"fpr\": 0.9971846846846847, \"tpr\": 0.9998927652273377, \"n\": 5328}, {\"threshold\": 0.137, \"p\": 27976, \"fpr\": 0.9971846846846847, \"tpr\": 0.9998927652273377, \"n\": 5328}, {\"threshold\": 0.138, \"p\": 27976, \"fpr\": 0.9971846846846847, \"tpr\": 0.9998927652273377, \"n\": 5328}, {\"threshold\": 0.139, \"p\": 27976, \"fpr\": 0.9971846846846847, \"tpr\": 0.9998927652273377, \"n\": 5328}, {\"threshold\": 0.14, \"p\": 27976, \"fpr\": 0.9971846846846847, \"tpr\": 0.9998927652273377, \"n\": 5328}, {\"threshold\": 0.141, \"p\": 27976, \"fpr\": 0.9971846846846847, \"tpr\": 0.9998927652273377, \"n\": 5328}, {\"threshold\": 0.142, \"p\": 27976, \"fpr\": 0.996996996996997, \"tpr\": 0.9998927652273377, \"n\": 5328}, {\"threshold\": 0.143, \"p\": 27976, \"fpr\": 0.996996996996997, \"tpr\": 0.9998927652273377, \"n\": 5328}, {\"threshold\": 0.144, \"p\": 27976, \"fpr\": 0.996996996996997, \"tpr\": 0.9998927652273377, \"n\": 5328}, {\"threshold\": 0.145, \"p\": 27976, \"fpr\": 0.996996996996997, \"tpr\": 0.9998927652273377, \"n\": 5328}, {\"threshold\": 0.146, \"p\": 27976, \"fpr\": 0.996996996996997, \"tpr\": 0.9998927652273377, \"n\": 5328}, {\"threshold\": 0.147, \"p\": 27976, \"fpr\": 0.996996996996997, \"tpr\": 0.9998927652273377, \"n\": 5328}, {\"threshold\": 0.148, \"p\": 27976, \"fpr\": 0.996996996996997, \"tpr\": 0.9998927652273377, \"n\": 5328}, {\"threshold\": 0.149, \"p\": 27976, \"fpr\": 0.996996996996997, \"tpr\": 0.9998927652273377, \"n\": 5328}, {\"threshold\": 0.15, \"p\": 27976, \"fpr\": 0.996996996996997, \"tpr\": 0.9998927652273377, \"n\": 5328}, {\"threshold\": 0.151, \"p\": 27976, \"fpr\": 0.996996996996997, \"tpr\": 0.9998927652273377, \"n\": 5328}, {\"threshold\": 0.152, \"p\": 27976, \"fpr\": 0.996996996996997, \"tpr\": 0.9998927652273377, \"n\": 5328}, {\"threshold\": 0.153, \"p\": 27976, \"fpr\": 0.996996996996997, \"tpr\": 0.9998927652273377, \"n\": 5328}, {\"threshold\": 0.154, \"p\": 27976, \"fpr\": 0.996433933933934, \"tpr\": 0.999857020303117, \"n\": 5328}, {\"threshold\": 0.155, \"p\": 27976, \"fpr\": 0.996433933933934, \"tpr\": 0.999857020303117, \"n\": 5328}, {\"threshold\": 0.156, \"p\": 27976, \"fpr\": 0.996433933933934, \"tpr\": 0.999857020303117, \"n\": 5328}, {\"threshold\": 0.157, \"p\": 27976, \"fpr\": 0.996433933933934, \"tpr\": 0.999857020303117, \"n\": 5328}, {\"threshold\": 0.158, \"p\": 27976, \"fpr\": 0.996433933933934, \"tpr\": 0.999857020303117, \"n\": 5328}, {\"threshold\": 0.159, \"p\": 27976, \"fpr\": 0.996433933933934, \"tpr\": 0.999857020303117, \"n\": 5328}, {\"threshold\": 0.16, \"p\": 27976, \"fpr\": 0.996433933933934, \"tpr\": 0.999857020303117, \"n\": 5328}, {\"threshold\": 0.161, \"p\": 27976, \"fpr\": 0.996433933933934, \"tpr\": 0.999857020303117, \"n\": 5328}, {\"threshold\": 0.162, \"p\": 27976, \"fpr\": 0.996433933933934, \"tpr\": 0.999857020303117, \"n\": 5328}, {\"threshold\": 0.163, \"p\": 27976, \"fpr\": 0.996433933933934, \"tpr\": 0.999857020303117, \"n\": 5328}, {\"threshold\": 0.164, \"p\": 27976, \"fpr\": 0.996433933933934, \"tpr\": 0.999857020303117, \"n\": 5328}, {\"threshold\": 0.165, \"p\": 27976, \"fpr\": 0.996433933933934, \"tpr\": 0.999857020303117, \"n\": 5328}, {\"threshold\": 0.166, \"p\": 27976, \"fpr\": 0.9958708708708709, \"tpr\": 0.999857020303117, \"n\": 5328}, {\"threshold\": 0.167, \"p\": 27976, \"fpr\": 0.9958708708708709, \"tpr\": 0.999857020303117, \"n\": 5328}, {\"threshold\": 0.168, \"p\": 27976, \"fpr\": 0.9958708708708709, \"tpr\": 0.999857020303117, \"n\": 5328}, {\"threshold\": 0.169, \"p\": 27976, \"fpr\": 0.9958708708708709, \"tpr\": 0.999857020303117, \"n\": 5328}, {\"threshold\": 0.17, \"p\": 27976, \"fpr\": 0.9958708708708709, \"tpr\": 0.999857020303117, \"n\": 5328}, {\"threshold\": 0.171, \"p\": 27976, \"fpr\": 0.9958708708708709, \"tpr\": 0.999857020303117, \"n\": 5328}, {\"threshold\": 0.172, \"p\": 27976, \"fpr\": 0.9958708708708709, \"tpr\": 0.999857020303117, \"n\": 5328}, {\"threshold\": 0.173, \"p\": 27976, \"fpr\": 0.9958708708708709, \"tpr\": 0.999857020303117, \"n\": 5328}, {\"threshold\": 0.174, \"p\": 27976, \"fpr\": 0.9958708708708709, \"tpr\": 0.999857020303117, \"n\": 5328}, {\"threshold\": 0.175, \"p\": 27976, \"fpr\": 0.9958708708708709, \"tpr\": 0.999857020303117, \"n\": 5328}, {\"threshold\": 0.176, \"p\": 27976, \"fpr\": 0.9958708708708709, \"tpr\": 0.999857020303117, \"n\": 5328}, {\"threshold\": 0.177, \"p\": 27976, \"fpr\": 0.9958708708708709, \"tpr\": 0.999857020303117, \"n\": 5328}, {\"threshold\": 0.178, \"p\": 27976, \"fpr\": 0.9958708708708709, \"tpr\": 0.999857020303117, \"n\": 5328}, {\"threshold\": 0.179, \"p\": 27976, \"fpr\": 0.9958708708708709, \"tpr\": 0.999857020303117, \"n\": 5328}, {\"threshold\": 0.18, \"p\": 27976, \"fpr\": 0.9958708708708709, \"tpr\": 0.999857020303117, \"n\": 5328}, {\"threshold\": 0.181, \"p\": 27976, \"fpr\": 0.9958708708708709, \"tpr\": 0.999857020303117, \"n\": 5328}, {\"threshold\": 0.182, \"p\": 27976, \"fpr\": 0.9958708708708709, \"tpr\": 0.999857020303117, \"n\": 5328}, {\"threshold\": 0.183, \"p\": 27976, \"fpr\": 0.9958708708708709, \"tpr\": 0.999857020303117, \"n\": 5328}, {\"threshold\": 0.184, \"p\": 27976, \"fpr\": 0.9958708708708709, \"tpr\": 0.999857020303117, \"n\": 5328}, {\"threshold\": 0.185, \"p\": 27976, \"fpr\": 0.9958708708708709, \"tpr\": 0.999857020303117, \"n\": 5328}, {\"threshold\": 0.186, \"p\": 27976, \"fpr\": 0.9958708708708709, \"tpr\": 0.999857020303117, \"n\": 5328}, {\"threshold\": 0.187, \"p\": 27976, \"fpr\": 0.9958708708708709, \"tpr\": 0.999857020303117, \"n\": 5328}, {\"threshold\": 0.188, \"p\": 27976, \"fpr\": 0.9958708708708709, \"tpr\": 0.999857020303117, \"n\": 5328}, {\"threshold\": 0.189, \"p\": 27976, \"fpr\": 0.9958708708708709, \"tpr\": 0.999857020303117, \"n\": 5328}, {\"threshold\": 0.19, \"p\": 27976, \"fpr\": 0.9949324324324325, \"tpr\": 0.9998212753788962, \"n\": 5328}, {\"threshold\": 0.191, \"p\": 27976, \"fpr\": 0.9949324324324325, \"tpr\": 0.9998212753788962, \"n\": 5328}, {\"threshold\": 0.192, \"p\": 27976, \"fpr\": 0.9949324324324325, \"tpr\": 0.9998212753788962, \"n\": 5328}, {\"threshold\": 0.193, \"p\": 27976, \"fpr\": 0.9949324324324325, \"tpr\": 0.9998212753788962, \"n\": 5328}, {\"threshold\": 0.194, \"p\": 27976, \"fpr\": 0.9949324324324325, \"tpr\": 0.9998212753788962, \"n\": 5328}, {\"threshold\": 0.195, \"p\": 27976, \"fpr\": 0.9949324324324325, \"tpr\": 0.9998212753788962, \"n\": 5328}, {\"threshold\": 0.196, \"p\": 27976, \"fpr\": 0.9949324324324325, \"tpr\": 0.9997855304546754, \"n\": 5328}, {\"threshold\": 0.197, \"p\": 27976, \"fpr\": 0.9949324324324325, \"tpr\": 0.9997855304546754, \"n\": 5328}, {\"threshold\": 0.198, \"p\": 27976, \"fpr\": 0.9949324324324325, \"tpr\": 0.9997855304546754, \"n\": 5328}, {\"threshold\": 0.199, \"p\": 27976, \"fpr\": 0.9949324324324325, \"tpr\": 0.9997855304546754, \"n\": 5328}, {\"threshold\": 0.2, \"p\": 27976, \"fpr\": 0.9949324324324325, \"tpr\": 0.9997855304546754, \"n\": 5328}, {\"threshold\": 0.201, \"p\": 27976, \"fpr\": 0.9945570570570571, \"tpr\": 0.9997497855304547, \"n\": 5328}, {\"threshold\": 0.202, \"p\": 27976, \"fpr\": 0.9945570570570571, \"tpr\": 0.9997497855304547, \"n\": 5328}, {\"threshold\": 0.203, \"p\": 27976, \"fpr\": 0.9945570570570571, \"tpr\": 0.9997497855304547, \"n\": 5328}, {\"threshold\": 0.204, \"p\": 27976, \"fpr\": 0.9945570570570571, \"tpr\": 0.9997497855304547, \"n\": 5328}, {\"threshold\": 0.205, \"p\": 27976, \"fpr\": 0.9945570570570571, \"tpr\": 0.9997497855304547, \"n\": 5328}, {\"threshold\": 0.206, \"p\": 27976, \"fpr\": 0.9945570570570571, \"tpr\": 0.9997497855304547, \"n\": 5328}, {\"threshold\": 0.207, \"p\": 27976, \"fpr\": 0.9945570570570571, \"tpr\": 0.9997497855304547, \"n\": 5328}, {\"threshold\": 0.208, \"p\": 27976, \"fpr\": 0.9945570570570571, \"tpr\": 0.9997497855304547, \"n\": 5328}, {\"threshold\": 0.209, \"p\": 27976, \"fpr\": 0.9945570570570571, \"tpr\": 0.9997497855304547, \"n\": 5328}, {\"threshold\": 0.21, \"p\": 27976, \"fpr\": 0.9945570570570571, \"tpr\": 0.9997497855304547, \"n\": 5328}, {\"threshold\": 0.211, \"p\": 27976, \"fpr\": 0.9945570570570571, \"tpr\": 0.9997140406062339, \"n\": 5328}, {\"threshold\": 0.212, \"p\": 27976, \"fpr\": 0.9945570570570571, \"tpr\": 0.9997140406062339, \"n\": 5328}, {\"threshold\": 0.213, \"p\": 27976, \"fpr\": 0.9945570570570571, \"tpr\": 0.9997140406062339, \"n\": 5328}, {\"threshold\": 0.214, \"p\": 27976, \"fpr\": 0.9945570570570571, \"tpr\": 0.9997140406062339, \"n\": 5328}, {\"threshold\": 0.215, \"p\": 27976, \"fpr\": 0.9945570570570571, \"tpr\": 0.9997140406062339, \"n\": 5328}, {\"threshold\": 0.216, \"p\": 27976, \"fpr\": 0.9945570570570571, \"tpr\": 0.9997140406062339, \"n\": 5328}, {\"threshold\": 0.217, \"p\": 27976, \"fpr\": 0.9945570570570571, \"tpr\": 0.9997140406062339, \"n\": 5328}, {\"threshold\": 0.218, \"p\": 27976, \"fpr\": 0.9945570570570571, \"tpr\": 0.9996782956820132, \"n\": 5328}, {\"threshold\": 0.219, \"p\": 27976, \"fpr\": 0.9945570570570571, \"tpr\": 0.9996782956820132, \"n\": 5328}, {\"threshold\": 0.22, \"p\": 27976, \"fpr\": 0.9945570570570571, \"tpr\": 0.9996425507577924, \"n\": 5328}, {\"threshold\": 0.221, \"p\": 27976, \"fpr\": 0.9945570570570571, \"tpr\": 0.9996425507577924, \"n\": 5328}, {\"threshold\": 0.222, \"p\": 27976, \"fpr\": 0.9945570570570571, \"tpr\": 0.9996425507577924, \"n\": 5328}, {\"threshold\": 0.223, \"p\": 27976, \"fpr\": 0.9945570570570571, \"tpr\": 0.9996425507577924, \"n\": 5328}, {\"threshold\": 0.224, \"p\": 27976, \"fpr\": 0.9945570570570571, \"tpr\": 0.9996425507577924, \"n\": 5328}, {\"threshold\": 0.225, \"p\": 27976, \"fpr\": 0.9945570570570571, \"tpr\": 0.9996425507577924, \"n\": 5328}, {\"threshold\": 0.226, \"p\": 27976, \"fpr\": 0.9945570570570571, \"tpr\": 0.9996425507577924, \"n\": 5328}, {\"threshold\": 0.227, \"p\": 27976, \"fpr\": 0.9945570570570571, \"tpr\": 0.9996425507577924, \"n\": 5328}, {\"threshold\": 0.228, \"p\": 27976, \"fpr\": 0.9945570570570571, \"tpr\": 0.9996425507577924, \"n\": 5328}, {\"threshold\": 0.229, \"p\": 27976, \"fpr\": 0.9945570570570571, \"tpr\": 0.9996425507577924, \"n\": 5328}, {\"threshold\": 0.23, \"p\": 27976, \"fpr\": 0.9945570570570571, \"tpr\": 0.9996425507577924, \"n\": 5328}, {\"threshold\": 0.231, \"p\": 27976, \"fpr\": 0.9945570570570571, \"tpr\": 0.9996425507577924, \"n\": 5328}, {\"threshold\": 0.232, \"p\": 27976, \"fpr\": 0.9945570570570571, \"tpr\": 0.9996425507577924, \"n\": 5328}, {\"threshold\": 0.233, \"p\": 27976, \"fpr\": 0.9945570570570571, \"tpr\": 0.9996425507577924, \"n\": 5328}, {\"threshold\": 0.234, \"p\": 27976, \"fpr\": 0.9945570570570571, \"tpr\": 0.9996425507577924, \"n\": 5328}, {\"threshold\": 0.235, \"p\": 27976, \"fpr\": 0.9945570570570571, \"tpr\": 0.9996425507577924, \"n\": 5328}, {\"threshold\": 0.236, \"p\": 27976, \"fpr\": 0.9945570570570571, \"tpr\": 0.9996425507577924, \"n\": 5328}, {\"threshold\": 0.237, \"p\": 27976, \"fpr\": 0.9945570570570571, \"tpr\": 0.9996425507577924, \"n\": 5328}, {\"threshold\": 0.238, \"p\": 27976, \"fpr\": 0.9945570570570571, \"tpr\": 0.9996425507577924, \"n\": 5328}, {\"threshold\": 0.239, \"p\": 27976, \"fpr\": 0.9945570570570571, \"tpr\": 0.9996425507577924, \"n\": 5328}, {\"threshold\": 0.24, \"p\": 27976, \"fpr\": 0.9945570570570571, \"tpr\": 0.9996425507577924, \"n\": 5328}, {\"threshold\": 0.241, \"p\": 27976, \"fpr\": 0.9945570570570571, \"tpr\": 0.9996425507577924, \"n\": 5328}, {\"threshold\": 0.242, \"p\": 27976, \"fpr\": 0.9945570570570571, \"tpr\": 0.9996425507577924, \"n\": 5328}, {\"threshold\": 0.243, \"p\": 27976, \"fpr\": 0.9945570570570571, \"tpr\": 0.9996425507577924, \"n\": 5328}, {\"threshold\": 0.244, \"p\": 27976, \"fpr\": 0.9945570570570571, \"tpr\": 0.9996425507577924, \"n\": 5328}, {\"threshold\": 0.245, \"p\": 27976, \"fpr\": 0.9945570570570571, \"tpr\": 0.9996425507577924, \"n\": 5328}, {\"threshold\": 0.246, \"p\": 27976, \"fpr\": 0.9945570570570571, \"tpr\": 0.9996425507577924, \"n\": 5328}, {\"threshold\": 0.247, \"p\": 27976, \"fpr\": 0.9945570570570571, \"tpr\": 0.9996425507577924, \"n\": 5328}, {\"threshold\": 0.248, \"p\": 27976, \"fpr\": 0.9945570570570571, \"tpr\": 0.9996425507577924, \"n\": 5328}, {\"threshold\": 0.249, \"p\": 27976, \"fpr\": 0.9945570570570571, \"tpr\": 0.9996425507577924, \"n\": 5328}, {\"threshold\": 0.25, \"p\": 27976, \"fpr\": 0.9945570570570571, \"tpr\": 0.9996425507577924, \"n\": 5328}, {\"threshold\": 0.251, \"p\": 27976, \"fpr\": 0.9945570570570571, \"tpr\": 0.9996425507577924, \"n\": 5328}, {\"threshold\": 0.252, \"p\": 27976, \"fpr\": 0.9945570570570571, \"tpr\": 0.9996425507577924, \"n\": 5328}, {\"threshold\": 0.253, \"p\": 27976, \"fpr\": 0.9945570570570571, \"tpr\": 0.9996425507577924, \"n\": 5328}, {\"threshold\": 0.254, \"p\": 27976, \"fpr\": 0.9945570570570571, \"tpr\": 0.9996425507577924, \"n\": 5328}, {\"threshold\": 0.255, \"p\": 27976, \"fpr\": 0.9945570570570571, \"tpr\": 0.9996425507577924, \"n\": 5328}, {\"threshold\": 0.256, \"p\": 27976, \"fpr\": 0.9945570570570571, \"tpr\": 0.9996425507577924, \"n\": 5328}, {\"threshold\": 0.257, \"p\": 27976, \"fpr\": 0.9945570570570571, \"tpr\": 0.9996425507577924, \"n\": 5328}, {\"threshold\": 0.258, \"p\": 27976, \"fpr\": 0.9945570570570571, \"tpr\": 0.9996425507577924, \"n\": 5328}, {\"threshold\": 0.259, \"p\": 27976, \"fpr\": 0.9945570570570571, \"tpr\": 0.9996425507577924, \"n\": 5328}, {\"threshold\": 0.26, \"p\": 27976, \"fpr\": 0.9945570570570571, \"tpr\": 0.9996425507577924, \"n\": 5328}, {\"threshold\": 0.261, \"p\": 27976, \"fpr\": 0.9945570570570571, \"tpr\": 0.9996425507577924, \"n\": 5328}, {\"threshold\": 0.262, \"p\": 27976, \"fpr\": 0.9945570570570571, \"tpr\": 0.9996425507577924, \"n\": 5328}, {\"threshold\": 0.263, \"p\": 27976, \"fpr\": 0.9945570570570571, \"tpr\": 0.9996425507577924, \"n\": 5328}, {\"threshold\": 0.264, \"p\": 27976, \"fpr\": 0.9938063063063063, \"tpr\": 0.9996068058335716, \"n\": 5328}, {\"threshold\": 0.265, \"p\": 27976, \"fpr\": 0.9938063063063063, \"tpr\": 0.9996068058335716, \"n\": 5328}, {\"threshold\": 0.266, \"p\": 27976, \"fpr\": 0.9938063063063063, \"tpr\": 0.9996068058335716, \"n\": 5328}, {\"threshold\": 0.267, \"p\": 27976, \"fpr\": 0.9938063063063063, \"tpr\": 0.9996068058335716, \"n\": 5328}, {\"threshold\": 0.268, \"p\": 27976, \"fpr\": 0.9938063063063063, \"tpr\": 0.9996068058335716, \"n\": 5328}, {\"threshold\": 0.269, \"p\": 27976, \"fpr\": 0.9938063063063063, \"tpr\": 0.9996068058335716, \"n\": 5328}, {\"threshold\": 0.27, \"p\": 27976, \"fpr\": 0.9938063063063063, \"tpr\": 0.9996068058335716, \"n\": 5328}, {\"threshold\": 0.271, \"p\": 27976, \"fpr\": 0.9938063063063063, \"tpr\": 0.9996068058335716, \"n\": 5328}, {\"threshold\": 0.272, \"p\": 27976, \"fpr\": 0.9938063063063063, \"tpr\": 0.9996068058335716, \"n\": 5328}, {\"threshold\": 0.273, \"p\": 27976, \"fpr\": 0.9938063063063063, \"tpr\": 0.9996068058335716, \"n\": 5328}, {\"threshold\": 0.274, \"p\": 27976, \"fpr\": 0.9938063063063063, \"tpr\": 0.9996068058335716, \"n\": 5328}, {\"threshold\": 0.275, \"p\": 27976, \"fpr\": 0.9938063063063063, \"tpr\": 0.9996068058335716, \"n\": 5328}, {\"threshold\": 0.276, \"p\": 27976, \"fpr\": 0.9938063063063063, \"tpr\": 0.9996068058335716, \"n\": 5328}, {\"threshold\": 0.277, \"p\": 27976, \"fpr\": 0.9938063063063063, \"tpr\": 0.9996068058335716, \"n\": 5328}, {\"threshold\": 0.278, \"p\": 27976, \"fpr\": 0.9938063063063063, \"tpr\": 0.9996068058335716, \"n\": 5328}, {\"threshold\": 0.279, \"p\": 27976, \"fpr\": 0.9938063063063063, \"tpr\": 0.9996068058335716, \"n\": 5328}, {\"threshold\": 0.28, \"p\": 27976, \"fpr\": 0.9938063063063063, \"tpr\": 0.9996068058335716, \"n\": 5328}, {\"threshold\": 0.281, \"p\": 27976, \"fpr\": 0.9938063063063063, \"tpr\": 0.9996068058335716, \"n\": 5328}, {\"threshold\": 0.282, \"p\": 27976, \"fpr\": 0.9938063063063063, \"tpr\": 0.9996068058335716, \"n\": 5328}, {\"threshold\": 0.283, \"p\": 27976, \"fpr\": 0.9938063063063063, \"tpr\": 0.9996068058335716, \"n\": 5328}, {\"threshold\": 0.284, \"p\": 27976, \"fpr\": 0.9938063063063063, \"tpr\": 0.9996068058335716, \"n\": 5328}, {\"threshold\": 0.285, \"p\": 27976, \"fpr\": 0.9938063063063063, \"tpr\": 0.9996068058335716, \"n\": 5328}, {\"threshold\": 0.286, \"p\": 27976, \"fpr\": 0.9938063063063063, \"tpr\": 0.9996068058335716, \"n\": 5328}, {\"threshold\": 0.287, \"p\": 27976, \"fpr\": 0.9938063063063063, \"tpr\": 0.9996068058335716, \"n\": 5328}, {\"threshold\": 0.288, \"p\": 27976, \"fpr\": 0.9938063063063063, \"tpr\": 0.9996068058335716, \"n\": 5328}, {\"threshold\": 0.289, \"p\": 27976, \"fpr\": 0.9938063063063063, \"tpr\": 0.9996068058335716, \"n\": 5328}, {\"threshold\": 0.29, \"p\": 27976, \"fpr\": 0.9938063063063063, \"tpr\": 0.9996068058335716, \"n\": 5328}, {\"threshold\": 0.291, \"p\": 27976, \"fpr\": 0.9938063063063063, \"tpr\": 0.9996068058335716, \"n\": 5328}, {\"threshold\": 0.292, \"p\": 27976, \"fpr\": 0.9938063063063063, \"tpr\": 0.9996068058335716, \"n\": 5328}, {\"threshold\": 0.293, \"p\": 27976, \"fpr\": 0.9938063063063063, \"tpr\": 0.9996068058335716, \"n\": 5328}, {\"threshold\": 0.294, \"p\": 27976, \"fpr\": 0.9938063063063063, \"tpr\": 0.9996068058335716, \"n\": 5328}, {\"threshold\": 0.295, \"p\": 27976, \"fpr\": 0.9938063063063063, \"tpr\": 0.9996068058335716, \"n\": 5328}, {\"threshold\": 0.296, \"p\": 27976, \"fpr\": 0.9938063063063063, \"tpr\": 0.9996068058335716, \"n\": 5328}, {\"threshold\": 0.297, \"p\": 27976, \"fpr\": 0.9938063063063063, \"tpr\": 0.9996068058335716, \"n\": 5328}, {\"threshold\": 0.298, \"p\": 27976, \"fpr\": 0.9938063063063063, \"tpr\": 0.9996068058335716, \"n\": 5328}, {\"threshold\": 0.299, \"p\": 27976, \"fpr\": 0.9938063063063063, \"tpr\": 0.9996068058335716, \"n\": 5328}, {\"threshold\": 0.3, \"p\": 27976, \"fpr\": 0.9938063063063063, \"tpr\": 0.9996068058335716, \"n\": 5328}, {\"threshold\": 0.301, \"p\": 27976, \"fpr\": 0.9938063063063063, \"tpr\": 0.9996068058335716, \"n\": 5328}, {\"threshold\": 0.302, \"p\": 27976, \"fpr\": 0.9938063063063063, \"tpr\": 0.9996068058335716, \"n\": 5328}, {\"threshold\": 0.303, \"p\": 27976, \"fpr\": 0.9938063063063063, \"tpr\": 0.9996068058335716, \"n\": 5328}, {\"threshold\": 0.304, \"p\": 27976, \"fpr\": 0.9938063063063063, \"tpr\": 0.9996068058335716, \"n\": 5328}, {\"threshold\": 0.305, \"p\": 27976, \"fpr\": 0.9938063063063063, \"tpr\": 0.9996068058335716, \"n\": 5328}, {\"threshold\": 0.306, \"p\": 27976, \"fpr\": 0.9938063063063063, \"tpr\": 0.9996068058335716, \"n\": 5328}, {\"threshold\": 0.307, \"p\": 27976, \"fpr\": 0.9938063063063063, \"tpr\": 0.9996068058335716, \"n\": 5328}, {\"threshold\": 0.308, \"p\": 27976, \"fpr\": 0.9938063063063063, \"tpr\": 0.9996068058335716, \"n\": 5328}, {\"threshold\": 0.309, \"p\": 27976, \"fpr\": 0.9938063063063063, \"tpr\": 0.9996068058335716, \"n\": 5328}, {\"threshold\": 0.31, \"p\": 27976, \"fpr\": 0.9938063063063063, \"tpr\": 0.9996068058335716, \"n\": 5328}, {\"threshold\": 0.311, \"p\": 27976, \"fpr\": 0.9938063063063063, \"tpr\": 0.9996068058335716, \"n\": 5328}, {\"threshold\": 0.312, \"p\": 27976, \"fpr\": 0.9938063063063063, \"tpr\": 0.9996068058335716, \"n\": 5328}, {\"threshold\": 0.313, \"p\": 27976, \"fpr\": 0.9938063063063063, \"tpr\": 0.9996068058335716, \"n\": 5328}, {\"threshold\": 0.314, \"p\": 27976, \"fpr\": 0.9938063063063063, \"tpr\": 0.9996068058335716, \"n\": 5328}, {\"threshold\": 0.315, \"p\": 27976, \"fpr\": 0.9938063063063063, \"tpr\": 0.9996068058335716, \"n\": 5328}, {\"threshold\": 0.316, \"p\": 27976, \"fpr\": 0.9938063063063063, \"tpr\": 0.9996068058335716, \"n\": 5328}, {\"threshold\": 0.317, \"p\": 27976, \"fpr\": 0.9938063063063063, \"tpr\": 0.9996068058335716, \"n\": 5328}, {\"threshold\": 0.318, \"p\": 27976, \"fpr\": 0.9938063063063063, \"tpr\": 0.9996068058335716, \"n\": 5328}, {\"threshold\": 0.319, \"p\": 27976, \"fpr\": 0.9938063063063063, \"tpr\": 0.9996068058335716, \"n\": 5328}, {\"threshold\": 0.32, \"p\": 27976, \"fpr\": 0.9938063063063063, \"tpr\": 0.9996068058335716, \"n\": 5328}, {\"threshold\": 0.321, \"p\": 27976, \"fpr\": 0.9938063063063063, \"tpr\": 0.9996068058335716, \"n\": 5328}, {\"threshold\": 0.322, \"p\": 27976, \"fpr\": 0.9938063063063063, \"tpr\": 0.9996068058335716, \"n\": 5328}, {\"threshold\": 0.323, \"p\": 27976, \"fpr\": 0.9938063063063063, \"tpr\": 0.9996068058335716, \"n\": 5328}, {\"threshold\": 0.324, \"p\": 27976, \"fpr\": 0.9938063063063063, \"tpr\": 0.9996068058335716, \"n\": 5328}, {\"threshold\": 0.325, \"p\": 27976, \"fpr\": 0.9938063063063063, \"tpr\": 0.9996068058335716, \"n\": 5328}, {\"threshold\": 0.326, \"p\": 27976, \"fpr\": 0.9938063063063063, \"tpr\": 0.9996068058335716, \"n\": 5328}, {\"threshold\": 0.327, \"p\": 27976, \"fpr\": 0.9840465465465466, \"tpr\": 0.9987846725764942, \"n\": 5328}, {\"threshold\": 0.328, \"p\": 27976, \"fpr\": 0.9840465465465466, \"tpr\": 0.9987846725764942, \"n\": 5328}, {\"threshold\": 0.329, \"p\": 27976, \"fpr\": 0.9840465465465466, \"tpr\": 0.9987846725764942, \"n\": 5328}, {\"threshold\": 0.33, \"p\": 27976, \"fpr\": 0.9840465465465466, \"tpr\": 0.9987846725764942, \"n\": 5328}, {\"threshold\": 0.331, \"p\": 27976, \"fpr\": 0.9840465465465466, \"tpr\": 0.9987846725764942, \"n\": 5328}, {\"threshold\": 0.332, \"p\": 27976, \"fpr\": 0.9840465465465466, \"tpr\": 0.9987846725764942, \"n\": 5328}, {\"threshold\": 0.333, \"p\": 27976, \"fpr\": 0.9840465465465466, \"tpr\": 0.9987846725764942, \"n\": 5328}, {\"threshold\": 0.334, \"p\": 27976, \"fpr\": 0.9840465465465466, \"tpr\": 0.9987846725764942, \"n\": 5328}, {\"threshold\": 0.335, \"p\": 27976, \"fpr\": 0.9840465465465466, \"tpr\": 0.9987846725764942, \"n\": 5328}, {\"threshold\": 0.336, \"p\": 27976, \"fpr\": 0.9840465465465466, \"tpr\": 0.9987846725764942, \"n\": 5328}, {\"threshold\": 0.337, \"p\": 27976, \"fpr\": 0.9840465465465466, \"tpr\": 0.9987846725764942, \"n\": 5328}, {\"threshold\": 0.338, \"p\": 27976, \"fpr\": 0.9840465465465466, \"tpr\": 0.9987846725764942, \"n\": 5328}, {\"threshold\": 0.339, \"p\": 27976, \"fpr\": 0.9840465465465466, \"tpr\": 0.9987846725764942, \"n\": 5328}, {\"threshold\": 0.34, \"p\": 27976, \"fpr\": 0.9840465465465466, \"tpr\": 0.9987846725764942, \"n\": 5328}, {\"threshold\": 0.341, \"p\": 27976, \"fpr\": 0.9840465465465466, \"tpr\": 0.9987846725764942, \"n\": 5328}, {\"threshold\": 0.342, \"p\": 27976, \"fpr\": 0.9840465465465466, \"tpr\": 0.9987846725764942, \"n\": 5328}, {\"threshold\": 0.343, \"p\": 27976, \"fpr\": 0.9840465465465466, \"tpr\": 0.9987846725764942, \"n\": 5328}, {\"threshold\": 0.344, \"p\": 27976, \"fpr\": 0.9840465465465466, \"tpr\": 0.9987846725764942, \"n\": 5328}, {\"threshold\": 0.345, \"p\": 27976, \"fpr\": 0.9840465465465466, \"tpr\": 0.9987846725764942, \"n\": 5328}, {\"threshold\": 0.346, \"p\": 27976, \"fpr\": 0.9840465465465466, \"tpr\": 0.9987846725764942, \"n\": 5328}, {\"threshold\": 0.347, \"p\": 27976, \"fpr\": 0.9840465465465466, \"tpr\": 0.9987846725764942, \"n\": 5328}, {\"threshold\": 0.348, \"p\": 27976, \"fpr\": 0.9750375375375375, \"tpr\": 0.998069774092079, \"n\": 5328}, {\"threshold\": 0.349, \"p\": 27976, \"fpr\": 0.9750375375375375, \"tpr\": 0.998069774092079, \"n\": 5328}, {\"threshold\": 0.35, \"p\": 27976, \"fpr\": 0.9750375375375375, \"tpr\": 0.998069774092079, \"n\": 5328}, {\"threshold\": 0.351, \"p\": 27976, \"fpr\": 0.9750375375375375, \"tpr\": 0.998069774092079, \"n\": 5328}, {\"threshold\": 0.352, \"p\": 27976, \"fpr\": 0.9750375375375375, \"tpr\": 0.998069774092079, \"n\": 5328}, {\"threshold\": 0.353, \"p\": 27976, \"fpr\": 0.9750375375375375, \"tpr\": 0.998069774092079, \"n\": 5328}, {\"threshold\": 0.354, \"p\": 27976, \"fpr\": 0.972972972972973, \"tpr\": 0.997748069774092, \"n\": 5328}, {\"threshold\": 0.355, \"p\": 27976, \"fpr\": 0.972972972972973, \"tpr\": 0.997748069774092, \"n\": 5328}, {\"threshold\": 0.356, \"p\": 27976, \"fpr\": 0.972972972972973, \"tpr\": 0.997748069774092, \"n\": 5328}, {\"threshold\": 0.357, \"p\": 27976, \"fpr\": 0.972972972972973, \"tpr\": 0.997748069774092, \"n\": 5328}, {\"threshold\": 0.358, \"p\": 27976, \"fpr\": 0.972972972972973, \"tpr\": 0.997748069774092, \"n\": 5328}, {\"threshold\": 0.359, \"p\": 27976, \"fpr\": 0.972972972972973, \"tpr\": 0.997748069774092, \"n\": 5328}, {\"threshold\": 0.36, \"p\": 27976, \"fpr\": 0.972972972972973, \"tpr\": 0.997748069774092, \"n\": 5328}, {\"threshold\": 0.361, \"p\": 27976, \"fpr\": 0.972972972972973, \"tpr\": 0.997748069774092, \"n\": 5328}, {\"threshold\": 0.362, \"p\": 27976, \"fpr\": 0.9727852852852853, \"tpr\": 0.997748069774092, \"n\": 5328}, {\"threshold\": 0.363, \"p\": 27976, \"fpr\": 0.9727852852852853, \"tpr\": 0.997748069774092, \"n\": 5328}, {\"threshold\": 0.364, \"p\": 27976, \"fpr\": 0.9727852852852853, \"tpr\": 0.997748069774092, \"n\": 5328}, {\"threshold\": 0.365, \"p\": 27976, \"fpr\": 0.9727852852852853, \"tpr\": 0.997748069774092, \"n\": 5328}, {\"threshold\": 0.366, \"p\": 27976, \"fpr\": 0.9727852852852853, \"tpr\": 0.997748069774092, \"n\": 5328}, {\"threshold\": 0.367, \"p\": 27976, \"fpr\": 0.9727852852852853, \"tpr\": 0.997748069774092, \"n\": 5328}, {\"threshold\": 0.368, \"p\": 27976, \"fpr\": 0.9727852852852853, \"tpr\": 0.997748069774092, \"n\": 5328}, {\"threshold\": 0.369, \"p\": 27976, \"fpr\": 0.9727852852852853, \"tpr\": 0.997748069774092, \"n\": 5328}, {\"threshold\": 0.37, \"p\": 27976, \"fpr\": 0.9727852852852853, \"tpr\": 0.997748069774092, \"n\": 5328}, {\"threshold\": 0.371, \"p\": 27976, \"fpr\": 0.9727852852852853, \"tpr\": 0.997748069774092, \"n\": 5328}, {\"threshold\": 0.372, \"p\": 27976, \"fpr\": 0.9727852852852853, \"tpr\": 0.997748069774092, \"n\": 5328}, {\"threshold\": 0.373, \"p\": 27976, \"fpr\": 0.9727852852852853, \"tpr\": 0.997748069774092, \"n\": 5328}, {\"threshold\": 0.374, \"p\": 27976, \"fpr\": 0.9727852852852853, \"tpr\": 0.997748069774092, \"n\": 5328}, {\"threshold\": 0.375, \"p\": 27976, \"fpr\": 0.9727852852852853, \"tpr\": 0.997748069774092, \"n\": 5328}, {\"threshold\": 0.376, \"p\": 27976, \"fpr\": 0.9727852852852853, \"tpr\": 0.997748069774092, \"n\": 5328}, {\"threshold\": 0.377, \"p\": 27976, \"fpr\": 0.9727852852852853, \"tpr\": 0.997748069774092, \"n\": 5328}, {\"threshold\": 0.378, \"p\": 27976, \"fpr\": 0.9727852852852853, \"tpr\": 0.997748069774092, \"n\": 5328}, {\"threshold\": 0.379, \"p\": 27976, \"fpr\": 0.9727852852852853, \"tpr\": 0.997748069774092, \"n\": 5328}, {\"threshold\": 0.38, \"p\": 27976, \"fpr\": 0.9727852852852853, \"tpr\": 0.997748069774092, \"n\": 5328}, {\"threshold\": 0.381, \"p\": 27976, \"fpr\": 0.9727852852852853, \"tpr\": 0.997748069774092, \"n\": 5328}, {\"threshold\": 0.382, \"p\": 27976, \"fpr\": 0.9727852852852853, \"tpr\": 0.997748069774092, \"n\": 5328}, {\"threshold\": 0.383, \"p\": 27976, \"fpr\": 0.9727852852852853, \"tpr\": 0.997748069774092, \"n\": 5328}, {\"threshold\": 0.384, \"p\": 27976, \"fpr\": 0.9727852852852853, \"tpr\": 0.997748069774092, \"n\": 5328}, {\"threshold\": 0.385, \"p\": 27976, \"fpr\": 0.9727852852852853, \"tpr\": 0.997748069774092, \"n\": 5328}, {\"threshold\": 0.386, \"p\": 27976, \"fpr\": 0.9727852852852853, \"tpr\": 0.997748069774092, \"n\": 5328}, {\"threshold\": 0.387, \"p\": 27976, \"fpr\": 0.9727852852852853, \"tpr\": 0.997748069774092, \"n\": 5328}, {\"threshold\": 0.388, \"p\": 27976, \"fpr\": 0.9727852852852853, \"tpr\": 0.997748069774092, \"n\": 5328}, {\"threshold\": 0.389, \"p\": 27976, \"fpr\": 0.9727852852852853, \"tpr\": 0.997748069774092, \"n\": 5328}, {\"threshold\": 0.39, \"p\": 27976, \"fpr\": 0.9727852852852853, \"tpr\": 0.997748069774092, \"n\": 5328}, {\"threshold\": 0.391, \"p\": 27976, \"fpr\": 0.9727852852852853, \"tpr\": 0.997748069774092, \"n\": 5328}, {\"threshold\": 0.392, \"p\": 27976, \"fpr\": 0.9727852852852853, \"tpr\": 0.997748069774092, \"n\": 5328}, {\"threshold\": 0.393, \"p\": 27976, \"fpr\": 0.9727852852852853, \"tpr\": 0.997748069774092, \"n\": 5328}, {\"threshold\": 0.394, \"p\": 27976, \"fpr\": 0.9727852852852853, \"tpr\": 0.997748069774092, \"n\": 5328}, {\"threshold\": 0.395, \"p\": 27976, \"fpr\": 0.9727852852852853, \"tpr\": 0.997748069774092, \"n\": 5328}, {\"threshold\": 0.396, \"p\": 27976, \"fpr\": 0.9727852852852853, \"tpr\": 0.997748069774092, \"n\": 5328}, {\"threshold\": 0.397, \"p\": 27976, \"fpr\": 0.9727852852852853, \"tpr\": 0.997748069774092, \"n\": 5328}, {\"threshold\": 0.398, \"p\": 27976, \"fpr\": 0.9727852852852853, \"tpr\": 0.997748069774092, \"n\": 5328}, {\"threshold\": 0.399, \"p\": 27976, \"fpr\": 0.9727852852852853, \"tpr\": 0.997748069774092, \"n\": 5328}, {\"threshold\": 0.4, \"p\": 27976, \"fpr\": 0.9727852852852853, \"tpr\": 0.997748069774092, \"n\": 5328}, {\"threshold\": 0.401, \"p\": 27976, \"fpr\": 0.9727852852852853, \"tpr\": 0.997748069774092, \"n\": 5328}, {\"threshold\": 0.402, \"p\": 27976, \"fpr\": 0.9680930930930931, \"tpr\": 0.9972476408350014, \"n\": 5328}, {\"threshold\": 0.403, \"p\": 27976, \"fpr\": 0.9680930930930931, \"tpr\": 0.9972476408350014, \"n\": 5328}, {\"threshold\": 0.404, \"p\": 27976, \"fpr\": 0.9680930930930931, \"tpr\": 0.9972476408350014, \"n\": 5328}, {\"threshold\": 0.405, \"p\": 27976, \"fpr\": 0.9680930930930931, \"tpr\": 0.9972476408350014, \"n\": 5328}, {\"threshold\": 0.406, \"p\": 27976, \"fpr\": 0.9680930930930931, \"tpr\": 0.9972476408350014, \"n\": 5328}, {\"threshold\": 0.407, \"p\": 27976, \"fpr\": 0.9680930930930931, \"tpr\": 0.9972476408350014, \"n\": 5328}, {\"threshold\": 0.408, \"p\": 27976, \"fpr\": 0.9680930930930931, \"tpr\": 0.9972476408350014, \"n\": 5328}, {\"threshold\": 0.409, \"p\": 27976, \"fpr\": 0.9680930930930931, \"tpr\": 0.9972476408350014, \"n\": 5328}, {\"threshold\": 0.41, \"p\": 27976, \"fpr\": 0.9680930930930931, \"tpr\": 0.9972476408350014, \"n\": 5328}, {\"threshold\": 0.411, \"p\": 27976, \"fpr\": 0.9680930930930931, \"tpr\": 0.9972476408350014, \"n\": 5328}, {\"threshold\": 0.412, \"p\": 27976, \"fpr\": 0.9680930930930931, \"tpr\": 0.9972476408350014, \"n\": 5328}, {\"threshold\": 0.413, \"p\": 27976, \"fpr\": 0.9680930930930931, \"tpr\": 0.9972476408350014, \"n\": 5328}, {\"threshold\": 0.414, \"p\": 27976, \"fpr\": 0.9680930930930931, \"tpr\": 0.9972476408350014, \"n\": 5328}, {\"threshold\": 0.415, \"p\": 27976, \"fpr\": 0.9680930930930931, \"tpr\": 0.9972476408350014, \"n\": 5328}, {\"threshold\": 0.416, \"p\": 27976, \"fpr\": 0.9680930930930931, \"tpr\": 0.9972476408350014, \"n\": 5328}, {\"threshold\": 0.417, \"p\": 27976, \"fpr\": 0.9680930930930931, \"tpr\": 0.9972476408350014, \"n\": 5328}, {\"threshold\": 0.418, \"p\": 27976, \"fpr\": 0.9680930930930931, \"tpr\": 0.9972476408350014, \"n\": 5328}, {\"threshold\": 0.419, \"p\": 27976, \"fpr\": 0.9680930930930931, \"tpr\": 0.9972476408350014, \"n\": 5328}, {\"threshold\": 0.42, \"p\": 27976, \"fpr\": 0.9680930930930931, \"tpr\": 0.9972476408350014, \"n\": 5328}, {\"threshold\": 0.421, \"p\": 27976, \"fpr\": 0.9680930930930931, \"tpr\": 0.9972476408350014, \"n\": 5328}, {\"threshold\": 0.422, \"p\": 27976, \"fpr\": 0.9680930930930931, \"tpr\": 0.9972476408350014, \"n\": 5328}, {\"threshold\": 0.423, \"p\": 27976, \"fpr\": 0.9680930930930931, \"tpr\": 0.9972476408350014, \"n\": 5328}, {\"threshold\": 0.424, \"p\": 27976, \"fpr\": 0.9680930930930931, \"tpr\": 0.9972476408350014, \"n\": 5328}, {\"threshold\": 0.425, \"p\": 27976, \"fpr\": 0.9680930930930931, \"tpr\": 0.9972476408350014, \"n\": 5328}, {\"threshold\": 0.426, \"p\": 27976, \"fpr\": 0.9680930930930931, \"tpr\": 0.9972476408350014, \"n\": 5328}, {\"threshold\": 0.427, \"p\": 27976, \"fpr\": 0.9680930930930931, \"tpr\": 0.9972476408350014, \"n\": 5328}, {\"threshold\": 0.428, \"p\": 27976, \"fpr\": 0.9680930930930931, \"tpr\": 0.9972476408350014, \"n\": 5328}, {\"threshold\": 0.429, \"p\": 27976, \"fpr\": 0.9680930930930931, \"tpr\": 0.9972476408350014, \"n\": 5328}, {\"threshold\": 0.43, \"p\": 27976, \"fpr\": 0.9680930930930931, \"tpr\": 0.9972476408350014, \"n\": 5328}, {\"threshold\": 0.431, \"p\": 27976, \"fpr\": 0.9680930930930931, \"tpr\": 0.9972476408350014, \"n\": 5328}, {\"threshold\": 0.432, \"p\": 27976, \"fpr\": 0.9680930930930931, \"tpr\": 0.9972476408350014, \"n\": 5328}, {\"threshold\": 0.433, \"p\": 27976, \"fpr\": 0.9680930930930931, \"tpr\": 0.9972476408350014, \"n\": 5328}, {\"threshold\": 0.434, \"p\": 27976, \"fpr\": 0.9680930930930931, \"tpr\": 0.9972476408350014, \"n\": 5328}, {\"threshold\": 0.435, \"p\": 27976, \"fpr\": 0.9680930930930931, \"tpr\": 0.9972476408350014, \"n\": 5328}, {\"threshold\": 0.436, \"p\": 27976, \"fpr\": 0.9680930930930931, \"tpr\": 0.9972476408350014, \"n\": 5328}, {\"threshold\": 0.437, \"p\": 27976, \"fpr\": 0.9680930930930931, \"tpr\": 0.9972476408350014, \"n\": 5328}, {\"threshold\": 0.438, \"p\": 27976, \"fpr\": 0.9680930930930931, \"tpr\": 0.9972476408350014, \"n\": 5328}, {\"threshold\": 0.439, \"p\": 27976, \"fpr\": 0.9680930930930931, \"tpr\": 0.9972476408350014, \"n\": 5328}, {\"threshold\": 0.44, \"p\": 27976, \"fpr\": 0.9680930930930931, \"tpr\": 0.9972476408350014, \"n\": 5328}, {\"threshold\": 0.441, \"p\": 27976, \"fpr\": 0.9680930930930931, \"tpr\": 0.9972476408350014, \"n\": 5328}, {\"threshold\": 0.442, \"p\": 27976, \"fpr\": 0.9680930930930931, \"tpr\": 0.9972476408350014, \"n\": 5328}, {\"threshold\": 0.443, \"p\": 27976, \"fpr\": 0.9680930930930931, \"tpr\": 0.9972476408350014, \"n\": 5328}, {\"threshold\": 0.444, \"p\": 27976, \"fpr\": 0.9680930930930931, \"tpr\": 0.9972476408350014, \"n\": 5328}, {\"threshold\": 0.445, \"p\": 27976, \"fpr\": 0.9680930930930931, \"tpr\": 0.9972476408350014, \"n\": 5328}, {\"threshold\": 0.446, \"p\": 27976, \"fpr\": 0.9680930930930931, \"tpr\": 0.9972476408350014, \"n\": 5328}, {\"threshold\": 0.447, \"p\": 27976, \"fpr\": 0.9680930930930931, \"tpr\": 0.9972476408350014, \"n\": 5328}, {\"threshold\": 0.448, \"p\": 27976, \"fpr\": 0.9680930930930931, \"tpr\": 0.9972476408350014, \"n\": 5328}, {\"threshold\": 0.449, \"p\": 27976, \"fpr\": 0.9680930930930931, \"tpr\": 0.9972476408350014, \"n\": 5328}, {\"threshold\": 0.45, \"p\": 27976, \"fpr\": 0.9680930930930931, \"tpr\": 0.9972476408350014, \"n\": 5328}, {\"threshold\": 0.451, \"p\": 27976, \"fpr\": 0.9680930930930931, \"tpr\": 0.9972476408350014, \"n\": 5328}, {\"threshold\": 0.452, \"p\": 27976, \"fpr\": 0.9680930930930931, \"tpr\": 0.9972476408350014, \"n\": 5328}, {\"threshold\": 0.453, \"p\": 27976, \"fpr\": 0.9680930930930931, \"tpr\": 0.9972476408350014, \"n\": 5328}, {\"threshold\": 0.454, \"p\": 27976, \"fpr\": 0.9680930930930931, \"tpr\": 0.9972476408350014, \"n\": 5328}, {\"threshold\": 0.455, \"p\": 27976, \"fpr\": 0.9680930930930931, \"tpr\": 0.9972476408350014, \"n\": 5328}, {\"threshold\": 0.456, \"p\": 27976, \"fpr\": 0.9680930930930931, \"tpr\": 0.9972476408350014, \"n\": 5328}, {\"threshold\": 0.457, \"p\": 27976, \"fpr\": 0.9680930930930931, \"tpr\": 0.9972476408350014, \"n\": 5328}, {\"threshold\": 0.458, \"p\": 27976, \"fpr\": 0.9680930930930931, \"tpr\": 0.9972476408350014, \"n\": 5328}, {\"threshold\": 0.459, \"p\": 27976, \"fpr\": 0.9680930930930931, \"tpr\": 0.9972476408350014, \"n\": 5328}, {\"threshold\": 0.46, \"p\": 27976, \"fpr\": 0.9680930930930931, \"tpr\": 0.9972476408350014, \"n\": 5328}, {\"threshold\": 0.461, \"p\": 27976, \"fpr\": 0.9680930930930931, \"tpr\": 0.9972476408350014, \"n\": 5328}, {\"threshold\": 0.462, \"p\": 27976, \"fpr\": 0.9680930930930931, \"tpr\": 0.9972118959107806, \"n\": 5328}, {\"threshold\": 0.463, \"p\": 27976, \"fpr\": 0.9680930930930931, \"tpr\": 0.9972118959107806, \"n\": 5328}, {\"threshold\": 0.464, \"p\": 27976, \"fpr\": 0.9680930930930931, \"tpr\": 0.9972118959107806, \"n\": 5328}, {\"threshold\": 0.465, \"p\": 27976, \"fpr\": 0.9680930930930931, \"tpr\": 0.9971761509865599, \"n\": 5328}, {\"threshold\": 0.466, \"p\": 27976, \"fpr\": 0.9680930930930931, \"tpr\": 0.9971761509865599, \"n\": 5328}, {\"threshold\": 0.467, \"p\": 27976, \"fpr\": 0.9680930930930931, \"tpr\": 0.9971761509865599, \"n\": 5328}, {\"threshold\": 0.468, \"p\": 27976, \"fpr\": 0.9679054054054054, \"tpr\": 0.9971761509865599, \"n\": 5328}, {\"threshold\": 0.469, \"p\": 27976, \"fpr\": 0.9679054054054054, \"tpr\": 0.9971761509865599, \"n\": 5328}, {\"threshold\": 0.47, \"p\": 27976, \"fpr\": 0.9679054054054054, \"tpr\": 0.9971761509865599, \"n\": 5328}, {\"threshold\": 0.471, \"p\": 27976, \"fpr\": 0.9679054054054054, \"tpr\": 0.9971761509865599, \"n\": 5328}, {\"threshold\": 0.472, \"p\": 27976, \"fpr\": 0.9679054054054054, \"tpr\": 0.9971761509865599, \"n\": 5328}, {\"threshold\": 0.473, \"p\": 27976, \"fpr\": 0.9679054054054054, \"tpr\": 0.9971761509865599, \"n\": 5328}, {\"threshold\": 0.474, \"p\": 27976, \"fpr\": 0.9679054054054054, \"tpr\": 0.9971761509865599, \"n\": 5328}, {\"threshold\": 0.475, \"p\": 27976, \"fpr\": 0.9679054054054054, \"tpr\": 0.9971761509865599, \"n\": 5328}, {\"threshold\": 0.476, \"p\": 27976, \"fpr\": 0.9679054054054054, \"tpr\": 0.9971761509865599, \"n\": 5328}, {\"threshold\": 0.477, \"p\": 27976, \"fpr\": 0.9679054054054054, \"tpr\": 0.9971761509865599, \"n\": 5328}, {\"threshold\": 0.478, \"p\": 27976, \"fpr\": 0.9679054054054054, \"tpr\": 0.9971761509865599, \"n\": 5328}, {\"threshold\": 0.479, \"p\": 27976, \"fpr\": 0.9679054054054054, \"tpr\": 0.9971761509865599, \"n\": 5328}, {\"threshold\": 0.48, \"p\": 27976, \"fpr\": 0.9679054054054054, \"tpr\": 0.9971761509865599, \"n\": 5328}, {\"threshold\": 0.481, \"p\": 27976, \"fpr\": 0.9679054054054054, \"tpr\": 0.9971761509865599, \"n\": 5328}, {\"threshold\": 0.482, \"p\": 27976, \"fpr\": 0.9679054054054054, \"tpr\": 0.9971761509865599, \"n\": 5328}, {\"threshold\": 0.483, \"p\": 27976, \"fpr\": 0.9679054054054054, \"tpr\": 0.9971761509865599, \"n\": 5328}, {\"threshold\": 0.484, \"p\": 27976, \"fpr\": 0.9679054054054054, \"tpr\": 0.9971761509865599, \"n\": 5328}, {\"threshold\": 0.485, \"p\": 27976, \"fpr\": 0.9679054054054054, \"tpr\": 0.9971761509865599, \"n\": 5328}, {\"threshold\": 0.486, \"p\": 27976, \"fpr\": 0.9679054054054054, \"tpr\": 0.9971761509865599, \"n\": 5328}, {\"threshold\": 0.487, \"p\": 27976, \"fpr\": 0.9679054054054054, \"tpr\": 0.9971761509865599, \"n\": 5328}, {\"threshold\": 0.488, \"p\": 27976, \"fpr\": 0.9673423423423423, \"tpr\": 0.9971046611381184, \"n\": 5328}, {\"threshold\": 0.489, \"p\": 27976, \"fpr\": 0.9673423423423423, \"tpr\": 0.9971046611381184, \"n\": 5328}, {\"threshold\": 0.49, \"p\": 27976, \"fpr\": 0.9562687687687688, \"tpr\": 0.9953531598513011, \"n\": 5328}, {\"threshold\": 0.491, \"p\": 27976, \"fpr\": 0.9562687687687688, \"tpr\": 0.9953531598513011, \"n\": 5328}, {\"threshold\": 0.492, \"p\": 27976, \"fpr\": 0.9562687687687688, \"tpr\": 0.9953531598513011, \"n\": 5328}, {\"threshold\": 0.493, \"p\": 27976, \"fpr\": 0.9562687687687688, \"tpr\": 0.9953531598513011, \"n\": 5328}, {\"threshold\": 0.494, \"p\": 27976, \"fpr\": 0.9562687687687688, \"tpr\": 0.9953531598513011, \"n\": 5328}, {\"threshold\": 0.495, \"p\": 27976, \"fpr\": 0.9562687687687688, \"tpr\": 0.9953531598513011, \"n\": 5328}, {\"threshold\": 0.496, \"p\": 27976, \"fpr\": 0.9562687687687688, \"tpr\": 0.9953531598513011, \"n\": 5328}, {\"threshold\": 0.497, \"p\": 27976, \"fpr\": 0.956081081081081, \"tpr\": 0.9953531598513011, \"n\": 5328}, {\"threshold\": 0.498, \"p\": 27976, \"fpr\": 0.956081081081081, \"tpr\": 0.9953531598513011, \"n\": 5328}, {\"threshold\": 0.499, \"p\": 27976, \"fpr\": 0.956081081081081, \"tpr\": 0.9953531598513011, \"n\": 5328}, {\"threshold\": 0.5, \"p\": 27976, \"fpr\": 0.956081081081081, \"tpr\": 0.9953531598513011, \"n\": 5328}, {\"threshold\": 0.501, \"p\": 27976, \"fpr\": 0.956081081081081, \"tpr\": 0.9953531598513011, \"n\": 5328}, {\"threshold\": 0.502, \"p\": 27976, \"fpr\": 0.956081081081081, \"tpr\": 0.9953531598513011, \"n\": 5328}, {\"threshold\": 0.503, \"p\": 27976, \"fpr\": 0.956081081081081, \"tpr\": 0.9953531598513011, \"n\": 5328}, {\"threshold\": 0.504, \"p\": 27976, \"fpr\": 0.956081081081081, \"tpr\": 0.9953531598513011, \"n\": 5328}, {\"threshold\": 0.505, \"p\": 27976, \"fpr\": 0.956081081081081, \"tpr\": 0.9953531598513011, \"n\": 5328}, {\"threshold\": 0.506, \"p\": 27976, \"fpr\": 0.956081081081081, \"tpr\": 0.9953531598513011, \"n\": 5328}, {\"threshold\": 0.507, \"p\": 27976, \"fpr\": 0.956081081081081, \"tpr\": 0.9953531598513011, \"n\": 5328}, {\"threshold\": 0.508, \"p\": 27976, \"fpr\": 0.956081081081081, \"tpr\": 0.9953531598513011, \"n\": 5328}, {\"threshold\": 0.509, \"p\": 27976, \"fpr\": 0.956081081081081, \"tpr\": 0.9953531598513011, \"n\": 5328}, {\"threshold\": 0.51, \"p\": 27976, \"fpr\": 0.956081081081081, \"tpr\": 0.9953531598513011, \"n\": 5328}, {\"threshold\": 0.511, \"p\": 27976, \"fpr\": 0.956081081081081, \"tpr\": 0.9953531598513011, \"n\": 5328}, {\"threshold\": 0.512, \"p\": 27976, \"fpr\": 0.956081081081081, \"tpr\": 0.9953531598513011, \"n\": 5328}, {\"threshold\": 0.513, \"p\": 27976, \"fpr\": 0.956081081081081, \"tpr\": 0.9953531598513011, \"n\": 5328}, {\"threshold\": 0.514, \"p\": 27976, \"fpr\": 0.956081081081081, \"tpr\": 0.9953531598513011, \"n\": 5328}, {\"threshold\": 0.515, \"p\": 27976, \"fpr\": 0.956081081081081, \"tpr\": 0.9953531598513011, \"n\": 5328}, {\"threshold\": 0.516, \"p\": 27976, \"fpr\": 0.956081081081081, \"tpr\": 0.9953531598513011, \"n\": 5328}, {\"threshold\": 0.517, \"p\": 27976, \"fpr\": 0.956081081081081, \"tpr\": 0.9953531598513011, \"n\": 5328}, {\"threshold\": 0.518, \"p\": 27976, \"fpr\": 0.956081081081081, \"tpr\": 0.9953531598513011, \"n\": 5328}, {\"threshold\": 0.519, \"p\": 27976, \"fpr\": 0.956081081081081, \"tpr\": 0.9953531598513011, \"n\": 5328}, {\"threshold\": 0.52, \"p\": 27976, \"fpr\": 0.956081081081081, \"tpr\": 0.9953531598513011, \"n\": 5328}, {\"threshold\": 0.521, \"p\": 27976, \"fpr\": 0.956081081081081, \"tpr\": 0.9953531598513011, \"n\": 5328}, {\"threshold\": 0.522, \"p\": 27976, \"fpr\": 0.956081081081081, \"tpr\": 0.9953531598513011, \"n\": 5328}, {\"threshold\": 0.523, \"p\": 27976, \"fpr\": 0.956081081081081, \"tpr\": 0.9953531598513011, \"n\": 5328}, {\"threshold\": 0.524, \"p\": 27976, \"fpr\": 0.956081081081081, \"tpr\": 0.9953531598513011, \"n\": 5328}, {\"threshold\": 0.525, \"p\": 27976, \"fpr\": 0.956081081081081, \"tpr\": 0.9953531598513011, \"n\": 5328}, {\"threshold\": 0.526, \"p\": 27976, \"fpr\": 0.956081081081081, \"tpr\": 0.9953531598513011, \"n\": 5328}, {\"threshold\": 0.527, \"p\": 27976, \"fpr\": 0.956081081081081, \"tpr\": 0.9953531598513011, \"n\": 5328}, {\"threshold\": 0.528, \"p\": 27976, \"fpr\": 0.956081081081081, \"tpr\": 0.9953531598513011, \"n\": 5328}, {\"threshold\": 0.529, \"p\": 27976, \"fpr\": 0.956081081081081, \"tpr\": 0.9953531598513011, \"n\": 5328}, {\"threshold\": 0.53, \"p\": 27976, \"fpr\": 0.956081081081081, \"tpr\": 0.9953531598513011, \"n\": 5328}, {\"threshold\": 0.531, \"p\": 27976, \"fpr\": 0.956081081081081, \"tpr\": 0.9953531598513011, \"n\": 5328}, {\"threshold\": 0.532, \"p\": 27976, \"fpr\": 0.956081081081081, \"tpr\": 0.9953531598513011, \"n\": 5328}, {\"threshold\": 0.533, \"p\": 27976, \"fpr\": 0.956081081081081, \"tpr\": 0.9953531598513011, \"n\": 5328}, {\"threshold\": 0.534, \"p\": 27976, \"fpr\": 0.956081081081081, \"tpr\": 0.9953531598513011, \"n\": 5328}, {\"threshold\": 0.535, \"p\": 27976, \"fpr\": 0.956081081081081, \"tpr\": 0.9953531598513011, \"n\": 5328}, {\"threshold\": 0.536, \"p\": 27976, \"fpr\": 0.956081081081081, \"tpr\": 0.9953531598513011, \"n\": 5328}, {\"threshold\": 0.537, \"p\": 27976, \"fpr\": 0.956081081081081, \"tpr\": 0.9953531598513011, \"n\": 5328}, {\"threshold\": 0.538, \"p\": 27976, \"fpr\": 0.956081081081081, \"tpr\": 0.9953531598513011, \"n\": 5328}, {\"threshold\": 0.539, \"p\": 27976, \"fpr\": 0.956081081081081, \"tpr\": 0.9953531598513011, \"n\": 5328}, {\"threshold\": 0.54, \"p\": 27976, \"fpr\": 0.956081081081081, \"tpr\": 0.9953531598513011, \"n\": 5328}, {\"threshold\": 0.541, \"p\": 27976, \"fpr\": 0.954954954954955, \"tpr\": 0.9951744352301973, \"n\": 5328}, {\"threshold\": 0.542, \"p\": 27976, \"fpr\": 0.954954954954955, \"tpr\": 0.9951744352301973, \"n\": 5328}, {\"threshold\": 0.543, \"p\": 27976, \"fpr\": 0.954954954954955, \"tpr\": 0.9951386903059766, \"n\": 5328}, {\"threshold\": 0.544, \"p\": 27976, \"fpr\": 0.954954954954955, \"tpr\": 0.9951386903059766, \"n\": 5328}, {\"threshold\": 0.545, \"p\": 27976, \"fpr\": 0.954954954954955, \"tpr\": 0.9951386903059766, \"n\": 5328}, {\"threshold\": 0.546, \"p\": 27976, \"fpr\": 0.954954954954955, \"tpr\": 0.9951386903059766, \"n\": 5328}, {\"threshold\": 0.547, \"p\": 27976, \"fpr\": 0.954954954954955, \"tpr\": 0.9951386903059766, \"n\": 5328}, {\"threshold\": 0.548, \"p\": 27976, \"fpr\": 0.954954954954955, \"tpr\": 0.9951386903059766, \"n\": 5328}, {\"threshold\": 0.549, \"p\": 27976, \"fpr\": 0.954954954954955, \"tpr\": 0.9951386903059766, \"n\": 5328}, {\"threshold\": 0.55, \"p\": 27976, \"fpr\": 0.954954954954955, \"tpr\": 0.9951386903059766, \"n\": 5328}, {\"threshold\": 0.551, \"p\": 27976, \"fpr\": 0.954954954954955, \"tpr\": 0.9951386903059766, \"n\": 5328}, {\"threshold\": 0.552, \"p\": 27976, \"fpr\": 0.954954954954955, \"tpr\": 0.9951386903059766, \"n\": 5328}, {\"threshold\": 0.553, \"p\": 27976, \"fpr\": 0.954954954954955, \"tpr\": 0.9951386903059766, \"n\": 5328}, {\"threshold\": 0.554, \"p\": 27976, \"fpr\": 0.954954954954955, \"tpr\": 0.9951386903059766, \"n\": 5328}, {\"threshold\": 0.555, \"p\": 27976, \"fpr\": 0.954954954954955, \"tpr\": 0.9951386903059766, \"n\": 5328}, {\"threshold\": 0.556, \"p\": 27976, \"fpr\": 0.954954954954955, \"tpr\": 0.9951386903059766, \"n\": 5328}, {\"threshold\": 0.557, \"p\": 27976, \"fpr\": 0.954954954954955, \"tpr\": 0.9951386903059766, \"n\": 5328}, {\"threshold\": 0.558, \"p\": 27976, \"fpr\": 0.954954954954955, \"tpr\": 0.9951386903059766, \"n\": 5328}, {\"threshold\": 0.559, \"p\": 27976, \"fpr\": 0.954954954954955, \"tpr\": 0.9951386903059766, \"n\": 5328}, {\"threshold\": 0.56, \"p\": 27976, \"fpr\": 0.954954954954955, \"tpr\": 0.9951386903059766, \"n\": 5328}, {\"threshold\": 0.561, \"p\": 27976, \"fpr\": 0.954954954954955, \"tpr\": 0.9951386903059766, \"n\": 5328}, {\"threshold\": 0.562, \"p\": 27976, \"fpr\": 0.954954954954955, \"tpr\": 0.9951386903059766, \"n\": 5328}, {\"threshold\": 0.563, \"p\": 27976, \"fpr\": 0.954954954954955, \"tpr\": 0.9951386903059766, \"n\": 5328}, {\"threshold\": 0.564, \"p\": 27976, \"fpr\": 0.9538288288288288, \"tpr\": 0.9949957106090935, \"n\": 5328}, {\"threshold\": 0.565, \"p\": 27976, \"fpr\": 0.9538288288288288, \"tpr\": 0.9949957106090935, \"n\": 5328}, {\"threshold\": 0.566, \"p\": 27976, \"fpr\": 0.9538288288288288, \"tpr\": 0.9949599656848728, \"n\": 5328}, {\"threshold\": 0.567, \"p\": 27976, \"fpr\": 0.9538288288288288, \"tpr\": 0.9949599656848728, \"n\": 5328}, {\"threshold\": 0.568, \"p\": 27976, \"fpr\": 0.9538288288288288, \"tpr\": 0.9949599656848728, \"n\": 5328}, {\"threshold\": 0.569, \"p\": 27976, \"fpr\": 0.9538288288288288, \"tpr\": 0.9949599656848728, \"n\": 5328}, {\"threshold\": 0.57, \"p\": 27976, \"fpr\": 0.9538288288288288, \"tpr\": 0.9948527309122105, \"n\": 5328}, {\"threshold\": 0.571, \"p\": 27976, \"fpr\": 0.9538288288288288, \"tpr\": 0.9948527309122105, \"n\": 5328}, {\"threshold\": 0.572, \"p\": 27976, \"fpr\": 0.9538288288288288, \"tpr\": 0.9948527309122105, \"n\": 5328}, {\"threshold\": 0.573, \"p\": 27976, \"fpr\": 0.9538288288288288, \"tpr\": 0.9948527309122105, \"n\": 5328}, {\"threshold\": 0.574, \"p\": 27976, \"fpr\": 0.9538288288288288, \"tpr\": 0.9948527309122105, \"n\": 5328}, {\"threshold\": 0.575, \"p\": 27976, \"fpr\": 0.9538288288288288, \"tpr\": 0.9948527309122105, \"n\": 5328}, {\"threshold\": 0.576, \"p\": 27976, \"fpr\": 0.9538288288288288, \"tpr\": 0.9948527309122105, \"n\": 5328}, {\"threshold\": 0.577, \"p\": 27976, \"fpr\": 0.9538288288288288, \"tpr\": 0.9948527309122105, \"n\": 5328}, {\"threshold\": 0.578, \"p\": 27976, \"fpr\": 0.9538288288288288, \"tpr\": 0.9948527309122105, \"n\": 5328}, {\"threshold\": 0.579, \"p\": 27976, \"fpr\": 0.9538288288288288, \"tpr\": 0.9948527309122105, \"n\": 5328}, {\"threshold\": 0.58, \"p\": 27976, \"fpr\": 0.9538288288288288, \"tpr\": 0.9948527309122105, \"n\": 5328}, {\"threshold\": 0.581, \"p\": 27976, \"fpr\": 0.9538288288288288, \"tpr\": 0.9948527309122105, \"n\": 5328}, {\"threshold\": 0.582, \"p\": 27976, \"fpr\": 0.9538288288288288, \"tpr\": 0.9948169859879897, \"n\": 5328}, {\"threshold\": 0.583, \"p\": 27976, \"fpr\": 0.9538288288288288, \"tpr\": 0.9948169859879897, \"n\": 5328}, {\"threshold\": 0.584, \"p\": 27976, \"fpr\": 0.9538288288288288, \"tpr\": 0.9948169859879897, \"n\": 5328}, {\"threshold\": 0.585, \"p\": 27976, \"fpr\": 0.9538288288288288, \"tpr\": 0.9948169859879897, \"n\": 5328}, {\"threshold\": 0.586, \"p\": 27976, \"fpr\": 0.9538288288288288, \"tpr\": 0.9948169859879897, \"n\": 5328}, {\"threshold\": 0.587, \"p\": 27976, \"fpr\": 0.9538288288288288, \"tpr\": 0.9948169859879897, \"n\": 5328}, {\"threshold\": 0.588, \"p\": 27976, \"fpr\": 0.9538288288288288, \"tpr\": 0.9948169859879897, \"n\": 5328}, {\"threshold\": 0.589, \"p\": 27976, \"fpr\": 0.9538288288288288, \"tpr\": 0.9948169859879897, \"n\": 5328}, {\"threshold\": 0.59, \"p\": 27976, \"fpr\": 0.9538288288288288, \"tpr\": 0.9948169859879897, \"n\": 5328}, {\"threshold\": 0.591, \"p\": 27976, \"fpr\": 0.9538288288288288, \"tpr\": 0.9948169859879897, \"n\": 5328}, {\"threshold\": 0.592, \"p\": 27976, \"fpr\": 0.9536411411411412, \"tpr\": 0.994781241063769, \"n\": 5328}, {\"threshold\": 0.593, \"p\": 27976, \"fpr\": 0.9536411411411412, \"tpr\": 0.994781241063769, \"n\": 5328}, {\"threshold\": 0.594, \"p\": 27976, \"fpr\": 0.9536411411411412, \"tpr\": 0.994781241063769, \"n\": 5328}, {\"threshold\": 0.595, \"p\": 27976, \"fpr\": 0.9294294294294294, \"tpr\": 0.9873820417500715, \"n\": 5328}, {\"threshold\": 0.596, \"p\": 27976, \"fpr\": 0.9294294294294294, \"tpr\": 0.9873820417500715, \"n\": 5328}, {\"threshold\": 0.597, \"p\": 27976, \"fpr\": 0.9294294294294294, \"tpr\": 0.9873820417500715, \"n\": 5328}, {\"threshold\": 0.598, \"p\": 27976, \"fpr\": 0.9294294294294294, \"tpr\": 0.9873820417500715, \"n\": 5328}, {\"threshold\": 0.599, \"p\": 27976, \"fpr\": 0.9294294294294294, \"tpr\": 0.9873820417500715, \"n\": 5328}, {\"threshold\": 0.6, \"p\": 27976, \"fpr\": 0.9294294294294294, \"tpr\": 0.9873820417500715, \"n\": 5328}, {\"threshold\": 0.601, \"p\": 27976, \"fpr\": 0.9294294294294294, \"tpr\": 0.9873820417500715, \"n\": 5328}, {\"threshold\": 0.602, \"p\": 27976, \"fpr\": 0.9294294294294294, \"tpr\": 0.9873820417500715, \"n\": 5328}, {\"threshold\": 0.603, \"p\": 27976, \"fpr\": 0.9294294294294294, \"tpr\": 0.9873820417500715, \"n\": 5328}, {\"threshold\": 0.604, \"p\": 27976, \"fpr\": 0.9294294294294294, \"tpr\": 0.9873820417500715, \"n\": 5328}, {\"threshold\": 0.605, \"p\": 27976, \"fpr\": 0.9294294294294294, \"tpr\": 0.9873820417500715, \"n\": 5328}, {\"threshold\": 0.606, \"p\": 27976, \"fpr\": 0.9294294294294294, \"tpr\": 0.9873820417500715, \"n\": 5328}, {\"threshold\": 0.607, \"p\": 27976, \"fpr\": 0.9294294294294294, \"tpr\": 0.9873820417500715, \"n\": 5328}, {\"threshold\": 0.608, \"p\": 27976, \"fpr\": 0.9294294294294294, \"tpr\": 0.9873820417500715, \"n\": 5328}, {\"threshold\": 0.609, \"p\": 27976, \"fpr\": 0.9294294294294294, \"tpr\": 0.9873820417500715, \"n\": 5328}, {\"threshold\": 0.61, \"p\": 27976, \"fpr\": 0.9294294294294294, \"tpr\": 0.9873820417500715, \"n\": 5328}, {\"threshold\": 0.611, \"p\": 27976, \"fpr\": 0.9294294294294294, \"tpr\": 0.9873820417500715, \"n\": 5328}, {\"threshold\": 0.612, \"p\": 27976, \"fpr\": 0.9294294294294294, \"tpr\": 0.9873820417500715, \"n\": 5328}, {\"threshold\": 0.613, \"p\": 27976, \"fpr\": 0.9294294294294294, \"tpr\": 0.9873820417500715, \"n\": 5328}, {\"threshold\": 0.614, \"p\": 27976, \"fpr\": 0.9294294294294294, \"tpr\": 0.9873820417500715, \"n\": 5328}, {\"threshold\": 0.615, \"p\": 27976, \"fpr\": 0.9294294294294294, \"tpr\": 0.9873820417500715, \"n\": 5328}, {\"threshold\": 0.616, \"p\": 27976, \"fpr\": 0.9294294294294294, \"tpr\": 0.9873820417500715, \"n\": 5328}, {\"threshold\": 0.617, \"p\": 27976, \"fpr\": 0.9294294294294294, \"tpr\": 0.9873820417500715, \"n\": 5328}, {\"threshold\": 0.618, \"p\": 27976, \"fpr\": 0.9294294294294294, \"tpr\": 0.9873820417500715, \"n\": 5328}, {\"threshold\": 0.619, \"p\": 27976, \"fpr\": 0.9294294294294294, \"tpr\": 0.9873820417500715, \"n\": 5328}, {\"threshold\": 0.62, \"p\": 27976, \"fpr\": 0.9294294294294294, \"tpr\": 0.9872390620531885, \"n\": 5328}, {\"threshold\": 0.621, \"p\": 27976, \"fpr\": 0.9294294294294294, \"tpr\": 0.9872390620531885, \"n\": 5328}, {\"threshold\": 0.622, \"p\": 27976, \"fpr\": 0.9294294294294294, \"tpr\": 0.9871675722047469, \"n\": 5328}, {\"threshold\": 0.623, \"p\": 27976, \"fpr\": 0.9294294294294294, \"tpr\": 0.9871675722047469, \"n\": 5328}, {\"threshold\": 0.624, \"p\": 27976, \"fpr\": 0.9294294294294294, \"tpr\": 0.9871675722047469, \"n\": 5328}, {\"threshold\": 0.625, \"p\": 27976, \"fpr\": 0.9294294294294294, \"tpr\": 0.9871675722047469, \"n\": 5328}, {\"threshold\": 0.626, \"p\": 27976, \"fpr\": 0.9294294294294294, \"tpr\": 0.9871675722047469, \"n\": 5328}, {\"threshold\": 0.627, \"p\": 27976, \"fpr\": 0.9294294294294294, \"tpr\": 0.9871675722047469, \"n\": 5328}, {\"threshold\": 0.628, \"p\": 27976, \"fpr\": 0.9294294294294294, \"tpr\": 0.9871675722047469, \"n\": 5328}, {\"threshold\": 0.629, \"p\": 27976, \"fpr\": 0.9294294294294294, \"tpr\": 0.9871675722047469, \"n\": 5328}, {\"threshold\": 0.63, \"p\": 27976, \"fpr\": 0.9294294294294294, \"tpr\": 0.9871675722047469, \"n\": 5328}, {\"threshold\": 0.631, \"p\": 27976, \"fpr\": 0.9294294294294294, \"tpr\": 0.9871675722047469, \"n\": 5328}, {\"threshold\": 0.632, \"p\": 27976, \"fpr\": 0.9294294294294294, \"tpr\": 0.9871675722047469, \"n\": 5328}, {\"threshold\": 0.633, \"p\": 27976, \"fpr\": 0.9294294294294294, \"tpr\": 0.9871675722047469, \"n\": 5328}, {\"threshold\": 0.634, \"p\": 27976, \"fpr\": 0.9294294294294294, \"tpr\": 0.9871675722047469, \"n\": 5328}, {\"threshold\": 0.635, \"p\": 27976, \"fpr\": 0.9294294294294294, \"tpr\": 0.9871675722047469, \"n\": 5328}, {\"threshold\": 0.636, \"p\": 27976, \"fpr\": 0.9294294294294294, \"tpr\": 0.9871675722047469, \"n\": 5328}, {\"threshold\": 0.637, \"p\": 27976, \"fpr\": 0.9294294294294294, \"tpr\": 0.9871675722047469, \"n\": 5328}, {\"threshold\": 0.638, \"p\": 27976, \"fpr\": 0.9294294294294294, \"tpr\": 0.9871675722047469, \"n\": 5328}, {\"threshold\": 0.639, \"p\": 27976, \"fpr\": 0.9294294294294294, \"tpr\": 0.9871675722047469, \"n\": 5328}, {\"threshold\": 0.64, \"p\": 27976, \"fpr\": 0.9294294294294294, \"tpr\": 0.9871675722047469, \"n\": 5328}, {\"threshold\": 0.641, \"p\": 27976, \"fpr\": 0.9294294294294294, \"tpr\": 0.9871675722047469, \"n\": 5328}, {\"threshold\": 0.642, \"p\": 27976, \"fpr\": 0.9294294294294294, \"tpr\": 0.9871675722047469, \"n\": 5328}, {\"threshold\": 0.643, \"p\": 27976, \"fpr\": 0.9294294294294294, \"tpr\": 0.9871675722047469, \"n\": 5328}, {\"threshold\": 0.644, \"p\": 27976, \"fpr\": 0.9294294294294294, \"tpr\": 0.9871675722047469, \"n\": 5328}, {\"threshold\": 0.645, \"p\": 27976, \"fpr\": 0.9294294294294294, \"tpr\": 0.9871675722047469, \"n\": 5328}, {\"threshold\": 0.646, \"p\": 27976, \"fpr\": 0.9294294294294294, \"tpr\": 0.9871675722047469, \"n\": 5328}, {\"threshold\": 0.647, \"p\": 27976, \"fpr\": 0.9294294294294294, \"tpr\": 0.9871675722047469, \"n\": 5328}, {\"threshold\": 0.648, \"p\": 27976, \"fpr\": 0.9294294294294294, \"tpr\": 0.9871675722047469, \"n\": 5328}, {\"threshold\": 0.649, \"p\": 27976, \"fpr\": 0.9294294294294294, \"tpr\": 0.9871675722047469, \"n\": 5328}, {\"threshold\": 0.65, \"p\": 27976, \"fpr\": 0.9294294294294294, \"tpr\": 0.9871675722047469, \"n\": 5328}, {\"threshold\": 0.651, \"p\": 27976, \"fpr\": 0.9294294294294294, \"tpr\": 0.9871675722047469, \"n\": 5328}, {\"threshold\": 0.652, \"p\": 27976, \"fpr\": 0.9294294294294294, \"tpr\": 0.9871675722047469, \"n\": 5328}, {\"threshold\": 0.653, \"p\": 27976, \"fpr\": 0.9294294294294294, \"tpr\": 0.9871675722047469, \"n\": 5328}, {\"threshold\": 0.654, \"p\": 27976, \"fpr\": 0.9294294294294294, \"tpr\": 0.9871675722047469, \"n\": 5328}, {\"threshold\": 0.655, \"p\": 27976, \"fpr\": 0.9294294294294294, \"tpr\": 0.9871675722047469, \"n\": 5328}, {\"threshold\": 0.656, \"p\": 27976, \"fpr\": 0.9294294294294294, \"tpr\": 0.9871675722047469, \"n\": 5328}, {\"threshold\": 0.657, \"p\": 27976, \"fpr\": 0.9294294294294294, \"tpr\": 0.9871675722047469, \"n\": 5328}, {\"threshold\": 0.658, \"p\": 27976, \"fpr\": 0.9294294294294294, \"tpr\": 0.9871675722047469, \"n\": 5328}, {\"threshold\": 0.659, \"p\": 27976, \"fpr\": 0.9294294294294294, \"tpr\": 0.9871675722047469, \"n\": 5328}, {\"threshold\": 0.66, \"p\": 27976, \"fpr\": 0.9294294294294294, \"tpr\": 0.9871318272805262, \"n\": 5328}, {\"threshold\": 0.661, \"p\": 27976, \"fpr\": 0.9294294294294294, \"tpr\": 0.9871318272805262, \"n\": 5328}, {\"threshold\": 0.662, \"p\": 27976, \"fpr\": 0.9294294294294294, \"tpr\": 0.9871318272805262, \"n\": 5328}, {\"threshold\": 0.663, \"p\": 27976, \"fpr\": 0.9290540540540541, \"tpr\": 0.9868458678867601, \"n\": 5328}, {\"threshold\": 0.664, \"p\": 27976, \"fpr\": 0.9290540540540541, \"tpr\": 0.9868458678867601, \"n\": 5328}, {\"threshold\": 0.665, \"p\": 27976, \"fpr\": 0.9290540540540541, \"tpr\": 0.9868458678867601, \"n\": 5328}, {\"threshold\": 0.666, \"p\": 27976, \"fpr\": 0.9290540540540541, \"tpr\": 0.9868458678867601, \"n\": 5328}, {\"threshold\": 0.667, \"p\": 27976, \"fpr\": 0.9290540540540541, \"tpr\": 0.9868458678867601, \"n\": 5328}, {\"threshold\": 0.668, \"p\": 27976, \"fpr\": 0.9290540540540541, \"tpr\": 0.9868458678867601, \"n\": 5328}, {\"threshold\": 0.669, \"p\": 27976, \"fpr\": 0.9290540540540541, \"tpr\": 0.9868101229625393, \"n\": 5328}, {\"threshold\": 0.67, \"p\": 27976, \"fpr\": 0.9290540540540541, \"tpr\": 0.9868101229625393, \"n\": 5328}, {\"threshold\": 0.671, \"p\": 27976, \"fpr\": 0.9290540540540541, \"tpr\": 0.9868101229625393, \"n\": 5328}, {\"threshold\": 0.672, \"p\": 27976, \"fpr\": 0.9290540540540541, \"tpr\": 0.9867743780383186, \"n\": 5328}, {\"threshold\": 0.673, \"p\": 27976, \"fpr\": 0.9290540540540541, \"tpr\": 0.9867743780383186, \"n\": 5328}, {\"threshold\": 0.674, \"p\": 27976, \"fpr\": 0.9290540540540541, \"tpr\": 0.9867743780383186, \"n\": 5328}, {\"threshold\": 0.675, \"p\": 27976, \"fpr\": 0.9290540540540541, \"tpr\": 0.9867743780383186, \"n\": 5328}, {\"threshold\": 0.676, \"p\": 27976, \"fpr\": 0.9290540540540541, \"tpr\": 0.9867743780383186, \"n\": 5328}, {\"threshold\": 0.677, \"p\": 27976, \"fpr\": 0.9290540540540541, \"tpr\": 0.9867743780383186, \"n\": 5328}, {\"threshold\": 0.678, \"p\": 27976, \"fpr\": 0.9290540540540541, \"tpr\": 0.9867743780383186, \"n\": 5328}, {\"threshold\": 0.679, \"p\": 27976, \"fpr\": 0.9290540540540541, \"tpr\": 0.9867743780383186, \"n\": 5328}, {\"threshold\": 0.68, \"p\": 27976, \"fpr\": 0.9290540540540541, \"tpr\": 0.9867743780383186, \"n\": 5328}, {\"threshold\": 0.681, \"p\": 27976, \"fpr\": 0.9290540540540541, \"tpr\": 0.9867743780383186, \"n\": 5328}, {\"threshold\": 0.682, \"p\": 27976, \"fpr\": 0.9290540540540541, \"tpr\": 0.9867743780383186, \"n\": 5328}, {\"threshold\": 0.683, \"p\": 27976, \"fpr\": 0.9290540540540541, \"tpr\": 0.9867743780383186, \"n\": 5328}, {\"threshold\": 0.684, \"p\": 27976, \"fpr\": 0.9290540540540541, \"tpr\": 0.9866313983414355, \"n\": 5328}, {\"threshold\": 0.685, \"p\": 27976, \"fpr\": 0.9290540540540541, \"tpr\": 0.9866313983414355, \"n\": 5328}, {\"threshold\": 0.686, \"p\": 27976, \"fpr\": 0.9290540540540541, \"tpr\": 0.9866313983414355, \"n\": 5328}, {\"threshold\": 0.687, \"p\": 27976, \"fpr\": 0.9290540540540541, \"tpr\": 0.9866313983414355, \"n\": 5328}, {\"threshold\": 0.688, \"p\": 27976, \"fpr\": 0.9290540540540541, \"tpr\": 0.9866313983414355, \"n\": 5328}, {\"threshold\": 0.689, \"p\": 27976, \"fpr\": 0.9290540540540541, \"tpr\": 0.9866313983414355, \"n\": 5328}, {\"threshold\": 0.69, \"p\": 27976, \"fpr\": 0.9290540540540541, \"tpr\": 0.986559908492994, \"n\": 5328}, {\"threshold\": 0.691, \"p\": 27976, \"fpr\": 0.9290540540540541, \"tpr\": 0.986559908492994, \"n\": 5328}, {\"threshold\": 0.692, \"p\": 27976, \"fpr\": 0.9290540540540541, \"tpr\": 0.986559908492994, \"n\": 5328}, {\"threshold\": 0.693, \"p\": 27976, \"fpr\": 0.9290540540540541, \"tpr\": 0.986559908492994, \"n\": 5328}, {\"threshold\": 0.694, \"p\": 27976, \"fpr\": 0.9290540540540541, \"tpr\": 0.986559908492994, \"n\": 5328}, {\"threshold\": 0.695, \"p\": 27976, \"fpr\": 0.9290540540540541, \"tpr\": 0.986559908492994, \"n\": 5328}, {\"threshold\": 0.696, \"p\": 27976, \"fpr\": 0.9290540540540541, \"tpr\": 0.986559908492994, \"n\": 5328}, {\"threshold\": 0.697, \"p\": 27976, \"fpr\": 0.9290540540540541, \"tpr\": 0.986559908492994, \"n\": 5328}, {\"threshold\": 0.698, \"p\": 27976, \"fpr\": 0.9290540540540541, \"tpr\": 0.986559908492994, \"n\": 5328}, {\"threshold\": 0.699, \"p\": 27976, \"fpr\": 0.9271771771771772, \"tpr\": 0.9861309694023449, \"n\": 5328}, {\"threshold\": 0.7, \"p\": 27976, \"fpr\": 0.9271771771771772, \"tpr\": 0.9861309694023449, \"n\": 5328}, {\"threshold\": 0.701, \"p\": 27976, \"fpr\": 0.9271771771771772, \"tpr\": 0.9860594795539034, \"n\": 5328}, {\"threshold\": 0.702, \"p\": 27976, \"fpr\": 0.9271771771771772, \"tpr\": 0.9860594795539034, \"n\": 5328}, {\"threshold\": 0.703, \"p\": 27976, \"fpr\": 0.9271771771771772, \"tpr\": 0.9860594795539034, \"n\": 5328}, {\"threshold\": 0.704, \"p\": 27976, \"fpr\": 0.9271771771771772, \"tpr\": 0.9860594795539034, \"n\": 5328}, {\"threshold\": 0.705, \"p\": 27976, \"fpr\": 0.9271771771771772, \"tpr\": 0.9860594795539034, \"n\": 5328}, {\"threshold\": 0.706, \"p\": 27976, \"fpr\": 0.9271771771771772, \"tpr\": 0.9860594795539034, \"n\": 5328}, {\"threshold\": 0.707, \"p\": 27976, \"fpr\": 0.9271771771771772, \"tpr\": 0.9860594795539034, \"n\": 5328}, {\"threshold\": 0.708, \"p\": 27976, \"fpr\": 0.9271771771771772, \"tpr\": 0.9860594795539034, \"n\": 5328}, {\"threshold\": 0.709, \"p\": 27976, \"fpr\": 0.9271771771771772, \"tpr\": 0.9860594795539034, \"n\": 5328}, {\"threshold\": 0.71, \"p\": 27976, \"fpr\": 0.9271771771771772, \"tpr\": 0.9860594795539034, \"n\": 5328}, {\"threshold\": 0.711, \"p\": 27976, \"fpr\": 0.9271771771771772, \"tpr\": 0.9860594795539034, \"n\": 5328}, {\"threshold\": 0.712, \"p\": 27976, \"fpr\": 0.9271771771771772, \"tpr\": 0.9860594795539034, \"n\": 5328}, {\"threshold\": 0.713, \"p\": 27976, \"fpr\": 0.9271771771771772, \"tpr\": 0.9860594795539034, \"n\": 5328}, {\"threshold\": 0.714, \"p\": 27976, \"fpr\": 0.9271771771771772, \"tpr\": 0.9860594795539034, \"n\": 5328}, {\"threshold\": 0.715, \"p\": 27976, \"fpr\": 0.9271771771771772, \"tpr\": 0.9860594795539034, \"n\": 5328}, {\"threshold\": 0.716, \"p\": 27976, \"fpr\": 0.9271771771771772, \"tpr\": 0.9860594795539034, \"n\": 5328}, {\"threshold\": 0.717, \"p\": 27976, \"fpr\": 0.9271771771771772, \"tpr\": 0.9860594795539034, \"n\": 5328}, {\"threshold\": 0.718, \"p\": 27976, \"fpr\": 0.9271771771771772, \"tpr\": 0.9860594795539034, \"n\": 5328}, {\"threshold\": 0.719, \"p\": 27976, \"fpr\": 0.9271771771771772, \"tpr\": 0.9860594795539034, \"n\": 5328}, {\"threshold\": 0.72, \"p\": 27976, \"fpr\": 0.9271771771771772, \"tpr\": 0.9860594795539034, \"n\": 5328}, {\"threshold\": 0.721, \"p\": 27976, \"fpr\": 0.9271771771771772, \"tpr\": 0.9860594795539034, \"n\": 5328}, {\"threshold\": 0.722, \"p\": 27976, \"fpr\": 0.9271771771771772, \"tpr\": 0.9860594795539034, \"n\": 5328}, {\"threshold\": 0.723, \"p\": 27976, \"fpr\": 0.9271771771771772, \"tpr\": 0.9860594795539034, \"n\": 5328}, {\"threshold\": 0.724, \"p\": 27976, \"fpr\": 0.9271771771771772, \"tpr\": 0.9860594795539034, \"n\": 5328}, {\"threshold\": 0.725, \"p\": 27976, \"fpr\": 0.9271771771771772, \"tpr\": 0.9860594795539034, \"n\": 5328}, {\"threshold\": 0.726, \"p\": 27976, \"fpr\": 0.9271771771771772, \"tpr\": 0.9860594795539034, \"n\": 5328}, {\"threshold\": 0.727, \"p\": 27976, \"fpr\": 0.9271771771771772, \"tpr\": 0.9860594795539034, \"n\": 5328}, {\"threshold\": 0.728, \"p\": 27976, \"fpr\": 0.9271771771771772, \"tpr\": 0.9860594795539034, \"n\": 5328}, {\"threshold\": 0.729, \"p\": 27976, \"fpr\": 0.9271771771771772, \"tpr\": 0.9860594795539034, \"n\": 5328}, {\"threshold\": 0.73, \"p\": 27976, \"fpr\": 0.9271771771771772, \"tpr\": 0.9860594795539034, \"n\": 5328}, {\"threshold\": 0.731, \"p\": 27976, \"fpr\": 0.9271771771771772, \"tpr\": 0.9860594795539034, \"n\": 5328}, {\"threshold\": 0.732, \"p\": 27976, \"fpr\": 0.9271771771771772, \"tpr\": 0.9859879897054619, \"n\": 5328}, {\"threshold\": 0.733, \"p\": 27976, \"fpr\": 0.9271771771771772, \"tpr\": 0.9859879897054619, \"n\": 5328}, {\"threshold\": 0.734, \"p\": 27976, \"fpr\": 0.9271771771771772, \"tpr\": 0.9859879897054619, \"n\": 5328}, {\"threshold\": 0.735, \"p\": 27976, \"fpr\": 0.9269894894894894, \"tpr\": 0.9859522447812411, \"n\": 5328}, {\"threshold\": 0.736, \"p\": 27976, \"fpr\": 0.9269894894894894, \"tpr\": 0.9859522447812411, \"n\": 5328}, {\"threshold\": 0.737, \"p\": 27976, \"fpr\": 0.9269894894894894, \"tpr\": 0.9859522447812411, \"n\": 5328}, {\"threshold\": 0.738, \"p\": 27976, \"fpr\": 0.9269894894894894, \"tpr\": 0.9859522447812411, \"n\": 5328}, {\"threshold\": 0.739, \"p\": 27976, \"fpr\": 0.9269894894894894, \"tpr\": 0.9859522447812411, \"n\": 5328}, {\"threshold\": 0.74, \"p\": 27976, \"fpr\": 0.9268018018018018, \"tpr\": 0.9858807549327996, \"n\": 5328}, {\"threshold\": 0.741, \"p\": 27976, \"fpr\": 0.9268018018018018, \"tpr\": 0.9858807549327996, \"n\": 5328}, {\"threshold\": 0.742, \"p\": 27976, \"fpr\": 0.9268018018018018, \"tpr\": 0.9858807549327996, \"n\": 5328}, {\"threshold\": 0.743, \"p\": 27976, \"fpr\": 0.9268018018018018, \"tpr\": 0.9858807549327996, \"n\": 5328}, {\"threshold\": 0.744, \"p\": 27976, \"fpr\": 0.9268018018018018, \"tpr\": 0.9858807549327996, \"n\": 5328}, {\"threshold\": 0.745, \"p\": 27976, \"fpr\": 0.9268018018018018, \"tpr\": 0.9858807549327996, \"n\": 5328}, {\"threshold\": 0.746, \"p\": 27976, \"fpr\": 0.9268018018018018, \"tpr\": 0.9858807549327996, \"n\": 5328}, {\"threshold\": 0.747, \"p\": 27976, \"fpr\": 0.9268018018018018, \"tpr\": 0.9858807549327996, \"n\": 5328}, {\"threshold\": 0.748, \"p\": 27976, \"fpr\": 0.9268018018018018, \"tpr\": 0.9858807549327996, \"n\": 5328}, {\"threshold\": 0.749, \"p\": 27976, \"fpr\": 0.9268018018018018, \"tpr\": 0.9858807549327996, \"n\": 5328}, {\"threshold\": 0.75, \"p\": 27976, \"fpr\": 0.9268018018018018, \"tpr\": 0.9858807549327996, \"n\": 5328}, {\"threshold\": 0.751, \"p\": 27976, \"fpr\": 0.9268018018018018, \"tpr\": 0.9858807549327996, \"n\": 5328}, {\"threshold\": 0.752, \"p\": 27976, \"fpr\": 0.9268018018018018, \"tpr\": 0.9858807549327996, \"n\": 5328}, {\"threshold\": 0.753, \"p\": 27976, \"fpr\": 0.9268018018018018, \"tpr\": 0.9858807549327996, \"n\": 5328}, {\"threshold\": 0.754, \"p\": 27976, \"fpr\": 0.9268018018018018, \"tpr\": 0.9858807549327996, \"n\": 5328}, {\"threshold\": 0.755, \"p\": 27976, \"fpr\": 0.9268018018018018, \"tpr\": 0.9858807549327996, \"n\": 5328}, {\"threshold\": 0.756, \"p\": 27976, \"fpr\": 0.9268018018018018, \"tpr\": 0.9858807549327996, \"n\": 5328}, {\"threshold\": 0.757, \"p\": 27976, \"fpr\": 0.9268018018018018, \"tpr\": 0.9858807549327996, \"n\": 5328}, {\"threshold\": 0.758, \"p\": 27976, \"fpr\": 0.9268018018018018, \"tpr\": 0.9858450100085788, \"n\": 5328}, {\"threshold\": 0.759, \"p\": 27976, \"fpr\": 0.9268018018018018, \"tpr\": 0.9858450100085788, \"n\": 5328}, {\"threshold\": 0.76, \"p\": 27976, \"fpr\": 0.9268018018018018, \"tpr\": 0.9858450100085788, \"n\": 5328}, {\"threshold\": 0.761, \"p\": 27976, \"fpr\": 0.9268018018018018, \"tpr\": 0.9858450100085788, \"n\": 5328}, {\"threshold\": 0.762, \"p\": 27976, \"fpr\": 0.9268018018018018, \"tpr\": 0.9857735201601373, \"n\": 5328}, {\"threshold\": 0.763, \"p\": 27976, \"fpr\": 0.9268018018018018, \"tpr\": 0.9857735201601373, \"n\": 5328}, {\"threshold\": 0.764, \"p\": 27976, \"fpr\": 0.9268018018018018, \"tpr\": 0.9857735201601373, \"n\": 5328}, {\"threshold\": 0.765, \"p\": 27976, \"fpr\": 0.9268018018018018, \"tpr\": 0.9857735201601373, \"n\": 5328}, {\"threshold\": 0.766, \"p\": 27976, \"fpr\": 0.9268018018018018, \"tpr\": 0.9857735201601373, \"n\": 5328}, {\"threshold\": 0.767, \"p\": 27976, \"fpr\": 0.9268018018018018, \"tpr\": 0.9857735201601373, \"n\": 5328}, {\"threshold\": 0.768, \"p\": 27976, \"fpr\": 0.9268018018018018, \"tpr\": 0.9857735201601373, \"n\": 5328}, {\"threshold\": 0.769, \"p\": 27976, \"fpr\": 0.9268018018018018, \"tpr\": 0.9857735201601373, \"n\": 5328}, {\"threshold\": 0.77, \"p\": 27976, \"fpr\": 0.9268018018018018, \"tpr\": 0.9857735201601373, \"n\": 5328}, {\"threshold\": 0.771, \"p\": 27976, \"fpr\": 0.9268018018018018, \"tpr\": 0.9857735201601373, \"n\": 5328}, {\"threshold\": 0.772, \"p\": 27976, \"fpr\": 0.9268018018018018, \"tpr\": 0.9857377752359165, \"n\": 5328}, {\"threshold\": 0.773, \"p\": 27976, \"fpr\": 0.9268018018018018, \"tpr\": 0.9857377752359165, \"n\": 5328}, {\"threshold\": 0.774, \"p\": 27976, \"fpr\": 0.9268018018018018, \"tpr\": 0.9857377752359165, \"n\": 5328}, {\"threshold\": 0.775, \"p\": 27976, \"fpr\": 0.9268018018018018, \"tpr\": 0.9857377752359165, \"n\": 5328}, {\"threshold\": 0.776, \"p\": 27976, \"fpr\": 0.9268018018018018, \"tpr\": 0.9857377752359165, \"n\": 5328}, {\"threshold\": 0.777, \"p\": 27976, \"fpr\": 0.9268018018018018, \"tpr\": 0.9857377752359165, \"n\": 5328}, {\"threshold\": 0.778, \"p\": 27976, \"fpr\": 0.9268018018018018, \"tpr\": 0.9857377752359165, \"n\": 5328}, {\"threshold\": 0.779, \"p\": 27976, \"fpr\": 0.9268018018018018, \"tpr\": 0.9857377752359165, \"n\": 5328}, {\"threshold\": 0.78, \"p\": 27976, \"fpr\": 0.9234234234234234, \"tpr\": 0.9838432942522162, \"n\": 5328}, {\"threshold\": 0.781, \"p\": 27976, \"fpr\": 0.9234234234234234, \"tpr\": 0.9838432942522162, \"n\": 5328}, {\"threshold\": 0.782, \"p\": 27976, \"fpr\": 0.9234234234234234, \"tpr\": 0.9837718044037747, \"n\": 5328}, {\"threshold\": 0.783, \"p\": 27976, \"fpr\": 0.9234234234234234, \"tpr\": 0.9837718044037747, \"n\": 5328}, {\"threshold\": 0.784, \"p\": 27976, \"fpr\": 0.9234234234234234, \"tpr\": 0.9837718044037747, \"n\": 5328}, {\"threshold\": 0.785, \"p\": 27976, \"fpr\": 0.9234234234234234, \"tpr\": 0.9837718044037747, \"n\": 5328}, {\"threshold\": 0.786, \"p\": 27976, \"fpr\": 0.9234234234234234, \"tpr\": 0.9837718044037747, \"n\": 5328}, {\"threshold\": 0.787, \"p\": 27976, \"fpr\": 0.9234234234234234, \"tpr\": 0.9837718044037747, \"n\": 5328}, {\"threshold\": 0.788, \"p\": 27976, \"fpr\": 0.9234234234234234, \"tpr\": 0.9837718044037747, \"n\": 5328}, {\"threshold\": 0.789, \"p\": 27976, \"fpr\": 0.9232357357357357, \"tpr\": 0.9835573348584501, \"n\": 5328}, {\"threshold\": 0.79, \"p\": 27976, \"fpr\": 0.9232357357357357, \"tpr\": 0.9835573348584501, \"n\": 5328}, {\"threshold\": 0.791, \"p\": 27976, \"fpr\": 0.9232357357357357, \"tpr\": 0.9835573348584501, \"n\": 5328}, {\"threshold\": 0.792, \"p\": 27976, \"fpr\": 0.9232357357357357, \"tpr\": 0.9835573348584501, \"n\": 5328}, {\"threshold\": 0.793, \"p\": 27976, \"fpr\": 0.9232357357357357, \"tpr\": 0.9835573348584501, \"n\": 5328}, {\"threshold\": 0.794, \"p\": 27976, \"fpr\": 0.9232357357357357, \"tpr\": 0.9835573348584501, \"n\": 5328}, {\"threshold\": 0.795, \"p\": 27976, \"fpr\": 0.9232357357357357, \"tpr\": 0.9835573348584501, \"n\": 5328}, {\"threshold\": 0.796, \"p\": 27976, \"fpr\": 0.9222972972972973, \"tpr\": 0.9829496711466972, \"n\": 5328}, {\"threshold\": 0.797, \"p\": 27976, \"fpr\": 0.1313813813813814, \"tpr\": 0.41446239633971976, \"n\": 5328}, {\"threshold\": 0.798, \"p\": 27976, \"fpr\": 0.1313813813813814, \"tpr\": 0.41446239633971976, \"n\": 5328}, {\"threshold\": 0.799, \"p\": 27976, \"fpr\": 0.1313813813813814, \"tpr\": 0.41446239633971976, \"n\": 5328}, {\"threshold\": 0.8, \"p\": 27976, \"fpr\": 0.1313813813813814, \"tpr\": 0.41446239633971976, \"n\": 5328}, {\"threshold\": 0.801, \"p\": 27976, \"fpr\": 0.1313813813813814, \"tpr\": 0.41446239633971976, \"n\": 5328}, {\"threshold\": 0.802, \"p\": 27976, \"fpr\": 0.1313813813813814, \"tpr\": 0.41446239633971976, \"n\": 5328}, {\"threshold\": 0.803, \"p\": 27976, \"fpr\": 0.1313813813813814, \"tpr\": 0.41446239633971976, \"n\": 5328}, {\"threshold\": 0.804, \"p\": 27976, \"fpr\": 0.1313813813813814, \"tpr\": 0.41446239633971976, \"n\": 5328}, {\"threshold\": 0.805, \"p\": 27976, \"fpr\": 0.1313813813813814, \"tpr\": 0.41446239633971976, \"n\": 5328}, {\"threshold\": 0.806, \"p\": 27976, \"fpr\": 0.1313813813813814, \"tpr\": 0.41446239633971976, \"n\": 5328}, {\"threshold\": 0.807, \"p\": 27976, \"fpr\": 0.1313813813813814, \"tpr\": 0.41446239633971976, \"n\": 5328}, {\"threshold\": 0.808, \"p\": 27976, \"fpr\": 0.1313813813813814, \"tpr\": 0.41446239633971976, \"n\": 5328}, {\"threshold\": 0.809, \"p\": 27976, \"fpr\": 0.131006006006006, \"tpr\": 0.41428367171861596, \"n\": 5328}, {\"threshold\": 0.81, \"p\": 27976, \"fpr\": 0.131006006006006, \"tpr\": 0.41428367171861596, \"n\": 5328}, {\"threshold\": 0.811, \"p\": 27976, \"fpr\": 0.131006006006006, \"tpr\": 0.41428367171861596, \"n\": 5328}, {\"threshold\": 0.812, \"p\": 27976, \"fpr\": 0.131006006006006, \"tpr\": 0.41428367171861596, \"n\": 5328}, {\"threshold\": 0.813, \"p\": 27976, \"fpr\": 0.131006006006006, \"tpr\": 0.41428367171861596, \"n\": 5328}, {\"threshold\": 0.814, \"p\": 27976, \"fpr\": 0.131006006006006, \"tpr\": 0.41428367171861596, \"n\": 5328}, {\"threshold\": 0.815, \"p\": 27976, \"fpr\": 0.131006006006006, \"tpr\": 0.41428367171861596, \"n\": 5328}, {\"threshold\": 0.816, \"p\": 27976, \"fpr\": 0.131006006006006, \"tpr\": 0.41428367171861596, \"n\": 5328}, {\"threshold\": 0.817, \"p\": 27976, \"fpr\": 0.131006006006006, \"tpr\": 0.41428367171861596, \"n\": 5328}, {\"threshold\": 0.818, \"p\": 27976, \"fpr\": 0.131006006006006, \"tpr\": 0.41428367171861596, \"n\": 5328}, {\"threshold\": 0.819, \"p\": 27976, \"fpr\": 0.131006006006006, \"tpr\": 0.41428367171861596, \"n\": 5328}, {\"threshold\": 0.82, \"p\": 27976, \"fpr\": 0.131006006006006, \"tpr\": 0.41428367171861596, \"n\": 5328}, {\"threshold\": 0.821, \"p\": 27976, \"fpr\": 0.131006006006006, \"tpr\": 0.41428367171861596, \"n\": 5328}, {\"threshold\": 0.822, \"p\": 27976, \"fpr\": 0.131006006006006, \"tpr\": 0.41428367171861596, \"n\": 5328}, {\"threshold\": 0.823, \"p\": 27976, \"fpr\": 0.131006006006006, \"tpr\": 0.41428367171861596, \"n\": 5328}, {\"threshold\": 0.824, \"p\": 27976, \"fpr\": 0.131006006006006, \"tpr\": 0.41428367171861596, \"n\": 5328}, {\"threshold\": 0.825, \"p\": 27976, \"fpr\": 0.131006006006006, \"tpr\": 0.41428367171861596, \"n\": 5328}, {\"threshold\": 0.826, \"p\": 27976, \"fpr\": 0.131006006006006, \"tpr\": 0.41428367171861596, \"n\": 5328}, {\"threshold\": 0.827, \"p\": 27976, \"fpr\": 0.1308183183183183, \"tpr\": 0.4141764369459537, \"n\": 5328}, {\"threshold\": 0.828, \"p\": 27976, \"fpr\": 0.1308183183183183, \"tpr\": 0.4141764369459537, \"n\": 5328}, {\"threshold\": 0.829, \"p\": 27976, \"fpr\": 0.1308183183183183, \"tpr\": 0.4141764369459537, \"n\": 5328}, {\"threshold\": 0.83, \"p\": 27976, \"fpr\": 0.1308183183183183, \"tpr\": 0.4141764369459537, \"n\": 5328}, {\"threshold\": 0.831, \"p\": 27976, \"fpr\": 0.1308183183183183, \"tpr\": 0.4141764369459537, \"n\": 5328}, {\"threshold\": 0.832, \"p\": 27976, \"fpr\": 0.1308183183183183, \"tpr\": 0.4141764369459537, \"n\": 5328}, {\"threshold\": 0.833, \"p\": 27976, \"fpr\": 0.1308183183183183, \"tpr\": 0.4141764369459537, \"n\": 5328}, {\"threshold\": 0.834, \"p\": 27976, \"fpr\": 0.1308183183183183, \"tpr\": 0.4141764369459537, \"n\": 5328}, {\"threshold\": 0.835, \"p\": 27976, \"fpr\": 0.1308183183183183, \"tpr\": 0.4141764369459537, \"n\": 5328}, {\"threshold\": 0.836, \"p\": 27976, \"fpr\": 0.1308183183183183, \"tpr\": 0.4141764369459537, \"n\": 5328}, {\"threshold\": 0.837, \"p\": 27976, \"fpr\": 0.1308183183183183, \"tpr\": 0.4141764369459537, \"n\": 5328}, {\"threshold\": 0.838, \"p\": 27976, \"fpr\": 0.1308183183183183, \"tpr\": 0.4141764369459537, \"n\": 5328}, {\"threshold\": 0.839, \"p\": 27976, \"fpr\": 0.1308183183183183, \"tpr\": 0.4141764369459537, \"n\": 5328}, {\"threshold\": 0.84, \"p\": 27976, \"fpr\": 0.13063063063063063, \"tpr\": 0.41410494709751217, \"n\": 5328}, {\"threshold\": 0.841, \"p\": 27976, \"fpr\": 0.13063063063063063, \"tpr\": 0.4140692021732914, \"n\": 5328}, {\"threshold\": 0.842, \"p\": 27976, \"fpr\": 0.13063063063063063, \"tpr\": 0.4140692021732914, \"n\": 5328}, {\"threshold\": 0.843, \"p\": 27976, \"fpr\": 0.13044294294294295, \"tpr\": 0.41403345724907065, \"n\": 5328}, {\"threshold\": 0.844, \"p\": 27976, \"fpr\": 0.13044294294294295, \"tpr\": 0.41403345724907065, \"n\": 5328}, {\"threshold\": 0.845, \"p\": 27976, \"fpr\": 0.13044294294294295, \"tpr\": 0.41403345724907065, \"n\": 5328}, {\"threshold\": 0.846, \"p\": 27976, \"fpr\": 0.13044294294294295, \"tpr\": 0.41403345724907065, \"n\": 5328}, {\"threshold\": 0.847, \"p\": 27976, \"fpr\": 0.13044294294294295, \"tpr\": 0.41403345724907065, \"n\": 5328}, {\"threshold\": 0.848, \"p\": 27976, \"fpr\": 0.13044294294294295, \"tpr\": 0.4139977123248499, \"n\": 5328}, {\"threshold\": 0.849, \"p\": 27976, \"fpr\": 0.13044294294294295, \"tpr\": 0.41385473262796685, \"n\": 5328}, {\"threshold\": 0.85, \"p\": 27976, \"fpr\": 0.13044294294294295, \"tpr\": 0.41385473262796685, \"n\": 5328}, {\"threshold\": 0.851, \"p\": 27976, \"fpr\": 0.13044294294294295, \"tpr\": 0.41385473262796685, \"n\": 5328}, {\"threshold\": 0.852, \"p\": 27976, \"fpr\": 0.13044294294294295, \"tpr\": 0.41385473262796685, \"n\": 5328}, {\"threshold\": 0.853, \"p\": 27976, \"fpr\": 0.13044294294294295, \"tpr\": 0.41385473262796685, \"n\": 5328}, {\"threshold\": 0.854, \"p\": 27976, \"fpr\": 0.13044294294294295, \"tpr\": 0.41385473262796685, \"n\": 5328}, {\"threshold\": 0.855, \"p\": 27976, \"fpr\": 0.13044294294294295, \"tpr\": 0.4138189877037461, \"n\": 5328}, {\"threshold\": 0.856, \"p\": 27976, \"fpr\": 0.12894144144144143, \"tpr\": 0.41149556762939665, \"n\": 5328}, {\"threshold\": 0.857, \"p\": 27976, \"fpr\": 0.12894144144144143, \"tpr\": 0.41149556762939665, \"n\": 5328}, {\"threshold\": 0.858, \"p\": 27976, \"fpr\": 0.12894144144144143, \"tpr\": 0.41149556762939665, \"n\": 5328}, {\"threshold\": 0.859, \"p\": 27976, \"fpr\": 0.12894144144144143, \"tpr\": 0.41149556762939665, \"n\": 5328}, {\"threshold\": 0.86, \"p\": 27976, \"fpr\": 0.12894144144144143, \"tpr\": 0.41149556762939665, \"n\": 5328}, {\"threshold\": 0.861, \"p\": 27976, \"fpr\": 0.12894144144144143, \"tpr\": 0.41149556762939665, \"n\": 5328}, {\"threshold\": 0.862, \"p\": 27976, \"fpr\": 0.12894144144144143, \"tpr\": 0.4114598227051759, \"n\": 5328}, {\"threshold\": 0.863, \"p\": 27976, \"fpr\": 0.12894144144144143, \"tpr\": 0.4114598227051759, \"n\": 5328}, {\"threshold\": 0.864, \"p\": 27976, \"fpr\": 0.12894144144144143, \"tpr\": 0.4114598227051759, \"n\": 5328}, {\"threshold\": 0.865, \"p\": 27976, \"fpr\": 0.12894144144144143, \"tpr\": 0.4114598227051759, \"n\": 5328}, {\"threshold\": 0.866, \"p\": 27976, \"fpr\": 0.12894144144144143, \"tpr\": 0.4114598227051759, \"n\": 5328}, {\"threshold\": 0.867, \"p\": 27976, \"fpr\": 0.12894144144144143, \"tpr\": 0.4114598227051759, \"n\": 5328}, {\"threshold\": 0.868, \"p\": 27976, \"fpr\": 0.12894144144144143, \"tpr\": 0.4114598227051759, \"n\": 5328}, {\"threshold\": 0.869, \"p\": 27976, \"fpr\": 0.12875375375375375, \"tpr\": 0.4114598227051759, \"n\": 5328}, {\"threshold\": 0.87, \"p\": 27976, \"fpr\": 0.12875375375375375, \"tpr\": 0.4114598227051759, \"n\": 5328}, {\"threshold\": 0.871, \"p\": 27976, \"fpr\": 0.12875375375375375, \"tpr\": 0.4114598227051759, \"n\": 5328}, {\"threshold\": 0.872, \"p\": 27976, \"fpr\": 0.12875375375375375, \"tpr\": 0.4114598227051759, \"n\": 5328}, {\"threshold\": 0.873, \"p\": 27976, \"fpr\": 0.12875375375375375, \"tpr\": 0.4114598227051759, \"n\": 5328}, {\"threshold\": 0.874, \"p\": 27976, \"fpr\": 0.12875375375375375, \"tpr\": 0.4114598227051759, \"n\": 5328}, {\"threshold\": 0.875, \"p\": 27976, \"fpr\": 0.12875375375375375, \"tpr\": 0.4114598227051759, \"n\": 5328}, {\"threshold\": 0.876, \"p\": 27976, \"fpr\": 0.12875375375375375, \"tpr\": 0.4114598227051759, \"n\": 5328}, {\"threshold\": 0.877, \"p\": 27976, \"fpr\": 0.12875375375375375, \"tpr\": 0.4114598227051759, \"n\": 5328}, {\"threshold\": 0.878, \"p\": 27976, \"fpr\": 0.12875375375375375, \"tpr\": 0.4114598227051759, \"n\": 5328}, {\"threshold\": 0.879, \"p\": 27976, \"fpr\": 0.12875375375375375, \"tpr\": 0.4114598227051759, \"n\": 5328}, {\"threshold\": 0.88, \"p\": 27976, \"fpr\": 0.12875375375375375, \"tpr\": 0.4114598227051759, \"n\": 5328}, {\"threshold\": 0.881, \"p\": 27976, \"fpr\": 0.12875375375375375, \"tpr\": 0.4114598227051759, \"n\": 5328}, {\"threshold\": 0.882, \"p\": 27976, \"fpr\": 0.12875375375375375, \"tpr\": 0.4114598227051759, \"n\": 5328}, {\"threshold\": 0.883, \"p\": 27976, \"fpr\": 0.12875375375375375, \"tpr\": 0.4114598227051759, \"n\": 5328}, {\"threshold\": 0.884, \"p\": 27976, \"fpr\": 0.12875375375375375, \"tpr\": 0.4114598227051759, \"n\": 5328}, {\"threshold\": 0.885, \"p\": 27976, \"fpr\": 0.12875375375375375, \"tpr\": 0.4114598227051759, \"n\": 5328}, {\"threshold\": 0.886, \"p\": 27976, \"fpr\": 0.12875375375375375, \"tpr\": 0.4114598227051759, \"n\": 5328}, {\"threshold\": 0.887, \"p\": 27976, \"fpr\": 0.12875375375375375, \"tpr\": 0.4114598227051759, \"n\": 5328}, {\"threshold\": 0.888, \"p\": 27976, \"fpr\": 0.12875375375375375, \"tpr\": 0.4114598227051759, \"n\": 5328}, {\"threshold\": 0.889, \"p\": 27976, \"fpr\": 0.12875375375375375, \"tpr\": 0.4113883328567343, \"n\": 5328}, {\"threshold\": 0.89, \"p\": 27976, \"fpr\": 0.12875375375375375, \"tpr\": 0.4113883328567343, \"n\": 5328}, {\"threshold\": 0.891, \"p\": 27976, \"fpr\": 0.12875375375375375, \"tpr\": 0.4113883328567343, \"n\": 5328}, {\"threshold\": 0.892, \"p\": 27976, \"fpr\": 0.12875375375375375, \"tpr\": 0.4113883328567343, \"n\": 5328}, {\"threshold\": 0.893, \"p\": 27976, \"fpr\": 0.12875375375375375, \"tpr\": 0.4113883328567343, \"n\": 5328}, {\"threshold\": 0.894, \"p\": 27976, \"fpr\": 0.12875375375375375, \"tpr\": 0.4113883328567343, \"n\": 5328}, {\"threshold\": 0.895, \"p\": 27976, \"fpr\": 0.12875375375375375, \"tpr\": 0.4113883328567343, \"n\": 5328}, {\"threshold\": 0.896, \"p\": 27976, \"fpr\": 0.12856606606606608, \"tpr\": 0.41099513869030596, \"n\": 5328}, {\"threshold\": 0.897, \"p\": 27976, \"fpr\": 0.12856606606606608, \"tpr\": 0.4109593937660852, \"n\": 5328}, {\"threshold\": 0.898, \"p\": 27976, \"fpr\": 0.12837837837837837, \"tpr\": 0.41081641406920216, \"n\": 5328}, {\"threshold\": 0.899, \"p\": 27976, \"fpr\": 0.12837837837837837, \"tpr\": 0.41081641406920216, \"n\": 5328}, {\"threshold\": 0.9, \"p\": 27976, \"fpr\": 0.1281906906906907, \"tpr\": 0.41074492422076064, \"n\": 5328}, {\"threshold\": 0.901, \"p\": 27976, \"fpr\": 0.1281906906906907, \"tpr\": 0.4107091792965399, \"n\": 5328}, {\"threshold\": 0.902, \"p\": 27976, \"fpr\": 0.1281906906906907, \"tpr\": 0.4107091792965399, \"n\": 5328}, {\"threshold\": 0.903, \"p\": 27976, \"fpr\": 0.1281906906906907, \"tpr\": 0.4107091792965399, \"n\": 5328}, {\"threshold\": 0.904, \"p\": 27976, \"fpr\": 0.1281906906906907, \"tpr\": 0.41056619959965684, \"n\": 5328}, {\"threshold\": 0.905, \"p\": 27976, \"fpr\": 0.05442942942942943, \"tpr\": 0.26594223620245927, \"n\": 5328}, {\"threshold\": 0.906, \"p\": 27976, \"fpr\": 0.05105105105105105, \"tpr\": 0.2600800686302545, \"n\": 5328}, {\"threshold\": 0.907, \"p\": 27976, \"fpr\": 0.05105105105105105, \"tpr\": 0.2600800686302545, \"n\": 5328}, {\"threshold\": 0.908, \"p\": 27976, \"fpr\": 0.05105105105105105, \"tpr\": 0.2600800686302545, \"n\": 5328}, {\"threshold\": 0.909, \"p\": 27976, \"fpr\": 0.05105105105105105, \"tpr\": 0.2600800686302545, \"n\": 5328}, {\"threshold\": 0.91, \"p\": 27976, \"fpr\": 0.05105105105105105, \"tpr\": 0.2600800686302545, \"n\": 5328}, {\"threshold\": 0.911, \"p\": 27976, \"fpr\": 0.05105105105105105, \"tpr\": 0.260008578781813, \"n\": 5328}, {\"threshold\": 0.912, \"p\": 27976, \"fpr\": 0.05105105105105105, \"tpr\": 0.260008578781813, \"n\": 5328}, {\"threshold\": 0.913, \"p\": 27976, \"fpr\": 0.05105105105105105, \"tpr\": 0.260008578781813, \"n\": 5328}, {\"threshold\": 0.914, \"p\": 27976, \"fpr\": 0.05105105105105105, \"tpr\": 0.260008578781813, \"n\": 5328}, {\"threshold\": 0.915, \"p\": 27976, \"fpr\": 0.05105105105105105, \"tpr\": 0.260008578781813, \"n\": 5328}, {\"threshold\": 0.916, \"p\": 27976, \"fpr\": 0.05105105105105105, \"tpr\": 0.260008578781813, \"n\": 5328}, {\"threshold\": 0.917, \"p\": 27976, \"fpr\": 0.05105105105105105, \"tpr\": 0.260008578781813, \"n\": 5328}, {\"threshold\": 0.918, \"p\": 27976, \"fpr\": 0.05105105105105105, \"tpr\": 0.260008578781813, \"n\": 5328}, {\"threshold\": 0.919, \"p\": 27976, \"fpr\": 0.04973723723723724, \"tpr\": 0.25439662567915355, \"n\": 5328}, {\"threshold\": 0.92, \"p\": 27976, \"fpr\": 0.04973723723723724, \"tpr\": 0.25439662567915355, \"n\": 5328}, {\"threshold\": 0.921, \"p\": 27976, \"fpr\": 0.04973723723723724, \"tpr\": 0.2543608807549328, \"n\": 5328}, {\"threshold\": 0.922, \"p\": 27976, \"fpr\": 0.04973723723723724, \"tpr\": 0.2543608807549328, \"n\": 5328}, {\"threshold\": 0.923, \"p\": 27976, \"fpr\": 0.04973723723723724, \"tpr\": 0.2543608807549328, \"n\": 5328}, {\"threshold\": 0.924, \"p\": 27976, \"fpr\": 0.04973723723723724, \"tpr\": 0.2543608807549328, \"n\": 5328}, {\"threshold\": 0.925, \"p\": 27976, \"fpr\": 0.04973723723723724, \"tpr\": 0.2543608807549328, \"n\": 5328}, {\"threshold\": 0.926, \"p\": 27976, \"fpr\": 0.04973723723723724, \"tpr\": 0.2543608807549328, \"n\": 5328}, {\"threshold\": 0.927, \"p\": 27976, \"fpr\": 0.04973723723723724, \"tpr\": 0.2543608807549328, \"n\": 5328}, {\"threshold\": 0.928, \"p\": 27976, \"fpr\": 0.04973723723723724, \"tpr\": 0.2543608807549328, \"n\": 5328}, {\"threshold\": 0.929, \"p\": 27976, \"fpr\": 0.04973723723723724, \"tpr\": 0.2543608807549328, \"n\": 5328}, {\"threshold\": 0.93, \"p\": 27976, \"fpr\": 0.04973723723723724, \"tpr\": 0.2543608807549328, \"n\": 5328}, {\"threshold\": 0.931, \"p\": 27976, \"fpr\": 0.04973723723723724, \"tpr\": 0.2543608807549328, \"n\": 5328}, {\"threshold\": 0.932, \"p\": 27976, \"fpr\": 0.04954954954954955, \"tpr\": 0.2543608807549328, \"n\": 5328}, {\"threshold\": 0.933, \"p\": 27976, \"fpr\": 0.04954954954954955, \"tpr\": 0.2543608807549328, \"n\": 5328}, {\"threshold\": 0.934, \"p\": 27976, \"fpr\": 0.04954954954954955, \"tpr\": 0.2543608807549328, \"n\": 5328}, {\"threshold\": 0.935, \"p\": 27976, \"fpr\": 0.048986486486486486, \"tpr\": 0.2538961967400629, \"n\": 5328}, {\"threshold\": 0.936, \"p\": 27976, \"fpr\": 0.048986486486486486, \"tpr\": 0.2538247068916214, \"n\": 5328}, {\"threshold\": 0.937, \"p\": 27976, \"fpr\": 0.048986486486486486, \"tpr\": 0.2538247068916214, \"n\": 5328}, {\"threshold\": 0.938, \"p\": 27976, \"fpr\": 0.048986486486486486, \"tpr\": 0.2536459822705176, \"n\": 5328}, {\"threshold\": 0.939, \"p\": 27976, \"fpr\": 0.048986486486486486, \"tpr\": 0.2536459822705176, \"n\": 5328}, {\"threshold\": 0.94, \"p\": 27976, \"fpr\": 0.048986486486486486, \"tpr\": 0.2536459822705176, \"n\": 5328}, {\"threshold\": 0.941, \"p\": 27976, \"fpr\": 0.016516516516516516, \"tpr\": 0.11749356591364027, \"n\": 5328}, {\"threshold\": 0.942, \"p\": 27976, \"fpr\": 0.016516516516516516, \"tpr\": 0.11749356591364027, \"n\": 5328}, {\"threshold\": 0.943, \"p\": 27976, \"fpr\": 0.016516516516516516, \"tpr\": 0.11749356591364027, \"n\": 5328}, {\"threshold\": 0.944, \"p\": 27976, \"fpr\": 0.016516516516516516, \"tpr\": 0.11749356591364027, \"n\": 5328}, {\"threshold\": 0.945, \"p\": 27976, \"fpr\": 0.016516516516516516, \"tpr\": 0.11749356591364027, \"n\": 5328}, {\"threshold\": 0.946, \"p\": 27976, \"fpr\": 0.016516516516516516, \"tpr\": 0.11749356591364027, \"n\": 5328}, {\"threshold\": 0.947, \"p\": 27976, \"fpr\": 0.016516516516516516, \"tpr\": 0.11749356591364027, \"n\": 5328}, {\"threshold\": 0.948, \"p\": 27976, \"fpr\": 0.016516516516516516, \"tpr\": 0.11749356591364027, \"n\": 5328}, {\"threshold\": 0.949, \"p\": 27976, \"fpr\": 0.016516516516516516, \"tpr\": 0.11749356591364027, \"n\": 5328}, {\"threshold\": 0.95, \"p\": 27976, \"fpr\": 0.016516516516516516, \"tpr\": 0.11749356591364027, \"n\": 5328}, {\"threshold\": 0.951, \"p\": 27976, \"fpr\": 0.016516516516516516, \"tpr\": 0.11749356591364027, \"n\": 5328}, {\"threshold\": 0.952, \"p\": 27976, \"fpr\": 0.016516516516516516, \"tpr\": 0.11749356591364027, \"n\": 5328}, {\"threshold\": 0.953, \"p\": 27976, \"fpr\": 0.016516516516516516, \"tpr\": 0.11749356591364027, \"n\": 5328}, {\"threshold\": 0.954, \"p\": 27976, \"fpr\": 0.016516516516516516, \"tpr\": 0.11749356591364027, \"n\": 5328}, {\"threshold\": 0.955, \"p\": 27976, \"fpr\": 0.01632882882882883, \"tpr\": 0.11738633114097798, \"n\": 5328}, {\"threshold\": 0.956, \"p\": 27976, \"fpr\": 0.01632882882882883, \"tpr\": 0.11738633114097798, \"n\": 5328}, {\"threshold\": 0.957, \"p\": 27976, \"fpr\": 0.01632882882882883, \"tpr\": 0.11738633114097798, \"n\": 5328}, {\"threshold\": 0.958, \"p\": 27976, \"fpr\": 0.01632882882882883, \"tpr\": 0.11735058621675722, \"n\": 5328}, {\"threshold\": 0.959, \"p\": 27976, \"fpr\": 0.01126126126126126, \"tpr\": 0.09318701744352302, \"n\": 5328}, {\"threshold\": 0.96, \"p\": 27976, \"fpr\": 0.011073573573573574, \"tpr\": 0.09307978267086074, \"n\": 5328}, {\"threshold\": 0.961, \"p\": 27976, \"fpr\": 0.011073573573573574, \"tpr\": 0.09265084358021161, \"n\": 5328}, {\"threshold\": 0.962, \"p\": 27976, \"fpr\": 0.011073573573573574, \"tpr\": 0.09261509865599085, \"n\": 5328}, {\"threshold\": 0.963, \"p\": 27976, \"fpr\": 0.011073573573573574, \"tpr\": 0.09261509865599085, \"n\": 5328}, {\"threshold\": 0.964, \"p\": 27976, \"fpr\": 0.011073573573573574, \"tpr\": 0.09261509865599085, \"n\": 5328}, {\"threshold\": 0.965, \"p\": 27976, \"fpr\": 0.010885885885885885, \"tpr\": 0.0905776379754075, \"n\": 5328}, {\"threshold\": 0.966, \"p\": 27976, \"fpr\": 0.010885885885885885, \"tpr\": 0.09043465827852445, \"n\": 5328}, {\"threshold\": 0.967, \"p\": 27976, \"fpr\": 0.010885885885885885, \"tpr\": 0.09043465827852445, \"n\": 5328}, {\"threshold\": 0.968, \"p\": 27976, \"fpr\": 0.010885885885885885, \"tpr\": 0.09043465827852445, \"n\": 5328}, {\"threshold\": 0.969, \"p\": 27976, \"fpr\": 0.010885885885885885, \"tpr\": 0.09043465827852445, \"n\": 5328}, {\"threshold\": 0.97, \"p\": 27976, \"fpr\": 0.010885885885885885, \"tpr\": 0.0903989133543037, \"n\": 5328}, {\"threshold\": 0.971, \"p\": 27976, \"fpr\": 0.010885885885885885, \"tpr\": 0.0902916785816414, \"n\": 5328}, {\"threshold\": 0.972, \"p\": 27976, \"fpr\": 0.010885885885885885, \"tpr\": 0.09025593365742064, \"n\": 5328}, {\"threshold\": 0.973, \"p\": 27976, \"fpr\": 0.010698198198198198, \"tpr\": 0.0901129539605376, \"n\": 5328}, {\"threshold\": 0.974, \"p\": 27976, \"fpr\": 0.010698198198198198, \"tpr\": 0.0901129539605376, \"n\": 5328}, {\"threshold\": 0.975, \"p\": 27976, \"fpr\": 0.00487987987987988, \"tpr\": 0.05461824420932228, \"n\": 5328}, {\"threshold\": 0.976, \"p\": 27976, \"fpr\": 0.00487987987987988, \"tpr\": 0.05461824420932228, \"n\": 5328}, {\"threshold\": 0.977, \"p\": 27976, \"fpr\": 0.00487987987987988, \"tpr\": 0.05458249928510152, \"n\": 5328}, {\"threshold\": 0.978, \"p\": 27976, \"fpr\": 0.00487987987987988, \"tpr\": 0.05458249928510152, \"n\": 5328}, {\"threshold\": 0.979, \"p\": 27976, \"fpr\": 0.004316816816816817, \"tpr\": 0.052294824134972835, \"n\": 5328}, {\"threshold\": 0.98, \"p\": 27976, \"fpr\": 0.004316816816816817, \"tpr\": 0.052294824134972835, \"n\": 5328}, {\"threshold\": 0.981, \"p\": 27976, \"fpr\": 0.004316816816816817, \"tpr\": 0.052223334286531316, \"n\": 5328}, {\"threshold\": 0.982, \"p\": 27976, \"fpr\": 0.004316816816816817, \"tpr\": 0.052223334286531316, \"n\": 5328}, {\"threshold\": 0.983, \"p\": 27976, \"fpr\": 0.003941441441441441, \"tpr\": 0.04818415784958536, \"n\": 5328}, {\"threshold\": 0.984, \"p\": 27976, \"fpr\": 0.003941441441441441, \"tpr\": 0.0481484129253646, \"n\": 5328}, {\"threshold\": 0.985, \"p\": 27976, \"fpr\": 0.0018768768768768769, \"tpr\": 0.02802402058907635, \"n\": 5328}, {\"threshold\": 0.986, \"p\": 27976, \"fpr\": 0.0016891891891891893, \"tpr\": 0.027630826422647983, \"n\": 5328}, {\"threshold\": 0.987, \"p\": 27976, \"fpr\": 0.0016891891891891893, \"tpr\": 0.027595081498427224, \"n\": 5328}, {\"threshold\": 0.988, \"p\": 27976, \"fpr\": 0.0016891891891891893, \"tpr\": 0.027559336574206464, \"n\": 5328}, {\"threshold\": 0.989, \"p\": 27976, \"fpr\": 0.0016891891891891893, \"tpr\": 0.027559336574206464, \"n\": 5328}, {\"threshold\": 0.99, \"p\": 27976, \"fpr\": 0.001313813813813814, \"tpr\": 0.021053760366028025, \"n\": 5328}, {\"threshold\": 0.991, \"p\": 27976, \"fpr\": 0.001313813813813814, \"tpr\": 0.021018015441807262, \"n\": 5328}, {\"threshold\": 0.992, \"p\": 27976, \"fpr\": 0.001313813813813814, \"tpr\": 0.020589076351158135, \"n\": 5328}, {\"threshold\": 0.993, \"p\": 27976, \"fpr\": 0.0009384384384384384, \"tpr\": 0.019909922790963683, \"n\": 5328}, {\"threshold\": 0.994, \"p\": 27976, \"fpr\": 0.0005630630630630631, \"tpr\": 0.013046897340577637, \"n\": 5328}, {\"threshold\": 0.995, \"p\": 27976, \"fpr\": 0.0005630630630630631, \"tpr\": 0.01254646840148699, \"n\": 5328}, {\"threshold\": 0.996, \"p\": 27976, \"fpr\": 0.00037537537537537537, \"tpr\": 0.011402630826422648, \"n\": 5328}, {\"threshold\": 0.997, \"p\": 27976, \"fpr\": 0.00037537537537537537, \"tpr\": 0.007041750071489848, \"n\": 5328}, {\"threshold\": 0.998, \"p\": 27976, \"fpr\": 0.00018768768768768769, \"tpr\": 0.00546897340577638, \"n\": 5328}, {\"threshold\": 0.999, \"p\": 27976, \"fpr\": 0.00018768768768768769, \"tpr\": 0.0030383185587646556, \"n\": 5328}, {\"threshold\": 1.0, \"p\": 27976, \"fpr\": 0.0, \"tpr\": 0.0, \"n\": 5328}], \"confusion_matrix\": [{\"count\": 234, \"target_label\": 0, \"predicted_label\": 0}, {\"count\": 130, \"target_label\": 1, \"predicted_label\": 0}, {\"count\": 5094, \"target_label\": 0, \"predicted_label\": 1}, {\"count\": 27846, \"target_label\": 1, \"predicted_label\": 1}], \"accuracy\": 0.8431419649291376}]], \"type\": \"Model\"}, \"ipython\": true, \"view_params\": {\"model_type\": \"regression\", \"view\": \"Evaluation\"}, \"model_type\": \"regression\", \"attributes\": {\"section_titles\": [\"Schema\", \"Hyperparameters\", \"Training Summary\", \"Settings\", \"Highest Positive Coefficients\", \"Lowest Negative Coefficients\"], \"sections\": [[[\"Number of coefficients\", 12], [\"Number of examples\", 133448], [\"Number of classes\", 2], [\"Number of feature columns\", 11], [\"Number of unpacked features\", 11]], [[\"L1 penalty\", 0.0], [\"L2 penalty\", 0.01]], [[\"Solver\", \"newton\"], [\"Solver iterations\", 6], [\"Solver status\", \"SUCCESS: Optimal solution found.\"], [\"Training time (sec)\", 0.9948]], [[\"Log-likelihood\", 54057.6401]], [[\"love\", 1.3999], [\"(intercept)\", 1.3673], [\"awesome\", 1.058], [\"amazing\", 0.8928], [\"fantastic\", 0.8913]], [[\"terrible\", -2.0905], [\"horrible\", -1.9965], [\"awful\", -1.7647], [\"hate\", -1.4092], [\"bad\", -0.9858]]]}, \"evaluations\": [[\"test_data\", {\"f1_score\": 0.914242563530107, \"auc\": 0.6648096413721418, \"recall\": 0.9953531598513011, \"precision\": 0.8453551912568306, \"log_loss\": 0.4054747110365649, \"roc_curve\": [{\"threshold\": 0.0, \"p\": 27976, \"fpr\": 1.0, \"tpr\": 1.0, \"n\": 5328}, {\"threshold\": 0.001, \"p\": 27976, \"fpr\": 0.9998123123123123, \"tpr\": 1.0, \"n\": 5328}, {\"threshold\": 0.002, \"p\": 27976, \"fpr\": 0.9996246246246246, \"tpr\": 1.0, \"n\": 5328}, {\"threshold\": 0.003, \"p\": 27976, \"fpr\": 0.9996246246246246, \"tpr\": 1.0, \"n\": 5328}, {\"threshold\": 0.004, \"p\": 27976, \"fpr\": 0.9994369369369369, \"tpr\": 1.0, \"n\": 5328}, {\"threshold\": 0.005, \"p\": 27976, \"fpr\": 0.9994369369369369, \"tpr\": 1.0, \"n\": 5328}, {\"threshold\": 0.006, \"p\": 27976, \"fpr\": 0.9992492492492493, \"tpr\": 1.0, \"n\": 5328}, {\"threshold\": 0.007, \"p\": 27976, \"fpr\": 0.9992492492492493, \"tpr\": 1.0, \"n\": 5328}, {\"threshold\": 0.008, \"p\": 27976, \"fpr\": 0.9992492492492493, \"tpr\": 1.0, \"n\": 5328}, {\"threshold\": 0.009, \"p\": 27976, \"fpr\": 0.9992492492492493, \"tpr\": 1.0, \"n\": 5328}, {\"threshold\": 0.01, \"p\": 27976, \"fpr\": 0.9990615615615616, \"tpr\": 1.0, \"n\": 5328}, {\"threshold\": 0.011, \"p\": 27976, \"fpr\": 0.9990615615615616, \"tpr\": 1.0, \"n\": 5328}, {\"threshold\": 0.012, \"p\": 27976, \"fpr\": 0.9990615615615616, \"tpr\": 1.0, \"n\": 5328}, {\"threshold\": 0.013, \"p\": 27976, \"fpr\": 0.9990615615615616, \"tpr\": 1.0, \"n\": 5328}, {\"threshold\": 0.014, \"p\": 27976, \"fpr\": 0.9990615615615616, \"tpr\": 1.0, \"n\": 5328}, {\"threshold\": 0.015, \"p\": 27976, \"fpr\": 0.9990615615615616, \"tpr\": 1.0, \"n\": 5328}, {\"threshold\": 0.016, \"p\": 27976, \"fpr\": 0.9990615615615616, \"tpr\": 1.0, \"n\": 5328}, {\"threshold\": 0.017, \"p\": 27976, \"fpr\": 0.9990615615615616, \"tpr\": 1.0, \"n\": 5328}, {\"threshold\": 0.018, \"p\": 27976, \"fpr\": 0.9990615615615616, \"tpr\": 1.0, \"n\": 5328}, {\"threshold\": 0.019, \"p\": 27976, \"fpr\": 0.9990615615615616, \"tpr\": 1.0, \"n\": 5328}, {\"threshold\": 0.02, \"p\": 27976, \"fpr\": 0.9988738738738738, \"tpr\": 1.0, \"n\": 5328}, {\"threshold\": 0.021, \"p\": 27976, \"fpr\": 0.9988738738738738, \"tpr\": 1.0, \"n\": 5328}, {\"threshold\": 0.022, \"p\": 27976, \"fpr\": 0.9988738738738738, \"tpr\": 1.0, \"n\": 5328}, {\"threshold\": 0.023, \"p\": 27976, \"fpr\": 0.9988738738738738, \"tpr\": 1.0, \"n\": 5328}, {\"threshold\": 0.024, \"p\": 27976, \"fpr\": 0.9988738738738738, \"tpr\": 1.0, \"n\": 5328}, {\"threshold\": 0.025, \"p\": 27976, \"fpr\": 0.9988738738738738, \"tpr\": 1.0, \"n\": 5328}, {\"threshold\": 0.026, \"p\": 27976, \"fpr\": 0.9988738738738738, \"tpr\": 1.0, \"n\": 5328}, {\"threshold\": 0.027, \"p\": 27976, \"fpr\": 0.9988738738738738, \"tpr\": 1.0, \"n\": 5328}, {\"threshold\": 0.028, \"p\": 27976, \"fpr\": 0.9988738738738738, \"tpr\": 1.0, \"n\": 5328}, {\"threshold\": 0.029, \"p\": 27976, \"fpr\": 0.9988738738738738, \"tpr\": 1.0, \"n\": 5328}, {\"threshold\": 0.03, \"p\": 27976, \"fpr\": 0.9988738738738738, \"tpr\": 1.0, \"n\": 5328}, {\"threshold\": 0.031, \"p\": 27976, \"fpr\": 0.9986861861861862, \"tpr\": 1.0, \"n\": 5328}, {\"threshold\": 0.032, \"p\": 27976, \"fpr\": 0.9986861861861862, \"tpr\": 1.0, \"n\": 5328}, {\"threshold\": 0.033, \"p\": 27976, \"fpr\": 0.9986861861861862, \"tpr\": 1.0, \"n\": 5328}, {\"threshold\": 0.034, \"p\": 27976, \"fpr\": 0.9986861861861862, \"tpr\": 1.0, \"n\": 5328}, {\"threshold\": 0.035, \"p\": 27976, \"fpr\": 0.9986861861861862, \"tpr\": 1.0, \"n\": 5328}, {\"threshold\": 0.036, \"p\": 27976, \"fpr\": 0.9986861861861862, \"tpr\": 1.0, \"n\": 5328}, {\"threshold\": 0.037, \"p\": 27976, \"fpr\": 0.9986861861861862, \"tpr\": 1.0, \"n\": 5328}, {\"threshold\": 0.038, \"p\": 27976, \"fpr\": 0.9986861861861862, \"tpr\": 1.0, \"n\": 5328}, {\"threshold\": 0.039, \"p\": 27976, \"fpr\": 0.9986861861861862, \"tpr\": 1.0, \"n\": 5328}, {\"threshold\": 0.04, \"p\": 27976, \"fpr\": 0.9986861861861862, \"tpr\": 1.0, \"n\": 5328}, {\"threshold\": 0.041, \"p\": 27976, \"fpr\": 0.9986861861861862, \"tpr\": 1.0, \"n\": 5328}, {\"threshold\": 0.042, \"p\": 27976, \"fpr\": 0.9986861861861862, \"tpr\": 1.0, \"n\": 5328}, {\"threshold\": 0.043, \"p\": 27976, \"fpr\": 0.9986861861861862, \"tpr\": 1.0, \"n\": 5328}, {\"threshold\": 0.044, \"p\": 27976, \"fpr\": 0.9986861861861862, \"tpr\": 1.0, \"n\": 5328}, {\"threshold\": 0.045, \"p\": 27976, \"fpr\": 0.9986861861861862, \"tpr\": 1.0, \"n\": 5328}, {\"threshold\": 0.046, \"p\": 27976, \"fpr\": 0.9986861861861862, \"tpr\": 1.0, \"n\": 5328}, {\"threshold\": 0.047, \"p\": 27976, \"fpr\": 0.9986861861861862, \"tpr\": 1.0, \"n\": 5328}, {\"threshold\": 0.048, \"p\": 27976, \"fpr\": 0.9986861861861862, \"tpr\": 1.0, \"n\": 5328}, {\"threshold\": 0.049, \"p\": 27976, \"fpr\": 0.9986861861861862, \"tpr\": 1.0, \"n\": 5328}, {\"threshold\": 0.05, \"p\": 27976, \"fpr\": 0.9986861861861862, \"tpr\": 1.0, \"n\": 5328}, {\"threshold\": 0.051, \"p\": 27976, \"fpr\": 0.9986861861861862, \"tpr\": 1.0, \"n\": 5328}, {\"threshold\": 0.052, \"p\": 27976, \"fpr\": 0.9986861861861862, \"tpr\": 1.0, \"n\": 5328}, {\"threshold\": 0.053, \"p\": 27976, \"fpr\": 0.9986861861861862, \"tpr\": 1.0, \"n\": 5328}, {\"threshold\": 0.054, \"p\": 27976, \"fpr\": 0.9986861861861862, \"tpr\": 1.0, \"n\": 5328}, {\"threshold\": 0.055, \"p\": 27976, \"fpr\": 0.9986861861861862, \"tpr\": 1.0, \"n\": 5328}, {\"threshold\": 0.056, \"p\": 27976, \"fpr\": 0.9986861861861862, \"tpr\": 1.0, \"n\": 5328}, {\"threshold\": 0.057, \"p\": 27976, \"fpr\": 0.9984984984984985, \"tpr\": 0.9999642550757792, \"n\": 5328}, {\"threshold\": 0.058, \"p\": 27976, \"fpr\": 0.9984984984984985, \"tpr\": 0.9999642550757792, \"n\": 5328}, {\"threshold\": 0.059, \"p\": 27976, \"fpr\": 0.9984984984984985, \"tpr\": 0.9999642550757792, \"n\": 5328}, {\"threshold\": 0.06, \"p\": 27976, \"fpr\": 0.9984984984984985, \"tpr\": 0.9999642550757792, \"n\": 5328}, {\"threshold\": 0.061, \"p\": 27976, \"fpr\": 0.9984984984984985, \"tpr\": 0.9999642550757792, \"n\": 5328}, {\"threshold\": 0.062, \"p\": 27976, \"fpr\": 0.9979354354354354, \"tpr\": 0.9999642550757792, \"n\": 5328}, {\"threshold\": 0.063, \"p\": 27976, \"fpr\": 0.9979354354354354, \"tpr\": 0.9999642550757792, \"n\": 5328}, {\"threshold\": 0.064, \"p\": 27976, \"fpr\": 0.9977477477477478, \"tpr\": 0.9999642550757792, \"n\": 5328}, {\"threshold\": 0.065, \"p\": 27976, \"fpr\": 0.9977477477477478, \"tpr\": 0.9999642550757792, \"n\": 5328}, {\"threshold\": 0.066, \"p\": 27976, \"fpr\": 0.9977477477477478, \"tpr\": 0.9999642550757792, \"n\": 5328}, {\"threshold\": 0.067, \"p\": 27976, \"fpr\": 0.9977477477477478, \"tpr\": 0.9999642550757792, \"n\": 5328}, {\"threshold\": 0.068, \"p\": 27976, \"fpr\": 0.9973723723723724, \"tpr\": 0.9999642550757792, \"n\": 5328}, {\"threshold\": 0.069, \"p\": 27976, \"fpr\": 0.9973723723723724, \"tpr\": 0.9999642550757792, \"n\": 5328}, {\"threshold\": 0.07, \"p\": 27976, \"fpr\": 0.9973723723723724, \"tpr\": 0.9999285101515585, \"n\": 5328}, {\"threshold\": 0.071, \"p\": 27976, \"fpr\": 0.9973723723723724, \"tpr\": 0.9999285101515585, \"n\": 5328}, {\"threshold\": 0.072, \"p\": 27976, \"fpr\": 0.9973723723723724, \"tpr\": 0.9999285101515585, \"n\": 5328}, {\"threshold\": 0.073, \"p\": 27976, \"fpr\": 0.9973723723723724, \"tpr\": 0.9999285101515585, \"n\": 5328}, {\"threshold\": 0.074, \"p\": 27976, \"fpr\": 0.9973723723723724, \"tpr\": 0.9999285101515585, \"n\": 5328}, {\"threshold\": 0.075, \"p\": 27976, \"fpr\": 0.9973723723723724, \"tpr\": 0.9999285101515585, \"n\": 5328}, {\"threshold\": 0.076, \"p\": 27976, \"fpr\": 0.9973723723723724, \"tpr\": 0.9999285101515585, \"n\": 5328}, {\"threshold\": 0.077, \"p\": 27976, \"fpr\": 0.9973723723723724, \"tpr\": 0.9999285101515585, \"n\": 5328}, {\"threshold\": 0.078, \"p\": 27976, \"fpr\": 0.9973723723723724, \"tpr\": 0.9999285101515585, \"n\": 5328}, {\"threshold\": 0.079, \"p\": 27976, \"fpr\": 0.9973723723723724, \"tpr\": 0.9999285101515585, \"n\": 5328}, {\"threshold\": 0.08, \"p\": 27976, \"fpr\": 0.9973723723723724, \"tpr\": 0.9999285101515585, \"n\": 5328}, {\"threshold\": 0.081, \"p\": 27976, \"fpr\": 0.9973723723723724, \"tpr\": 0.9999285101515585, \"n\": 5328}, {\"threshold\": 0.082, \"p\": 27976, \"fpr\": 0.9973723723723724, \"tpr\": 0.9999285101515585, \"n\": 5328}, {\"threshold\": 0.083, \"p\": 27976, \"fpr\": 0.9973723723723724, \"tpr\": 0.9999285101515585, \"n\": 5328}, {\"threshold\": 0.084, \"p\": 27976, \"fpr\": 0.9971846846846847, \"tpr\": 0.9998927652273377, \"n\": 5328}, {\"threshold\": 0.085, \"p\": 27976, \"fpr\": 0.9971846846846847, \"tpr\": 0.9998927652273377, \"n\": 5328}, {\"threshold\": 0.086, \"p\": 27976, \"fpr\": 0.9971846846846847, \"tpr\": 0.9998927652273377, \"n\": 5328}, {\"threshold\": 0.087, \"p\": 27976, \"fpr\": 0.9971846846846847, \"tpr\": 0.9998927652273377, \"n\": 5328}, {\"threshold\": 0.088, \"p\": 27976, \"fpr\": 0.9971846846846847, \"tpr\": 0.9998927652273377, \"n\": 5328}, {\"threshold\": 0.089, \"p\": 27976, \"fpr\": 0.9971846846846847, \"tpr\": 0.9998927652273377, \"n\": 5328}, {\"threshold\": 0.09, \"p\": 27976, \"fpr\": 0.9971846846846847, \"tpr\": 0.9998927652273377, \"n\": 5328}, {\"threshold\": 0.091, \"p\": 27976, \"fpr\": 0.9971846846846847, \"tpr\": 0.9998927652273377, \"n\": 5328}, {\"threshold\": 0.092, \"p\": 27976, \"fpr\": 0.9971846846846847, \"tpr\": 0.9998927652273377, \"n\": 5328}, {\"threshold\": 0.093, \"p\": 27976, \"fpr\": 0.9971846846846847, \"tpr\": 0.9998927652273377, \"n\": 5328}, {\"threshold\": 0.094, \"p\": 27976, \"fpr\": 0.9971846846846847, \"tpr\": 0.9998927652273377, \"n\": 5328}, {\"threshold\": 0.095, \"p\": 27976, \"fpr\": 0.9971846846846847, \"tpr\": 0.9998927652273377, \"n\": 5328}, {\"threshold\": 0.096, \"p\": 27976, \"fpr\": 0.9971846846846847, \"tpr\": 0.9998927652273377, \"n\": 5328}, {\"threshold\": 0.097, \"p\": 27976, \"fpr\": 0.9971846846846847, \"tpr\": 0.9998927652273377, \"n\": 5328}, {\"threshold\": 0.098, \"p\": 27976, \"fpr\": 0.9971846846846847, \"tpr\": 0.9998927652273377, \"n\": 5328}, {\"threshold\": 0.099, \"p\": 27976, \"fpr\": 0.9971846846846847, \"tpr\": 0.9998927652273377, \"n\": 5328}, {\"threshold\": 0.1, \"p\": 27976, \"fpr\": 0.9971846846846847, \"tpr\": 0.9998927652273377, \"n\": 5328}, {\"threshold\": 0.101, \"p\": 27976, \"fpr\": 0.9971846846846847, \"tpr\": 0.9998927652273377, \"n\": 5328}, {\"threshold\": 0.102, \"p\": 27976, \"fpr\": 0.9971846846846847, \"tpr\": 0.9998927652273377, \"n\": 5328}, {\"threshold\": 0.103, \"p\": 27976, \"fpr\": 0.9971846846846847, \"tpr\": 0.9998927652273377, \"n\": 5328}, {\"threshold\": 0.104, \"p\": 27976, \"fpr\": 0.9971846846846847, \"tpr\": 0.9998927652273377, \"n\": 5328}, {\"threshold\": 0.105, \"p\": 27976, \"fpr\": 0.9971846846846847, \"tpr\": 0.9998927652273377, \"n\": 5328}, {\"threshold\": 0.106, \"p\": 27976, \"fpr\": 0.9971846846846847, \"tpr\": 0.9998927652273377, \"n\": 5328}, {\"threshold\": 0.107, \"p\": 27976, \"fpr\": 0.9971846846846847, \"tpr\": 0.9998927652273377, \"n\": 5328}, {\"threshold\": 0.108, \"p\": 27976, \"fpr\": 0.9971846846846847, \"tpr\": 0.9998927652273377, \"n\": 5328}, {\"threshold\": 0.109, \"p\": 27976, \"fpr\": 0.9971846846846847, \"tpr\": 0.9998927652273377, \"n\": 5328}, {\"threshold\": 0.11, \"p\": 27976, \"fpr\": 0.9971846846846847, \"tpr\": 0.9998927652273377, \"n\": 5328}, {\"threshold\": 0.111, \"p\": 27976, \"fpr\": 0.9971846846846847, \"tpr\": 0.9998927652273377, \"n\": 5328}, {\"threshold\": 0.112, \"p\": 27976, \"fpr\": 0.9971846846846847, \"tpr\": 0.9998927652273377, \"n\": 5328}, {\"threshold\": 0.113, \"p\": 27976, \"fpr\": 0.9971846846846847, \"tpr\": 0.9998927652273377, \"n\": 5328}, {\"threshold\": 0.114, \"p\": 27976, \"fpr\": 0.9971846846846847, \"tpr\": 0.9998927652273377, \"n\": 5328}, {\"threshold\": 0.115, \"p\": 27976, \"fpr\": 0.9971846846846847, \"tpr\": 0.9998927652273377, \"n\": 5328}, {\"threshold\": 0.116, \"p\": 27976, \"fpr\": 0.9971846846846847, \"tpr\": 0.9998927652273377, \"n\": 5328}, {\"threshold\": 0.117, \"p\": 27976, \"fpr\": 0.9971846846846847, \"tpr\": 0.9998927652273377, \"n\": 5328}, {\"threshold\": 0.118, \"p\": 27976, \"fpr\": 0.9971846846846847, \"tpr\": 0.9998927652273377, \"n\": 5328}, {\"threshold\": 0.119, \"p\": 27976, \"fpr\": 0.9971846846846847, \"tpr\": 0.9998927652273377, \"n\": 5328}, {\"threshold\": 0.12, \"p\": 27976, \"fpr\": 0.9971846846846847, \"tpr\": 0.9998927652273377, \"n\": 5328}, {\"threshold\": 0.121, \"p\": 27976, \"fpr\": 0.9971846846846847, \"tpr\": 0.9998927652273377, \"n\": 5328}, {\"threshold\": 0.122, \"p\": 27976, \"fpr\": 0.9971846846846847, \"tpr\": 0.9998927652273377, \"n\": 5328}, {\"threshold\": 0.123, \"p\": 27976, \"fpr\": 0.9971846846846847, \"tpr\": 0.9998927652273377, \"n\": 5328}, {\"threshold\": 0.124, \"p\": 27976, \"fpr\": 0.9971846846846847, \"tpr\": 0.9998927652273377, \"n\": 5328}, {\"threshold\": 0.125, \"p\": 27976, \"fpr\": 0.9971846846846847, \"tpr\": 0.9998927652273377, \"n\": 5328}, {\"threshold\": 0.126, \"p\": 27976, \"fpr\": 0.9971846846846847, \"tpr\": 0.9998927652273377, \"n\": 5328}, {\"threshold\": 0.127, \"p\": 27976, \"fpr\": 0.9971846846846847, \"tpr\": 0.9998927652273377, \"n\": 5328}, {\"threshold\": 0.128, \"p\": 27976, \"fpr\": 0.9971846846846847, \"tpr\": 0.9998927652273377, \"n\": 5328}, {\"threshold\": 0.129, \"p\": 27976, \"fpr\": 0.9971846846846847, \"tpr\": 0.9998927652273377, \"n\": 5328}, {\"threshold\": 0.13, \"p\": 27976, \"fpr\": 0.9971846846846847, \"tpr\": 0.9998927652273377, \"n\": 5328}, {\"threshold\": 0.131, \"p\": 27976, \"fpr\": 0.9971846846846847, \"tpr\": 0.9998927652273377, \"n\": 5328}, {\"threshold\": 0.132, \"p\": 27976, \"fpr\": 0.9971846846846847, \"tpr\": 0.9998927652273377, \"n\": 5328}, {\"threshold\": 0.133, \"p\": 27976, \"fpr\": 0.9971846846846847, \"tpr\": 0.9998927652273377, \"n\": 5328}, {\"threshold\": 0.134, \"p\": 27976, \"fpr\": 0.9971846846846847, \"tpr\": 0.9998927652273377, \"n\": 5328}, {\"threshold\": 0.135, \"p\": 27976, \"fpr\": 0.9971846846846847, \"tpr\": 0.9998927652273377, \"n\": 5328}, {\"threshold\": 0.136, \"p\": 27976, \"fpr\": 0.9971846846846847, \"tpr\": 0.9998927652273377, \"n\": 5328}, {\"threshold\": 0.137, \"p\": 27976, \"fpr\": 0.9971846846846847, \"tpr\": 0.9998927652273377, \"n\": 5328}, {\"threshold\": 0.138, \"p\": 27976, \"fpr\": 0.9971846846846847, \"tpr\": 0.9998927652273377, \"n\": 5328}, {\"threshold\": 0.139, \"p\": 27976, \"fpr\": 0.9971846846846847, \"tpr\": 0.9998927652273377, \"n\": 5328}, {\"threshold\": 0.14, \"p\": 27976, \"fpr\": 0.9971846846846847, \"tpr\": 0.9998927652273377, \"n\": 5328}, {\"threshold\": 0.141, \"p\": 27976, \"fpr\": 0.9971846846846847, \"tpr\": 0.9998927652273377, \"n\": 5328}, {\"threshold\": 0.142, \"p\": 27976, \"fpr\": 0.996996996996997, \"tpr\": 0.9998927652273377, \"n\": 5328}, {\"threshold\": 0.143, \"p\": 27976, \"fpr\": 0.996996996996997, \"tpr\": 0.9998927652273377, \"n\": 5328}, {\"threshold\": 0.144, \"p\": 27976, \"fpr\": 0.996996996996997, \"tpr\": 0.9998927652273377, \"n\": 5328}, {\"threshold\": 0.145, \"p\": 27976, \"fpr\": 0.996996996996997, \"tpr\": 0.9998927652273377, \"n\": 5328}, {\"threshold\": 0.146, \"p\": 27976, \"fpr\": 0.996996996996997, \"tpr\": 0.9998927652273377, \"n\": 5328}, {\"threshold\": 0.147, \"p\": 27976, \"fpr\": 0.996996996996997, \"tpr\": 0.9998927652273377, \"n\": 5328}, {\"threshold\": 0.148, \"p\": 27976, \"fpr\": 0.996996996996997, \"tpr\": 0.9998927652273377, \"n\": 5328}, {\"threshold\": 0.149, \"p\": 27976, \"fpr\": 0.996996996996997, \"tpr\": 0.9998927652273377, \"n\": 5328}, {\"threshold\": 0.15, \"p\": 27976, \"fpr\": 0.996996996996997, \"tpr\": 0.9998927652273377, \"n\": 5328}, {\"threshold\": 0.151, \"p\": 27976, \"fpr\": 0.996996996996997, \"tpr\": 0.9998927652273377, \"n\": 5328}, {\"threshold\": 0.152, \"p\": 27976, \"fpr\": 0.996996996996997, \"tpr\": 0.9998927652273377, \"n\": 5328}, {\"threshold\": 0.153, \"p\": 27976, \"fpr\": 0.996996996996997, \"tpr\": 0.9998927652273377, \"n\": 5328}, {\"threshold\": 0.154, \"p\": 27976, \"fpr\": 0.996433933933934, \"tpr\": 0.999857020303117, \"n\": 5328}, {\"threshold\": 0.155, \"p\": 27976, \"fpr\": 0.996433933933934, \"tpr\": 0.999857020303117, \"n\": 5328}, {\"threshold\": 0.156, \"p\": 27976, \"fpr\": 0.996433933933934, \"tpr\": 0.999857020303117, \"n\": 5328}, {\"threshold\": 0.157, \"p\": 27976, \"fpr\": 0.996433933933934, \"tpr\": 0.999857020303117, \"n\": 5328}, {\"threshold\": 0.158, \"p\": 27976, \"fpr\": 0.996433933933934, \"tpr\": 0.999857020303117, \"n\": 5328}, {\"threshold\": 0.159, \"p\": 27976, \"fpr\": 0.996433933933934, \"tpr\": 0.999857020303117, \"n\": 5328}, {\"threshold\": 0.16, \"p\": 27976, \"fpr\": 0.996433933933934, \"tpr\": 0.999857020303117, \"n\": 5328}, {\"threshold\": 0.161, \"p\": 27976, \"fpr\": 0.996433933933934, \"tpr\": 0.999857020303117, \"n\": 5328}, {\"threshold\": 0.162, \"p\": 27976, \"fpr\": 0.996433933933934, \"tpr\": 0.999857020303117, \"n\": 5328}, {\"threshold\": 0.163, \"p\": 27976, \"fpr\": 0.996433933933934, \"tpr\": 0.999857020303117, \"n\": 5328}, {\"threshold\": 0.164, \"p\": 27976, \"fpr\": 0.996433933933934, \"tpr\": 0.999857020303117, \"n\": 5328}, {\"threshold\": 0.165, \"p\": 27976, \"fpr\": 0.996433933933934, \"tpr\": 0.999857020303117, \"n\": 5328}, {\"threshold\": 0.166, \"p\": 27976, \"fpr\": 0.9958708708708709, \"tpr\": 0.999857020303117, \"n\": 5328}, {\"threshold\": 0.167, \"p\": 27976, \"fpr\": 0.9958708708708709, \"tpr\": 0.999857020303117, \"n\": 5328}, {\"threshold\": 0.168, \"p\": 27976, \"fpr\": 0.9958708708708709, \"tpr\": 0.999857020303117, \"n\": 5328}, {\"threshold\": 0.169, \"p\": 27976, \"fpr\": 0.9958708708708709, \"tpr\": 0.999857020303117, \"n\": 5328}, {\"threshold\": 0.17, \"p\": 27976, \"fpr\": 0.9958708708708709, \"tpr\": 0.999857020303117, \"n\": 5328}, {\"threshold\": 0.171, \"p\": 27976, \"fpr\": 0.9958708708708709, \"tpr\": 0.999857020303117, \"n\": 5328}, {\"threshold\": 0.172, \"p\": 27976, \"fpr\": 0.9958708708708709, \"tpr\": 0.999857020303117, \"n\": 5328}, {\"threshold\": 0.173, \"p\": 27976, \"fpr\": 0.9958708708708709, \"tpr\": 0.999857020303117, \"n\": 5328}, {\"threshold\": 0.174, \"p\": 27976, \"fpr\": 0.9958708708708709, \"tpr\": 0.999857020303117, \"n\": 5328}, {\"threshold\": 0.175, \"p\": 27976, \"fpr\": 0.9958708708708709, \"tpr\": 0.999857020303117, \"n\": 5328}, {\"threshold\": 0.176, \"p\": 27976, \"fpr\": 0.9958708708708709, \"tpr\": 0.999857020303117, \"n\": 5328}, {\"threshold\": 0.177, \"p\": 27976, \"fpr\": 0.9958708708708709, \"tpr\": 0.999857020303117, \"n\": 5328}, {\"threshold\": 0.178, \"p\": 27976, \"fpr\": 0.9958708708708709, \"tpr\": 0.999857020303117, \"n\": 5328}, {\"threshold\": 0.179, \"p\": 27976, \"fpr\": 0.9958708708708709, \"tpr\": 0.999857020303117, \"n\": 5328}, {\"threshold\": 0.18, \"p\": 27976, \"fpr\": 0.9958708708708709, \"tpr\": 0.999857020303117, \"n\": 5328}, {\"threshold\": 0.181, \"p\": 27976, \"fpr\": 0.9958708708708709, \"tpr\": 0.999857020303117, \"n\": 5328}, {\"threshold\": 0.182, \"p\": 27976, \"fpr\": 0.9958708708708709, \"tpr\": 0.999857020303117, \"n\": 5328}, {\"threshold\": 0.183, \"p\": 27976, \"fpr\": 0.9958708708708709, \"tpr\": 0.999857020303117, \"n\": 5328}, {\"threshold\": 0.184, \"p\": 27976, \"fpr\": 0.9958708708708709, \"tpr\": 0.999857020303117, \"n\": 5328}, {\"threshold\": 0.185, \"p\": 27976, \"fpr\": 0.9958708708708709, \"tpr\": 0.999857020303117, \"n\": 5328}, {\"threshold\": 0.186, \"p\": 27976, \"fpr\": 0.9958708708708709, \"tpr\": 0.999857020303117, \"n\": 5328}, {\"threshold\": 0.187, \"p\": 27976, \"fpr\": 0.9958708708708709, \"tpr\": 0.999857020303117, \"n\": 5328}, {\"threshold\": 0.188, \"p\": 27976, \"fpr\": 0.9958708708708709, \"tpr\": 0.999857020303117, \"n\": 5328}, {\"threshold\": 0.189, \"p\": 27976, \"fpr\": 0.9958708708708709, \"tpr\": 0.999857020303117, \"n\": 5328}, {\"threshold\": 0.19, \"p\": 27976, \"fpr\": 0.9949324324324325, \"tpr\": 0.9998212753788962, \"n\": 5328}, {\"threshold\": 0.191, \"p\": 27976, \"fpr\": 0.9949324324324325, \"tpr\": 0.9998212753788962, \"n\": 5328}, {\"threshold\": 0.192, \"p\": 27976, \"fpr\": 0.9949324324324325, \"tpr\": 0.9998212753788962, \"n\": 5328}, {\"threshold\": 0.193, \"p\": 27976, \"fpr\": 0.9949324324324325, \"tpr\": 0.9998212753788962, \"n\": 5328}, {\"threshold\": 0.194, \"p\": 27976, \"fpr\": 0.9949324324324325, \"tpr\": 0.9998212753788962, \"n\": 5328}, {\"threshold\": 0.195, \"p\": 27976, \"fpr\": 0.9949324324324325, \"tpr\": 0.9998212753788962, \"n\": 5328}, {\"threshold\": 0.196, \"p\": 27976, \"fpr\": 0.9949324324324325, \"tpr\": 0.9997855304546754, \"n\": 5328}, {\"threshold\": 0.197, \"p\": 27976, \"fpr\": 0.9949324324324325, \"tpr\": 0.9997855304546754, \"n\": 5328}, {\"threshold\": 0.198, \"p\": 27976, \"fpr\": 0.9949324324324325, \"tpr\": 0.9997855304546754, \"n\": 5328}, {\"threshold\": 0.199, \"p\": 27976, \"fpr\": 0.9949324324324325, \"tpr\": 0.9997855304546754, \"n\": 5328}, {\"threshold\": 0.2, \"p\": 27976, \"fpr\": 0.9949324324324325, \"tpr\": 0.9997855304546754, \"n\": 5328}, {\"threshold\": 0.201, \"p\": 27976, \"fpr\": 0.9945570570570571, \"tpr\": 0.9997497855304547, \"n\": 5328}, {\"threshold\": 0.202, \"p\": 27976, \"fpr\": 0.9945570570570571, \"tpr\": 0.9997497855304547, \"n\": 5328}, {\"threshold\": 0.203, \"p\": 27976, \"fpr\": 0.9945570570570571, \"tpr\": 0.9997497855304547, \"n\": 5328}, {\"threshold\": 0.204, \"p\": 27976, \"fpr\": 0.9945570570570571, \"tpr\": 0.9997497855304547, \"n\": 5328}, {\"threshold\": 0.205, \"p\": 27976, \"fpr\": 0.9945570570570571, \"tpr\": 0.9997497855304547, \"n\": 5328}, {\"threshold\": 0.206, \"p\": 27976, \"fpr\": 0.9945570570570571, \"tpr\": 0.9997497855304547, \"n\": 5328}, {\"threshold\": 0.207, \"p\": 27976, \"fpr\": 0.9945570570570571, \"tpr\": 0.9997497855304547, \"n\": 5328}, {\"threshold\": 0.208, \"p\": 27976, \"fpr\": 0.9945570570570571, \"tpr\": 0.9997497855304547, \"n\": 5328}, {\"threshold\": 0.209, \"p\": 27976, \"fpr\": 0.9945570570570571, \"tpr\": 0.9997497855304547, \"n\": 5328}, {\"threshold\": 0.21, \"p\": 27976, \"fpr\": 0.9945570570570571, \"tpr\": 0.9997497855304547, \"n\": 5328}, {\"threshold\": 0.211, \"p\": 27976, \"fpr\": 0.9945570570570571, \"tpr\": 0.9997140406062339, \"n\": 5328}, {\"threshold\": 0.212, \"p\": 27976, \"fpr\": 0.9945570570570571, \"tpr\": 0.9997140406062339, \"n\": 5328}, {\"threshold\": 0.213, \"p\": 27976, \"fpr\": 0.9945570570570571, \"tpr\": 0.9997140406062339, \"n\": 5328}, {\"threshold\": 0.214, \"p\": 27976, \"fpr\": 0.9945570570570571, \"tpr\": 0.9997140406062339, \"n\": 5328}, {\"threshold\": 0.215, \"p\": 27976, \"fpr\": 0.9945570570570571, \"tpr\": 0.9997140406062339, \"n\": 5328}, {\"threshold\": 0.216, \"p\": 27976, \"fpr\": 0.9945570570570571, \"tpr\": 0.9997140406062339, \"n\": 5328}, {\"threshold\": 0.217, \"p\": 27976, \"fpr\": 0.9945570570570571, \"tpr\": 0.9997140406062339, \"n\": 5328}, {\"threshold\": 0.218, \"p\": 27976, \"fpr\": 0.9945570570570571, \"tpr\": 0.9996782956820132, \"n\": 5328}, {\"threshold\": 0.219, \"p\": 27976, \"fpr\": 0.9945570570570571, \"tpr\": 0.9996782956820132, \"n\": 5328}, {\"threshold\": 0.22, \"p\": 27976, \"fpr\": 0.9945570570570571, \"tpr\": 0.9996425507577924, \"n\": 5328}, {\"threshold\": 0.221, \"p\": 27976, \"fpr\": 0.9945570570570571, \"tpr\": 0.9996425507577924, \"n\": 5328}, {\"threshold\": 0.222, \"p\": 27976, \"fpr\": 0.9945570570570571, \"tpr\": 0.9996425507577924, \"n\": 5328}, {\"threshold\": 0.223, \"p\": 27976, \"fpr\": 0.9945570570570571, \"tpr\": 0.9996425507577924, \"n\": 5328}, {\"threshold\": 0.224, \"p\": 27976, \"fpr\": 0.9945570570570571, \"tpr\": 0.9996425507577924, \"n\": 5328}, {\"threshold\": 0.225, \"p\": 27976, \"fpr\": 0.9945570570570571, \"tpr\": 0.9996425507577924, \"n\": 5328}, {\"threshold\": 0.226, \"p\": 27976, \"fpr\": 0.9945570570570571, \"tpr\": 0.9996425507577924, \"n\": 5328}, {\"threshold\": 0.227, \"p\": 27976, \"fpr\": 0.9945570570570571, \"tpr\": 0.9996425507577924, \"n\": 5328}, {\"threshold\": 0.228, \"p\": 27976, \"fpr\": 0.9945570570570571, \"tpr\": 0.9996425507577924, \"n\": 5328}, {\"threshold\": 0.229, \"p\": 27976, \"fpr\": 0.9945570570570571, \"tpr\": 0.9996425507577924, \"n\": 5328}, {\"threshold\": 0.23, \"p\": 27976, \"fpr\": 0.9945570570570571, \"tpr\": 0.9996425507577924, \"n\": 5328}, {\"threshold\": 0.231, \"p\": 27976, \"fpr\": 0.9945570570570571, \"tpr\": 0.9996425507577924, \"n\": 5328}, {\"threshold\": 0.232, \"p\": 27976, \"fpr\": 0.9945570570570571, \"tpr\": 0.9996425507577924, \"n\": 5328}, {\"threshold\": 0.233, \"p\": 27976, \"fpr\": 0.9945570570570571, \"tpr\": 0.9996425507577924, \"n\": 5328}, {\"threshold\": 0.234, \"p\": 27976, \"fpr\": 0.9945570570570571, \"tpr\": 0.9996425507577924, \"n\": 5328}, {\"threshold\": 0.235, \"p\": 27976, \"fpr\": 0.9945570570570571, \"tpr\": 0.9996425507577924, \"n\": 5328}, {\"threshold\": 0.236, \"p\": 27976, \"fpr\": 0.9945570570570571, \"tpr\": 0.9996425507577924, \"n\": 5328}, {\"threshold\": 0.237, \"p\": 27976, \"fpr\": 0.9945570570570571, \"tpr\": 0.9996425507577924, \"n\": 5328}, {\"threshold\": 0.238, \"p\": 27976, \"fpr\": 0.9945570570570571, \"tpr\": 0.9996425507577924, \"n\": 5328}, {\"threshold\": 0.239, \"p\": 27976, \"fpr\": 0.9945570570570571, \"tpr\": 0.9996425507577924, \"n\": 5328}, {\"threshold\": 0.24, \"p\": 27976, \"fpr\": 0.9945570570570571, \"tpr\": 0.9996425507577924, \"n\": 5328}, {\"threshold\": 0.241, \"p\": 27976, \"fpr\": 0.9945570570570571, \"tpr\": 0.9996425507577924, \"n\": 5328}, {\"threshold\": 0.242, \"p\": 27976, \"fpr\": 0.9945570570570571, \"tpr\": 0.9996425507577924, \"n\": 5328}, {\"threshold\": 0.243, \"p\": 27976, \"fpr\": 0.9945570570570571, \"tpr\": 0.9996425507577924, \"n\": 5328}, {\"threshold\": 0.244, \"p\": 27976, \"fpr\": 0.9945570570570571, \"tpr\": 0.9996425507577924, \"n\": 5328}, {\"threshold\": 0.245, \"p\": 27976, \"fpr\": 0.9945570570570571, \"tpr\": 0.9996425507577924, \"n\": 5328}, {\"threshold\": 0.246, \"p\": 27976, \"fpr\": 0.9945570570570571, \"tpr\": 0.9996425507577924, \"n\": 5328}, {\"threshold\": 0.247, \"p\": 27976, \"fpr\": 0.9945570570570571, \"tpr\": 0.9996425507577924, \"n\": 5328}, {\"threshold\": 0.248, \"p\": 27976, \"fpr\": 0.9945570570570571, \"tpr\": 0.9996425507577924, \"n\": 5328}, {\"threshold\": 0.249, \"p\": 27976, \"fpr\": 0.9945570570570571, \"tpr\": 0.9996425507577924, \"n\": 5328}, {\"threshold\": 0.25, \"p\": 27976, \"fpr\": 0.9945570570570571, \"tpr\": 0.9996425507577924, \"n\": 5328}, {\"threshold\": 0.251, \"p\": 27976, \"fpr\": 0.9945570570570571, \"tpr\": 0.9996425507577924, \"n\": 5328}, {\"threshold\": 0.252, \"p\": 27976, \"fpr\": 0.9945570570570571, \"tpr\": 0.9996425507577924, \"n\": 5328}, {\"threshold\": 0.253, \"p\": 27976, \"fpr\": 0.9945570570570571, \"tpr\": 0.9996425507577924, \"n\": 5328}, {\"threshold\": 0.254, \"p\": 27976, \"fpr\": 0.9945570570570571, \"tpr\": 0.9996425507577924, \"n\": 5328}, {\"threshold\": 0.255, \"p\": 27976, \"fpr\": 0.9945570570570571, \"tpr\": 0.9996425507577924, \"n\": 5328}, {\"threshold\": 0.256, \"p\": 27976, \"fpr\": 0.9945570570570571, \"tpr\": 0.9996425507577924, \"n\": 5328}, {\"threshold\": 0.257, \"p\": 27976, \"fpr\": 0.9945570570570571, \"tpr\": 0.9996425507577924, \"n\": 5328}, {\"threshold\": 0.258, \"p\": 27976, \"fpr\": 0.9945570570570571, \"tpr\": 0.9996425507577924, \"n\": 5328}, {\"threshold\": 0.259, \"p\": 27976, \"fpr\": 0.9945570570570571, \"tpr\": 0.9996425507577924, \"n\": 5328}, {\"threshold\": 0.26, \"p\": 27976, \"fpr\": 0.9945570570570571, \"tpr\": 0.9996425507577924, \"n\": 5328}, {\"threshold\": 0.261, \"p\": 27976, \"fpr\": 0.9945570570570571, \"tpr\": 0.9996425507577924, \"n\": 5328}, {\"threshold\": 0.262, \"p\": 27976, \"fpr\": 0.9945570570570571, \"tpr\": 0.9996425507577924, \"n\": 5328}, {\"threshold\": 0.263, \"p\": 27976, \"fpr\": 0.9945570570570571, \"tpr\": 0.9996425507577924, \"n\": 5328}, {\"threshold\": 0.264, \"p\": 27976, \"fpr\": 0.9938063063063063, \"tpr\": 0.9996068058335716, \"n\": 5328}, {\"threshold\": 0.265, \"p\": 27976, \"fpr\": 0.9938063063063063, \"tpr\": 0.9996068058335716, \"n\": 5328}, {\"threshold\": 0.266, \"p\": 27976, \"fpr\": 0.9938063063063063, \"tpr\": 0.9996068058335716, \"n\": 5328}, {\"threshold\": 0.267, \"p\": 27976, \"fpr\": 0.9938063063063063, \"tpr\": 0.9996068058335716, \"n\": 5328}, {\"threshold\": 0.268, \"p\": 27976, \"fpr\": 0.9938063063063063, \"tpr\": 0.9996068058335716, \"n\": 5328}, {\"threshold\": 0.269, \"p\": 27976, \"fpr\": 0.9938063063063063, \"tpr\": 0.9996068058335716, \"n\": 5328}, {\"threshold\": 0.27, \"p\": 27976, \"fpr\": 0.9938063063063063, \"tpr\": 0.9996068058335716, \"n\": 5328}, {\"threshold\": 0.271, \"p\": 27976, \"fpr\": 0.9938063063063063, \"tpr\": 0.9996068058335716, \"n\": 5328}, {\"threshold\": 0.272, \"p\": 27976, \"fpr\": 0.9938063063063063, \"tpr\": 0.9996068058335716, \"n\": 5328}, {\"threshold\": 0.273, \"p\": 27976, \"fpr\": 0.9938063063063063, \"tpr\": 0.9996068058335716, \"n\": 5328}, {\"threshold\": 0.274, \"p\": 27976, \"fpr\": 0.9938063063063063, \"tpr\": 0.9996068058335716, \"n\": 5328}, {\"threshold\": 0.275, \"p\": 27976, \"fpr\": 0.9938063063063063, \"tpr\": 0.9996068058335716, \"n\": 5328}, {\"threshold\": 0.276, \"p\": 27976, \"fpr\": 0.9938063063063063, \"tpr\": 0.9996068058335716, \"n\": 5328}, {\"threshold\": 0.277, \"p\": 27976, \"fpr\": 0.9938063063063063, \"tpr\": 0.9996068058335716, \"n\": 5328}, {\"threshold\": 0.278, \"p\": 27976, \"fpr\": 0.9938063063063063, \"tpr\": 0.9996068058335716, \"n\": 5328}, {\"threshold\": 0.279, \"p\": 27976, \"fpr\": 0.9938063063063063, \"tpr\": 0.9996068058335716, \"n\": 5328}, {\"threshold\": 0.28, \"p\": 27976, \"fpr\": 0.9938063063063063, \"tpr\": 0.9996068058335716, \"n\": 5328}, {\"threshold\": 0.281, \"p\": 27976, \"fpr\": 0.9938063063063063, \"tpr\": 0.9996068058335716, \"n\": 5328}, {\"threshold\": 0.282, \"p\": 27976, \"fpr\": 0.9938063063063063, \"tpr\": 0.9996068058335716, \"n\": 5328}, {\"threshold\": 0.283, \"p\": 27976, \"fpr\": 0.9938063063063063, \"tpr\": 0.9996068058335716, \"n\": 5328}, {\"threshold\": 0.284, \"p\": 27976, \"fpr\": 0.9938063063063063, \"tpr\": 0.9996068058335716, \"n\": 5328}, {\"threshold\": 0.285, \"p\": 27976, \"fpr\": 0.9938063063063063, \"tpr\": 0.9996068058335716, \"n\": 5328}, {\"threshold\": 0.286, \"p\": 27976, \"fpr\": 0.9938063063063063, \"tpr\": 0.9996068058335716, \"n\": 5328}, {\"threshold\": 0.287, \"p\": 27976, \"fpr\": 0.9938063063063063, \"tpr\": 0.9996068058335716, \"n\": 5328}, {\"threshold\": 0.288, \"p\": 27976, \"fpr\": 0.9938063063063063, \"tpr\": 0.9996068058335716, \"n\": 5328}, {\"threshold\": 0.289, \"p\": 27976, \"fpr\": 0.9938063063063063, \"tpr\": 0.9996068058335716, \"n\": 5328}, {\"threshold\": 0.29, \"p\": 27976, \"fpr\": 0.9938063063063063, \"tpr\": 0.9996068058335716, \"n\": 5328}, {\"threshold\": 0.291, \"p\": 27976, \"fpr\": 0.9938063063063063, \"tpr\": 0.9996068058335716, \"n\": 5328}, {\"threshold\": 0.292, \"p\": 27976, \"fpr\": 0.9938063063063063, \"tpr\": 0.9996068058335716, \"n\": 5328}, {\"threshold\": 0.293, \"p\": 27976, \"fpr\": 0.9938063063063063, \"tpr\": 0.9996068058335716, \"n\": 5328}, {\"threshold\": 0.294, \"p\": 27976, \"fpr\": 0.9938063063063063, \"tpr\": 0.9996068058335716, \"n\": 5328}, {\"threshold\": 0.295, \"p\": 27976, \"fpr\": 0.9938063063063063, \"tpr\": 0.9996068058335716, \"n\": 5328}, {\"threshold\": 0.296, \"p\": 27976, \"fpr\": 0.9938063063063063, \"tpr\": 0.9996068058335716, \"n\": 5328}, {\"threshold\": 0.297, \"p\": 27976, \"fpr\": 0.9938063063063063, \"tpr\": 0.9996068058335716, \"n\": 5328}, {\"threshold\": 0.298, \"p\": 27976, \"fpr\": 0.9938063063063063, \"tpr\": 0.9996068058335716, \"n\": 5328}, {\"threshold\": 0.299, \"p\": 27976, \"fpr\": 0.9938063063063063, \"tpr\": 0.9996068058335716, \"n\": 5328}, {\"threshold\": 0.3, \"p\": 27976, \"fpr\": 0.9938063063063063, \"tpr\": 0.9996068058335716, \"n\": 5328}, {\"threshold\": 0.301, \"p\": 27976, \"fpr\": 0.9938063063063063, \"tpr\": 0.9996068058335716, \"n\": 5328}, {\"threshold\": 0.302, \"p\": 27976, \"fpr\": 0.9938063063063063, \"tpr\": 0.9996068058335716, \"n\": 5328}, {\"threshold\": 0.303, \"p\": 27976, \"fpr\": 0.9938063063063063, \"tpr\": 0.9996068058335716, \"n\": 5328}, {\"threshold\": 0.304, \"p\": 27976, \"fpr\": 0.9938063063063063, \"tpr\": 0.9996068058335716, \"n\": 5328}, {\"threshold\": 0.305, \"p\": 27976, \"fpr\": 0.9938063063063063, \"tpr\": 0.9996068058335716, \"n\": 5328}, {\"threshold\": 0.306, \"p\": 27976, \"fpr\": 0.9938063063063063, \"tpr\": 0.9996068058335716, \"n\": 5328}, {\"threshold\": 0.307, \"p\": 27976, \"fpr\": 0.9938063063063063, \"tpr\": 0.9996068058335716, \"n\": 5328}, {\"threshold\": 0.308, \"p\": 27976, \"fpr\": 0.9938063063063063, \"tpr\": 0.9996068058335716, \"n\": 5328}, {\"threshold\": 0.309, \"p\": 27976, \"fpr\": 0.9938063063063063, \"tpr\": 0.9996068058335716, \"n\": 5328}, {\"threshold\": 0.31, \"p\": 27976, \"fpr\": 0.9938063063063063, \"tpr\": 0.9996068058335716, \"n\": 5328}, {\"threshold\": 0.311, \"p\": 27976, \"fpr\": 0.9938063063063063, \"tpr\": 0.9996068058335716, \"n\": 5328}, {\"threshold\": 0.312, \"p\": 27976, \"fpr\": 0.9938063063063063, \"tpr\": 0.9996068058335716, \"n\": 5328}, {\"threshold\": 0.313, \"p\": 27976, \"fpr\": 0.9938063063063063, \"tpr\": 0.9996068058335716, \"n\": 5328}, {\"threshold\": 0.314, \"p\": 27976, \"fpr\": 0.9938063063063063, \"tpr\": 0.9996068058335716, \"n\": 5328}, {\"threshold\": 0.315, \"p\": 27976, \"fpr\": 0.9938063063063063, \"tpr\": 0.9996068058335716, \"n\": 5328}, {\"threshold\": 0.316, \"p\": 27976, \"fpr\": 0.9938063063063063, \"tpr\": 0.9996068058335716, \"n\": 5328}, {\"threshold\": 0.317, \"p\": 27976, \"fpr\": 0.9938063063063063, \"tpr\": 0.9996068058335716, \"n\": 5328}, {\"threshold\": 0.318, \"p\": 27976, \"fpr\": 0.9938063063063063, \"tpr\": 0.9996068058335716, \"n\": 5328}, {\"threshold\": 0.319, \"p\": 27976, \"fpr\": 0.9938063063063063, \"tpr\": 0.9996068058335716, \"n\": 5328}, {\"threshold\": 0.32, \"p\": 27976, \"fpr\": 0.9938063063063063, \"tpr\": 0.9996068058335716, \"n\": 5328}, {\"threshold\": 0.321, \"p\": 27976, \"fpr\": 0.9938063063063063, \"tpr\": 0.9996068058335716, \"n\": 5328}, {\"threshold\": 0.322, \"p\": 27976, \"fpr\": 0.9938063063063063, \"tpr\": 0.9996068058335716, \"n\": 5328}, {\"threshold\": 0.323, \"p\": 27976, \"fpr\": 0.9938063063063063, \"tpr\": 0.9996068058335716, \"n\": 5328}, {\"threshold\": 0.324, \"p\": 27976, \"fpr\": 0.9938063063063063, \"tpr\": 0.9996068058335716, \"n\": 5328}, {\"threshold\": 0.325, \"p\": 27976, \"fpr\": 0.9938063063063063, \"tpr\": 0.9996068058335716, \"n\": 5328}, {\"threshold\": 0.326, \"p\": 27976, \"fpr\": 0.9938063063063063, \"tpr\": 0.9996068058335716, \"n\": 5328}, {\"threshold\": 0.327, \"p\": 27976, \"fpr\": 0.9840465465465466, \"tpr\": 0.9987846725764942, \"n\": 5328}, {\"threshold\": 0.328, \"p\": 27976, \"fpr\": 0.9840465465465466, \"tpr\": 0.9987846725764942, \"n\": 5328}, {\"threshold\": 0.329, \"p\": 27976, \"fpr\": 0.9840465465465466, \"tpr\": 0.9987846725764942, \"n\": 5328}, {\"threshold\": 0.33, \"p\": 27976, \"fpr\": 0.9840465465465466, \"tpr\": 0.9987846725764942, \"n\": 5328}, {\"threshold\": 0.331, \"p\": 27976, \"fpr\": 0.9840465465465466, \"tpr\": 0.9987846725764942, \"n\": 5328}, {\"threshold\": 0.332, \"p\": 27976, \"fpr\": 0.9840465465465466, \"tpr\": 0.9987846725764942, \"n\": 5328}, {\"threshold\": 0.333, \"p\": 27976, \"fpr\": 0.9840465465465466, \"tpr\": 0.9987846725764942, \"n\": 5328}, {\"threshold\": 0.334, \"p\": 27976, \"fpr\": 0.9840465465465466, \"tpr\": 0.9987846725764942, \"n\": 5328}, {\"threshold\": 0.335, \"p\": 27976, \"fpr\": 0.9840465465465466, \"tpr\": 0.9987846725764942, \"n\": 5328}, {\"threshold\": 0.336, \"p\": 27976, \"fpr\": 0.9840465465465466, \"tpr\": 0.9987846725764942, \"n\": 5328}, {\"threshold\": 0.337, \"p\": 27976, \"fpr\": 0.9840465465465466, \"tpr\": 0.9987846725764942, \"n\": 5328}, {\"threshold\": 0.338, \"p\": 27976, \"fpr\": 0.9840465465465466, \"tpr\": 0.9987846725764942, \"n\": 5328}, {\"threshold\": 0.339, \"p\": 27976, \"fpr\": 0.9840465465465466, \"tpr\": 0.9987846725764942, \"n\": 5328}, {\"threshold\": 0.34, \"p\": 27976, \"fpr\": 0.9840465465465466, \"tpr\": 0.9987846725764942, \"n\": 5328}, {\"threshold\": 0.341, \"p\": 27976, \"fpr\": 0.9840465465465466, \"tpr\": 0.9987846725764942, \"n\": 5328}, {\"threshold\": 0.342, \"p\": 27976, \"fpr\": 0.9840465465465466, \"tpr\": 0.9987846725764942, \"n\": 5328}, {\"threshold\": 0.343, \"p\": 27976, \"fpr\": 0.9840465465465466, \"tpr\": 0.9987846725764942, \"n\": 5328}, {\"threshold\": 0.344, \"p\": 27976, \"fpr\": 0.9840465465465466, \"tpr\": 0.9987846725764942, \"n\": 5328}, {\"threshold\": 0.345, \"p\": 27976, \"fpr\": 0.9840465465465466, \"tpr\": 0.9987846725764942, \"n\": 5328}, {\"threshold\": 0.346, \"p\": 27976, \"fpr\": 0.9840465465465466, \"tpr\": 0.9987846725764942, \"n\": 5328}, {\"threshold\": 0.347, \"p\": 27976, \"fpr\": 0.9840465465465466, \"tpr\": 0.9987846725764942, \"n\": 5328}, {\"threshold\": 0.348, \"p\": 27976, \"fpr\": 0.9750375375375375, \"tpr\": 0.998069774092079, \"n\": 5328}, {\"threshold\": 0.349, \"p\": 27976, \"fpr\": 0.9750375375375375, \"tpr\": 0.998069774092079, \"n\": 5328}, {\"threshold\": 0.35, \"p\": 27976, \"fpr\": 0.9750375375375375, \"tpr\": 0.998069774092079, \"n\": 5328}, {\"threshold\": 0.351, \"p\": 27976, \"fpr\": 0.9750375375375375, \"tpr\": 0.998069774092079, \"n\": 5328}, {\"threshold\": 0.352, \"p\": 27976, \"fpr\": 0.9750375375375375, \"tpr\": 0.998069774092079, \"n\": 5328}, {\"threshold\": 0.353, \"p\": 27976, \"fpr\": 0.9750375375375375, \"tpr\": 0.998069774092079, \"n\": 5328}, {\"threshold\": 0.354, \"p\": 27976, \"fpr\": 0.972972972972973, \"tpr\": 0.997748069774092, \"n\": 5328}, {\"threshold\": 0.355, \"p\": 27976, \"fpr\": 0.972972972972973, \"tpr\": 0.997748069774092, \"n\": 5328}, {\"threshold\": 0.356, \"p\": 27976, \"fpr\": 0.972972972972973, \"tpr\": 0.997748069774092, \"n\": 5328}, {\"threshold\": 0.357, \"p\": 27976, \"fpr\": 0.972972972972973, \"tpr\": 0.997748069774092, \"n\": 5328}, {\"threshold\": 0.358, \"p\": 27976, \"fpr\": 0.972972972972973, \"tpr\": 0.997748069774092, \"n\": 5328}, {\"threshold\": 0.359, \"p\": 27976, \"fpr\": 0.972972972972973, \"tpr\": 0.997748069774092, \"n\": 5328}, {\"threshold\": 0.36, \"p\": 27976, \"fpr\": 0.972972972972973, \"tpr\": 0.997748069774092, \"n\": 5328}, {\"threshold\": 0.361, \"p\": 27976, \"fpr\": 0.972972972972973, \"tpr\": 0.997748069774092, \"n\": 5328}, {\"threshold\": 0.362, \"p\": 27976, \"fpr\": 0.9727852852852853, \"tpr\": 0.997748069774092, \"n\": 5328}, {\"threshold\": 0.363, \"p\": 27976, \"fpr\": 0.9727852852852853, \"tpr\": 0.997748069774092, \"n\": 5328}, {\"threshold\": 0.364, \"p\": 27976, \"fpr\": 0.9727852852852853, \"tpr\": 0.997748069774092, \"n\": 5328}, {\"threshold\": 0.365, \"p\": 27976, \"fpr\": 0.9727852852852853, \"tpr\": 0.997748069774092, \"n\": 5328}, {\"threshold\": 0.366, \"p\": 27976, \"fpr\": 0.9727852852852853, \"tpr\": 0.997748069774092, \"n\": 5328}, {\"threshold\": 0.367, \"p\": 27976, \"fpr\": 0.9727852852852853, \"tpr\": 0.997748069774092, \"n\": 5328}, {\"threshold\": 0.368, \"p\": 27976, \"fpr\": 0.9727852852852853, \"tpr\": 0.997748069774092, \"n\": 5328}, {\"threshold\": 0.369, \"p\": 27976, \"fpr\": 0.9727852852852853, \"tpr\": 0.997748069774092, \"n\": 5328}, {\"threshold\": 0.37, \"p\": 27976, \"fpr\": 0.9727852852852853, \"tpr\": 0.997748069774092, \"n\": 5328}, {\"threshold\": 0.371, \"p\": 27976, \"fpr\": 0.9727852852852853, \"tpr\": 0.997748069774092, \"n\": 5328}, {\"threshold\": 0.372, \"p\": 27976, \"fpr\": 0.9727852852852853, \"tpr\": 0.997748069774092, \"n\": 5328}, {\"threshold\": 0.373, \"p\": 27976, \"fpr\": 0.9727852852852853, \"tpr\": 0.997748069774092, \"n\": 5328}, {\"threshold\": 0.374, \"p\": 27976, \"fpr\": 0.9727852852852853, \"tpr\": 0.997748069774092, \"n\": 5328}, {\"threshold\": 0.375, \"p\": 27976, \"fpr\": 0.9727852852852853, \"tpr\": 0.997748069774092, \"n\": 5328}, {\"threshold\": 0.376, \"p\": 27976, \"fpr\": 0.9727852852852853, \"tpr\": 0.997748069774092, \"n\": 5328}, {\"threshold\": 0.377, \"p\": 27976, \"fpr\": 0.9727852852852853, \"tpr\": 0.997748069774092, \"n\": 5328}, {\"threshold\": 0.378, \"p\": 27976, \"fpr\": 0.9727852852852853, \"tpr\": 0.997748069774092, \"n\": 5328}, {\"threshold\": 0.379, \"p\": 27976, \"fpr\": 0.9727852852852853, \"tpr\": 0.997748069774092, \"n\": 5328}, {\"threshold\": 0.38, \"p\": 27976, \"fpr\": 0.9727852852852853, \"tpr\": 0.997748069774092, \"n\": 5328}, {\"threshold\": 0.381, \"p\": 27976, \"fpr\": 0.9727852852852853, \"tpr\": 0.997748069774092, \"n\": 5328}, {\"threshold\": 0.382, \"p\": 27976, \"fpr\": 0.9727852852852853, \"tpr\": 0.997748069774092, \"n\": 5328}, {\"threshold\": 0.383, \"p\": 27976, \"fpr\": 0.9727852852852853, \"tpr\": 0.997748069774092, \"n\": 5328}, {\"threshold\": 0.384, \"p\": 27976, \"fpr\": 0.9727852852852853, \"tpr\": 0.997748069774092, \"n\": 5328}, {\"threshold\": 0.385, \"p\": 27976, \"fpr\": 0.9727852852852853, \"tpr\": 0.997748069774092, \"n\": 5328}, {\"threshold\": 0.386, \"p\": 27976, \"fpr\": 0.9727852852852853, \"tpr\": 0.997748069774092, \"n\": 5328}, {\"threshold\": 0.387, \"p\": 27976, \"fpr\": 0.9727852852852853, \"tpr\": 0.997748069774092, \"n\": 5328}, {\"threshold\": 0.388, \"p\": 27976, \"fpr\": 0.9727852852852853, \"tpr\": 0.997748069774092, \"n\": 5328}, {\"threshold\": 0.389, \"p\": 27976, \"fpr\": 0.9727852852852853, \"tpr\": 0.997748069774092, \"n\": 5328}, {\"threshold\": 0.39, \"p\": 27976, \"fpr\": 0.9727852852852853, \"tpr\": 0.997748069774092, \"n\": 5328}, {\"threshold\": 0.391, \"p\": 27976, \"fpr\": 0.9727852852852853, \"tpr\": 0.997748069774092, \"n\": 5328}, {\"threshold\": 0.392, \"p\": 27976, \"fpr\": 0.9727852852852853, \"tpr\": 0.997748069774092, \"n\": 5328}, {\"threshold\": 0.393, \"p\": 27976, \"fpr\": 0.9727852852852853, \"tpr\": 0.997748069774092, \"n\": 5328}, {\"threshold\": 0.394, \"p\": 27976, \"fpr\": 0.9727852852852853, \"tpr\": 0.997748069774092, \"n\": 5328}, {\"threshold\": 0.395, \"p\": 27976, \"fpr\": 0.9727852852852853, \"tpr\": 0.997748069774092, \"n\": 5328}, {\"threshold\": 0.396, \"p\": 27976, \"fpr\": 0.9727852852852853, \"tpr\": 0.997748069774092, \"n\": 5328}, {\"threshold\": 0.397, \"p\": 27976, \"fpr\": 0.9727852852852853, \"tpr\": 0.997748069774092, \"n\": 5328}, {\"threshold\": 0.398, \"p\": 27976, \"fpr\": 0.9727852852852853, \"tpr\": 0.997748069774092, \"n\": 5328}, {\"threshold\": 0.399, \"p\": 27976, \"fpr\": 0.9727852852852853, \"tpr\": 0.997748069774092, \"n\": 5328}, {\"threshold\": 0.4, \"p\": 27976, \"fpr\": 0.9727852852852853, \"tpr\": 0.997748069774092, \"n\": 5328}, {\"threshold\": 0.401, \"p\": 27976, \"fpr\": 0.9727852852852853, \"tpr\": 0.997748069774092, \"n\": 5328}, {\"threshold\": 0.402, \"p\": 27976, \"fpr\": 0.9680930930930931, \"tpr\": 0.9972476408350014, \"n\": 5328}, {\"threshold\": 0.403, \"p\": 27976, \"fpr\": 0.9680930930930931, \"tpr\": 0.9972476408350014, \"n\": 5328}, {\"threshold\": 0.404, \"p\": 27976, \"fpr\": 0.9680930930930931, \"tpr\": 0.9972476408350014, \"n\": 5328}, {\"threshold\": 0.405, \"p\": 27976, \"fpr\": 0.9680930930930931, \"tpr\": 0.9972476408350014, \"n\": 5328}, {\"threshold\": 0.406, \"p\": 27976, \"fpr\": 0.9680930930930931, \"tpr\": 0.9972476408350014, \"n\": 5328}, {\"threshold\": 0.407, \"p\": 27976, \"fpr\": 0.9680930930930931, \"tpr\": 0.9972476408350014, \"n\": 5328}, {\"threshold\": 0.408, \"p\": 27976, \"fpr\": 0.9680930930930931, \"tpr\": 0.9972476408350014, \"n\": 5328}, {\"threshold\": 0.409, \"p\": 27976, \"fpr\": 0.9680930930930931, \"tpr\": 0.9972476408350014, \"n\": 5328}, {\"threshold\": 0.41, \"p\": 27976, \"fpr\": 0.9680930930930931, \"tpr\": 0.9972476408350014, \"n\": 5328}, {\"threshold\": 0.411, \"p\": 27976, \"fpr\": 0.9680930930930931, \"tpr\": 0.9972476408350014, \"n\": 5328}, {\"threshold\": 0.412, \"p\": 27976, \"fpr\": 0.9680930930930931, \"tpr\": 0.9972476408350014, \"n\": 5328}, {\"threshold\": 0.413, \"p\": 27976, \"fpr\": 0.9680930930930931, \"tpr\": 0.9972476408350014, \"n\": 5328}, {\"threshold\": 0.414, \"p\": 27976, \"fpr\": 0.9680930930930931, \"tpr\": 0.9972476408350014, \"n\": 5328}, {\"threshold\": 0.415, \"p\": 27976, \"fpr\": 0.9680930930930931, \"tpr\": 0.9972476408350014, \"n\": 5328}, {\"threshold\": 0.416, \"p\": 27976, \"fpr\": 0.9680930930930931, \"tpr\": 0.9972476408350014, \"n\": 5328}, {\"threshold\": 0.417, \"p\": 27976, \"fpr\": 0.9680930930930931, \"tpr\": 0.9972476408350014, \"n\": 5328}, {\"threshold\": 0.418, \"p\": 27976, \"fpr\": 0.9680930930930931, \"tpr\": 0.9972476408350014, \"n\": 5328}, {\"threshold\": 0.419, \"p\": 27976, \"fpr\": 0.9680930930930931, \"tpr\": 0.9972476408350014, \"n\": 5328}, {\"threshold\": 0.42, \"p\": 27976, \"fpr\": 0.9680930930930931, \"tpr\": 0.9972476408350014, \"n\": 5328}, {\"threshold\": 0.421, \"p\": 27976, \"fpr\": 0.9680930930930931, \"tpr\": 0.9972476408350014, \"n\": 5328}, {\"threshold\": 0.422, \"p\": 27976, \"fpr\": 0.9680930930930931, \"tpr\": 0.9972476408350014, \"n\": 5328}, {\"threshold\": 0.423, \"p\": 27976, \"fpr\": 0.9680930930930931, \"tpr\": 0.9972476408350014, \"n\": 5328}, {\"threshold\": 0.424, \"p\": 27976, \"fpr\": 0.9680930930930931, \"tpr\": 0.9972476408350014, \"n\": 5328}, {\"threshold\": 0.425, \"p\": 27976, \"fpr\": 0.9680930930930931, \"tpr\": 0.9972476408350014, \"n\": 5328}, {\"threshold\": 0.426, \"p\": 27976, \"fpr\": 0.9680930930930931, \"tpr\": 0.9972476408350014, \"n\": 5328}, {\"threshold\": 0.427, \"p\": 27976, \"fpr\": 0.9680930930930931, \"tpr\": 0.9972476408350014, \"n\": 5328}, {\"threshold\": 0.428, \"p\": 27976, \"fpr\": 0.9680930930930931, \"tpr\": 0.9972476408350014, \"n\": 5328}, {\"threshold\": 0.429, \"p\": 27976, \"fpr\": 0.9680930930930931, \"tpr\": 0.9972476408350014, \"n\": 5328}, {\"threshold\": 0.43, \"p\": 27976, \"fpr\": 0.9680930930930931, \"tpr\": 0.9972476408350014, \"n\": 5328}, {\"threshold\": 0.431, \"p\": 27976, \"fpr\": 0.9680930930930931, \"tpr\": 0.9972476408350014, \"n\": 5328}, {\"threshold\": 0.432, \"p\": 27976, \"fpr\": 0.9680930930930931, \"tpr\": 0.9972476408350014, \"n\": 5328}, {\"threshold\": 0.433, \"p\": 27976, \"fpr\": 0.9680930930930931, \"tpr\": 0.9972476408350014, \"n\": 5328}, {\"threshold\": 0.434, \"p\": 27976, \"fpr\": 0.9680930930930931, \"tpr\": 0.9972476408350014, \"n\": 5328}, {\"threshold\": 0.435, \"p\": 27976, \"fpr\": 0.9680930930930931, \"tpr\": 0.9972476408350014, \"n\": 5328}, {\"threshold\": 0.436, \"p\": 27976, \"fpr\": 0.9680930930930931, \"tpr\": 0.9972476408350014, \"n\": 5328}, {\"threshold\": 0.437, \"p\": 27976, \"fpr\": 0.9680930930930931, \"tpr\": 0.9972476408350014, \"n\": 5328}, {\"threshold\": 0.438, \"p\": 27976, \"fpr\": 0.9680930930930931, \"tpr\": 0.9972476408350014, \"n\": 5328}, {\"threshold\": 0.439, \"p\": 27976, \"fpr\": 0.9680930930930931, \"tpr\": 0.9972476408350014, \"n\": 5328}, {\"threshold\": 0.44, \"p\": 27976, \"fpr\": 0.9680930930930931, \"tpr\": 0.9972476408350014, \"n\": 5328}, {\"threshold\": 0.441, \"p\": 27976, \"fpr\": 0.9680930930930931, \"tpr\": 0.9972476408350014, \"n\": 5328}, {\"threshold\": 0.442, \"p\": 27976, \"fpr\": 0.9680930930930931, \"tpr\": 0.9972476408350014, \"n\": 5328}, {\"threshold\": 0.443, \"p\": 27976, \"fpr\": 0.9680930930930931, \"tpr\": 0.9972476408350014, \"n\": 5328}, {\"threshold\": 0.444, \"p\": 27976, \"fpr\": 0.9680930930930931, \"tpr\": 0.9972476408350014, \"n\": 5328}, {\"threshold\": 0.445, \"p\": 27976, \"fpr\": 0.9680930930930931, \"tpr\": 0.9972476408350014, \"n\": 5328}, {\"threshold\": 0.446, \"p\": 27976, \"fpr\": 0.9680930930930931, \"tpr\": 0.9972476408350014, \"n\": 5328}, {\"threshold\": 0.447, \"p\": 27976, \"fpr\": 0.9680930930930931, \"tpr\": 0.9972476408350014, \"n\": 5328}, {\"threshold\": 0.448, \"p\": 27976, \"fpr\": 0.9680930930930931, \"tpr\": 0.9972476408350014, \"n\": 5328}, {\"threshold\": 0.449, \"p\": 27976, \"fpr\": 0.9680930930930931, \"tpr\": 0.9972476408350014, \"n\": 5328}, {\"threshold\": 0.45, \"p\": 27976, \"fpr\": 0.9680930930930931, \"tpr\": 0.9972476408350014, \"n\": 5328}, {\"threshold\": 0.451, \"p\": 27976, \"fpr\": 0.9680930930930931, \"tpr\": 0.9972476408350014, \"n\": 5328}, {\"threshold\": 0.452, \"p\": 27976, \"fpr\": 0.9680930930930931, \"tpr\": 0.9972476408350014, \"n\": 5328}, {\"threshold\": 0.453, \"p\": 27976, \"fpr\": 0.9680930930930931, \"tpr\": 0.9972476408350014, \"n\": 5328}, {\"threshold\": 0.454, \"p\": 27976, \"fpr\": 0.9680930930930931, \"tpr\": 0.9972476408350014, \"n\": 5328}, {\"threshold\": 0.455, \"p\": 27976, \"fpr\": 0.9680930930930931, \"tpr\": 0.9972476408350014, \"n\": 5328}, {\"threshold\": 0.456, \"p\": 27976, \"fpr\": 0.9680930930930931, \"tpr\": 0.9972476408350014, \"n\": 5328}, {\"threshold\": 0.457, \"p\": 27976, \"fpr\": 0.9680930930930931, \"tpr\": 0.9972476408350014, \"n\": 5328}, {\"threshold\": 0.458, \"p\": 27976, \"fpr\": 0.9680930930930931, \"tpr\": 0.9972476408350014, \"n\": 5328}, {\"threshold\": 0.459, \"p\": 27976, \"fpr\": 0.9680930930930931, \"tpr\": 0.9972476408350014, \"n\": 5328}, {\"threshold\": 0.46, \"p\": 27976, \"fpr\": 0.9680930930930931, \"tpr\": 0.9972476408350014, \"n\": 5328}, {\"threshold\": 0.461, \"p\": 27976, \"fpr\": 0.9680930930930931, \"tpr\": 0.9972476408350014, \"n\": 5328}, {\"threshold\": 0.462, \"p\": 27976, \"fpr\": 0.9680930930930931, \"tpr\": 0.9972118959107806, \"n\": 5328}, {\"threshold\": 0.463, \"p\": 27976, \"fpr\": 0.9680930930930931, \"tpr\": 0.9972118959107806, \"n\": 5328}, {\"threshold\": 0.464, \"p\": 27976, \"fpr\": 0.9680930930930931, \"tpr\": 0.9972118959107806, \"n\": 5328}, {\"threshold\": 0.465, \"p\": 27976, \"fpr\": 0.9680930930930931, \"tpr\": 0.9971761509865599, \"n\": 5328}, {\"threshold\": 0.466, \"p\": 27976, \"fpr\": 0.9680930930930931, \"tpr\": 0.9971761509865599, \"n\": 5328}, {\"threshold\": 0.467, \"p\": 27976, \"fpr\": 0.9680930930930931, \"tpr\": 0.9971761509865599, \"n\": 5328}, {\"threshold\": 0.468, \"p\": 27976, \"fpr\": 0.9679054054054054, \"tpr\": 0.9971761509865599, \"n\": 5328}, {\"threshold\": 0.469, \"p\": 27976, \"fpr\": 0.9679054054054054, \"tpr\": 0.9971761509865599, \"n\": 5328}, {\"threshold\": 0.47, \"p\": 27976, \"fpr\": 0.9679054054054054, \"tpr\": 0.9971761509865599, \"n\": 5328}, {\"threshold\": 0.471, \"p\": 27976, \"fpr\": 0.9679054054054054, \"tpr\": 0.9971761509865599, \"n\": 5328}, {\"threshold\": 0.472, \"p\": 27976, \"fpr\": 0.9679054054054054, \"tpr\": 0.9971761509865599, \"n\": 5328}, {\"threshold\": 0.473, \"p\": 27976, \"fpr\": 0.9679054054054054, \"tpr\": 0.9971761509865599, \"n\": 5328}, {\"threshold\": 0.474, \"p\": 27976, \"fpr\": 0.9679054054054054, \"tpr\": 0.9971761509865599, \"n\": 5328}, {\"threshold\": 0.475, \"p\": 27976, \"fpr\": 0.9679054054054054, \"tpr\": 0.9971761509865599, \"n\": 5328}, {\"threshold\": 0.476, \"p\": 27976, \"fpr\": 0.9679054054054054, \"tpr\": 0.9971761509865599, \"n\": 5328}, {\"threshold\": 0.477, \"p\": 27976, \"fpr\": 0.9679054054054054, \"tpr\": 0.9971761509865599, \"n\": 5328}, {\"threshold\": 0.478, \"p\": 27976, \"fpr\": 0.9679054054054054, \"tpr\": 0.9971761509865599, \"n\": 5328}, {\"threshold\": 0.479, \"p\": 27976, \"fpr\": 0.9679054054054054, \"tpr\": 0.9971761509865599, \"n\": 5328}, {\"threshold\": 0.48, \"p\": 27976, \"fpr\": 0.9679054054054054, \"tpr\": 0.9971761509865599, \"n\": 5328}, {\"threshold\": 0.481, \"p\": 27976, \"fpr\": 0.9679054054054054, \"tpr\": 0.9971761509865599, \"n\": 5328}, {\"threshold\": 0.482, \"p\": 27976, \"fpr\": 0.9679054054054054, \"tpr\": 0.9971761509865599, \"n\": 5328}, {\"threshold\": 0.483, \"p\": 27976, \"fpr\": 0.9679054054054054, \"tpr\": 0.9971761509865599, \"n\": 5328}, {\"threshold\": 0.484, \"p\": 27976, \"fpr\": 0.9679054054054054, \"tpr\": 0.9971761509865599, \"n\": 5328}, {\"threshold\": 0.485, \"p\": 27976, \"fpr\": 0.9679054054054054, \"tpr\": 0.9971761509865599, \"n\": 5328}, {\"threshold\": 0.486, \"p\": 27976, \"fpr\": 0.9679054054054054, \"tpr\": 0.9971761509865599, \"n\": 5328}, {\"threshold\": 0.487, \"p\": 27976, \"fpr\": 0.9679054054054054, \"tpr\": 0.9971761509865599, \"n\": 5328}, {\"threshold\": 0.488, \"p\": 27976, \"fpr\": 0.9673423423423423, \"tpr\": 0.9971046611381184, \"n\": 5328}, {\"threshold\": 0.489, \"p\": 27976, \"fpr\": 0.9673423423423423, \"tpr\": 0.9971046611381184, \"n\": 5328}, {\"threshold\": 0.49, \"p\": 27976, \"fpr\": 0.9562687687687688, \"tpr\": 0.9953531598513011, \"n\": 5328}, {\"threshold\": 0.491, \"p\": 27976, \"fpr\": 0.9562687687687688, \"tpr\": 0.9953531598513011, \"n\": 5328}, {\"threshold\": 0.492, \"p\": 27976, \"fpr\": 0.9562687687687688, \"tpr\": 0.9953531598513011, \"n\": 5328}, {\"threshold\": 0.493, \"p\": 27976, \"fpr\": 0.9562687687687688, \"tpr\": 0.9953531598513011, \"n\": 5328}, {\"threshold\": 0.494, \"p\": 27976, \"fpr\": 0.9562687687687688, \"tpr\": 0.9953531598513011, \"n\": 5328}, {\"threshold\": 0.495, \"p\": 27976, \"fpr\": 0.9562687687687688, \"tpr\": 0.9953531598513011, \"n\": 5328}, {\"threshold\": 0.496, \"p\": 27976, \"fpr\": 0.9562687687687688, \"tpr\": 0.9953531598513011, \"n\": 5328}, {\"threshold\": 0.497, \"p\": 27976, \"fpr\": 0.956081081081081, \"tpr\": 0.9953531598513011, \"n\": 5328}, {\"threshold\": 0.498, \"p\": 27976, \"fpr\": 0.956081081081081, \"tpr\": 0.9953531598513011, \"n\": 5328}, {\"threshold\": 0.499, \"p\": 27976, \"fpr\": 0.956081081081081, \"tpr\": 0.9953531598513011, \"n\": 5328}, {\"threshold\": 0.5, \"p\": 27976, \"fpr\": 0.956081081081081, \"tpr\": 0.9953531598513011, \"n\": 5328}, {\"threshold\": 0.501, \"p\": 27976, \"fpr\": 0.956081081081081, \"tpr\": 0.9953531598513011, \"n\": 5328}, {\"threshold\": 0.502, \"p\": 27976, \"fpr\": 0.956081081081081, \"tpr\": 0.9953531598513011, \"n\": 5328}, {\"threshold\": 0.503, \"p\": 27976, \"fpr\": 0.956081081081081, \"tpr\": 0.9953531598513011, \"n\": 5328}, {\"threshold\": 0.504, \"p\": 27976, \"fpr\": 0.956081081081081, \"tpr\": 0.9953531598513011, \"n\": 5328}, {\"threshold\": 0.505, \"p\": 27976, \"fpr\": 0.956081081081081, \"tpr\": 0.9953531598513011, \"n\": 5328}, {\"threshold\": 0.506, \"p\": 27976, \"fpr\": 0.956081081081081, \"tpr\": 0.9953531598513011, \"n\": 5328}, {\"threshold\": 0.507, \"p\": 27976, \"fpr\": 0.956081081081081, \"tpr\": 0.9953531598513011, \"n\": 5328}, {\"threshold\": 0.508, \"p\": 27976, \"fpr\": 0.956081081081081, \"tpr\": 0.9953531598513011, \"n\": 5328}, {\"threshold\": 0.509, \"p\": 27976, \"fpr\": 0.956081081081081, \"tpr\": 0.9953531598513011, \"n\": 5328}, {\"threshold\": 0.51, \"p\": 27976, \"fpr\": 0.956081081081081, \"tpr\": 0.9953531598513011, \"n\": 5328}, {\"threshold\": 0.511, \"p\": 27976, \"fpr\": 0.956081081081081, \"tpr\": 0.9953531598513011, \"n\": 5328}, {\"threshold\": 0.512, \"p\": 27976, \"fpr\": 0.956081081081081, \"tpr\": 0.9953531598513011, \"n\": 5328}, {\"threshold\": 0.513, \"p\": 27976, \"fpr\": 0.956081081081081, \"tpr\": 0.9953531598513011, \"n\": 5328}, {\"threshold\": 0.514, \"p\": 27976, \"fpr\": 0.956081081081081, \"tpr\": 0.9953531598513011, \"n\": 5328}, {\"threshold\": 0.515, \"p\": 27976, \"fpr\": 0.956081081081081, \"tpr\": 0.9953531598513011, \"n\": 5328}, {\"threshold\": 0.516, \"p\": 27976, \"fpr\": 0.956081081081081, \"tpr\": 0.9953531598513011, \"n\": 5328}, {\"threshold\": 0.517, \"p\": 27976, \"fpr\": 0.956081081081081, \"tpr\": 0.9953531598513011, \"n\": 5328}, {\"threshold\": 0.518, \"p\": 27976, \"fpr\": 0.956081081081081, \"tpr\": 0.9953531598513011, \"n\": 5328}, {\"threshold\": 0.519, \"p\": 27976, \"fpr\": 0.956081081081081, \"tpr\": 0.9953531598513011, \"n\": 5328}, {\"threshold\": 0.52, \"p\": 27976, \"fpr\": 0.956081081081081, \"tpr\": 0.9953531598513011, \"n\": 5328}, {\"threshold\": 0.521, \"p\": 27976, \"fpr\": 0.956081081081081, \"tpr\": 0.9953531598513011, \"n\": 5328}, {\"threshold\": 0.522, \"p\": 27976, \"fpr\": 0.956081081081081, \"tpr\": 0.9953531598513011, \"n\": 5328}, {\"threshold\": 0.523, \"p\": 27976, \"fpr\": 0.956081081081081, \"tpr\": 0.9953531598513011, \"n\": 5328}, {\"threshold\": 0.524, \"p\": 27976, \"fpr\": 0.956081081081081, \"tpr\": 0.9953531598513011, \"n\": 5328}, {\"threshold\": 0.525, \"p\": 27976, \"fpr\": 0.956081081081081, \"tpr\": 0.9953531598513011, \"n\": 5328}, {\"threshold\": 0.526, \"p\": 27976, \"fpr\": 0.956081081081081, \"tpr\": 0.9953531598513011, \"n\": 5328}, {\"threshold\": 0.527, \"p\": 27976, \"fpr\": 0.956081081081081, \"tpr\": 0.9953531598513011, \"n\": 5328}, {\"threshold\": 0.528, \"p\": 27976, \"fpr\": 0.956081081081081, \"tpr\": 0.9953531598513011, \"n\": 5328}, {\"threshold\": 0.529, \"p\": 27976, \"fpr\": 0.956081081081081, \"tpr\": 0.9953531598513011, \"n\": 5328}, {\"threshold\": 0.53, \"p\": 27976, \"fpr\": 0.956081081081081, \"tpr\": 0.9953531598513011, \"n\": 5328}, {\"threshold\": 0.531, \"p\": 27976, \"fpr\": 0.956081081081081, \"tpr\": 0.9953531598513011, \"n\": 5328}, {\"threshold\": 0.532, \"p\": 27976, \"fpr\": 0.956081081081081, \"tpr\": 0.9953531598513011, \"n\": 5328}, {\"threshold\": 0.533, \"p\": 27976, \"fpr\": 0.956081081081081, \"tpr\": 0.9953531598513011, \"n\": 5328}, {\"threshold\": 0.534, \"p\": 27976, \"fpr\": 0.956081081081081, \"tpr\": 0.9953531598513011, \"n\": 5328}, {\"threshold\": 0.535, \"p\": 27976, \"fpr\": 0.956081081081081, \"tpr\": 0.9953531598513011, \"n\": 5328}, {\"threshold\": 0.536, \"p\": 27976, \"fpr\": 0.956081081081081, \"tpr\": 0.9953531598513011, \"n\": 5328}, {\"threshold\": 0.537, \"p\": 27976, \"fpr\": 0.956081081081081, \"tpr\": 0.9953531598513011, \"n\": 5328}, {\"threshold\": 0.538, \"p\": 27976, \"fpr\": 0.956081081081081, \"tpr\": 0.9953531598513011, \"n\": 5328}, {\"threshold\": 0.539, \"p\": 27976, \"fpr\": 0.956081081081081, \"tpr\": 0.9953531598513011, \"n\": 5328}, {\"threshold\": 0.54, \"p\": 27976, \"fpr\": 0.956081081081081, \"tpr\": 0.9953531598513011, \"n\": 5328}, {\"threshold\": 0.541, \"p\": 27976, \"fpr\": 0.954954954954955, \"tpr\": 0.9951744352301973, \"n\": 5328}, {\"threshold\": 0.542, \"p\": 27976, \"fpr\": 0.954954954954955, \"tpr\": 0.9951744352301973, \"n\": 5328}, {\"threshold\": 0.543, \"p\": 27976, \"fpr\": 0.954954954954955, \"tpr\": 0.9951386903059766, \"n\": 5328}, {\"threshold\": 0.544, \"p\": 27976, \"fpr\": 0.954954954954955, \"tpr\": 0.9951386903059766, \"n\": 5328}, {\"threshold\": 0.545, \"p\": 27976, \"fpr\": 0.954954954954955, \"tpr\": 0.9951386903059766, \"n\": 5328}, {\"threshold\": 0.546, \"p\": 27976, \"fpr\": 0.954954954954955, \"tpr\": 0.9951386903059766, \"n\": 5328}, {\"threshold\": 0.547, \"p\": 27976, \"fpr\": 0.954954954954955, \"tpr\": 0.9951386903059766, \"n\": 5328}, {\"threshold\": 0.548, \"p\": 27976, \"fpr\": 0.954954954954955, \"tpr\": 0.9951386903059766, \"n\": 5328}, {\"threshold\": 0.549, \"p\": 27976, \"fpr\": 0.954954954954955, \"tpr\": 0.9951386903059766, \"n\": 5328}, {\"threshold\": 0.55, \"p\": 27976, \"fpr\": 0.954954954954955, \"tpr\": 0.9951386903059766, \"n\": 5328}, {\"threshold\": 0.551, \"p\": 27976, \"fpr\": 0.954954954954955, \"tpr\": 0.9951386903059766, \"n\": 5328}, {\"threshold\": 0.552, \"p\": 27976, \"fpr\": 0.954954954954955, \"tpr\": 0.9951386903059766, \"n\": 5328}, {\"threshold\": 0.553, \"p\": 27976, \"fpr\": 0.954954954954955, \"tpr\": 0.9951386903059766, \"n\": 5328}, {\"threshold\": 0.554, \"p\": 27976, \"fpr\": 0.954954954954955, \"tpr\": 0.9951386903059766, \"n\": 5328}, {\"threshold\": 0.555, \"p\": 27976, \"fpr\": 0.954954954954955, \"tpr\": 0.9951386903059766, \"n\": 5328}, {\"threshold\": 0.556, \"p\": 27976, \"fpr\": 0.954954954954955, \"tpr\": 0.9951386903059766, \"n\": 5328}, {\"threshold\": 0.557, \"p\": 27976, \"fpr\": 0.954954954954955, \"tpr\": 0.9951386903059766, \"n\": 5328}, {\"threshold\": 0.558, \"p\": 27976, \"fpr\": 0.954954954954955, \"tpr\": 0.9951386903059766, \"n\": 5328}, {\"threshold\": 0.559, \"p\": 27976, \"fpr\": 0.954954954954955, \"tpr\": 0.9951386903059766, \"n\": 5328}, {\"threshold\": 0.56, \"p\": 27976, \"fpr\": 0.954954954954955, \"tpr\": 0.9951386903059766, \"n\": 5328}, {\"threshold\": 0.561, \"p\": 27976, \"fpr\": 0.954954954954955, \"tpr\": 0.9951386903059766, \"n\": 5328}, {\"threshold\": 0.562, \"p\": 27976, \"fpr\": 0.954954954954955, \"tpr\": 0.9951386903059766, \"n\": 5328}, {\"threshold\": 0.563, \"p\": 27976, \"fpr\": 0.954954954954955, \"tpr\": 0.9951386903059766, \"n\": 5328}, {\"threshold\": 0.564, \"p\": 27976, \"fpr\": 0.9538288288288288, \"tpr\": 0.9949957106090935, \"n\": 5328}, {\"threshold\": 0.565, \"p\": 27976, \"fpr\": 0.9538288288288288, \"tpr\": 0.9949957106090935, \"n\": 5328}, {\"threshold\": 0.566, \"p\": 27976, \"fpr\": 0.9538288288288288, \"tpr\": 0.9949599656848728, \"n\": 5328}, {\"threshold\": 0.567, \"p\": 27976, \"fpr\": 0.9538288288288288, \"tpr\": 0.9949599656848728, \"n\": 5328}, {\"threshold\": 0.568, \"p\": 27976, \"fpr\": 0.9538288288288288, \"tpr\": 0.9949599656848728, \"n\": 5328}, {\"threshold\": 0.569, \"p\": 27976, \"fpr\": 0.9538288288288288, \"tpr\": 0.9949599656848728, \"n\": 5328}, {\"threshold\": 0.57, \"p\": 27976, \"fpr\": 0.9538288288288288, \"tpr\": 0.9948527309122105, \"n\": 5328}, {\"threshold\": 0.571, \"p\": 27976, \"fpr\": 0.9538288288288288, \"tpr\": 0.9948527309122105, \"n\": 5328}, {\"threshold\": 0.572, \"p\": 27976, \"fpr\": 0.9538288288288288, \"tpr\": 0.9948527309122105, \"n\": 5328}, {\"threshold\": 0.573, \"p\": 27976, \"fpr\": 0.9538288288288288, \"tpr\": 0.9948527309122105, \"n\": 5328}, {\"threshold\": 0.574, \"p\": 27976, \"fpr\": 0.9538288288288288, \"tpr\": 0.9948527309122105, \"n\": 5328}, {\"threshold\": 0.575, \"p\": 27976, \"fpr\": 0.9538288288288288, \"tpr\": 0.9948527309122105, \"n\": 5328}, {\"threshold\": 0.576, \"p\": 27976, \"fpr\": 0.9538288288288288, \"tpr\": 0.9948527309122105, \"n\": 5328}, {\"threshold\": 0.577, \"p\": 27976, \"fpr\": 0.9538288288288288, \"tpr\": 0.9948527309122105, \"n\": 5328}, {\"threshold\": 0.578, \"p\": 27976, \"fpr\": 0.9538288288288288, \"tpr\": 0.9948527309122105, \"n\": 5328}, {\"threshold\": 0.579, \"p\": 27976, \"fpr\": 0.9538288288288288, \"tpr\": 0.9948527309122105, \"n\": 5328}, {\"threshold\": 0.58, \"p\": 27976, \"fpr\": 0.9538288288288288, \"tpr\": 0.9948527309122105, \"n\": 5328}, {\"threshold\": 0.581, \"p\": 27976, \"fpr\": 0.9538288288288288, \"tpr\": 0.9948527309122105, \"n\": 5328}, {\"threshold\": 0.582, \"p\": 27976, \"fpr\": 0.9538288288288288, \"tpr\": 0.9948169859879897, \"n\": 5328}, {\"threshold\": 0.583, \"p\": 27976, \"fpr\": 0.9538288288288288, \"tpr\": 0.9948169859879897, \"n\": 5328}, {\"threshold\": 0.584, \"p\": 27976, \"fpr\": 0.9538288288288288, \"tpr\": 0.9948169859879897, \"n\": 5328}, {\"threshold\": 0.585, \"p\": 27976, \"fpr\": 0.9538288288288288, \"tpr\": 0.9948169859879897, \"n\": 5328}, {\"threshold\": 0.586, \"p\": 27976, \"fpr\": 0.9538288288288288, \"tpr\": 0.9948169859879897, \"n\": 5328}, {\"threshold\": 0.587, \"p\": 27976, \"fpr\": 0.9538288288288288, \"tpr\": 0.9948169859879897, \"n\": 5328}, {\"threshold\": 0.588, \"p\": 27976, \"fpr\": 0.9538288288288288, \"tpr\": 0.9948169859879897, \"n\": 5328}, {\"threshold\": 0.589, \"p\": 27976, \"fpr\": 0.9538288288288288, \"tpr\": 0.9948169859879897, \"n\": 5328}, {\"threshold\": 0.59, \"p\": 27976, \"fpr\": 0.9538288288288288, \"tpr\": 0.9948169859879897, \"n\": 5328}, {\"threshold\": 0.591, \"p\": 27976, \"fpr\": 0.9538288288288288, \"tpr\": 0.9948169859879897, \"n\": 5328}, {\"threshold\": 0.592, \"p\": 27976, \"fpr\": 0.9536411411411412, \"tpr\": 0.994781241063769, \"n\": 5328}, {\"threshold\": 0.593, \"p\": 27976, \"fpr\": 0.9536411411411412, \"tpr\": 0.994781241063769, \"n\": 5328}, {\"threshold\": 0.594, \"p\": 27976, \"fpr\": 0.9536411411411412, \"tpr\": 0.994781241063769, \"n\": 5328}, {\"threshold\": 0.595, \"p\": 27976, \"fpr\": 0.9294294294294294, \"tpr\": 0.9873820417500715, \"n\": 5328}, {\"threshold\": 0.596, \"p\": 27976, \"fpr\": 0.9294294294294294, \"tpr\": 0.9873820417500715, \"n\": 5328}, {\"threshold\": 0.597, \"p\": 27976, \"fpr\": 0.9294294294294294, \"tpr\": 0.9873820417500715, \"n\": 5328}, {\"threshold\": 0.598, \"p\": 27976, \"fpr\": 0.9294294294294294, \"tpr\": 0.9873820417500715, \"n\": 5328}, {\"threshold\": 0.599, \"p\": 27976, \"fpr\": 0.9294294294294294, \"tpr\": 0.9873820417500715, \"n\": 5328}, {\"threshold\": 0.6, \"p\": 27976, \"fpr\": 0.9294294294294294, \"tpr\": 0.9873820417500715, \"n\": 5328}, {\"threshold\": 0.601, \"p\": 27976, \"fpr\": 0.9294294294294294, \"tpr\": 0.9873820417500715, \"n\": 5328}, {\"threshold\": 0.602, \"p\": 27976, \"fpr\": 0.9294294294294294, \"tpr\": 0.9873820417500715, \"n\": 5328}, {\"threshold\": 0.603, \"p\": 27976, \"fpr\": 0.9294294294294294, \"tpr\": 0.9873820417500715, \"n\": 5328}, {\"threshold\": 0.604, \"p\": 27976, \"fpr\": 0.9294294294294294, \"tpr\": 0.9873820417500715, \"n\": 5328}, {\"threshold\": 0.605, \"p\": 27976, \"fpr\": 0.9294294294294294, \"tpr\": 0.9873820417500715, \"n\": 5328}, {\"threshold\": 0.606, \"p\": 27976, \"fpr\": 0.9294294294294294, \"tpr\": 0.9873820417500715, \"n\": 5328}, {\"threshold\": 0.607, \"p\": 27976, \"fpr\": 0.9294294294294294, \"tpr\": 0.9873820417500715, \"n\": 5328}, {\"threshold\": 0.608, \"p\": 27976, \"fpr\": 0.9294294294294294, \"tpr\": 0.9873820417500715, \"n\": 5328}, {\"threshold\": 0.609, \"p\": 27976, \"fpr\": 0.9294294294294294, \"tpr\": 0.9873820417500715, \"n\": 5328}, {\"threshold\": 0.61, \"p\": 27976, \"fpr\": 0.9294294294294294, \"tpr\": 0.9873820417500715, \"n\": 5328}, {\"threshold\": 0.611, \"p\": 27976, \"fpr\": 0.9294294294294294, \"tpr\": 0.9873820417500715, \"n\": 5328}, {\"threshold\": 0.612, \"p\": 27976, \"fpr\": 0.9294294294294294, \"tpr\": 0.9873820417500715, \"n\": 5328}, {\"threshold\": 0.613, \"p\": 27976, \"fpr\": 0.9294294294294294, \"tpr\": 0.9873820417500715, \"n\": 5328}, {\"threshold\": 0.614, \"p\": 27976, \"fpr\": 0.9294294294294294, \"tpr\": 0.9873820417500715, \"n\": 5328}, {\"threshold\": 0.615, \"p\": 27976, \"fpr\": 0.9294294294294294, \"tpr\": 0.9873820417500715, \"n\": 5328}, {\"threshold\": 0.616, \"p\": 27976, \"fpr\": 0.9294294294294294, \"tpr\": 0.9873820417500715, \"n\": 5328}, {\"threshold\": 0.617, \"p\": 27976, \"fpr\": 0.9294294294294294, \"tpr\": 0.9873820417500715, \"n\": 5328}, {\"threshold\": 0.618, \"p\": 27976, \"fpr\": 0.9294294294294294, \"tpr\": 0.9873820417500715, \"n\": 5328}, {\"threshold\": 0.619, \"p\": 27976, \"fpr\": 0.9294294294294294, \"tpr\": 0.9873820417500715, \"n\": 5328}, {\"threshold\": 0.62, \"p\": 27976, \"fpr\": 0.9294294294294294, \"tpr\": 0.9872390620531885, \"n\": 5328}, {\"threshold\": 0.621, \"p\": 27976, \"fpr\": 0.9294294294294294, \"tpr\": 0.9872390620531885, \"n\": 5328}, {\"threshold\": 0.622, \"p\": 27976, \"fpr\": 0.9294294294294294, \"tpr\": 0.9871675722047469, \"n\": 5328}, {\"threshold\": 0.623, \"p\": 27976, \"fpr\": 0.9294294294294294, \"tpr\": 0.9871675722047469, \"n\": 5328}, {\"threshold\": 0.624, \"p\": 27976, \"fpr\": 0.9294294294294294, \"tpr\": 0.9871675722047469, \"n\": 5328}, {\"threshold\": 0.625, \"p\": 27976, \"fpr\": 0.9294294294294294, \"tpr\": 0.9871675722047469, \"n\": 5328}, {\"threshold\": 0.626, \"p\": 27976, \"fpr\": 0.9294294294294294, \"tpr\": 0.9871675722047469, \"n\": 5328}, {\"threshold\": 0.627, \"p\": 27976, \"fpr\": 0.9294294294294294, \"tpr\": 0.9871675722047469, \"n\": 5328}, {\"threshold\": 0.628, \"p\": 27976, \"fpr\": 0.9294294294294294, \"tpr\": 0.9871675722047469, \"n\": 5328}, {\"threshold\": 0.629, \"p\": 27976, \"fpr\": 0.9294294294294294, \"tpr\": 0.9871675722047469, \"n\": 5328}, {\"threshold\": 0.63, \"p\": 27976, \"fpr\": 0.9294294294294294, \"tpr\": 0.9871675722047469, \"n\": 5328}, {\"threshold\": 0.631, \"p\": 27976, \"fpr\": 0.9294294294294294, \"tpr\": 0.9871675722047469, \"n\": 5328}, {\"threshold\": 0.632, \"p\": 27976, \"fpr\": 0.9294294294294294, \"tpr\": 0.9871675722047469, \"n\": 5328}, {\"threshold\": 0.633, \"p\": 27976, \"fpr\": 0.9294294294294294, \"tpr\": 0.9871675722047469, \"n\": 5328}, {\"threshold\": 0.634, \"p\": 27976, \"fpr\": 0.9294294294294294, \"tpr\": 0.9871675722047469, \"n\": 5328}, {\"threshold\": 0.635, \"p\": 27976, \"fpr\": 0.9294294294294294, \"tpr\": 0.9871675722047469, \"n\": 5328}, {\"threshold\": 0.636, \"p\": 27976, \"fpr\": 0.9294294294294294, \"tpr\": 0.9871675722047469, \"n\": 5328}, {\"threshold\": 0.637, \"p\": 27976, \"fpr\": 0.9294294294294294, \"tpr\": 0.9871675722047469, \"n\": 5328}, {\"threshold\": 0.638, \"p\": 27976, \"fpr\": 0.9294294294294294, \"tpr\": 0.9871675722047469, \"n\": 5328}, {\"threshold\": 0.639, \"p\": 27976, \"fpr\": 0.9294294294294294, \"tpr\": 0.9871675722047469, \"n\": 5328}, {\"threshold\": 0.64, \"p\": 27976, \"fpr\": 0.9294294294294294, \"tpr\": 0.9871675722047469, \"n\": 5328}, {\"threshold\": 0.641, \"p\": 27976, \"fpr\": 0.9294294294294294, \"tpr\": 0.9871675722047469, \"n\": 5328}, {\"threshold\": 0.642, \"p\": 27976, \"fpr\": 0.9294294294294294, \"tpr\": 0.9871675722047469, \"n\": 5328}, {\"threshold\": 0.643, \"p\": 27976, \"fpr\": 0.9294294294294294, \"tpr\": 0.9871675722047469, \"n\": 5328}, {\"threshold\": 0.644, \"p\": 27976, \"fpr\": 0.9294294294294294, \"tpr\": 0.9871675722047469, \"n\": 5328}, {\"threshold\": 0.645, \"p\": 27976, \"fpr\": 0.9294294294294294, \"tpr\": 0.9871675722047469, \"n\": 5328}, {\"threshold\": 0.646, \"p\": 27976, \"fpr\": 0.9294294294294294, \"tpr\": 0.9871675722047469, \"n\": 5328}, {\"threshold\": 0.647, \"p\": 27976, \"fpr\": 0.9294294294294294, \"tpr\": 0.9871675722047469, \"n\": 5328}, {\"threshold\": 0.648, \"p\": 27976, \"fpr\": 0.9294294294294294, \"tpr\": 0.9871675722047469, \"n\": 5328}, {\"threshold\": 0.649, \"p\": 27976, \"fpr\": 0.9294294294294294, \"tpr\": 0.9871675722047469, \"n\": 5328}, {\"threshold\": 0.65, \"p\": 27976, \"fpr\": 0.9294294294294294, \"tpr\": 0.9871675722047469, \"n\": 5328}, {\"threshold\": 0.651, \"p\": 27976, \"fpr\": 0.9294294294294294, \"tpr\": 0.9871675722047469, \"n\": 5328}, {\"threshold\": 0.652, \"p\": 27976, \"fpr\": 0.9294294294294294, \"tpr\": 0.9871675722047469, \"n\": 5328}, {\"threshold\": 0.653, \"p\": 27976, \"fpr\": 0.9294294294294294, \"tpr\": 0.9871675722047469, \"n\": 5328}, {\"threshold\": 0.654, \"p\": 27976, \"fpr\": 0.9294294294294294, \"tpr\": 0.9871675722047469, \"n\": 5328}, {\"threshold\": 0.655, \"p\": 27976, \"fpr\": 0.9294294294294294, \"tpr\": 0.9871675722047469, \"n\": 5328}, {\"threshold\": 0.656, \"p\": 27976, \"fpr\": 0.9294294294294294, \"tpr\": 0.9871675722047469, \"n\": 5328}, {\"threshold\": 0.657, \"p\": 27976, \"fpr\": 0.9294294294294294, \"tpr\": 0.9871675722047469, \"n\": 5328}, {\"threshold\": 0.658, \"p\": 27976, \"fpr\": 0.9294294294294294, \"tpr\": 0.9871675722047469, \"n\": 5328}, {\"threshold\": 0.659, \"p\": 27976, \"fpr\": 0.9294294294294294, \"tpr\": 0.9871675722047469, \"n\": 5328}, {\"threshold\": 0.66, \"p\": 27976, \"fpr\": 0.9294294294294294, \"tpr\": 0.9871318272805262, \"n\": 5328}, {\"threshold\": 0.661, \"p\": 27976, \"fpr\": 0.9294294294294294, \"tpr\": 0.9871318272805262, \"n\": 5328}, {\"threshold\": 0.662, \"p\": 27976, \"fpr\": 0.9294294294294294, \"tpr\": 0.9871318272805262, \"n\": 5328}, {\"threshold\": 0.663, \"p\": 27976, \"fpr\": 0.9290540540540541, \"tpr\": 0.9868458678867601, \"n\": 5328}, {\"threshold\": 0.664, \"p\": 27976, \"fpr\": 0.9290540540540541, \"tpr\": 0.9868458678867601, \"n\": 5328}, {\"threshold\": 0.665, \"p\": 27976, \"fpr\": 0.9290540540540541, \"tpr\": 0.9868458678867601, \"n\": 5328}, {\"threshold\": 0.666, \"p\": 27976, \"fpr\": 0.9290540540540541, \"tpr\": 0.9868458678867601, \"n\": 5328}, {\"threshold\": 0.667, \"p\": 27976, \"fpr\": 0.9290540540540541, \"tpr\": 0.9868458678867601, \"n\": 5328}, {\"threshold\": 0.668, \"p\": 27976, \"fpr\": 0.9290540540540541, \"tpr\": 0.9868458678867601, \"n\": 5328}, {\"threshold\": 0.669, \"p\": 27976, \"fpr\": 0.9290540540540541, \"tpr\": 0.9868101229625393, \"n\": 5328}, {\"threshold\": 0.67, \"p\": 27976, \"fpr\": 0.9290540540540541, \"tpr\": 0.9868101229625393, \"n\": 5328}, {\"threshold\": 0.671, \"p\": 27976, \"fpr\": 0.9290540540540541, \"tpr\": 0.9868101229625393, \"n\": 5328}, {\"threshold\": 0.672, \"p\": 27976, \"fpr\": 0.9290540540540541, \"tpr\": 0.9867743780383186, \"n\": 5328}, {\"threshold\": 0.673, \"p\": 27976, \"fpr\": 0.9290540540540541, \"tpr\": 0.9867743780383186, \"n\": 5328}, {\"threshold\": 0.674, \"p\": 27976, \"fpr\": 0.9290540540540541, \"tpr\": 0.9867743780383186, \"n\": 5328}, {\"threshold\": 0.675, \"p\": 27976, \"fpr\": 0.9290540540540541, \"tpr\": 0.9867743780383186, \"n\": 5328}, {\"threshold\": 0.676, \"p\": 27976, \"fpr\": 0.9290540540540541, \"tpr\": 0.9867743780383186, \"n\": 5328}, {\"threshold\": 0.677, \"p\": 27976, \"fpr\": 0.9290540540540541, \"tpr\": 0.9867743780383186, \"n\": 5328}, {\"threshold\": 0.678, \"p\": 27976, \"fpr\": 0.9290540540540541, \"tpr\": 0.9867743780383186, \"n\": 5328}, {\"threshold\": 0.679, \"p\": 27976, \"fpr\": 0.9290540540540541, \"tpr\": 0.9867743780383186, \"n\": 5328}, {\"threshold\": 0.68, \"p\": 27976, \"fpr\": 0.9290540540540541, \"tpr\": 0.9867743780383186, \"n\": 5328}, {\"threshold\": 0.681, \"p\": 27976, \"fpr\": 0.9290540540540541, \"tpr\": 0.9867743780383186, \"n\": 5328}, {\"threshold\": 0.682, \"p\": 27976, \"fpr\": 0.9290540540540541, \"tpr\": 0.9867743780383186, \"n\": 5328}, {\"threshold\": 0.683, \"p\": 27976, \"fpr\": 0.9290540540540541, \"tpr\": 0.9867743780383186, \"n\": 5328}, {\"threshold\": 0.684, \"p\": 27976, \"fpr\": 0.9290540540540541, \"tpr\": 0.9866313983414355, \"n\": 5328}, {\"threshold\": 0.685, \"p\": 27976, \"fpr\": 0.9290540540540541, \"tpr\": 0.9866313983414355, \"n\": 5328}, {\"threshold\": 0.686, \"p\": 27976, \"fpr\": 0.9290540540540541, \"tpr\": 0.9866313983414355, \"n\": 5328}, {\"threshold\": 0.687, \"p\": 27976, \"fpr\": 0.9290540540540541, \"tpr\": 0.9866313983414355, \"n\": 5328}, {\"threshold\": 0.688, \"p\": 27976, \"fpr\": 0.9290540540540541, \"tpr\": 0.9866313983414355, \"n\": 5328}, {\"threshold\": 0.689, \"p\": 27976, \"fpr\": 0.9290540540540541, \"tpr\": 0.9866313983414355, \"n\": 5328}, {\"threshold\": 0.69, \"p\": 27976, \"fpr\": 0.9290540540540541, \"tpr\": 0.986559908492994, \"n\": 5328}, {\"threshold\": 0.691, \"p\": 27976, \"fpr\": 0.9290540540540541, \"tpr\": 0.986559908492994, \"n\": 5328}, {\"threshold\": 0.692, \"p\": 27976, \"fpr\": 0.9290540540540541, \"tpr\": 0.986559908492994, \"n\": 5328}, {\"threshold\": 0.693, \"p\": 27976, \"fpr\": 0.9290540540540541, \"tpr\": 0.986559908492994, \"n\": 5328}, {\"threshold\": 0.694, \"p\": 27976, \"fpr\": 0.9290540540540541, \"tpr\": 0.986559908492994, \"n\": 5328}, {\"threshold\": 0.695, \"p\": 27976, \"fpr\": 0.9290540540540541, \"tpr\": 0.986559908492994, \"n\": 5328}, {\"threshold\": 0.696, \"p\": 27976, \"fpr\": 0.9290540540540541, \"tpr\": 0.986559908492994, \"n\": 5328}, {\"threshold\": 0.697, \"p\": 27976, \"fpr\": 0.9290540540540541, \"tpr\": 0.986559908492994, \"n\": 5328}, {\"threshold\": 0.698, \"p\": 27976, \"fpr\": 0.9290540540540541, \"tpr\": 0.986559908492994, \"n\": 5328}, {\"threshold\": 0.699, \"p\": 27976, \"fpr\": 0.9271771771771772, \"tpr\": 0.9861309694023449, \"n\": 5328}, {\"threshold\": 0.7, \"p\": 27976, \"fpr\": 0.9271771771771772, \"tpr\": 0.9861309694023449, \"n\": 5328}, {\"threshold\": 0.701, \"p\": 27976, \"fpr\": 0.9271771771771772, \"tpr\": 0.9860594795539034, \"n\": 5328}, {\"threshold\": 0.702, \"p\": 27976, \"fpr\": 0.9271771771771772, \"tpr\": 0.9860594795539034, \"n\": 5328}, {\"threshold\": 0.703, \"p\": 27976, \"fpr\": 0.9271771771771772, \"tpr\": 0.9860594795539034, \"n\": 5328}, {\"threshold\": 0.704, \"p\": 27976, \"fpr\": 0.9271771771771772, \"tpr\": 0.9860594795539034, \"n\": 5328}, {\"threshold\": 0.705, \"p\": 27976, \"fpr\": 0.9271771771771772, \"tpr\": 0.9860594795539034, \"n\": 5328}, {\"threshold\": 0.706, \"p\": 27976, \"fpr\": 0.9271771771771772, \"tpr\": 0.9860594795539034, \"n\": 5328}, {\"threshold\": 0.707, \"p\": 27976, \"fpr\": 0.9271771771771772, \"tpr\": 0.9860594795539034, \"n\": 5328}, {\"threshold\": 0.708, \"p\": 27976, \"fpr\": 0.9271771771771772, \"tpr\": 0.9860594795539034, \"n\": 5328}, {\"threshold\": 0.709, \"p\": 27976, \"fpr\": 0.9271771771771772, \"tpr\": 0.9860594795539034, \"n\": 5328}, {\"threshold\": 0.71, \"p\": 27976, \"fpr\": 0.9271771771771772, \"tpr\": 0.9860594795539034, \"n\": 5328}, {\"threshold\": 0.711, \"p\": 27976, \"fpr\": 0.9271771771771772, \"tpr\": 0.9860594795539034, \"n\": 5328}, {\"threshold\": 0.712, \"p\": 27976, \"fpr\": 0.9271771771771772, \"tpr\": 0.9860594795539034, \"n\": 5328}, {\"threshold\": 0.713, \"p\": 27976, \"fpr\": 0.9271771771771772, \"tpr\": 0.9860594795539034, \"n\": 5328}, {\"threshold\": 0.714, \"p\": 27976, \"fpr\": 0.9271771771771772, \"tpr\": 0.9860594795539034, \"n\": 5328}, {\"threshold\": 0.715, \"p\": 27976, \"fpr\": 0.9271771771771772, \"tpr\": 0.9860594795539034, \"n\": 5328}, {\"threshold\": 0.716, \"p\": 27976, \"fpr\": 0.9271771771771772, \"tpr\": 0.9860594795539034, \"n\": 5328}, {\"threshold\": 0.717, \"p\": 27976, \"fpr\": 0.9271771771771772, \"tpr\": 0.9860594795539034, \"n\": 5328}, {\"threshold\": 0.718, \"p\": 27976, \"fpr\": 0.9271771771771772, \"tpr\": 0.9860594795539034, \"n\": 5328}, {\"threshold\": 0.719, \"p\": 27976, \"fpr\": 0.9271771771771772, \"tpr\": 0.9860594795539034, \"n\": 5328}, {\"threshold\": 0.72, \"p\": 27976, \"fpr\": 0.9271771771771772, \"tpr\": 0.9860594795539034, \"n\": 5328}, {\"threshold\": 0.721, \"p\": 27976, \"fpr\": 0.9271771771771772, \"tpr\": 0.9860594795539034, \"n\": 5328}, {\"threshold\": 0.722, \"p\": 27976, \"fpr\": 0.9271771771771772, \"tpr\": 0.9860594795539034, \"n\": 5328}, {\"threshold\": 0.723, \"p\": 27976, \"fpr\": 0.9271771771771772, \"tpr\": 0.9860594795539034, \"n\": 5328}, {\"threshold\": 0.724, \"p\": 27976, \"fpr\": 0.9271771771771772, \"tpr\": 0.9860594795539034, \"n\": 5328}, {\"threshold\": 0.725, \"p\": 27976, \"fpr\": 0.9271771771771772, \"tpr\": 0.9860594795539034, \"n\": 5328}, {\"threshold\": 0.726, \"p\": 27976, \"fpr\": 0.9271771771771772, \"tpr\": 0.9860594795539034, \"n\": 5328}, {\"threshold\": 0.727, \"p\": 27976, \"fpr\": 0.9271771771771772, \"tpr\": 0.9860594795539034, \"n\": 5328}, {\"threshold\": 0.728, \"p\": 27976, \"fpr\": 0.9271771771771772, \"tpr\": 0.9860594795539034, \"n\": 5328}, {\"threshold\": 0.729, \"p\": 27976, \"fpr\": 0.9271771771771772, \"tpr\": 0.9860594795539034, \"n\": 5328}, {\"threshold\": 0.73, \"p\": 27976, \"fpr\": 0.9271771771771772, \"tpr\": 0.9860594795539034, \"n\": 5328}, {\"threshold\": 0.731, \"p\": 27976, \"fpr\": 0.9271771771771772, \"tpr\": 0.9860594795539034, \"n\": 5328}, {\"threshold\": 0.732, \"p\": 27976, \"fpr\": 0.9271771771771772, \"tpr\": 0.9859879897054619, \"n\": 5328}, {\"threshold\": 0.733, \"p\": 27976, \"fpr\": 0.9271771771771772, \"tpr\": 0.9859879897054619, \"n\": 5328}, {\"threshold\": 0.734, \"p\": 27976, \"fpr\": 0.9271771771771772, \"tpr\": 0.9859879897054619, \"n\": 5328}, {\"threshold\": 0.735, \"p\": 27976, \"fpr\": 0.9269894894894894, \"tpr\": 0.9859522447812411, \"n\": 5328}, {\"threshold\": 0.736, \"p\": 27976, \"fpr\": 0.9269894894894894, \"tpr\": 0.9859522447812411, \"n\": 5328}, {\"threshold\": 0.737, \"p\": 27976, \"fpr\": 0.9269894894894894, \"tpr\": 0.9859522447812411, \"n\": 5328}, {\"threshold\": 0.738, \"p\": 27976, \"fpr\": 0.9269894894894894, \"tpr\": 0.9859522447812411, \"n\": 5328}, {\"threshold\": 0.739, \"p\": 27976, \"fpr\": 0.9269894894894894, \"tpr\": 0.9859522447812411, \"n\": 5328}, {\"threshold\": 0.74, \"p\": 27976, \"fpr\": 0.9268018018018018, \"tpr\": 0.9858807549327996, \"n\": 5328}, {\"threshold\": 0.741, \"p\": 27976, \"fpr\": 0.9268018018018018, \"tpr\": 0.9858807549327996, \"n\": 5328}, {\"threshold\": 0.742, \"p\": 27976, \"fpr\": 0.9268018018018018, \"tpr\": 0.9858807549327996, \"n\": 5328}, {\"threshold\": 0.743, \"p\": 27976, \"fpr\": 0.9268018018018018, \"tpr\": 0.9858807549327996, \"n\": 5328}, {\"threshold\": 0.744, \"p\": 27976, \"fpr\": 0.9268018018018018, \"tpr\": 0.9858807549327996, \"n\": 5328}, {\"threshold\": 0.745, \"p\": 27976, \"fpr\": 0.9268018018018018, \"tpr\": 0.9858807549327996, \"n\": 5328}, {\"threshold\": 0.746, \"p\": 27976, \"fpr\": 0.9268018018018018, \"tpr\": 0.9858807549327996, \"n\": 5328}, {\"threshold\": 0.747, \"p\": 27976, \"fpr\": 0.9268018018018018, \"tpr\": 0.9858807549327996, \"n\": 5328}, {\"threshold\": 0.748, \"p\": 27976, \"fpr\": 0.9268018018018018, \"tpr\": 0.9858807549327996, \"n\": 5328}, {\"threshold\": 0.749, \"p\": 27976, \"fpr\": 0.9268018018018018, \"tpr\": 0.9858807549327996, \"n\": 5328}, {\"threshold\": 0.75, \"p\": 27976, \"fpr\": 0.9268018018018018, \"tpr\": 0.9858807549327996, \"n\": 5328}, {\"threshold\": 0.751, \"p\": 27976, \"fpr\": 0.9268018018018018, \"tpr\": 0.9858807549327996, \"n\": 5328}, {\"threshold\": 0.752, \"p\": 27976, \"fpr\": 0.9268018018018018, \"tpr\": 0.9858807549327996, \"n\": 5328}, {\"threshold\": 0.753, \"p\": 27976, \"fpr\": 0.9268018018018018, \"tpr\": 0.9858807549327996, \"n\": 5328}, {\"threshold\": 0.754, \"p\": 27976, \"fpr\": 0.9268018018018018, \"tpr\": 0.9858807549327996, \"n\": 5328}, {\"threshold\": 0.755, \"p\": 27976, \"fpr\": 0.9268018018018018, \"tpr\": 0.9858807549327996, \"n\": 5328}, {\"threshold\": 0.756, \"p\": 27976, \"fpr\": 0.9268018018018018, \"tpr\": 0.9858807549327996, \"n\": 5328}, {\"threshold\": 0.757, \"p\": 27976, \"fpr\": 0.9268018018018018, \"tpr\": 0.9858807549327996, \"n\": 5328}, {\"threshold\": 0.758, \"p\": 27976, \"fpr\": 0.9268018018018018, \"tpr\": 0.9858450100085788, \"n\": 5328}, {\"threshold\": 0.759, \"p\": 27976, \"fpr\": 0.9268018018018018, \"tpr\": 0.9858450100085788, \"n\": 5328}, {\"threshold\": 0.76, \"p\": 27976, \"fpr\": 0.9268018018018018, \"tpr\": 0.9858450100085788, \"n\": 5328}, {\"threshold\": 0.761, \"p\": 27976, \"fpr\": 0.9268018018018018, \"tpr\": 0.9858450100085788, \"n\": 5328}, {\"threshold\": 0.762, \"p\": 27976, \"fpr\": 0.9268018018018018, \"tpr\": 0.9857735201601373, \"n\": 5328}, {\"threshold\": 0.763, \"p\": 27976, \"fpr\": 0.9268018018018018, \"tpr\": 0.9857735201601373, \"n\": 5328}, {\"threshold\": 0.764, \"p\": 27976, \"fpr\": 0.9268018018018018, \"tpr\": 0.9857735201601373, \"n\": 5328}, {\"threshold\": 0.765, \"p\": 27976, \"fpr\": 0.9268018018018018, \"tpr\": 0.9857735201601373, \"n\": 5328}, {\"threshold\": 0.766, \"p\": 27976, \"fpr\": 0.9268018018018018, \"tpr\": 0.9857735201601373, \"n\": 5328}, {\"threshold\": 0.767, \"p\": 27976, \"fpr\": 0.9268018018018018, \"tpr\": 0.9857735201601373, \"n\": 5328}, {\"threshold\": 0.768, \"p\": 27976, \"fpr\": 0.9268018018018018, \"tpr\": 0.9857735201601373, \"n\": 5328}, {\"threshold\": 0.769, \"p\": 27976, \"fpr\": 0.9268018018018018, \"tpr\": 0.9857735201601373, \"n\": 5328}, {\"threshold\": 0.77, \"p\": 27976, \"fpr\": 0.9268018018018018, \"tpr\": 0.9857735201601373, \"n\": 5328}, {\"threshold\": 0.771, \"p\": 27976, \"fpr\": 0.9268018018018018, \"tpr\": 0.9857735201601373, \"n\": 5328}, {\"threshold\": 0.772, \"p\": 27976, \"fpr\": 0.9268018018018018, \"tpr\": 0.9857377752359165, \"n\": 5328}, {\"threshold\": 0.773, \"p\": 27976, \"fpr\": 0.9268018018018018, \"tpr\": 0.9857377752359165, \"n\": 5328}, {\"threshold\": 0.774, \"p\": 27976, \"fpr\": 0.9268018018018018, \"tpr\": 0.9857377752359165, \"n\": 5328}, {\"threshold\": 0.775, \"p\": 27976, \"fpr\": 0.9268018018018018, \"tpr\": 0.9857377752359165, \"n\": 5328}, {\"threshold\": 0.776, \"p\": 27976, \"fpr\": 0.9268018018018018, \"tpr\": 0.9857377752359165, \"n\": 5328}, {\"threshold\": 0.777, \"p\": 27976, \"fpr\": 0.9268018018018018, \"tpr\": 0.9857377752359165, \"n\": 5328}, {\"threshold\": 0.778, \"p\": 27976, \"fpr\": 0.9268018018018018, \"tpr\": 0.9857377752359165, \"n\": 5328}, {\"threshold\": 0.779, \"p\": 27976, \"fpr\": 0.9268018018018018, \"tpr\": 0.9857377752359165, \"n\": 5328}, {\"threshold\": 0.78, \"p\": 27976, \"fpr\": 0.9234234234234234, \"tpr\": 0.9838432942522162, \"n\": 5328}, {\"threshold\": 0.781, \"p\": 27976, \"fpr\": 0.9234234234234234, \"tpr\": 0.9838432942522162, \"n\": 5328}, {\"threshold\": 0.782, \"p\": 27976, \"fpr\": 0.9234234234234234, \"tpr\": 0.9837718044037747, \"n\": 5328}, {\"threshold\": 0.783, \"p\": 27976, \"fpr\": 0.9234234234234234, \"tpr\": 0.9837718044037747, \"n\": 5328}, {\"threshold\": 0.784, \"p\": 27976, \"fpr\": 0.9234234234234234, \"tpr\": 0.9837718044037747, \"n\": 5328}, {\"threshold\": 0.785, \"p\": 27976, \"fpr\": 0.9234234234234234, \"tpr\": 0.9837718044037747, \"n\": 5328}, {\"threshold\": 0.786, \"p\": 27976, \"fpr\": 0.9234234234234234, \"tpr\": 0.9837718044037747, \"n\": 5328}, {\"threshold\": 0.787, \"p\": 27976, \"fpr\": 0.9234234234234234, \"tpr\": 0.9837718044037747, \"n\": 5328}, {\"threshold\": 0.788, \"p\": 27976, \"fpr\": 0.9234234234234234, \"tpr\": 0.9837718044037747, \"n\": 5328}, {\"threshold\": 0.789, \"p\": 27976, \"fpr\": 0.9232357357357357, \"tpr\": 0.9835573348584501, \"n\": 5328}, {\"threshold\": 0.79, \"p\": 27976, \"fpr\": 0.9232357357357357, \"tpr\": 0.9835573348584501, \"n\": 5328}, {\"threshold\": 0.791, \"p\": 27976, \"fpr\": 0.9232357357357357, \"tpr\": 0.9835573348584501, \"n\": 5328}, {\"threshold\": 0.792, \"p\": 27976, \"fpr\": 0.9232357357357357, \"tpr\": 0.9835573348584501, \"n\": 5328}, {\"threshold\": 0.793, \"p\": 27976, \"fpr\": 0.9232357357357357, \"tpr\": 0.9835573348584501, \"n\": 5328}, {\"threshold\": 0.794, \"p\": 27976, \"fpr\": 0.9232357357357357, \"tpr\": 0.9835573348584501, \"n\": 5328}, {\"threshold\": 0.795, \"p\": 27976, \"fpr\": 0.9232357357357357, \"tpr\": 0.9835573348584501, \"n\": 5328}, {\"threshold\": 0.796, \"p\": 27976, \"fpr\": 0.9222972972972973, \"tpr\": 0.9829496711466972, \"n\": 5328}, {\"threshold\": 0.797, \"p\": 27976, \"fpr\": 0.1313813813813814, \"tpr\": 0.41446239633971976, \"n\": 5328}, {\"threshold\": 0.798, \"p\": 27976, \"fpr\": 0.1313813813813814, \"tpr\": 0.41446239633971976, \"n\": 5328}, {\"threshold\": 0.799, \"p\": 27976, \"fpr\": 0.1313813813813814, \"tpr\": 0.41446239633971976, \"n\": 5328}, {\"threshold\": 0.8, \"p\": 27976, \"fpr\": 0.1313813813813814, \"tpr\": 0.41446239633971976, \"n\": 5328}, {\"threshold\": 0.801, \"p\": 27976, \"fpr\": 0.1313813813813814, \"tpr\": 0.41446239633971976, \"n\": 5328}, {\"threshold\": 0.802, \"p\": 27976, \"fpr\": 0.1313813813813814, \"tpr\": 0.41446239633971976, \"n\": 5328}, {\"threshold\": 0.803, \"p\": 27976, \"fpr\": 0.1313813813813814, \"tpr\": 0.41446239633971976, \"n\": 5328}, {\"threshold\": 0.804, \"p\": 27976, \"fpr\": 0.1313813813813814, \"tpr\": 0.41446239633971976, \"n\": 5328}, {\"threshold\": 0.805, \"p\": 27976, \"fpr\": 0.1313813813813814, \"tpr\": 0.41446239633971976, \"n\": 5328}, {\"threshold\": 0.806, \"p\": 27976, \"fpr\": 0.1313813813813814, \"tpr\": 0.41446239633971976, \"n\": 5328}, {\"threshold\": 0.807, \"p\": 27976, \"fpr\": 0.1313813813813814, \"tpr\": 0.41446239633971976, \"n\": 5328}, {\"threshold\": 0.808, \"p\": 27976, \"fpr\": 0.1313813813813814, \"tpr\": 0.41446239633971976, \"n\": 5328}, {\"threshold\": 0.809, \"p\": 27976, \"fpr\": 0.131006006006006, \"tpr\": 0.41428367171861596, \"n\": 5328}, {\"threshold\": 0.81, \"p\": 27976, \"fpr\": 0.131006006006006, \"tpr\": 0.41428367171861596, \"n\": 5328}, {\"threshold\": 0.811, \"p\": 27976, \"fpr\": 0.131006006006006, \"tpr\": 0.41428367171861596, \"n\": 5328}, {\"threshold\": 0.812, \"p\": 27976, \"fpr\": 0.131006006006006, \"tpr\": 0.41428367171861596, \"n\": 5328}, {\"threshold\": 0.813, \"p\": 27976, \"fpr\": 0.131006006006006, \"tpr\": 0.41428367171861596, \"n\": 5328}, {\"threshold\": 0.814, \"p\": 27976, \"fpr\": 0.131006006006006, \"tpr\": 0.41428367171861596, \"n\": 5328}, {\"threshold\": 0.815, \"p\": 27976, \"fpr\": 0.131006006006006, \"tpr\": 0.41428367171861596, \"n\": 5328}, {\"threshold\": 0.816, \"p\": 27976, \"fpr\": 0.131006006006006, \"tpr\": 0.41428367171861596, \"n\": 5328}, {\"threshold\": 0.817, \"p\": 27976, \"fpr\": 0.131006006006006, \"tpr\": 0.41428367171861596, \"n\": 5328}, {\"threshold\": 0.818, \"p\": 27976, \"fpr\": 0.131006006006006, \"tpr\": 0.41428367171861596, \"n\": 5328}, {\"threshold\": 0.819, \"p\": 27976, \"fpr\": 0.131006006006006, \"tpr\": 0.41428367171861596, \"n\": 5328}, {\"threshold\": 0.82, \"p\": 27976, \"fpr\": 0.131006006006006, \"tpr\": 0.41428367171861596, \"n\": 5328}, {\"threshold\": 0.821, \"p\": 27976, \"fpr\": 0.131006006006006, \"tpr\": 0.41428367171861596, \"n\": 5328}, {\"threshold\": 0.822, \"p\": 27976, \"fpr\": 0.131006006006006, \"tpr\": 0.41428367171861596, \"n\": 5328}, {\"threshold\": 0.823, \"p\": 27976, \"fpr\": 0.131006006006006, \"tpr\": 0.41428367171861596, \"n\": 5328}, {\"threshold\": 0.824, \"p\": 27976, \"fpr\": 0.131006006006006, \"tpr\": 0.41428367171861596, \"n\": 5328}, {\"threshold\": 0.825, \"p\": 27976, \"fpr\": 0.131006006006006, \"tpr\": 0.41428367171861596, \"n\": 5328}, {\"threshold\": 0.826, \"p\": 27976, \"fpr\": 0.131006006006006, \"tpr\": 0.41428367171861596, \"n\": 5328}, {\"threshold\": 0.827, \"p\": 27976, \"fpr\": 0.1308183183183183, \"tpr\": 0.4141764369459537, \"n\": 5328}, {\"threshold\": 0.828, \"p\": 27976, \"fpr\": 0.1308183183183183, \"tpr\": 0.4141764369459537, \"n\": 5328}, {\"threshold\": 0.829, \"p\": 27976, \"fpr\": 0.1308183183183183, \"tpr\": 0.4141764369459537, \"n\": 5328}, {\"threshold\": 0.83, \"p\": 27976, \"fpr\": 0.1308183183183183, \"tpr\": 0.4141764369459537, \"n\": 5328}, {\"threshold\": 0.831, \"p\": 27976, \"fpr\": 0.1308183183183183, \"tpr\": 0.4141764369459537, \"n\": 5328}, {\"threshold\": 0.832, \"p\": 27976, \"fpr\": 0.1308183183183183, \"tpr\": 0.4141764369459537, \"n\": 5328}, {\"threshold\": 0.833, \"p\": 27976, \"fpr\": 0.1308183183183183, \"tpr\": 0.4141764369459537, \"n\": 5328}, {\"threshold\": 0.834, \"p\": 27976, \"fpr\": 0.1308183183183183, \"tpr\": 0.4141764369459537, \"n\": 5328}, {\"threshold\": 0.835, \"p\": 27976, \"fpr\": 0.1308183183183183, \"tpr\": 0.4141764369459537, \"n\": 5328}, {\"threshold\": 0.836, \"p\": 27976, \"fpr\": 0.1308183183183183, \"tpr\": 0.4141764369459537, \"n\": 5328}, {\"threshold\": 0.837, \"p\": 27976, \"fpr\": 0.1308183183183183, \"tpr\": 0.4141764369459537, \"n\": 5328}, {\"threshold\": 0.838, \"p\": 27976, \"fpr\": 0.1308183183183183, \"tpr\": 0.4141764369459537, \"n\": 5328}, {\"threshold\": 0.839, \"p\": 27976, \"fpr\": 0.1308183183183183, \"tpr\": 0.4141764369459537, \"n\": 5328}, {\"threshold\": 0.84, \"p\": 27976, \"fpr\": 0.13063063063063063, \"tpr\": 0.41410494709751217, \"n\": 5328}, {\"threshold\": 0.841, \"p\": 27976, \"fpr\": 0.13063063063063063, \"tpr\": 0.4140692021732914, \"n\": 5328}, {\"threshold\": 0.842, \"p\": 27976, \"fpr\": 0.13063063063063063, \"tpr\": 0.4140692021732914, \"n\": 5328}, {\"threshold\": 0.843, \"p\": 27976, \"fpr\": 0.13044294294294295, \"tpr\": 0.41403345724907065, \"n\": 5328}, {\"threshold\": 0.844, \"p\": 27976, \"fpr\": 0.13044294294294295, \"tpr\": 0.41403345724907065, \"n\": 5328}, {\"threshold\": 0.845, \"p\": 27976, \"fpr\": 0.13044294294294295, \"tpr\": 0.41403345724907065, \"n\": 5328}, {\"threshold\": 0.846, \"p\": 27976, \"fpr\": 0.13044294294294295, \"tpr\": 0.41403345724907065, \"n\": 5328}, {\"threshold\": 0.847, \"p\": 27976, \"fpr\": 0.13044294294294295, \"tpr\": 0.41403345724907065, \"n\": 5328}, {\"threshold\": 0.848, \"p\": 27976, \"fpr\": 0.13044294294294295, \"tpr\": 0.4139977123248499, \"n\": 5328}, {\"threshold\": 0.849, \"p\": 27976, \"fpr\": 0.13044294294294295, \"tpr\": 0.41385473262796685, \"n\": 5328}, {\"threshold\": 0.85, \"p\": 27976, \"fpr\": 0.13044294294294295, \"tpr\": 0.41385473262796685, \"n\": 5328}, {\"threshold\": 0.851, \"p\": 27976, \"fpr\": 0.13044294294294295, \"tpr\": 0.41385473262796685, \"n\": 5328}, {\"threshold\": 0.852, \"p\": 27976, \"fpr\": 0.13044294294294295, \"tpr\": 0.41385473262796685, \"n\": 5328}, {\"threshold\": 0.853, \"p\": 27976, \"fpr\": 0.13044294294294295, \"tpr\": 0.41385473262796685, \"n\": 5328}, {\"threshold\": 0.854, \"p\": 27976, \"fpr\": 0.13044294294294295, \"tpr\": 0.41385473262796685, \"n\": 5328}, {\"threshold\": 0.855, \"p\": 27976, \"fpr\": 0.13044294294294295, \"tpr\": 0.4138189877037461, \"n\": 5328}, {\"threshold\": 0.856, \"p\": 27976, \"fpr\": 0.12894144144144143, \"tpr\": 0.41149556762939665, \"n\": 5328}, {\"threshold\": 0.857, \"p\": 27976, \"fpr\": 0.12894144144144143, \"tpr\": 0.41149556762939665, \"n\": 5328}, {\"threshold\": 0.858, \"p\": 27976, \"fpr\": 0.12894144144144143, \"tpr\": 0.41149556762939665, \"n\": 5328}, {\"threshold\": 0.859, \"p\": 27976, \"fpr\": 0.12894144144144143, \"tpr\": 0.41149556762939665, \"n\": 5328}, {\"threshold\": 0.86, \"p\": 27976, \"fpr\": 0.12894144144144143, \"tpr\": 0.41149556762939665, \"n\": 5328}, {\"threshold\": 0.861, \"p\": 27976, \"fpr\": 0.12894144144144143, \"tpr\": 0.41149556762939665, \"n\": 5328}, {\"threshold\": 0.862, \"p\": 27976, \"fpr\": 0.12894144144144143, \"tpr\": 0.4114598227051759, \"n\": 5328}, {\"threshold\": 0.863, \"p\": 27976, \"fpr\": 0.12894144144144143, \"tpr\": 0.4114598227051759, \"n\": 5328}, {\"threshold\": 0.864, \"p\": 27976, \"fpr\": 0.12894144144144143, \"tpr\": 0.4114598227051759, \"n\": 5328}, {\"threshold\": 0.865, \"p\": 27976, \"fpr\": 0.12894144144144143, \"tpr\": 0.4114598227051759, \"n\": 5328}, {\"threshold\": 0.866, \"p\": 27976, \"fpr\": 0.12894144144144143, \"tpr\": 0.4114598227051759, \"n\": 5328}, {\"threshold\": 0.867, \"p\": 27976, \"fpr\": 0.12894144144144143, \"tpr\": 0.4114598227051759, \"n\": 5328}, {\"threshold\": 0.868, \"p\": 27976, \"fpr\": 0.12894144144144143, \"tpr\": 0.4114598227051759, \"n\": 5328}, {\"threshold\": 0.869, \"p\": 27976, \"fpr\": 0.12875375375375375, \"tpr\": 0.4114598227051759, \"n\": 5328}, {\"threshold\": 0.87, \"p\": 27976, \"fpr\": 0.12875375375375375, \"tpr\": 0.4114598227051759, \"n\": 5328}, {\"threshold\": 0.871, \"p\": 27976, \"fpr\": 0.12875375375375375, \"tpr\": 0.4114598227051759, \"n\": 5328}, {\"threshold\": 0.872, \"p\": 27976, \"fpr\": 0.12875375375375375, \"tpr\": 0.4114598227051759, \"n\": 5328}, {\"threshold\": 0.873, \"p\": 27976, \"fpr\": 0.12875375375375375, \"tpr\": 0.4114598227051759, \"n\": 5328}, {\"threshold\": 0.874, \"p\": 27976, \"fpr\": 0.12875375375375375, \"tpr\": 0.4114598227051759, \"n\": 5328}, {\"threshold\": 0.875, \"p\": 27976, \"fpr\": 0.12875375375375375, \"tpr\": 0.4114598227051759, \"n\": 5328}, {\"threshold\": 0.876, \"p\": 27976, \"fpr\": 0.12875375375375375, \"tpr\": 0.4114598227051759, \"n\": 5328}, {\"threshold\": 0.877, \"p\": 27976, \"fpr\": 0.12875375375375375, \"tpr\": 0.4114598227051759, \"n\": 5328}, {\"threshold\": 0.878, \"p\": 27976, \"fpr\": 0.12875375375375375, \"tpr\": 0.4114598227051759, \"n\": 5328}, {\"threshold\": 0.879, \"p\": 27976, \"fpr\": 0.12875375375375375, \"tpr\": 0.4114598227051759, \"n\": 5328}, {\"threshold\": 0.88, \"p\": 27976, \"fpr\": 0.12875375375375375, \"tpr\": 0.4114598227051759, \"n\": 5328}, {\"threshold\": 0.881, \"p\": 27976, \"fpr\": 0.12875375375375375, \"tpr\": 0.4114598227051759, \"n\": 5328}, {\"threshold\": 0.882, \"p\": 27976, \"fpr\": 0.12875375375375375, \"tpr\": 0.4114598227051759, \"n\": 5328}, {\"threshold\": 0.883, \"p\": 27976, \"fpr\": 0.12875375375375375, \"tpr\": 0.4114598227051759, \"n\": 5328}, {\"threshold\": 0.884, \"p\": 27976, \"fpr\": 0.12875375375375375, \"tpr\": 0.4114598227051759, \"n\": 5328}, {\"threshold\": 0.885, \"p\": 27976, \"fpr\": 0.12875375375375375, \"tpr\": 0.4114598227051759, \"n\": 5328}, {\"threshold\": 0.886, \"p\": 27976, \"fpr\": 0.12875375375375375, \"tpr\": 0.4114598227051759, \"n\": 5328}, {\"threshold\": 0.887, \"p\": 27976, \"fpr\": 0.12875375375375375, \"tpr\": 0.4114598227051759, \"n\": 5328}, {\"threshold\": 0.888, \"p\": 27976, \"fpr\": 0.12875375375375375, \"tpr\": 0.4114598227051759, \"n\": 5328}, {\"threshold\": 0.889, \"p\": 27976, \"fpr\": 0.12875375375375375, \"tpr\": 0.4113883328567343, \"n\": 5328}, {\"threshold\": 0.89, \"p\": 27976, \"fpr\": 0.12875375375375375, \"tpr\": 0.4113883328567343, \"n\": 5328}, {\"threshold\": 0.891, \"p\": 27976, \"fpr\": 0.12875375375375375, \"tpr\": 0.4113883328567343, \"n\": 5328}, {\"threshold\": 0.892, \"p\": 27976, \"fpr\": 0.12875375375375375, \"tpr\": 0.4113883328567343, \"n\": 5328}, {\"threshold\": 0.893, \"p\": 27976, \"fpr\": 0.12875375375375375, \"tpr\": 0.4113883328567343, \"n\": 5328}, {\"threshold\": 0.894, \"p\": 27976, \"fpr\": 0.12875375375375375, \"tpr\": 0.4113883328567343, \"n\": 5328}, {\"threshold\": 0.895, \"p\": 27976, \"fpr\": 0.12875375375375375, \"tpr\": 0.4113883328567343, \"n\": 5328}, {\"threshold\": 0.896, \"p\": 27976, \"fpr\": 0.12856606606606608, \"tpr\": 0.41099513869030596, \"n\": 5328}, {\"threshold\": 0.897, \"p\": 27976, \"fpr\": 0.12856606606606608, \"tpr\": 0.4109593937660852, \"n\": 5328}, {\"threshold\": 0.898, \"p\": 27976, \"fpr\": 0.12837837837837837, \"tpr\": 0.41081641406920216, \"n\": 5328}, {\"threshold\": 0.899, \"p\": 27976, \"fpr\": 0.12837837837837837, \"tpr\": 0.41081641406920216, \"n\": 5328}, {\"threshold\": 0.9, \"p\": 27976, \"fpr\": 0.1281906906906907, \"tpr\": 0.41074492422076064, \"n\": 5328}, {\"threshold\": 0.901, \"p\": 27976, \"fpr\": 0.1281906906906907, \"tpr\": 0.4107091792965399, \"n\": 5328}, {\"threshold\": 0.902, \"p\": 27976, \"fpr\": 0.1281906906906907, \"tpr\": 0.4107091792965399, \"n\": 5328}, {\"threshold\": 0.903, \"p\": 27976, \"fpr\": 0.1281906906906907, \"tpr\": 0.4107091792965399, \"n\": 5328}, {\"threshold\": 0.904, \"p\": 27976, \"fpr\": 0.1281906906906907, \"tpr\": 0.41056619959965684, \"n\": 5328}, {\"threshold\": 0.905, \"p\": 27976, \"fpr\": 0.05442942942942943, \"tpr\": 0.26594223620245927, \"n\": 5328}, {\"threshold\": 0.906, \"p\": 27976, \"fpr\": 0.05105105105105105, \"tpr\": 0.2600800686302545, \"n\": 5328}, {\"threshold\": 0.907, \"p\": 27976, \"fpr\": 0.05105105105105105, \"tpr\": 0.2600800686302545, \"n\": 5328}, {\"threshold\": 0.908, \"p\": 27976, \"fpr\": 0.05105105105105105, \"tpr\": 0.2600800686302545, \"n\": 5328}, {\"threshold\": 0.909, \"p\": 27976, \"fpr\": 0.05105105105105105, \"tpr\": 0.2600800686302545, \"n\": 5328}, {\"threshold\": 0.91, \"p\": 27976, \"fpr\": 0.05105105105105105, \"tpr\": 0.2600800686302545, \"n\": 5328}, {\"threshold\": 0.911, \"p\": 27976, \"fpr\": 0.05105105105105105, \"tpr\": 0.260008578781813, \"n\": 5328}, {\"threshold\": 0.912, \"p\": 27976, \"fpr\": 0.05105105105105105, \"tpr\": 0.260008578781813, \"n\": 5328}, {\"threshold\": 0.913, \"p\": 27976, \"fpr\": 0.05105105105105105, \"tpr\": 0.260008578781813, \"n\": 5328}, {\"threshold\": 0.914, \"p\": 27976, \"fpr\": 0.05105105105105105, \"tpr\": 0.260008578781813, \"n\": 5328}, {\"threshold\": 0.915, \"p\": 27976, \"fpr\": 0.05105105105105105, \"tpr\": 0.260008578781813, \"n\": 5328}, {\"threshold\": 0.916, \"p\": 27976, \"fpr\": 0.05105105105105105, \"tpr\": 0.260008578781813, \"n\": 5328}, {\"threshold\": 0.917, \"p\": 27976, \"fpr\": 0.05105105105105105, \"tpr\": 0.260008578781813, \"n\": 5328}, {\"threshold\": 0.918, \"p\": 27976, \"fpr\": 0.05105105105105105, \"tpr\": 0.260008578781813, \"n\": 5328}, {\"threshold\": 0.919, \"p\": 27976, \"fpr\": 0.04973723723723724, \"tpr\": 0.25439662567915355, \"n\": 5328}, {\"threshold\": 0.92, \"p\": 27976, \"fpr\": 0.04973723723723724, \"tpr\": 0.25439662567915355, \"n\": 5328}, {\"threshold\": 0.921, \"p\": 27976, \"fpr\": 0.04973723723723724, \"tpr\": 0.2543608807549328, \"n\": 5328}, {\"threshold\": 0.922, \"p\": 27976, \"fpr\": 0.04973723723723724, \"tpr\": 0.2543608807549328, \"n\": 5328}, {\"threshold\": 0.923, \"p\": 27976, \"fpr\": 0.04973723723723724, \"tpr\": 0.2543608807549328, \"n\": 5328}, {\"threshold\": 0.924, \"p\": 27976, \"fpr\": 0.04973723723723724, \"tpr\": 0.2543608807549328, \"n\": 5328}, {\"threshold\": 0.925, \"p\": 27976, \"fpr\": 0.04973723723723724, \"tpr\": 0.2543608807549328, \"n\": 5328}, {\"threshold\": 0.926, \"p\": 27976, \"fpr\": 0.04973723723723724, \"tpr\": 0.2543608807549328, \"n\": 5328}, {\"threshold\": 0.927, \"p\": 27976, \"fpr\": 0.04973723723723724, \"tpr\": 0.2543608807549328, \"n\": 5328}, {\"threshold\": 0.928, \"p\": 27976, \"fpr\": 0.04973723723723724, \"tpr\": 0.2543608807549328, \"n\": 5328}, {\"threshold\": 0.929, \"p\": 27976, \"fpr\": 0.04973723723723724, \"tpr\": 0.2543608807549328, \"n\": 5328}, {\"threshold\": 0.93, \"p\": 27976, \"fpr\": 0.04973723723723724, \"tpr\": 0.2543608807549328, \"n\": 5328}, {\"threshold\": 0.931, \"p\": 27976, \"fpr\": 0.04973723723723724, \"tpr\": 0.2543608807549328, \"n\": 5328}, {\"threshold\": 0.932, \"p\": 27976, \"fpr\": 0.04954954954954955, \"tpr\": 0.2543608807549328, \"n\": 5328}, {\"threshold\": 0.933, \"p\": 27976, \"fpr\": 0.04954954954954955, \"tpr\": 0.2543608807549328, \"n\": 5328}, {\"threshold\": 0.934, \"p\": 27976, \"fpr\": 0.04954954954954955, \"tpr\": 0.2543608807549328, \"n\": 5328}, {\"threshold\": 0.935, \"p\": 27976, \"fpr\": 0.048986486486486486, \"tpr\": 0.2538961967400629, \"n\": 5328}, {\"threshold\": 0.936, \"p\": 27976, \"fpr\": 0.048986486486486486, \"tpr\": 0.2538247068916214, \"n\": 5328}, {\"threshold\": 0.937, \"p\": 27976, \"fpr\": 0.048986486486486486, \"tpr\": 0.2538247068916214, \"n\": 5328}, {\"threshold\": 0.938, \"p\": 27976, \"fpr\": 0.048986486486486486, \"tpr\": 0.2536459822705176, \"n\": 5328}, {\"threshold\": 0.939, \"p\": 27976, \"fpr\": 0.048986486486486486, \"tpr\": 0.2536459822705176, \"n\": 5328}, {\"threshold\": 0.94, \"p\": 27976, \"fpr\": 0.048986486486486486, \"tpr\": 0.2536459822705176, \"n\": 5328}, {\"threshold\": 0.941, \"p\": 27976, \"fpr\": 0.016516516516516516, \"tpr\": 0.11749356591364027, \"n\": 5328}, {\"threshold\": 0.942, \"p\": 27976, \"fpr\": 0.016516516516516516, \"tpr\": 0.11749356591364027, \"n\": 5328}, {\"threshold\": 0.943, \"p\": 27976, \"fpr\": 0.016516516516516516, \"tpr\": 0.11749356591364027, \"n\": 5328}, {\"threshold\": 0.944, \"p\": 27976, \"fpr\": 0.016516516516516516, \"tpr\": 0.11749356591364027, \"n\": 5328}, {\"threshold\": 0.945, \"p\": 27976, \"fpr\": 0.016516516516516516, \"tpr\": 0.11749356591364027, \"n\": 5328}, {\"threshold\": 0.946, \"p\": 27976, \"fpr\": 0.016516516516516516, \"tpr\": 0.11749356591364027, \"n\": 5328}, {\"threshold\": 0.947, \"p\": 27976, \"fpr\": 0.016516516516516516, \"tpr\": 0.11749356591364027, \"n\": 5328}, {\"threshold\": 0.948, \"p\": 27976, \"fpr\": 0.016516516516516516, \"tpr\": 0.11749356591364027, \"n\": 5328}, {\"threshold\": 0.949, \"p\": 27976, \"fpr\": 0.016516516516516516, \"tpr\": 0.11749356591364027, \"n\": 5328}, {\"threshold\": 0.95, \"p\": 27976, \"fpr\": 0.016516516516516516, \"tpr\": 0.11749356591364027, \"n\": 5328}, {\"threshold\": 0.951, \"p\": 27976, \"fpr\": 0.016516516516516516, \"tpr\": 0.11749356591364027, \"n\": 5328}, {\"threshold\": 0.952, \"p\": 27976, \"fpr\": 0.016516516516516516, \"tpr\": 0.11749356591364027, \"n\": 5328}, {\"threshold\": 0.953, \"p\": 27976, \"fpr\": 0.016516516516516516, \"tpr\": 0.11749356591364027, \"n\": 5328}, {\"threshold\": 0.954, \"p\": 27976, \"fpr\": 0.016516516516516516, \"tpr\": 0.11749356591364027, \"n\": 5328}, {\"threshold\": 0.955, \"p\": 27976, \"fpr\": 0.01632882882882883, \"tpr\": 0.11738633114097798, \"n\": 5328}, {\"threshold\": 0.956, \"p\": 27976, \"fpr\": 0.01632882882882883, \"tpr\": 0.11738633114097798, \"n\": 5328}, {\"threshold\": 0.957, \"p\": 27976, \"fpr\": 0.01632882882882883, \"tpr\": 0.11738633114097798, \"n\": 5328}, {\"threshold\": 0.958, \"p\": 27976, \"fpr\": 0.01632882882882883, \"tpr\": 0.11735058621675722, \"n\": 5328}, {\"threshold\": 0.959, \"p\": 27976, \"fpr\": 0.01126126126126126, \"tpr\": 0.09318701744352302, \"n\": 5328}, {\"threshold\": 0.96, \"p\": 27976, \"fpr\": 0.011073573573573574, \"tpr\": 0.09307978267086074, \"n\": 5328}, {\"threshold\": 0.961, \"p\": 27976, \"fpr\": 0.011073573573573574, \"tpr\": 0.09265084358021161, \"n\": 5328}, {\"threshold\": 0.962, \"p\": 27976, \"fpr\": 0.011073573573573574, \"tpr\": 0.09261509865599085, \"n\": 5328}, {\"threshold\": 0.963, \"p\": 27976, \"fpr\": 0.011073573573573574, \"tpr\": 0.09261509865599085, \"n\": 5328}, {\"threshold\": 0.964, \"p\": 27976, \"fpr\": 0.011073573573573574, \"tpr\": 0.09261509865599085, \"n\": 5328}, {\"threshold\": 0.965, \"p\": 27976, \"fpr\": 0.010885885885885885, \"tpr\": 0.0905776379754075, \"n\": 5328}, {\"threshold\": 0.966, \"p\": 27976, \"fpr\": 0.010885885885885885, \"tpr\": 0.09043465827852445, \"n\": 5328}, {\"threshold\": 0.967, \"p\": 27976, \"fpr\": 0.010885885885885885, \"tpr\": 0.09043465827852445, \"n\": 5328}, {\"threshold\": 0.968, \"p\": 27976, \"fpr\": 0.010885885885885885, \"tpr\": 0.09043465827852445, \"n\": 5328}, {\"threshold\": 0.969, \"p\": 27976, \"fpr\": 0.010885885885885885, \"tpr\": 0.09043465827852445, \"n\": 5328}, {\"threshold\": 0.97, \"p\": 27976, \"fpr\": 0.010885885885885885, \"tpr\": 0.0903989133543037, \"n\": 5328}, {\"threshold\": 0.971, \"p\": 27976, \"fpr\": 0.010885885885885885, \"tpr\": 0.0902916785816414, \"n\": 5328}, {\"threshold\": 0.972, \"p\": 27976, \"fpr\": 0.010885885885885885, \"tpr\": 0.09025593365742064, \"n\": 5328}, {\"threshold\": 0.973, \"p\": 27976, \"fpr\": 0.010698198198198198, \"tpr\": 0.0901129539605376, \"n\": 5328}, {\"threshold\": 0.974, \"p\": 27976, \"fpr\": 0.010698198198198198, \"tpr\": 0.0901129539605376, \"n\": 5328}, {\"threshold\": 0.975, \"p\": 27976, \"fpr\": 0.00487987987987988, \"tpr\": 0.05461824420932228, \"n\": 5328}, {\"threshold\": 0.976, \"p\": 27976, \"fpr\": 0.00487987987987988, \"tpr\": 0.05461824420932228, \"n\": 5328}, {\"threshold\": 0.977, \"p\": 27976, \"fpr\": 0.00487987987987988, \"tpr\": 0.05458249928510152, \"n\": 5328}, {\"threshold\": 0.978, \"p\": 27976, \"fpr\": 0.00487987987987988, \"tpr\": 0.05458249928510152, \"n\": 5328}, {\"threshold\": 0.979, \"p\": 27976, \"fpr\": 0.004316816816816817, \"tpr\": 0.052294824134972835, \"n\": 5328}, {\"threshold\": 0.98, \"p\": 27976, \"fpr\": 0.004316816816816817, \"tpr\": 0.052294824134972835, \"n\": 5328}, {\"threshold\": 0.981, \"p\": 27976, \"fpr\": 0.004316816816816817, \"tpr\": 0.052223334286531316, \"n\": 5328}, {\"threshold\": 0.982, \"p\": 27976, \"fpr\": 0.004316816816816817, \"tpr\": 0.052223334286531316, \"n\": 5328}, {\"threshold\": 0.983, \"p\": 27976, \"fpr\": 0.003941441441441441, \"tpr\": 0.04818415784958536, \"n\": 5328}, {\"threshold\": 0.984, \"p\": 27976, \"fpr\": 0.003941441441441441, \"tpr\": 0.0481484129253646, \"n\": 5328}, {\"threshold\": 0.985, \"p\": 27976, \"fpr\": 0.0018768768768768769, \"tpr\": 0.02802402058907635, \"n\": 5328}, {\"threshold\": 0.986, \"p\": 27976, \"fpr\": 0.0016891891891891893, \"tpr\": 0.027630826422647983, \"n\": 5328}, {\"threshold\": 0.987, \"p\": 27976, \"fpr\": 0.0016891891891891893, \"tpr\": 0.027595081498427224, \"n\": 5328}, {\"threshold\": 0.988, \"p\": 27976, \"fpr\": 0.0016891891891891893, \"tpr\": 0.027559336574206464, \"n\": 5328}, {\"threshold\": 0.989, \"p\": 27976, \"fpr\": 0.0016891891891891893, \"tpr\": 0.027559336574206464, \"n\": 5328}, {\"threshold\": 0.99, \"p\": 27976, \"fpr\": 0.001313813813813814, \"tpr\": 0.021053760366028025, \"n\": 5328}, {\"threshold\": 0.991, \"p\": 27976, \"fpr\": 0.001313813813813814, \"tpr\": 0.021018015441807262, \"n\": 5328}, {\"threshold\": 0.992, \"p\": 27976, \"fpr\": 0.001313813813813814, \"tpr\": 0.020589076351158135, \"n\": 5328}, {\"threshold\": 0.993, \"p\": 27976, \"fpr\": 0.0009384384384384384, \"tpr\": 0.019909922790963683, \"n\": 5328}, {\"threshold\": 0.994, \"p\": 27976, \"fpr\": 0.0005630630630630631, \"tpr\": 0.013046897340577637, \"n\": 5328}, {\"threshold\": 0.995, \"p\": 27976, \"fpr\": 0.0005630630630630631, \"tpr\": 0.01254646840148699, \"n\": 5328}, {\"threshold\": 0.996, \"p\": 27976, \"fpr\": 0.00037537537537537537, \"tpr\": 0.011402630826422648, \"n\": 5328}, {\"threshold\": 0.997, \"p\": 27976, \"fpr\": 0.00037537537537537537, \"tpr\": 0.007041750071489848, \"n\": 5328}, {\"threshold\": 0.998, \"p\": 27976, \"fpr\": 0.00018768768768768769, \"tpr\": 0.00546897340577638, \"n\": 5328}, {\"threshold\": 0.999, \"p\": 27976, \"fpr\": 0.00018768768768768769, \"tpr\": 0.0030383185587646556, \"n\": 5328}, {\"threshold\": 1.0, \"p\": 27976, \"fpr\": 0.0, \"tpr\": 0.0, \"n\": 5328}], \"confusion_matrix\": [{\"count\": 234, \"target_label\": 0, \"predicted_label\": 0}, {\"count\": 130, \"target_label\": 1, \"predicted_label\": 0}, {\"count\": 5094, \"target_label\": 0, \"predicted_label\": 1}, {\"count\": 27846, \"target_label\": 1, \"predicted_label\": 1}], \"accuracy\": 0.8431419649291376}]]}, e);\n",
       "                });\n",
       "            })();\n",
       "        "
      ]
     },
     "metadata": {},
     "output_type": "display_data"
    }
   ],
   "source": [
    "selected_words_model.show(view='Evaluation')"
   ]
  },
  {
   "cell_type": "code",
   "execution_count": 113,
   "metadata": {
    "collapsed": true
   },
   "outputs": [],
   "source": [
    "diaper_champ_reviews = products[products['name'] == 'Baby Trend Diaper Champ']"
   ]
  },
  {
   "cell_type": "code",
   "execution_count": 114,
   "metadata": {
    "collapsed": false
   },
   "outputs": [],
   "source": [
    "diaper_champ_reviews['predicted_sentiment'] = selected_words_model.predict(diaper_champ_reviews, output_type='probability')"
   ]
  },
  {
   "cell_type": "code",
   "execution_count": 115,
   "metadata": {
    "collapsed": true
   },
   "outputs": [],
   "source": [
    "diaper_champ_reviews = diaper_champ_reviews.sort('predicted_sentiment', ascending=False)"
   ]
  },
  {
   "cell_type": "code",
   "execution_count": 116,
   "metadata": {
    "collapsed": false
   },
   "outputs": [
    {
     "data": {
      "text/html": [
       "<div style=\"max-height:1000px;max-width:1500px;overflow:auto;\"><table frame=\"box\" rules=\"cols\">\n",
       "    <tr>\n",
       "        <th style=\"padding-left: 1em; padding-right: 1em; text-align: center\">name</th>\n",
       "        <th style=\"padding-left: 1em; padding-right: 1em; text-align: center\">review</th>\n",
       "        <th style=\"padding-left: 1em; padding-right: 1em; text-align: center\">rating</th>\n",
       "        <th style=\"padding-left: 1em; padding-right: 1em; text-align: center\">word_count</th>\n",
       "        <th style=\"padding-left: 1em; padding-right: 1em; text-align: center\">awesome</th>\n",
       "        <th style=\"padding-left: 1em; padding-right: 1em; text-align: center\">great</th>\n",
       "        <th style=\"padding-left: 1em; padding-right: 1em; text-align: center\">fantastic</th>\n",
       "    </tr>\n",
       "    <tr>\n",
       "        <td style=\"padding-left: 1em; padding-right: 1em; text-align: center; vertical-align: top\">Baby Trend Diaper Champ</td>\n",
       "        <td style=\"padding-left: 1em; padding-right: 1em; text-align: center; vertical-align: top\">I LOVE LOVE LOVE this<br>product! It is SO much ...</td>\n",
       "        <td style=\"padding-left: 1em; padding-right: 1em; text-align: center; vertical-align: top\">4.0</td>\n",
       "        <td style=\"padding-left: 1em; padding-right: 1em; text-align: center; vertical-align: top\">{'rating': 1,<br>'contacted': 1, 'over': ...</td>\n",
       "        <td style=\"padding-left: 1em; padding-right: 1em; text-align: center; vertical-align: top\">0</td>\n",
       "        <td style=\"padding-left: 1em; padding-right: 1em; text-align: center; vertical-align: top\">1</td>\n",
       "        <td style=\"padding-left: 1em; padding-right: 1em; text-align: center; vertical-align: top\">0</td>\n",
       "    </tr>\n",
       "    <tr>\n",
       "        <td style=\"padding-left: 1em; padding-right: 1em; text-align: center; vertical-align: top\">Baby Trend Diaper Champ</td>\n",
       "        <td style=\"padding-left: 1em; padding-right: 1em; text-align: center; vertical-align: top\">I received my Diaper<br>Champ at my baby shower ...</td>\n",
       "        <td style=\"padding-left: 1em; padding-right: 1em; text-align: center; vertical-align: top\">5.0</td>\n",
       "        <td style=\"padding-left: 1em; padding-right: 1em; text-align: center; vertical-align: top\">{'bags.': 1, \"don't\": 1,<br>'son.': 1, 'of,': 1, ...</td>\n",
       "        <td style=\"padding-left: 1em; padding-right: 1em; text-align: center; vertical-align: top\">0</td>\n",
       "        <td style=\"padding-left: 1em; padding-right: 1em; text-align: center; vertical-align: top\">0</td>\n",
       "        <td style=\"padding-left: 1em; padding-right: 1em; text-align: center; vertical-align: top\">0</td>\n",
       "    </tr>\n",
       "    <tr>\n",
       "        <td style=\"padding-left: 1em; padding-right: 1em; text-align: center; vertical-align: top\">Baby Trend Diaper Champ</td>\n",
       "        <td style=\"padding-left: 1em; padding-right: 1em; text-align: center; vertical-align: top\">Love it, love it, love<br>it!  This lives up to ...</td>\n",
       "        <td style=\"padding-left: 1em; padding-right: 1em; text-align: center; vertical-align: top\">5.0</td>\n",
       "        <td style=\"padding-left: 1em; padding-right: 1em; text-align: center; vertical-align: top\">{'all': 1, 'already': 1,<br>'love': 3, 'have': 4, ...</td>\n",
       "        <td style=\"padding-left: 1em; padding-right: 1em; text-align: center; vertical-align: top\">0</td>\n",
       "        <td style=\"padding-left: 1em; padding-right: 1em; text-align: center; vertical-align: top\">0</td>\n",
       "        <td style=\"padding-left: 1em; padding-right: 1em; text-align: center; vertical-align: top\">0</td>\n",
       "    </tr>\n",
       "    <tr>\n",
       "        <td style=\"padding-left: 1em; padding-right: 1em; text-align: center; vertical-align: top\">Baby Trend Diaper Champ</td>\n",
       "        <td style=\"padding-left: 1em; padding-right: 1em; text-align: center; vertical-align: top\">Works great - no smells.<br>LOVE that it uses reg ...</td>\n",
       "        <td style=\"padding-left: 1em; padding-right: 1em; text-align: center; vertical-align: top\">5.0</td>\n",
       "        <td style=\"padding-left: 1em; padding-right: 1em; text-align: center; vertical-align: top\">{'and': 2, 'love': 1,<br>'garbage': 1, 'wastef ...</td>\n",
       "        <td style=\"padding-left: 1em; padding-right: 1em; text-align: center; vertical-align: top\">0</td>\n",
       "        <td style=\"padding-left: 1em; padding-right: 1em; text-align: center; vertical-align: top\">2</td>\n",
       "        <td style=\"padding-left: 1em; padding-right: 1em; text-align: center; vertical-align: top\">0</td>\n",
       "    </tr>\n",
       "    <tr>\n",
       "        <td style=\"padding-left: 1em; padding-right: 1em; text-align: center; vertical-align: top\">Baby Trend Diaper Champ</td>\n",
       "        <td style=\"padding-left: 1em; padding-right: 1em; text-align: center; vertical-align: top\">I love this diaper pale<br>and wouldn't dream of ...</td>\n",
       "        <td style=\"padding-left: 1em; padding-right: 1em; text-align: center; vertical-align: top\">5.0</td>\n",
       "        <td style=\"padding-left: 1em; padding-right: 1em; text-align: center; vertical-align: top\">{'and': 3, 'love': 1,<br>'use.': 1, 'is': 2, ' ...</td>\n",
       "        <td style=\"padding-left: 1em; padding-right: 1em; text-align: center; vertical-align: top\">0</td>\n",
       "        <td style=\"padding-left: 1em; padding-right: 1em; text-align: center; vertical-align: top\">2</td>\n",
       "        <td style=\"padding-left: 1em; padding-right: 1em; text-align: center; vertical-align: top\">0</td>\n",
       "    </tr>\n",
       "    <tr>\n",
       "        <td style=\"padding-left: 1em; padding-right: 1em; text-align: center; vertical-align: top\">Baby Trend Diaper Champ</td>\n",
       "        <td style=\"padding-left: 1em; padding-right: 1em; text-align: center; vertical-align: top\">We had 2 diaper Genie's<br>both given to us as a ...</td>\n",
       "        <td style=\"padding-left: 1em; padding-right: 1em; text-align: center; vertical-align: top\">4.0</td>\n",
       "        <td style=\"padding-left: 1em; padding-right: 1em; text-align: center; vertical-align: top\">{'hand.': 1, '(required':<br>1, 'before': 1, ...</td>\n",
       "        <td style=\"padding-left: 1em; padding-right: 1em; text-align: center; vertical-align: top\">0</td>\n",
       "        <td style=\"padding-left: 1em; padding-right: 1em; text-align: center; vertical-align: top\">0</td>\n",
       "        <td style=\"padding-left: 1em; padding-right: 1em; text-align: center; vertical-align: top\">0</td>\n",
       "    </tr>\n",
       "    <tr>\n",
       "        <td style=\"padding-left: 1em; padding-right: 1em; text-align: center; vertical-align: top\">Baby Trend Diaper Champ</td>\n",
       "        <td style=\"padding-left: 1em; padding-right: 1em; text-align: center; vertical-align: top\">I've worked with kids<br>more than half my life. ...</td>\n",
       "        <td style=\"padding-left: 1em; padding-right: 1em; text-align: center; vertical-align: top\">5.0</td>\n",
       "        <td style=\"padding-left: 1em; padding-right: 1em; text-align: center; vertical-align: top\">{'and': 4, 'genies': 1,<br>'now': 1, 'because': 1, ...</td>\n",
       "        <td style=\"padding-left: 1em; padding-right: 1em; text-align: center; vertical-align: top\">0</td>\n",
       "        <td style=\"padding-left: 1em; padding-right: 1em; text-align: center; vertical-align: top\">0</td>\n",
       "        <td style=\"padding-left: 1em; padding-right: 1em; text-align: center; vertical-align: top\">0</td>\n",
       "    </tr>\n",
       "    <tr>\n",
       "        <td style=\"padding-left: 1em; padding-right: 1em; text-align: center; vertical-align: top\">Baby Trend Diaper Champ</td>\n",
       "        <td style=\"padding-left: 1em; padding-right: 1em; text-align: center; vertical-align: top\">This is absolutely, by<br>far, the best diaper  ...</td>\n",
       "        <td style=\"padding-left: 1em; padding-right: 1em; text-align: center; vertical-align: top\">5.0</td>\n",
       "        <td style=\"padding-left: 1em; padding-right: 1em; text-align: center; vertical-align: top\">{'just': 3, 'money': 1,<br>'not': 2, 'mechanism' ...</td>\n",
       "        <td style=\"padding-left: 1em; padding-right: 1em; text-align: center; vertical-align: top\">0</td>\n",
       "        <td style=\"padding-left: 1em; padding-right: 1em; text-align: center; vertical-align: top\">0</td>\n",
       "        <td style=\"padding-left: 1em; padding-right: 1em; text-align: center; vertical-align: top\">0</td>\n",
       "    </tr>\n",
       "    <tr>\n",
       "        <td style=\"padding-left: 1em; padding-right: 1em; text-align: center; vertical-align: top\">Baby Trend Diaper Champ</td>\n",
       "        <td style=\"padding-left: 1em; padding-right: 1em; text-align: center; vertical-align: top\">I have a two-year-old son<br>and I love the Diaper ...</td>\n",
       "        <td style=\"padding-left: 1em; padding-right: 1em; text-align: center; vertical-align: top\">5.0</td>\n",
       "        <td style=\"padding-left: 1em; padding-right: 1em; text-align: center; vertical-align: top\">{'and': 6, 'two-year-<br>old': 1, \"toddler's\": 1, ...</td>\n",
       "        <td style=\"padding-left: 1em; padding-right: 1em; text-align: center; vertical-align: top\">0</td>\n",
       "        <td style=\"padding-left: 1em; padding-right: 1em; text-align: center; vertical-align: top\">0</td>\n",
       "        <td style=\"padding-left: 1em; padding-right: 1em; text-align: center; vertical-align: top\">0</td>\n",
       "    </tr>\n",
       "    <tr>\n",
       "        <td style=\"padding-left: 1em; padding-right: 1em; text-align: center; vertical-align: top\">Baby Trend Diaper Champ</td>\n",
       "        <td style=\"padding-left: 1em; padding-right: 1em; text-align: center; vertical-align: top\">I love this diaper pail!<br>It's so easy to use a ...</td>\n",
       "        <td style=\"padding-left: 1em; padding-right: 1em; text-align: center; vertical-align: top\">5.0</td>\n",
       "        <td style=\"padding-left: 1em; padding-right: 1em; text-align: center; vertical-align: top\">{'and': 3, 'this': 1,<br>'love': 2, 'being': 1, ...</td>\n",
       "        <td style=\"padding-left: 1em; padding-right: 1em; text-align: center; vertical-align: top\">0</td>\n",
       "        <td style=\"padding-left: 1em; padding-right: 1em; text-align: center; vertical-align: top\">0</td>\n",
       "        <td style=\"padding-left: 1em; padding-right: 1em; text-align: center; vertical-align: top\">0</td>\n",
       "    </tr>\n",
       "</table>\n",
       "<table frame=\"box\" rules=\"cols\">\n",
       "    <tr>\n",
       "        <th style=\"padding-left: 1em; padding-right: 1em; text-align: center\">amazing</th>\n",
       "        <th style=\"padding-left: 1em; padding-right: 1em; text-align: center\">love</th>\n",
       "        <th style=\"padding-left: 1em; padding-right: 1em; text-align: center\">horrible</th>\n",
       "        <th style=\"padding-left: 1em; padding-right: 1em; text-align: center\">bad</th>\n",
       "        <th style=\"padding-left: 1em; padding-right: 1em; text-align: center\">terrible</th>\n",
       "        <th style=\"padding-left: 1em; padding-right: 1em; text-align: center\">awful</th>\n",
       "        <th style=\"padding-left: 1em; padding-right: 1em; text-align: center\">wow</th>\n",
       "        <th style=\"padding-left: 1em; padding-right: 1em; text-align: center\">hate</th>\n",
       "        <th style=\"padding-left: 1em; padding-right: 1em; text-align: center\">sentiment</th>\n",
       "        <th style=\"padding-left: 1em; padding-right: 1em; text-align: center\">predicted_sentiment</th>\n",
       "    </tr>\n",
       "    <tr>\n",
       "        <td style=\"padding-left: 1em; padding-right: 1em; text-align: center; vertical-align: top\">0</td>\n",
       "        <td style=\"padding-left: 1em; padding-right: 1em; text-align: center; vertical-align: top\">3</td>\n",
       "        <td style=\"padding-left: 1em; padding-right: 1em; text-align: center; vertical-align: top\">0</td>\n",
       "        <td style=\"padding-left: 1em; padding-right: 1em; text-align: center; vertical-align: top\">0</td>\n",
       "        <td style=\"padding-left: 1em; padding-right: 1em; text-align: center; vertical-align: top\">0</td>\n",
       "        <td style=\"padding-left: 1em; padding-right: 1em; text-align: center; vertical-align: top\">0</td>\n",
       "        <td style=\"padding-left: 1em; padding-right: 1em; text-align: center; vertical-align: top\">0</td>\n",
       "        <td style=\"padding-left: 1em; padding-right: 1em; text-align: center; vertical-align: top\">0</td>\n",
       "        <td style=\"padding-left: 1em; padding-right: 1em; text-align: center; vertical-align: top\">1</td>\n",
       "        <td style=\"padding-left: 1em; padding-right: 1em; text-align: center; vertical-align: top\">0.998423414594</td>\n",
       "    </tr>\n",
       "    <tr>\n",
       "        <td style=\"padding-left: 1em; padding-right: 1em; text-align: center; vertical-align: top\">0</td>\n",
       "        <td style=\"padding-left: 1em; padding-right: 1em; text-align: center; vertical-align: top\">3</td>\n",
       "        <td style=\"padding-left: 1em; padding-right: 1em; text-align: center; vertical-align: top\">0</td>\n",
       "        <td style=\"padding-left: 1em; padding-right: 1em; text-align: center; vertical-align: top\">0</td>\n",
       "        <td style=\"padding-left: 1em; padding-right: 1em; text-align: center; vertical-align: top\">0</td>\n",
       "        <td style=\"padding-left: 1em; padding-right: 1em; text-align: center; vertical-align: top\">0</td>\n",
       "        <td style=\"padding-left: 1em; padding-right: 1em; text-align: center; vertical-align: top\">0</td>\n",
       "        <td style=\"padding-left: 1em; padding-right: 1em; text-align: center; vertical-align: top\">0</td>\n",
       "        <td style=\"padding-left: 1em; padding-right: 1em; text-align: center; vertical-align: top\">1</td>\n",
       "        <td style=\"padding-left: 1em; padding-right: 1em; text-align: center; vertical-align: top\">0.996192539732</td>\n",
       "    </tr>\n",
       "    <tr>\n",
       "        <td style=\"padding-left: 1em; padding-right: 1em; text-align: center; vertical-align: top\">0</td>\n",
       "        <td style=\"padding-left: 1em; padding-right: 1em; text-align: center; vertical-align: top\">3</td>\n",
       "        <td style=\"padding-left: 1em; padding-right: 1em; text-align: center; vertical-align: top\">0</td>\n",
       "        <td style=\"padding-left: 1em; padding-right: 1em; text-align: center; vertical-align: top\">0</td>\n",
       "        <td style=\"padding-left: 1em; padding-right: 1em; text-align: center; vertical-align: top\">0</td>\n",
       "        <td style=\"padding-left: 1em; padding-right: 1em; text-align: center; vertical-align: top\">0</td>\n",
       "        <td style=\"padding-left: 1em; padding-right: 1em; text-align: center; vertical-align: top\">0</td>\n",
       "        <td style=\"padding-left: 1em; padding-right: 1em; text-align: center; vertical-align: top\">0</td>\n",
       "        <td style=\"padding-left: 1em; padding-right: 1em; text-align: center; vertical-align: top\">1</td>\n",
       "        <td style=\"padding-left: 1em; padding-right: 1em; text-align: center; vertical-align: top\">0.996192539732</td>\n",
       "    </tr>\n",
       "    <tr>\n",
       "        <td style=\"padding-left: 1em; padding-right: 1em; text-align: center; vertical-align: top\">0</td>\n",
       "        <td style=\"padding-left: 1em; padding-right: 1em; text-align: center; vertical-align: top\">1</td>\n",
       "        <td style=\"padding-left: 1em; padding-right: 1em; text-align: center; vertical-align: top\">0</td>\n",
       "        <td style=\"padding-left: 1em; padding-right: 1em; text-align: center; vertical-align: top\">0</td>\n",
       "        <td style=\"padding-left: 1em; padding-right: 1em; text-align: center; vertical-align: top\">0</td>\n",
       "        <td style=\"padding-left: 1em; padding-right: 1em; text-align: center; vertical-align: top\">0</td>\n",
       "        <td style=\"padding-left: 1em; padding-right: 1em; text-align: center; vertical-align: top\">0</td>\n",
       "        <td style=\"padding-left: 1em; padding-right: 1em; text-align: center; vertical-align: top\">0</td>\n",
       "        <td style=\"padding-left: 1em; padding-right: 1em; text-align: center; vertical-align: top\">1</td>\n",
       "        <td style=\"padding-left: 1em; padding-right: 1em; text-align: center; vertical-align: top\">0.989387539605</td>\n",
       "    </tr>\n",
       "    <tr>\n",
       "        <td style=\"padding-left: 1em; padding-right: 1em; text-align: center; vertical-align: top\">0</td>\n",
       "        <td style=\"padding-left: 1em; padding-right: 1em; text-align: center; vertical-align: top\">1</td>\n",
       "        <td style=\"padding-left: 1em; padding-right: 1em; text-align: center; vertical-align: top\">0</td>\n",
       "        <td style=\"padding-left: 1em; padding-right: 1em; text-align: center; vertical-align: top\">0</td>\n",
       "        <td style=\"padding-left: 1em; padding-right: 1em; text-align: center; vertical-align: top\">0</td>\n",
       "        <td style=\"padding-left: 1em; padding-right: 1em; text-align: center; vertical-align: top\">0</td>\n",
       "        <td style=\"padding-left: 1em; padding-right: 1em; text-align: center; vertical-align: top\">0</td>\n",
       "        <td style=\"padding-left: 1em; padding-right: 1em; text-align: center; vertical-align: top\">0</td>\n",
       "        <td style=\"padding-left: 1em; padding-right: 1em; text-align: center; vertical-align: top\">1</td>\n",
       "        <td style=\"padding-left: 1em; padding-right: 1em; text-align: center; vertical-align: top\">0.989387539605</td>\n",
       "    </tr>\n",
       "    <tr>\n",
       "        <td style=\"padding-left: 1em; padding-right: 1em; text-align: center; vertical-align: top\">0</td>\n",
       "        <td style=\"padding-left: 1em; padding-right: 1em; text-align: center; vertical-align: top\">2</td>\n",
       "        <td style=\"padding-left: 1em; padding-right: 1em; text-align: center; vertical-align: top\">0</td>\n",
       "        <td style=\"padding-left: 1em; padding-right: 1em; text-align: center; vertical-align: top\">0</td>\n",
       "        <td style=\"padding-left: 1em; padding-right: 1em; text-align: center; vertical-align: top\">0</td>\n",
       "        <td style=\"padding-left: 1em; padding-right: 1em; text-align: center; vertical-align: top\">0</td>\n",
       "        <td style=\"padding-left: 1em; padding-right: 1em; text-align: center; vertical-align: top\">0</td>\n",
       "        <td style=\"padding-left: 1em; padding-right: 1em; text-align: center; vertical-align: top\">0</td>\n",
       "        <td style=\"padding-left: 1em; padding-right: 1em; text-align: center; vertical-align: top\">1</td>\n",
       "        <td style=\"padding-left: 1em; padding-right: 1em; text-align: center; vertical-align: top\">0.984739056527</td>\n",
       "    </tr>\n",
       "    <tr>\n",
       "        <td style=\"padding-left: 1em; padding-right: 1em; text-align: center; vertical-align: top\">0</td>\n",
       "        <td style=\"padding-left: 1em; padding-right: 1em; text-align: center; vertical-align: top\">2</td>\n",
       "        <td style=\"padding-left: 1em; padding-right: 1em; text-align: center; vertical-align: top\">0</td>\n",
       "        <td style=\"padding-left: 1em; padding-right: 1em; text-align: center; vertical-align: top\">0</td>\n",
       "        <td style=\"padding-left: 1em; padding-right: 1em; text-align: center; vertical-align: top\">0</td>\n",
       "        <td style=\"padding-left: 1em; padding-right: 1em; text-align: center; vertical-align: top\">0</td>\n",
       "        <td style=\"padding-left: 1em; padding-right: 1em; text-align: center; vertical-align: top\">0</td>\n",
       "        <td style=\"padding-left: 1em; padding-right: 1em; text-align: center; vertical-align: top\">0</td>\n",
       "        <td style=\"padding-left: 1em; padding-right: 1em; text-align: center; vertical-align: top\">1</td>\n",
       "        <td style=\"padding-left: 1em; padding-right: 1em; text-align: center; vertical-align: top\">0.984739056527</td>\n",
       "    </tr>\n",
       "    <tr>\n",
       "        <td style=\"padding-left: 1em; padding-right: 1em; text-align: center; vertical-align: top\">0</td>\n",
       "        <td style=\"padding-left: 1em; padding-right: 1em; text-align: center; vertical-align: top\">2</td>\n",
       "        <td style=\"padding-left: 1em; padding-right: 1em; text-align: center; vertical-align: top\">0</td>\n",
       "        <td style=\"padding-left: 1em; padding-right: 1em; text-align: center; vertical-align: top\">0</td>\n",
       "        <td style=\"padding-left: 1em; padding-right: 1em; text-align: center; vertical-align: top\">0</td>\n",
       "        <td style=\"padding-left: 1em; padding-right: 1em; text-align: center; vertical-align: top\">0</td>\n",
       "        <td style=\"padding-left: 1em; padding-right: 1em; text-align: center; vertical-align: top\">0</td>\n",
       "        <td style=\"padding-left: 1em; padding-right: 1em; text-align: center; vertical-align: top\">0</td>\n",
       "        <td style=\"padding-left: 1em; padding-right: 1em; text-align: center; vertical-align: top\">1</td>\n",
       "        <td style=\"padding-left: 1em; padding-right: 1em; text-align: center; vertical-align: top\">0.984739056527</td>\n",
       "    </tr>\n",
       "    <tr>\n",
       "        <td style=\"padding-left: 1em; padding-right: 1em; text-align: center; vertical-align: top\">0</td>\n",
       "        <td style=\"padding-left: 1em; padding-right: 1em; text-align: center; vertical-align: top\">2</td>\n",
       "        <td style=\"padding-left: 1em; padding-right: 1em; text-align: center; vertical-align: top\">0</td>\n",
       "        <td style=\"padding-left: 1em; padding-right: 1em; text-align: center; vertical-align: top\">0</td>\n",
       "        <td style=\"padding-left: 1em; padding-right: 1em; text-align: center; vertical-align: top\">0</td>\n",
       "        <td style=\"padding-left: 1em; padding-right: 1em; text-align: center; vertical-align: top\">0</td>\n",
       "        <td style=\"padding-left: 1em; padding-right: 1em; text-align: center; vertical-align: top\">0</td>\n",
       "        <td style=\"padding-left: 1em; padding-right: 1em; text-align: center; vertical-align: top\">0</td>\n",
       "        <td style=\"padding-left: 1em; padding-right: 1em; text-align: center; vertical-align: top\">1</td>\n",
       "        <td style=\"padding-left: 1em; padding-right: 1em; text-align: center; vertical-align: top\">0.984739056527</td>\n",
       "    </tr>\n",
       "    <tr>\n",
       "        <td style=\"padding-left: 1em; padding-right: 1em; text-align: center; vertical-align: top\">0</td>\n",
       "        <td style=\"padding-left: 1em; padding-right: 1em; text-align: center; vertical-align: top\">2</td>\n",
       "        <td style=\"padding-left: 1em; padding-right: 1em; text-align: center; vertical-align: top\">0</td>\n",
       "        <td style=\"padding-left: 1em; padding-right: 1em; text-align: center; vertical-align: top\">0</td>\n",
       "        <td style=\"padding-left: 1em; padding-right: 1em; text-align: center; vertical-align: top\">0</td>\n",
       "        <td style=\"padding-left: 1em; padding-right: 1em; text-align: center; vertical-align: top\">0</td>\n",
       "        <td style=\"padding-left: 1em; padding-right: 1em; text-align: center; vertical-align: top\">0</td>\n",
       "        <td style=\"padding-left: 1em; padding-right: 1em; text-align: center; vertical-align: top\">0</td>\n",
       "        <td style=\"padding-left: 1em; padding-right: 1em; text-align: center; vertical-align: top\">1</td>\n",
       "        <td style=\"padding-left: 1em; padding-right: 1em; text-align: center; vertical-align: top\">0.984739056527</td>\n",
       "    </tr>\n",
       "</table>\n",
       "[10 rows x 17 columns]<br/>\n",
       "</div>"
      ],
      "text/plain": [
       "Columns:\n",
       "\tname\tstr\n",
       "\treview\tstr\n",
       "\trating\tfloat\n",
       "\tword_count\tdict\n",
       "\tawesome\tint\n",
       "\tgreat\tint\n",
       "\tfantastic\tint\n",
       "\tamazing\tint\n",
       "\tlove\tint\n",
       "\thorrible\tint\n",
       "\tbad\tint\n",
       "\tterrible\tint\n",
       "\tawful\tint\n",
       "\twow\tint\n",
       "\thate\tint\n",
       "\tsentiment\tint\n",
       "\tpredicted_sentiment\tfloat\n",
       "\n",
       "Rows: 10\n",
       "\n",
       "Data:\n",
       "+-------------------------+-------------------------------+--------+\n",
       "|           name          |             review            | rating |\n",
       "+-------------------------+-------------------------------+--------+\n",
       "| Baby Trend Diaper Champ | I LOVE LOVE LOVE this prod... |  4.0   |\n",
       "| Baby Trend Diaper Champ | I received my Diaper Champ... |  5.0   |\n",
       "| Baby Trend Diaper Champ | Love it, love it, love it!... |  5.0   |\n",
       "| Baby Trend Diaper Champ | Works great - no smells.  ... |  5.0   |\n",
       "| Baby Trend Diaper Champ | I love this diaper pale an... |  5.0   |\n",
       "| Baby Trend Diaper Champ | We had 2 diaper Genie's bo... |  4.0   |\n",
       "| Baby Trend Diaper Champ | I've worked with kids more... |  5.0   |\n",
       "| Baby Trend Diaper Champ | This is absolutely, by far... |  5.0   |\n",
       "| Baby Trend Diaper Champ | I have a two-year-old son ... |  5.0   |\n",
       "| Baby Trend Diaper Champ | I love this diaper pail!  ... |  5.0   |\n",
       "+-------------------------+-------------------------------+--------+\n",
       "+-------------------------------+---------+-------+-----------+---------+------+\n",
       "|           word_count          | awesome | great | fantastic | amazing | love |\n",
       "+-------------------------------+---------+-------+-----------+---------+------+\n",
       "| {'rating': 1, 'contacted':... |    0    |   1   |     0     |    0    |  3   |\n",
       "| {'bags.': 1, \"don't\": 1, '... |    0    |   0   |     0     |    0    |  3   |\n",
       "| {'all': 1, 'already': 1, '... |    0    |   0   |     0     |    0    |  3   |\n",
       "| {'and': 2, 'love': 1, 'gar... |    0    |   2   |     0     |    0    |  1   |\n",
       "| {'and': 3, 'love': 1, 'use... |    0    |   2   |     0     |    0    |  1   |\n",
       "| {'hand.': 1, '(required': ... |    0    |   0   |     0     |    0    |  2   |\n",
       "| {'and': 4, 'genies': 1, 'n... |    0    |   0   |     0     |    0    |  2   |\n",
       "| {'just': 3, 'money': 1, 'n... |    0    |   0   |     0     |    0    |  2   |\n",
       "| {'and': 6, 'two-year-old':... |    0    |   0   |     0     |    0    |  2   |\n",
       "| {'and': 3, 'this': 1, 'lov... |    0    |   0   |     0     |    0    |  2   |\n",
       "+-------------------------------+---------+-------+-----------+---------+------+\n",
       "+----------+-----+----------+-------+-----+------+-----------+---------------------+\n",
       "| horrible | bad | terrible | awful | wow | hate | sentiment | predicted_sentiment |\n",
       "+----------+-----+----------+-------+-----+------+-----------+---------------------+\n",
       "|    0     |  0  |    0     |   0   |  0  |  0   |     1     |    0.998423414594   |\n",
       "|    0     |  0  |    0     |   0   |  0  |  0   |     1     |    0.996192539732   |\n",
       "|    0     |  0  |    0     |   0   |  0  |  0   |     1     |    0.996192539732   |\n",
       "|    0     |  0  |    0     |   0   |  0  |  0   |     1     |    0.989387539605   |\n",
       "|    0     |  0  |    0     |   0   |  0  |  0   |     1     |    0.989387539605   |\n",
       "|    0     |  0  |    0     |   0   |  0  |  0   |     1     |    0.984739056527   |\n",
       "|    0     |  0  |    0     |   0   |  0  |  0   |     1     |    0.984739056527   |\n",
       "|    0     |  0  |    0     |   0   |  0  |  0   |     1     |    0.984739056527   |\n",
       "|    0     |  0  |    0     |   0   |  0  |  0   |     1     |    0.984739056527   |\n",
       "|    0     |  0  |    0     |   0   |  0  |  0   |     1     |    0.984739056527   |\n",
       "+----------+-----+----------+-------+-----+------+-----------+---------------------+\n",
       "[10 rows x 17 columns]"
      ]
     },
     "execution_count": 116,
     "metadata": {},
     "output_type": "execute_result"
    }
   ],
   "source": [
    "diaper_champ_reviews.head()"
   ]
  },
  {
   "cell_type": "code",
   "execution_count": 106,
   "metadata": {
    "collapsed": false
   },
   "outputs": [
    {
     "data": {
      "text/plain": [
       "dtype: float\n",
       "Rows: 1\n",
       "[0.9984234145936198]"
      ]
     },
     "execution_count": 106,
     "metadata": {},
     "output_type": "execute_result"
    }
   ],
   "source": [
    "selected_words_model.predict(diaper_champ_reviews[0:1], output_type='probability')"
   ]
  },
  {
   "cell_type": "code",
   "execution_count": 118,
   "metadata": {
    "collapsed": false
   },
   "outputs": [
    {
     "data": {
      "text/plain": [
       "'I LOVE LOVE LOVE this product! It is SO much easier to use than the Diaper Genie, (you need a PHD in poopy to figure out how to use the darn thing!) and it even takes the same bags as my kitchen trash can, shich is super convenient, and cost efficient as I can buy them in bulk.The only reason for not rating it a 5 star was that I did have one small problem with it. The foam gasket in the barrell which keeps the poopy smell inside the unit ripped somehow, and it got VERY stinky. HOWEVER, I contacted the manufacturer though their website, and received an email back the same day stating that this was unusual, and that replacement gaskets were on their way to me. They arrived inside of a week and after replacing, it works great again! (They even sent me extras should it happen again)I HIGHLY reccomend this diaper pail over ANY competitors, you will not be sorry!'"
      ]
     },
     "execution_count": 118,
     "metadata": {},
     "output_type": "execute_result"
    }
   ],
   "source": [
    "diaper_champ_reviews[0]['review']"
   ]
  },
  {
   "cell_type": "code",
   "execution_count": 122,
   "metadata": {
    "collapsed": false
   },
   "outputs": [
    {
     "data": {
      "text/plain": [
       "{'amazing': 0,\n",
       " 'awesome': 0,\n",
       " 'awful': 0,\n",
       " 'bad': 0,\n",
       " 'fantastic': 0,\n",
       " 'great': 1,\n",
       " 'hate': 0,\n",
       " 'horrible': 0,\n",
       " 'love': 3,\n",
       " 'name': 'Baby Trend Diaper Champ',\n",
       " 'predicted_sentiment': 0.9984234145936198,\n",
       " 'rating': 4.0,\n",
       " 'review': 'I LOVE LOVE LOVE this product! It is SO much easier to use than the Diaper Genie, (you need a PHD in poopy to figure out how to use the darn thing!) and it even takes the same bags as my kitchen trash can, shich is super convenient, and cost efficient as I can buy them in bulk.The only reason for not rating it a 5 star was that I did have one small problem with it. The foam gasket in the barrell which keeps the poopy smell inside the unit ripped somehow, and it got VERY stinky. HOWEVER, I contacted the manufacturer though their website, and received an email back the same day stating that this was unusual, and that replacement gaskets were on their way to me. They arrived inside of a week and after replacing, it works great again! (They even sent me extras should it happen again)I HIGHLY reccomend this diaper pail over ANY competitors, you will not be sorry!',\n",
       " 'sentiment': 1,\n",
       " 'terrible': 0,\n",
       " 'word_count': {'(they': 1,\n",
       "  '(you': 1,\n",
       "  '5': 1,\n",
       "  'a': 3,\n",
       "  'after': 1,\n",
       "  'again!': 1,\n",
       "  'again)i': 1,\n",
       "  'an': 1,\n",
       "  'and': 6,\n",
       "  'any': 1,\n",
       "  'arrived': 1,\n",
       "  'as': 2,\n",
       "  'back': 1,\n",
       "  'bags': 1,\n",
       "  'barrell': 1,\n",
       "  'be': 1,\n",
       "  'bulk.the': 1,\n",
       "  'buy': 1,\n",
       "  'can': 1,\n",
       "  'can,': 1,\n",
       "  'competitors,': 1,\n",
       "  'contacted': 1,\n",
       "  'convenient,': 1,\n",
       "  'cost': 1,\n",
       "  'darn': 1,\n",
       "  'day': 1,\n",
       "  'diaper': 2,\n",
       "  'did': 1,\n",
       "  'easier': 1,\n",
       "  'efficient': 1,\n",
       "  'email': 1,\n",
       "  'even': 2,\n",
       "  'extras': 1,\n",
       "  'figure': 1,\n",
       "  'foam': 1,\n",
       "  'for': 1,\n",
       "  'gasket': 1,\n",
       "  'gaskets': 1,\n",
       "  'genie,': 1,\n",
       "  'got': 1,\n",
       "  'great': 1,\n",
       "  'happen': 1,\n",
       "  'have': 1,\n",
       "  'highly': 1,\n",
       "  'how': 1,\n",
       "  'however,': 1,\n",
       "  'i': 4,\n",
       "  'in': 3,\n",
       "  'inside': 2,\n",
       "  'is': 2,\n",
       "  'it': 6,\n",
       "  'it.': 1,\n",
       "  'keeps': 1,\n",
       "  'kitchen': 1,\n",
       "  'love': 3,\n",
       "  'manufacturer': 1,\n",
       "  'me': 1,\n",
       "  'me.': 1,\n",
       "  'much': 1,\n",
       "  'my': 1,\n",
       "  'need': 1,\n",
       "  'not': 2,\n",
       "  'of': 1,\n",
       "  'on': 1,\n",
       "  'one': 1,\n",
       "  'only': 1,\n",
       "  'out': 1,\n",
       "  'over': 1,\n",
       "  'pail': 1,\n",
       "  'phd': 1,\n",
       "  'poopy': 2,\n",
       "  'problem': 1,\n",
       "  'product!': 1,\n",
       "  'rating': 1,\n",
       "  'reason': 1,\n",
       "  'reccomend': 1,\n",
       "  'received': 1,\n",
       "  'replacement': 1,\n",
       "  'replacing,': 1,\n",
       "  'ripped': 1,\n",
       "  'same': 2,\n",
       "  'sent': 1,\n",
       "  'shich': 1,\n",
       "  'should': 1,\n",
       "  'small': 1,\n",
       "  'smell': 1,\n",
       "  'so': 1,\n",
       "  'somehow,': 1,\n",
       "  'sorry!': 1,\n",
       "  'star': 1,\n",
       "  'stating': 1,\n",
       "  'stinky.': 1,\n",
       "  'super': 1,\n",
       "  'takes': 1,\n",
       "  'than': 1,\n",
       "  'that': 3,\n",
       "  'the': 9,\n",
       "  'their': 2,\n",
       "  'them': 1,\n",
       "  'they': 1,\n",
       "  'thing!)': 1,\n",
       "  'this': 3,\n",
       "  'though': 1,\n",
       "  'to': 4,\n",
       "  'trash': 1,\n",
       "  'unit': 1,\n",
       "  'unusual,': 1,\n",
       "  'use': 2,\n",
       "  'very': 1,\n",
       "  'was': 2,\n",
       "  'way': 1,\n",
       "  'website,': 1,\n",
       "  'week': 1,\n",
       "  'were': 1,\n",
       "  'which': 1,\n",
       "  'will': 1,\n",
       "  'with': 1,\n",
       "  'works': 1,\n",
       "  'you': 1},\n",
       " 'wow': 0}"
      ]
     },
     "execution_count": 122,
     "metadata": {},
     "output_type": "execute_result"
    }
   ],
   "source": [
    "diaper_champ_reviews[0]"
   ]
  },
  {
   "cell_type": "code",
   "execution_count": 128,
   "metadata": {
    "collapsed": false
   },
   "outputs": [],
   "source": [
    "sentiment_model_best_review = 'Baby Luke can turn a clean diaper to a dirty diaper in 3 seconds flat. The diaper champ turns the smelly diaper into \"what diaper smell\" in less time than that. I hesitated and wondered what I REALLY needed for the nursery. This is one of the best purchases we made. The champ, the baby bjorn, fluerville diaper bag, and graco pack and play bassinet all vie for the best baby purchase.Great product, easy to use, economical, effective, absolutly fabulous.UpdateI knew that I loved the champ, and useing the diaper genie at a friend\\'s house REALLY reinforced that!! There is no comparison, the chanp is easy and smell free, the genie was difficult to use one handed (which is absolutly vital if you have a little one on a changing pad) and there was a deffinite odor eminating from the genieplus we found that the quick tie garbage bags where the ties are integrated into the bag work really well because there isn\\'t any added bulk around the sealing edge of the champ.'\n"
   ]
  },
  {
   "cell_type": "code",
   "execution_count": 129,
   "metadata": {
    "collapsed": false
   },
   "outputs": [
    {
     "data": {
      "text/html": [
       "<div style=\"max-height:1000px;max-width:1500px;overflow:auto;\"><table frame=\"box\" rules=\"cols\">\n",
       "    <tr>\n",
       "        <th style=\"padding-left: 1em; padding-right: 1em; text-align: center\">name</th>\n",
       "        <th style=\"padding-left: 1em; padding-right: 1em; text-align: center\">review</th>\n",
       "        <th style=\"padding-left: 1em; padding-right: 1em; text-align: center\">rating</th>\n",
       "        <th style=\"padding-left: 1em; padding-right: 1em; text-align: center\">word_count</th>\n",
       "        <th style=\"padding-left: 1em; padding-right: 1em; text-align: center\">awesome</th>\n",
       "        <th style=\"padding-left: 1em; padding-right: 1em; text-align: center\">great</th>\n",
       "        <th style=\"padding-left: 1em; padding-right: 1em; text-align: center\">fantastic</th>\n",
       "    </tr>\n",
       "    <tr>\n",
       "        <td style=\"padding-left: 1em; padding-right: 1em; text-align: center; vertical-align: top\">Baby Trend Diaper Champ</td>\n",
       "        <td style=\"padding-left: 1em; padding-right: 1em; text-align: center; vertical-align: top\">Baby Luke can turn a<br>clean diaper to a dirty ...</td>\n",
       "        <td style=\"padding-left: 1em; padding-right: 1em; text-align: center; vertical-align: top\">5.0</td>\n",
       "        <td style=\"padding-left: 1em; padding-right: 1em; text-align: center; vertical-align: top\">{'all': 1, 'less': 1,<br>\"friend's\": 1, '(which': ...</td>\n",
       "        <td style=\"padding-left: 1em; padding-right: 1em; text-align: center; vertical-align: top\">0</td>\n",
       "        <td style=\"padding-left: 1em; padding-right: 1em; text-align: center; vertical-align: top\">0</td>\n",
       "        <td style=\"padding-left: 1em; padding-right: 1em; text-align: center; vertical-align: top\">0</td>\n",
       "    </tr>\n",
       "</table>\n",
       "<table frame=\"box\" rules=\"cols\">\n",
       "    <tr>\n",
       "        <th style=\"padding-left: 1em; padding-right: 1em; text-align: center\">amazing</th>\n",
       "        <th style=\"padding-left: 1em; padding-right: 1em; text-align: center\">love</th>\n",
       "        <th style=\"padding-left: 1em; padding-right: 1em; text-align: center\">horrible</th>\n",
       "        <th style=\"padding-left: 1em; padding-right: 1em; text-align: center\">bad</th>\n",
       "        <th style=\"padding-left: 1em; padding-right: 1em; text-align: center\">terrible</th>\n",
       "        <th style=\"padding-left: 1em; padding-right: 1em; text-align: center\">awful</th>\n",
       "        <th style=\"padding-left: 1em; padding-right: 1em; text-align: center\">wow</th>\n",
       "        <th style=\"padding-left: 1em; padding-right: 1em; text-align: center\">hate</th>\n",
       "        <th style=\"padding-left: 1em; padding-right: 1em; text-align: center\">sentiment</th>\n",
       "        <th style=\"padding-left: 1em; padding-right: 1em; text-align: center\">predicted_sentiment</th>\n",
       "    </tr>\n",
       "    <tr>\n",
       "        <td style=\"padding-left: 1em; padding-right: 1em; text-align: center; vertical-align: top\">0</td>\n",
       "        <td style=\"padding-left: 1em; padding-right: 1em; text-align: center; vertical-align: top\">0</td>\n",
       "        <td style=\"padding-left: 1em; padding-right: 1em; text-align: center; vertical-align: top\">0</td>\n",
       "        <td style=\"padding-left: 1em; padding-right: 1em; text-align: center; vertical-align: top\">0</td>\n",
       "        <td style=\"padding-left: 1em; padding-right: 1em; text-align: center; vertical-align: top\">0</td>\n",
       "        <td style=\"padding-left: 1em; padding-right: 1em; text-align: center; vertical-align: top\">0</td>\n",
       "        <td style=\"padding-left: 1em; padding-right: 1em; text-align: center; vertical-align: top\">0</td>\n",
       "        <td style=\"padding-left: 1em; padding-right: 1em; text-align: center; vertical-align: top\">0</td>\n",
       "        <td style=\"padding-left: 1em; padding-right: 1em; text-align: center; vertical-align: top\">1</td>\n",
       "        <td style=\"padding-left: 1em; padding-right: 1em; text-align: center; vertical-align: top\">0.796940851291</td>\n",
       "    </tr>\n",
       "</table>\n",
       "[? rows x 17 columns]<br/>Note: Only the head of the SFrame is printed. This SFrame is lazily evaluated.<br/>You can use sf.materialize() to force materialization.\n",
       "</div>"
      ],
      "text/plain": [
       "Columns:\n",
       "\tname\tstr\n",
       "\treview\tstr\n",
       "\trating\tfloat\n",
       "\tword_count\tdict\n",
       "\tawesome\tint\n",
       "\tgreat\tint\n",
       "\tfantastic\tint\n",
       "\tamazing\tint\n",
       "\tlove\tint\n",
       "\thorrible\tint\n",
       "\tbad\tint\n",
       "\tterrible\tint\n",
       "\tawful\tint\n",
       "\twow\tint\n",
       "\thate\tint\n",
       "\tsentiment\tint\n",
       "\tpredicted_sentiment\tfloat\n",
       "\n",
       "Rows: Unknown\n",
       "\n",
       "Data:\n",
       "+-------------------------+-------------------------------+--------+\n",
       "|           name          |             review            | rating |\n",
       "+-------------------------+-------------------------------+--------+\n",
       "| Baby Trend Diaper Champ | Baby Luke can turn a clean... |  5.0   |\n",
       "+-------------------------+-------------------------------+--------+\n",
       "+-------------------------------+---------+-------+-----------+---------+------+\n",
       "|           word_count          | awesome | great | fantastic | amazing | love |\n",
       "+-------------------------------+---------+-------+-----------+---------+------+\n",
       "| {'all': 1, 'less': 1, \"fri... |    0    |   0   |     0     |    0    |  0   |\n",
       "+-------------------------------+---------+-------+-----------+---------+------+\n",
       "+----------+-----+----------+-------+-----+------+-----------+---------------------+\n",
       "| horrible | bad | terrible | awful | wow | hate | sentiment | predicted_sentiment |\n",
       "+----------+-----+----------+-------+-----+------+-----------+---------------------+\n",
       "|    0     |  0  |    0     |   0   |  0  |  0   |     1     |    0.796940851291   |\n",
       "+----------+-----+----------+-------+-----+------+-----------+---------------------+\n",
       "[? rows x 17 columns]\n",
       "Note: Only the head of the SFrame is printed. This SFrame is lazily evaluated.\n",
       "You can use sf.materialize() to force materialization."
      ]
     },
     "execution_count": 129,
     "metadata": {},
     "output_type": "execute_result"
    }
   ],
   "source": [
    "diaper_champ_reviews[diaper_champ_reviews['review'] == sentiment_model_best_review]"
   ]
  },
  {
   "cell_type": "code",
   "execution_count": null,
   "metadata": {
    "collapsed": true
   },
   "outputs": [],
   "source": []
  }
 ],
 "metadata": {
  "kernelspec": {
   "display_name": "Python 2",
   "language": "python",
   "name": "python2"
  },
  "language_info": {
   "codemirror_mode": {
    "name": "ipython",
    "version": 2
   },
   "file_extension": ".py",
   "mimetype": "text/x-python",
   "name": "python",
   "nbconvert_exporter": "python",
   "pygments_lexer": "ipython2",
   "version": "2.7.11"
  }
 },
 "nbformat": 4,
 "nbformat_minor": 0
}
